{
 "cells": [
  {
   "cell_type": "markdown",
   "metadata": {},
   "source": [
    "# Сборный проект. Изучение данных о продажах компьютерных игр интернет-магазина."
   ]
  },
  {
   "cell_type": "markdown",
   "metadata": {},
   "source": [
    "## Описание проекта\n"
   ]
  },
  {
   "cell_type": "markdown",
   "metadata": {},
   "source": [
    "Проанализируем данные в интернет-магазине «Стримчик», который продаёт по всему миру компьютерные игры. Из открытых источников доступны исторические данные о продажах игр, оценки пользователей и экспертов, жанры и платформы (например, Xbox или PlayStation). Выявим определяющие успешность игры закономерности. Это позволит сделать ставку на потенциально популярный продукт и спланировать рекламные кампании на будущий 2017 год.\n",
    "\n",
    "*Описание данных*\n",
    "\n",
    "Name — название игры\n",
    "Platform — платформа\n",
    "Year_of_Release — год выпуска\n",
    "Genre — жанр игры\n",
    "NA_sales — продажи в Северной Америке (миллионы проданных копий)\n",
    "EU_sales — продажи в Европе (миллионы проданных копий)\n",
    "JP_sales — продажи в Японии (миллионы проданных копий)\n",
    "Other_sales — продажи в других странах (миллионы проданных копий)\n",
    "Critic_Score — оценка критиков (максимум 100)\n",
    "User_Score — оценка пользователей (максимум 10)\n",
    "Rating — рейтинг от организации ESRB (англ. Entertainment Software Rating Board). Эта ассоциация определяет рейтинг компьютерных игр и присваивает им подходящую возрастную категорию.\n"
   ]
  },
  {
   "cell_type": "markdown",
   "metadata": {},
   "source": [
    "## Изучение данных "
   ]
  },
  {
   "cell_type": "code",
   "execution_count": 1,
   "metadata": {},
   "outputs": [],
   "source": [
    "import pandas as pd\n",
    "import numpy as np\n",
    "import matplotlib.pyplot as plt\n",
    "import seaborn as sns\n",
    "import scipy.stats as st"
   ]
  },
  {
   "cell_type": "code",
   "execution_count": 2,
   "metadata": {},
   "outputs": [],
   "source": [
    "games = pd.read_csv('/datasets/games.csv')\n"
   ]
  },
  {
   "cell_type": "code",
   "execution_count": 3,
   "metadata": {},
   "outputs": [
    {
     "name": "stdout",
     "output_type": "stream",
     "text": [
      "<class 'pandas.core.frame.DataFrame'>\n",
      "RangeIndex: 16715 entries, 0 to 16714\n",
      "Data columns (total 11 columns):\n",
      " #   Column           Non-Null Count  Dtype  \n",
      "---  ------           --------------  -----  \n",
      " 0   Name             16713 non-null  object \n",
      " 1   Platform         16715 non-null  object \n",
      " 2   Year_of_Release  16446 non-null  float64\n",
      " 3   Genre            16713 non-null  object \n",
      " 4   NA_sales         16715 non-null  float64\n",
      " 5   EU_sales         16715 non-null  float64\n",
      " 6   JP_sales         16715 non-null  float64\n",
      " 7   Other_sales      16715 non-null  float64\n",
      " 8   Critic_Score     8137 non-null   float64\n",
      " 9   User_Score       10014 non-null  object \n",
      " 10  Rating           9949 non-null   object \n",
      "dtypes: float64(6), object(5)\n",
      "memory usage: 1.4+ MB\n"
     ]
    },
    {
     "data": {
      "text/html": [
       "<div>\n",
       "<style scoped>\n",
       "    .dataframe tbody tr th:only-of-type {\n",
       "        vertical-align: middle;\n",
       "    }\n",
       "\n",
       "    .dataframe tbody tr th {\n",
       "        vertical-align: top;\n",
       "    }\n",
       "\n",
       "    .dataframe thead th {\n",
       "        text-align: right;\n",
       "    }\n",
       "</style>\n",
       "<table border=\"1\" class=\"dataframe\">\n",
       "  <thead>\n",
       "    <tr style=\"text-align: right;\">\n",
       "      <th></th>\n",
       "      <th>Name</th>\n",
       "      <th>Platform</th>\n",
       "      <th>Year_of_Release</th>\n",
       "      <th>Genre</th>\n",
       "      <th>NA_sales</th>\n",
       "      <th>EU_sales</th>\n",
       "      <th>JP_sales</th>\n",
       "      <th>Other_sales</th>\n",
       "      <th>Critic_Score</th>\n",
       "      <th>User_Score</th>\n",
       "      <th>Rating</th>\n",
       "    </tr>\n",
       "  </thead>\n",
       "  <tbody>\n",
       "    <tr>\n",
       "      <th>0</th>\n",
       "      <td>Wii Sports</td>\n",
       "      <td>Wii</td>\n",
       "      <td>2006.0</td>\n",
       "      <td>Sports</td>\n",
       "      <td>41.36</td>\n",
       "      <td>28.96</td>\n",
       "      <td>3.77</td>\n",
       "      <td>8.45</td>\n",
       "      <td>76.0</td>\n",
       "      <td>8</td>\n",
       "      <td>E</td>\n",
       "    </tr>\n",
       "    <tr>\n",
       "      <th>1</th>\n",
       "      <td>Super Mario Bros.</td>\n",
       "      <td>NES</td>\n",
       "      <td>1985.0</td>\n",
       "      <td>Platform</td>\n",
       "      <td>29.08</td>\n",
       "      <td>3.58</td>\n",
       "      <td>6.81</td>\n",
       "      <td>0.77</td>\n",
       "      <td>NaN</td>\n",
       "      <td>NaN</td>\n",
       "      <td>NaN</td>\n",
       "    </tr>\n",
       "    <tr>\n",
       "      <th>2</th>\n",
       "      <td>Mario Kart Wii</td>\n",
       "      <td>Wii</td>\n",
       "      <td>2008.0</td>\n",
       "      <td>Racing</td>\n",
       "      <td>15.68</td>\n",
       "      <td>12.76</td>\n",
       "      <td>3.79</td>\n",
       "      <td>3.29</td>\n",
       "      <td>82.0</td>\n",
       "      <td>8.3</td>\n",
       "      <td>E</td>\n",
       "    </tr>\n",
       "    <tr>\n",
       "      <th>3</th>\n",
       "      <td>Wii Sports Resort</td>\n",
       "      <td>Wii</td>\n",
       "      <td>2009.0</td>\n",
       "      <td>Sports</td>\n",
       "      <td>15.61</td>\n",
       "      <td>10.93</td>\n",
       "      <td>3.28</td>\n",
       "      <td>2.95</td>\n",
       "      <td>80.0</td>\n",
       "      <td>8</td>\n",
       "      <td>E</td>\n",
       "    </tr>\n",
       "    <tr>\n",
       "      <th>4</th>\n",
       "      <td>Pokemon Red/Pokemon Blue</td>\n",
       "      <td>GB</td>\n",
       "      <td>1996.0</td>\n",
       "      <td>Role-Playing</td>\n",
       "      <td>11.27</td>\n",
       "      <td>8.89</td>\n",
       "      <td>10.22</td>\n",
       "      <td>1.00</td>\n",
       "      <td>NaN</td>\n",
       "      <td>NaN</td>\n",
       "      <td>NaN</td>\n",
       "    </tr>\n",
       "    <tr>\n",
       "      <th>5</th>\n",
       "      <td>Tetris</td>\n",
       "      <td>GB</td>\n",
       "      <td>1989.0</td>\n",
       "      <td>Puzzle</td>\n",
       "      <td>23.20</td>\n",
       "      <td>2.26</td>\n",
       "      <td>4.22</td>\n",
       "      <td>0.58</td>\n",
       "      <td>NaN</td>\n",
       "      <td>NaN</td>\n",
       "      <td>NaN</td>\n",
       "    </tr>\n",
       "    <tr>\n",
       "      <th>6</th>\n",
       "      <td>New Super Mario Bros.</td>\n",
       "      <td>DS</td>\n",
       "      <td>2006.0</td>\n",
       "      <td>Platform</td>\n",
       "      <td>11.28</td>\n",
       "      <td>9.14</td>\n",
       "      <td>6.50</td>\n",
       "      <td>2.88</td>\n",
       "      <td>89.0</td>\n",
       "      <td>8.5</td>\n",
       "      <td>E</td>\n",
       "    </tr>\n",
       "    <tr>\n",
       "      <th>7</th>\n",
       "      <td>Wii Play</td>\n",
       "      <td>Wii</td>\n",
       "      <td>2006.0</td>\n",
       "      <td>Misc</td>\n",
       "      <td>13.96</td>\n",
       "      <td>9.18</td>\n",
       "      <td>2.93</td>\n",
       "      <td>2.84</td>\n",
       "      <td>58.0</td>\n",
       "      <td>6.6</td>\n",
       "      <td>E</td>\n",
       "    </tr>\n",
       "    <tr>\n",
       "      <th>8</th>\n",
       "      <td>New Super Mario Bros. Wii</td>\n",
       "      <td>Wii</td>\n",
       "      <td>2009.0</td>\n",
       "      <td>Platform</td>\n",
       "      <td>14.44</td>\n",
       "      <td>6.94</td>\n",
       "      <td>4.70</td>\n",
       "      <td>2.24</td>\n",
       "      <td>87.0</td>\n",
       "      <td>8.4</td>\n",
       "      <td>E</td>\n",
       "    </tr>\n",
       "    <tr>\n",
       "      <th>9</th>\n",
       "      <td>Duck Hunt</td>\n",
       "      <td>NES</td>\n",
       "      <td>1984.0</td>\n",
       "      <td>Shooter</td>\n",
       "      <td>26.93</td>\n",
       "      <td>0.63</td>\n",
       "      <td>0.28</td>\n",
       "      <td>0.47</td>\n",
       "      <td>NaN</td>\n",
       "      <td>NaN</td>\n",
       "      <td>NaN</td>\n",
       "    </tr>\n",
       "  </tbody>\n",
       "</table>\n",
       "</div>"
      ],
      "text/plain": [
       "                        Name Platform  Year_of_Release         Genre  \\\n",
       "0                 Wii Sports      Wii           2006.0        Sports   \n",
       "1          Super Mario Bros.      NES           1985.0      Platform   \n",
       "2             Mario Kart Wii      Wii           2008.0        Racing   \n",
       "3          Wii Sports Resort      Wii           2009.0        Sports   \n",
       "4   Pokemon Red/Pokemon Blue       GB           1996.0  Role-Playing   \n",
       "5                     Tetris       GB           1989.0        Puzzle   \n",
       "6      New Super Mario Bros.       DS           2006.0      Platform   \n",
       "7                   Wii Play      Wii           2006.0          Misc   \n",
       "8  New Super Mario Bros. Wii      Wii           2009.0      Platform   \n",
       "9                  Duck Hunt      NES           1984.0       Shooter   \n",
       "\n",
       "   NA_sales  EU_sales  JP_sales  Other_sales  Critic_Score User_Score Rating  \n",
       "0     41.36     28.96      3.77         8.45          76.0          8      E  \n",
       "1     29.08      3.58      6.81         0.77           NaN        NaN    NaN  \n",
       "2     15.68     12.76      3.79         3.29          82.0        8.3      E  \n",
       "3     15.61     10.93      3.28         2.95          80.0          8      E  \n",
       "4     11.27      8.89     10.22         1.00           NaN        NaN    NaN  \n",
       "5     23.20      2.26      4.22         0.58           NaN        NaN    NaN  \n",
       "6     11.28      9.14      6.50         2.88          89.0        8.5      E  \n",
       "7     13.96      9.18      2.93         2.84          58.0        6.6      E  \n",
       "8     14.44      6.94      4.70         2.24          87.0        8.4      E  \n",
       "9     26.93      0.63      0.28         0.47           NaN        NaN    NaN  "
      ]
     },
     "metadata": {},
     "output_type": "display_data"
    },
    {
     "data": {
      "text/plain": [
       "None"
      ]
     },
     "metadata": {},
     "output_type": "display_data"
    }
   ],
   "source": [
    "display(games.head(10), games.info())\n"
   ]
  },
  {
   "cell_type": "code",
   "execution_count": 4,
   "metadata": {},
   "outputs": [
    {
     "name": "stdout",
     "output_type": "stream",
     "text": [
      "<class 'pandas.core.frame.DataFrame'>\n",
      "RangeIndex: 16715 entries, 0 to 16714\n",
      "Data columns (total 11 columns):\n",
      " #   Column           Non-Null Count  Dtype  \n",
      "---  ------           --------------  -----  \n",
      " 0   name             16713 non-null  object \n",
      " 1   platform         16715 non-null  object \n",
      " 2   year_of_release  16446 non-null  float64\n",
      " 3   genre            16713 non-null  object \n",
      " 4   na_sales         16715 non-null  float64\n",
      " 5   eu_sales         16715 non-null  float64\n",
      " 6   jp_sales         16715 non-null  float64\n",
      " 7   other_sales      16715 non-null  float64\n",
      " 8   critic_score     8137 non-null   float64\n",
      " 9   user_score       10014 non-null  object \n",
      " 10  rating           9949 non-null   object \n",
      "dtypes: float64(6), object(5)\n",
      "memory usage: 1.4+ MB\n"
     ]
    },
    {
     "data": {
      "text/plain": [
       "None"
      ]
     },
     "metadata": {},
     "output_type": "display_data"
    }
   ],
   "source": [
    "games.columns = games.columns.str.lower()\n",
    "display(games.info())"
   ]
  },
  {
   "cell_type": "markdown",
   "metadata": {},
   "source": [
    "Заменили названия столбцов: приведили к нижнему регистру.\n"
   ]
  },
  {
   "cell_type": "code",
   "execution_count": 5,
   "metadata": {},
   "outputs": [],
   "source": [
    "games['genre'] = games['genre'].str.lower() # название жанров тоже привели к нижнему регистру"
   ]
  },
  {
   "cell_type": "code",
   "execution_count": 6,
   "metadata": {},
   "outputs": [
    {
     "data": {
      "text/html": [
       "<div>\n",
       "<style scoped>\n",
       "    .dataframe tbody tr th:only-of-type {\n",
       "        vertical-align: middle;\n",
       "    }\n",
       "\n",
       "    .dataframe tbody tr th {\n",
       "        vertical-align: top;\n",
       "    }\n",
       "\n",
       "    .dataframe thead th {\n",
       "        text-align: right;\n",
       "    }\n",
       "</style>\n",
       "<table border=\"1\" class=\"dataframe\">\n",
       "  <thead>\n",
       "    <tr style=\"text-align: right;\">\n",
       "      <th></th>\n",
       "      <th>name</th>\n",
       "      <th>platform</th>\n",
       "      <th>year_of_release</th>\n",
       "      <th>genre</th>\n",
       "      <th>na_sales</th>\n",
       "      <th>eu_sales</th>\n",
       "      <th>jp_sales</th>\n",
       "      <th>other_sales</th>\n",
       "      <th>critic_score</th>\n",
       "      <th>user_score</th>\n",
       "      <th>rating</th>\n",
       "    </tr>\n",
       "  </thead>\n",
       "  <tbody>\n",
       "    <tr>\n",
       "      <th>659</th>\n",
       "      <td>NaN</td>\n",
       "      <td>GEN</td>\n",
       "      <td>1993.0</td>\n",
       "      <td>NaN</td>\n",
       "      <td>1.78</td>\n",
       "      <td>0.53</td>\n",
       "      <td>0.00</td>\n",
       "      <td>0.08</td>\n",
       "      <td>NaN</td>\n",
       "      <td>NaN</td>\n",
       "      <td>NaN</td>\n",
       "    </tr>\n",
       "    <tr>\n",
       "      <th>14244</th>\n",
       "      <td>NaN</td>\n",
       "      <td>GEN</td>\n",
       "      <td>1993.0</td>\n",
       "      <td>NaN</td>\n",
       "      <td>0.00</td>\n",
       "      <td>0.00</td>\n",
       "      <td>0.03</td>\n",
       "      <td>0.00</td>\n",
       "      <td>NaN</td>\n",
       "      <td>NaN</td>\n",
       "      <td>NaN</td>\n",
       "    </tr>\n",
       "  </tbody>\n",
       "</table>\n",
       "</div>"
      ],
      "text/plain": [
       "      name platform  year_of_release genre  na_sales  eu_sales  jp_sales  \\\n",
       "659    NaN      GEN           1993.0   NaN      1.78      0.53      0.00   \n",
       "14244  NaN      GEN           1993.0   NaN      0.00      0.00      0.03   \n",
       "\n",
       "       other_sales  critic_score user_score rating  \n",
       "659           0.08           NaN        NaN    NaN  \n",
       "14244         0.00           NaN        NaN    NaN  "
      ]
     },
     "metadata": {},
     "output_type": "display_data"
    }
   ],
   "source": [
    "games['name'].isnull().sum()/len(games)\n",
    "display(games[games['name'].isnull()])"
   ]
  },
  {
   "cell_type": "markdown",
   "metadata": {},
   "source": [
    "всего 2 строки, да и то в них мало информации: много нулей и пропусков. при удалении этих строк потеряем 0.01% информации. Удаляем.\n"
   ]
  },
  {
   "cell_type": "code",
   "execution_count": 7,
   "metadata": {},
   "outputs": [
    {
     "name": "stdout",
     "output_type": "stream",
     "text": [
      "<class 'pandas.core.frame.DataFrame'>\n",
      "Int64Index: 16713 entries, 0 to 16714\n",
      "Data columns (total 11 columns):\n",
      " #   Column           Non-Null Count  Dtype  \n",
      "---  ------           --------------  -----  \n",
      " 0   name             16713 non-null  object \n",
      " 1   platform         16713 non-null  object \n",
      " 2   year_of_release  16444 non-null  float64\n",
      " 3   genre            16713 non-null  object \n",
      " 4   na_sales         16713 non-null  float64\n",
      " 5   eu_sales         16713 non-null  float64\n",
      " 6   jp_sales         16713 non-null  float64\n",
      " 7   other_sales      16713 non-null  float64\n",
      " 8   critic_score     8137 non-null   float64\n",
      " 9   user_score       10014 non-null  object \n",
      " 10  rating           9949 non-null   object \n",
      "dtypes: float64(6), object(5)\n",
      "memory usage: 1.5+ MB\n"
     ]
    },
    {
     "data": {
      "text/plain": [
       "None"
      ]
     },
     "metadata": {},
     "output_type": "display_data"
    }
   ],
   "source": [
    "games.dropna(subset=['name'],inplace=True)\n",
    "display(games.info())\n"
   ]
  },
  {
   "cell_type": "code",
   "execution_count": 8,
   "metadata": {},
   "outputs": [
    {
     "data": {
      "text/plain": [
       "0.016095255190570215"
      ]
     },
     "execution_count": 8,
     "metadata": {},
     "output_type": "execute_result"
    }
   ],
   "source": [
    "games['year_of_release'].isnull().sum()/len(games)\n"
   ]
  },
  {
   "cell_type": "markdown",
   "metadata": {},
   "source": [
    "в столбце 'year_of_release' пропущено 1.6% значений. Это так же маленькая погрешность. Удалим эти строки и преобразуем год выпуска в целое число.\n",
    "Столбец \"user_score\" переведем в float64."
   ]
  },
  {
   "cell_type": "code",
   "execution_count": 9,
   "metadata": {},
   "outputs": [
    {
     "name": "stdout",
     "output_type": "stream",
     "text": [
      "<class 'pandas.core.frame.DataFrame'>\n",
      "Int64Index: 16444 entries, 0 to 16714\n",
      "Data columns (total 11 columns):\n",
      " #   Column           Non-Null Count  Dtype  \n",
      "---  ------           --------------  -----  \n",
      " 0   name             16444 non-null  object \n",
      " 1   platform         16444 non-null  object \n",
      " 2   year_of_release  16444 non-null  int64  \n",
      " 3   genre            16444 non-null  object \n",
      " 4   na_sales         16444 non-null  float64\n",
      " 5   eu_sales         16444 non-null  float64\n",
      " 6   jp_sales         16444 non-null  float64\n",
      " 7   other_sales      16444 non-null  float64\n",
      " 8   critic_score     7983 non-null   float64\n",
      " 9   user_score       9839 non-null   object \n",
      " 10  rating           9768 non-null   object \n",
      "dtypes: float64(5), int64(1), object(5)\n",
      "memory usage: 1.5+ MB\n"
     ]
    },
    {
     "data": {
      "text/html": [
       "<div>\n",
       "<style scoped>\n",
       "    .dataframe tbody tr th:only-of-type {\n",
       "        vertical-align: middle;\n",
       "    }\n",
       "\n",
       "    .dataframe tbody tr th {\n",
       "        vertical-align: top;\n",
       "    }\n",
       "\n",
       "    .dataframe thead th {\n",
       "        text-align: right;\n",
       "    }\n",
       "</style>\n",
       "<table border=\"1\" class=\"dataframe\">\n",
       "  <thead>\n",
       "    <tr style=\"text-align: right;\">\n",
       "      <th></th>\n",
       "      <th>name</th>\n",
       "      <th>platform</th>\n",
       "      <th>year_of_release</th>\n",
       "      <th>genre</th>\n",
       "      <th>na_sales</th>\n",
       "      <th>eu_sales</th>\n",
       "      <th>jp_sales</th>\n",
       "      <th>other_sales</th>\n",
       "      <th>critic_score</th>\n",
       "      <th>user_score</th>\n",
       "      <th>rating</th>\n",
       "    </tr>\n",
       "  </thead>\n",
       "  <tbody>\n",
       "    <tr>\n",
       "      <th>0</th>\n",
       "      <td>Wii Sports</td>\n",
       "      <td>Wii</td>\n",
       "      <td>2006</td>\n",
       "      <td>sports</td>\n",
       "      <td>41.36</td>\n",
       "      <td>28.96</td>\n",
       "      <td>3.77</td>\n",
       "      <td>8.45</td>\n",
       "      <td>76.0</td>\n",
       "      <td>8</td>\n",
       "      <td>E</td>\n",
       "    </tr>\n",
       "    <tr>\n",
       "      <th>1</th>\n",
       "      <td>Super Mario Bros.</td>\n",
       "      <td>NES</td>\n",
       "      <td>1985</td>\n",
       "      <td>platform</td>\n",
       "      <td>29.08</td>\n",
       "      <td>3.58</td>\n",
       "      <td>6.81</td>\n",
       "      <td>0.77</td>\n",
       "      <td>NaN</td>\n",
       "      <td>NaN</td>\n",
       "      <td>NaN</td>\n",
       "    </tr>\n",
       "    <tr>\n",
       "      <th>2</th>\n",
       "      <td>Mario Kart Wii</td>\n",
       "      <td>Wii</td>\n",
       "      <td>2008</td>\n",
       "      <td>racing</td>\n",
       "      <td>15.68</td>\n",
       "      <td>12.76</td>\n",
       "      <td>3.79</td>\n",
       "      <td>3.29</td>\n",
       "      <td>82.0</td>\n",
       "      <td>8.3</td>\n",
       "      <td>E</td>\n",
       "    </tr>\n",
       "    <tr>\n",
       "      <th>3</th>\n",
       "      <td>Wii Sports Resort</td>\n",
       "      <td>Wii</td>\n",
       "      <td>2009</td>\n",
       "      <td>sports</td>\n",
       "      <td>15.61</td>\n",
       "      <td>10.93</td>\n",
       "      <td>3.28</td>\n",
       "      <td>2.95</td>\n",
       "      <td>80.0</td>\n",
       "      <td>8</td>\n",
       "      <td>E</td>\n",
       "    </tr>\n",
       "    <tr>\n",
       "      <th>4</th>\n",
       "      <td>Pokemon Red/Pokemon Blue</td>\n",
       "      <td>GB</td>\n",
       "      <td>1996</td>\n",
       "      <td>role-playing</td>\n",
       "      <td>11.27</td>\n",
       "      <td>8.89</td>\n",
       "      <td>10.22</td>\n",
       "      <td>1.00</td>\n",
       "      <td>NaN</td>\n",
       "      <td>NaN</td>\n",
       "      <td>NaN</td>\n",
       "    </tr>\n",
       "  </tbody>\n",
       "</table>\n",
       "</div>"
      ],
      "text/plain": [
       "                       name platform  year_of_release         genre  na_sales  \\\n",
       "0                Wii Sports      Wii             2006        sports     41.36   \n",
       "1         Super Mario Bros.      NES             1985      platform     29.08   \n",
       "2            Mario Kart Wii      Wii             2008        racing     15.68   \n",
       "3         Wii Sports Resort      Wii             2009        sports     15.61   \n",
       "4  Pokemon Red/Pokemon Blue       GB             1996  role-playing     11.27   \n",
       "\n",
       "   eu_sales  jp_sales  other_sales  critic_score user_score rating  \n",
       "0     28.96      3.77         8.45          76.0          8      E  \n",
       "1      3.58      6.81         0.77           NaN        NaN    NaN  \n",
       "2     12.76      3.79         3.29          82.0        8.3      E  \n",
       "3     10.93      3.28         2.95          80.0          8      E  \n",
       "4      8.89     10.22         1.00           NaN        NaN    NaN  "
      ]
     },
     "metadata": {},
     "output_type": "display_data"
    },
    {
     "data": {
      "text/plain": [
       "None"
      ]
     },
     "metadata": {},
     "output_type": "display_data"
    }
   ],
   "source": [
    "games.dropna(subset=['year_of_release'],inplace=True)\n",
    "games['year_of_release'] = games['year_of_release'].astype(int)\n",
    "\n",
    "display(games.head(), games.info())\n"
   ]
  },
  {
   "cell_type": "code",
   "execution_count": 10,
   "metadata": {},
   "outputs": [],
   "source": [
    "games.loc[games['user_score'] =='tbd','user_score'] = np.nan\n",
    "games['user_score'] = games['user_score'].astype('float')\n"
   ]
  },
  {
   "cell_type": "markdown",
   "metadata": {},
   "source": [
    "в столбце \"user_score\" значение tbd (to be determinated) - \"будет определено\" заменили на nan, так как пропущенных значений в этом столбце много - удалять их не будем. "
   ]
  },
  {
   "cell_type": "code",
   "execution_count": 11,
   "metadata": {},
   "outputs": [],
   "source": [
    "games['rating'] = games['rating'].fillna('no')\n",
    " "
   ]
  },
  {
   "cell_type": "markdown",
   "metadata": {},
   "source": [
    "Поставим маркер на отстутвующие значения рейтинга - 'NO'"
   ]
  },
  {
   "cell_type": "code",
   "execution_count": 12,
   "metadata": {},
   "outputs": [
    {
     "name": "stdout",
     "output_type": "stream",
     "text": [
      "<class 'pandas.core.frame.DataFrame'>\n",
      "Int64Index: 16444 entries, 0 to 16714\n",
      "Data columns (total 11 columns):\n",
      " #   Column           Non-Null Count  Dtype  \n",
      "---  ------           --------------  -----  \n",
      " 0   name             16444 non-null  object \n",
      " 1   platform         16444 non-null  object \n",
      " 2   year_of_release  16444 non-null  int64  \n",
      " 3   genre            16444 non-null  object \n",
      " 4   na_sales         16444 non-null  float64\n",
      " 5   eu_sales         16444 non-null  float64\n",
      " 6   jp_sales         16444 non-null  float64\n",
      " 7   other_sales      16444 non-null  float64\n",
      " 8   critic_score     7983 non-null   float64\n",
      " 9   user_score       7463 non-null   float64\n",
      " 10  rating           16444 non-null  object \n",
      "dtypes: float64(6), int64(1), object(4)\n",
      "memory usage: 1.5+ MB\n"
     ]
    },
    {
     "data": {
      "text/plain": [
       "None"
      ]
     },
     "metadata": {},
     "output_type": "display_data"
    },
    {
     "data": {
      "text/html": [
       "<div>\n",
       "<style scoped>\n",
       "    .dataframe tbody tr th:only-of-type {\n",
       "        vertical-align: middle;\n",
       "    }\n",
       "\n",
       "    .dataframe tbody tr th {\n",
       "        vertical-align: top;\n",
       "    }\n",
       "\n",
       "    .dataframe thead th {\n",
       "        text-align: right;\n",
       "    }\n",
       "</style>\n",
       "<table border=\"1\" class=\"dataframe\">\n",
       "  <thead>\n",
       "    <tr style=\"text-align: right;\">\n",
       "      <th></th>\n",
       "      <th>year_of_release</th>\n",
       "      <th>na_sales</th>\n",
       "      <th>eu_sales</th>\n",
       "      <th>jp_sales</th>\n",
       "      <th>other_sales</th>\n",
       "      <th>critic_score</th>\n",
       "      <th>user_score</th>\n",
       "    </tr>\n",
       "  </thead>\n",
       "  <tbody>\n",
       "    <tr>\n",
       "      <th>count</th>\n",
       "      <td>16444.000000</td>\n",
       "      <td>16444.000000</td>\n",
       "      <td>16444.000000</td>\n",
       "      <td>16444.000000</td>\n",
       "      <td>16444.000000</td>\n",
       "      <td>7983.000000</td>\n",
       "      <td>7463.000000</td>\n",
       "    </tr>\n",
       "    <tr>\n",
       "      <th>mean</th>\n",
       "      <td>2006.486256</td>\n",
       "      <td>0.264012</td>\n",
       "      <td>0.145930</td>\n",
       "      <td>0.078487</td>\n",
       "      <td>0.047594</td>\n",
       "      <td>68.994363</td>\n",
       "      <td>7.126330</td>\n",
       "    </tr>\n",
       "    <tr>\n",
       "      <th>std</th>\n",
       "      <td>5.875525</td>\n",
       "      <td>0.818378</td>\n",
       "      <td>0.506716</td>\n",
       "      <td>0.311100</td>\n",
       "      <td>0.188005</td>\n",
       "      <td>13.920060</td>\n",
       "      <td>1.499447</td>\n",
       "    </tr>\n",
       "    <tr>\n",
       "      <th>min</th>\n",
       "      <td>1980.000000</td>\n",
       "      <td>0.000000</td>\n",
       "      <td>0.000000</td>\n",
       "      <td>0.000000</td>\n",
       "      <td>0.000000</td>\n",
       "      <td>13.000000</td>\n",
       "      <td>0.000000</td>\n",
       "    </tr>\n",
       "    <tr>\n",
       "      <th>25%</th>\n",
       "      <td>2003.000000</td>\n",
       "      <td>0.000000</td>\n",
       "      <td>0.000000</td>\n",
       "      <td>0.000000</td>\n",
       "      <td>0.000000</td>\n",
       "      <td>60.000000</td>\n",
       "      <td>6.400000</td>\n",
       "    </tr>\n",
       "    <tr>\n",
       "      <th>50%</th>\n",
       "      <td>2007.000000</td>\n",
       "      <td>0.080000</td>\n",
       "      <td>0.020000</td>\n",
       "      <td>0.000000</td>\n",
       "      <td>0.010000</td>\n",
       "      <td>71.000000</td>\n",
       "      <td>7.500000</td>\n",
       "    </tr>\n",
       "    <tr>\n",
       "      <th>75%</th>\n",
       "      <td>2010.000000</td>\n",
       "      <td>0.240000</td>\n",
       "      <td>0.110000</td>\n",
       "      <td>0.040000</td>\n",
       "      <td>0.030000</td>\n",
       "      <td>79.000000</td>\n",
       "      <td>8.200000</td>\n",
       "    </tr>\n",
       "    <tr>\n",
       "      <th>max</th>\n",
       "      <td>2016.000000</td>\n",
       "      <td>41.360000</td>\n",
       "      <td>28.960000</td>\n",
       "      <td>10.220000</td>\n",
       "      <td>10.570000</td>\n",
       "      <td>98.000000</td>\n",
       "      <td>9.700000</td>\n",
       "    </tr>\n",
       "  </tbody>\n",
       "</table>\n",
       "</div>"
      ],
      "text/plain": [
       "       year_of_release      na_sales      eu_sales      jp_sales  \\\n",
       "count     16444.000000  16444.000000  16444.000000  16444.000000   \n",
       "mean       2006.486256      0.264012      0.145930      0.078487   \n",
       "std           5.875525      0.818378      0.506716      0.311100   \n",
       "min        1980.000000      0.000000      0.000000      0.000000   \n",
       "25%        2003.000000      0.000000      0.000000      0.000000   \n",
       "50%        2007.000000      0.080000      0.020000      0.000000   \n",
       "75%        2010.000000      0.240000      0.110000      0.040000   \n",
       "max        2016.000000     41.360000     28.960000     10.220000   \n",
       "\n",
       "        other_sales  critic_score   user_score  \n",
       "count  16444.000000   7983.000000  7463.000000  \n",
       "mean       0.047594     68.994363     7.126330  \n",
       "std        0.188005     13.920060     1.499447  \n",
       "min        0.000000     13.000000     0.000000  \n",
       "25%        0.000000     60.000000     6.400000  \n",
       "50%        0.010000     71.000000     7.500000  \n",
       "75%        0.030000     79.000000     8.200000  \n",
       "max       10.570000     98.000000     9.700000  "
      ]
     },
     "metadata": {},
     "output_type": "display_data"
    },
    {
     "data": {
      "text/plain": [
       "name                  0\n",
       "platform              0\n",
       "year_of_release       0\n",
       "genre                 0\n",
       "na_sales              0\n",
       "eu_sales              0\n",
       "jp_sales              0\n",
       "other_sales           0\n",
       "critic_score       8461\n",
       "user_score         8981\n",
       "rating                0\n",
       "dtype: int64"
      ]
     },
     "metadata": {},
     "output_type": "display_data"
    }
   ],
   "source": [
    "display(games.info(),games.describe(),games.isna().sum())"
   ]
  },
  {
   "cell_type": "code",
   "execution_count": 13,
   "metadata": {},
   "outputs": [
    {
     "data": {
      "text/plain": [
       "0"
      ]
     },
     "execution_count": 13,
     "metadata": {},
     "output_type": "execute_result"
    }
   ],
   "source": [
    "games.duplicated().sum()"
   ]
  },
  {
   "cell_type": "markdown",
   "metadata": {},
   "source": [
    "Дубликатов нет"
   ]
  },
  {
   "cell_type": "markdown",
   "metadata": {},
   "source": [
    "## Анализ данных"
   ]
  },
  {
   "cell_type": "markdown",
   "metadata": {},
   "source": [
    "Создадим столбец с общими продажами по каждой игре"
   ]
  },
  {
   "cell_type": "code",
   "execution_count": 14,
   "metadata": {},
   "outputs": [
    {
     "data": {
      "text/html": [
       "<div>\n",
       "<style scoped>\n",
       "    .dataframe tbody tr th:only-of-type {\n",
       "        vertical-align: middle;\n",
       "    }\n",
       "\n",
       "    .dataframe tbody tr th {\n",
       "        vertical-align: top;\n",
       "    }\n",
       "\n",
       "    .dataframe thead th {\n",
       "        text-align: right;\n",
       "    }\n",
       "</style>\n",
       "<table border=\"1\" class=\"dataframe\">\n",
       "  <thead>\n",
       "    <tr style=\"text-align: right;\">\n",
       "      <th></th>\n",
       "      <th>name</th>\n",
       "      <th>platform</th>\n",
       "      <th>year_of_release</th>\n",
       "      <th>genre</th>\n",
       "      <th>na_sales</th>\n",
       "      <th>eu_sales</th>\n",
       "      <th>jp_sales</th>\n",
       "      <th>other_sales</th>\n",
       "      <th>critic_score</th>\n",
       "      <th>user_score</th>\n",
       "      <th>rating</th>\n",
       "      <th>total_sales</th>\n",
       "    </tr>\n",
       "  </thead>\n",
       "  <tbody>\n",
       "    <tr>\n",
       "      <th>0</th>\n",
       "      <td>Wii Sports</td>\n",
       "      <td>Wii</td>\n",
       "      <td>2006</td>\n",
       "      <td>sports</td>\n",
       "      <td>41.36</td>\n",
       "      <td>28.96</td>\n",
       "      <td>3.77</td>\n",
       "      <td>8.45</td>\n",
       "      <td>76.0</td>\n",
       "      <td>8.0</td>\n",
       "      <td>E</td>\n",
       "      <td>82.54</td>\n",
       "    </tr>\n",
       "    <tr>\n",
       "      <th>1</th>\n",
       "      <td>Super Mario Bros.</td>\n",
       "      <td>NES</td>\n",
       "      <td>1985</td>\n",
       "      <td>platform</td>\n",
       "      <td>29.08</td>\n",
       "      <td>3.58</td>\n",
       "      <td>6.81</td>\n",
       "      <td>0.77</td>\n",
       "      <td>NaN</td>\n",
       "      <td>NaN</td>\n",
       "      <td>no</td>\n",
       "      <td>40.24</td>\n",
       "    </tr>\n",
       "    <tr>\n",
       "      <th>2</th>\n",
       "      <td>Mario Kart Wii</td>\n",
       "      <td>Wii</td>\n",
       "      <td>2008</td>\n",
       "      <td>racing</td>\n",
       "      <td>15.68</td>\n",
       "      <td>12.76</td>\n",
       "      <td>3.79</td>\n",
       "      <td>3.29</td>\n",
       "      <td>82.0</td>\n",
       "      <td>8.3</td>\n",
       "      <td>E</td>\n",
       "      <td>35.52</td>\n",
       "    </tr>\n",
       "    <tr>\n",
       "      <th>3</th>\n",
       "      <td>Wii Sports Resort</td>\n",
       "      <td>Wii</td>\n",
       "      <td>2009</td>\n",
       "      <td>sports</td>\n",
       "      <td>15.61</td>\n",
       "      <td>10.93</td>\n",
       "      <td>3.28</td>\n",
       "      <td>2.95</td>\n",
       "      <td>80.0</td>\n",
       "      <td>8.0</td>\n",
       "      <td>E</td>\n",
       "      <td>32.77</td>\n",
       "    </tr>\n",
       "    <tr>\n",
       "      <th>4</th>\n",
       "      <td>Pokemon Red/Pokemon Blue</td>\n",
       "      <td>GB</td>\n",
       "      <td>1996</td>\n",
       "      <td>role-playing</td>\n",
       "      <td>11.27</td>\n",
       "      <td>8.89</td>\n",
       "      <td>10.22</td>\n",
       "      <td>1.00</td>\n",
       "      <td>NaN</td>\n",
       "      <td>NaN</td>\n",
       "      <td>no</td>\n",
       "      <td>31.38</td>\n",
       "    </tr>\n",
       "  </tbody>\n",
       "</table>\n",
       "</div>"
      ],
      "text/plain": [
       "                       name platform  year_of_release         genre  na_sales  \\\n",
       "0                Wii Sports      Wii             2006        sports     41.36   \n",
       "1         Super Mario Bros.      NES             1985      platform     29.08   \n",
       "2            Mario Kart Wii      Wii             2008        racing     15.68   \n",
       "3         Wii Sports Resort      Wii             2009        sports     15.61   \n",
       "4  Pokemon Red/Pokemon Blue       GB             1996  role-playing     11.27   \n",
       "\n",
       "   eu_sales  jp_sales  other_sales  critic_score  user_score rating  \\\n",
       "0     28.96      3.77         8.45          76.0         8.0      E   \n",
       "1      3.58      6.81         0.77           NaN         NaN     no   \n",
       "2     12.76      3.79         3.29          82.0         8.3      E   \n",
       "3     10.93      3.28         2.95          80.0         8.0      E   \n",
       "4      8.89     10.22         1.00           NaN         NaN     no   \n",
       "\n",
       "   total_sales  \n",
       "0        82.54  \n",
       "1        40.24  \n",
       "2        35.52  \n",
       "3        32.77  \n",
       "4        31.38  "
      ]
     },
     "execution_count": 14,
     "metadata": {},
     "output_type": "execute_result"
    }
   ],
   "source": [
    "games['total_sales'] = games['na_sales'] + games['eu_sales'] + games['jp_sales'] + games['other_sales']\n",
    "games.head()"
   ]
  },
  {
   "cell_type": "markdown",
   "metadata": {},
   "source": [
    "### Посмотрим на продажи игр в разные годы\n"
   ]
  },
  {
   "cell_type": "code",
   "execution_count": 15,
   "metadata": {},
   "outputs": [
    {
     "data": {
      "text/plain": [
       "Text(0, 0.5, 'Выпущено игр')"
      ]
     },
     "execution_count": 15,
     "metadata": {},
     "output_type": "execute_result"
    },
    {
     "data": {
      "image/png": "[encoded data removed]",
      "text/plain": [
       "<Figure size 720x360 with 1 Axes>"
      ]
     },
     "metadata": {
      "needs_background": "light"
     },
     "output_type": "display_data"
    }
   ],
   "source": [
    "games_period = games.pivot_table(index='year_of_release', values='name', aggfunc='count')\n",
    "plt.figure(figsize=(10,5))\n",
    "sns.lineplot(data=games_period)\n",
    "plt.title(\"Количество игр\")\n",
    "plt.xlabel(\"Год выпуска игры\")\n",
    "plt.ylabel(\"Выпущено игр\")"
   ]
  },
  {
   "cell_type": "markdown",
   "metadata": {},
   "source": [
    "Начиная с 1993 года начался бурный рост игровой индустрии и вплоть до 2008 года он продолжался. Потом количество выпускаемых игр упало, полагаю из-за мирового финансового кризиса 2008 года. Или из-за роста популярности игр на мобильных гаджетах."
   ]
  },
  {
   "cell_type": "markdown",
   "metadata": {},
   "source": [
    "Посмотрим отдельно на продажи по каждой платформе"
   ]
  },
  {
   "cell_type": "code",
   "execution_count": 16,
   "metadata": {},
   "outputs": [
    {
     "data": {
      "text/plain": [
       "Text(0, 0.5, 'Количество продаж')"
      ]
     },
     "execution_count": 16,
     "metadata": {},
     "output_type": "execute_result"
    },
    {
     "data": {
      "image/png": "[encoded data removed]",
      "text/plain": [
       "<Figure size 1080x360 with 1 Axes>"
      ]
     },
     "metadata": {
      "needs_background": "light"
     },
     "output_type": "display_data"
    }
   ],
   "source": [
    "platform = games.pivot_table(index='platform', values='total_sales', aggfunc='sum')\n",
    "plt.figure(figsize=(15,5))\n",
    "sns.barplot(x=platform.index,y=platform['total_sales'])\n",
    "plt.title(\"Продажи\")\n",
    "plt.xlabel(\"Платформа\")\n",
    "plt.ylabel(\"Количество продаж\")"
   ]
  },
  {
   "cell_type": "markdown",
   "metadata": {},
   "source": [
    "Видим, что платформы с наибольшими общими продажами: PS2, X360, PS3, WII, DS, PS. Посомтрим распределение продаж по годам по каждой из этих топ-платформ."
   ]
  },
  {
   "cell_type": "code",
   "execution_count": 17,
   "metadata": {},
   "outputs": [
    {
     "data": {
      "image/png": "[encoded data removed]",
      "text/plain": [
       "<Figure size 1440x720 with 1 Axes>"
      ]
     },
     "metadata": {
      "needs_background": "light"
     },
     "output_type": "display_data"
    }
   ],
   "source": [
    "top_platform = games.query('platform == [\"PS2\", \"X360\", \"PS3\", \"WII\", \"DS\", \"PS\", \"PS4\", \"XOne\", \"3DS\", \"GBA\"]')\n",
    "top_platforms_years = top_platform.pivot_table(index = ['year_of_release'], columns = ['platform'], values = ['total_sales'], aggfunc =  ['sum'])\n",
    "top_platforms_years.plot(figsize = (20,10))\n",
    "\n",
    "plt.xlabel(\"Год\")\n",
    "plt.ylabel(\"Продажи\")\n",
    "plt.show()\n",
    "\n"
   ]
  },
  {
   "cell_type": "markdown",
   "metadata": {},
   "source": [
    "Видны яркие пики жизни каждой игры: от 8 до 11 лет. Пик продаж каждой платформы наступает  через 5 лет после ее релиза.\n",
    "Таким образом, чтобы построить прогноз на продажи на 2017 год возьмем 4 года, так как нам нужны платформы, которые начинают расти или около своего пика продаж. То есть полные 2013-2015 и неполные данные 2016 года."
   ]
  },
  {
   "cell_type": "code",
   "execution_count": 18,
   "metadata": {},
   "outputs": [
    {
     "data": {
      "text/html": [
       "<div>\n",
       "<style scoped>\n",
       "    .dataframe tbody tr th:only-of-type {\n",
       "        vertical-align: middle;\n",
       "    }\n",
       "\n",
       "    .dataframe tbody tr th {\n",
       "        vertical-align: top;\n",
       "    }\n",
       "\n",
       "    .dataframe thead th {\n",
       "        text-align: right;\n",
       "    }\n",
       "</style>\n",
       "<table border=\"1\" class=\"dataframe\">\n",
       "  <thead>\n",
       "    <tr style=\"text-align: right;\">\n",
       "      <th></th>\n",
       "      <th>name</th>\n",
       "      <th>platform</th>\n",
       "      <th>year_of_release</th>\n",
       "      <th>genre</th>\n",
       "      <th>na_sales</th>\n",
       "      <th>eu_sales</th>\n",
       "      <th>jp_sales</th>\n",
       "      <th>other_sales</th>\n",
       "      <th>critic_score</th>\n",
       "      <th>user_score</th>\n",
       "      <th>rating</th>\n",
       "      <th>total_sales</th>\n",
       "    </tr>\n",
       "  </thead>\n",
       "  <tbody>\n",
       "    <tr>\n",
       "      <th>16</th>\n",
       "      <td>Grand Theft Auto V</td>\n",
       "      <td>PS3</td>\n",
       "      <td>2013</td>\n",
       "      <td>action</td>\n",
       "      <td>7.02</td>\n",
       "      <td>9.09</td>\n",
       "      <td>0.98</td>\n",
       "      <td>3.96</td>\n",
       "      <td>97.0</td>\n",
       "      <td>8.2</td>\n",
       "      <td>M</td>\n",
       "      <td>21.05</td>\n",
       "    </tr>\n",
       "    <tr>\n",
       "      <th>23</th>\n",
       "      <td>Grand Theft Auto V</td>\n",
       "      <td>X360</td>\n",
       "      <td>2013</td>\n",
       "      <td>action</td>\n",
       "      <td>9.66</td>\n",
       "      <td>5.14</td>\n",
       "      <td>0.06</td>\n",
       "      <td>1.41</td>\n",
       "      <td>97.0</td>\n",
       "      <td>8.1</td>\n",
       "      <td>M</td>\n",
       "      <td>16.27</td>\n",
       "    </tr>\n",
       "    <tr>\n",
       "      <th>31</th>\n",
       "      <td>Call of Duty: Black Ops 3</td>\n",
       "      <td>PS4</td>\n",
       "      <td>2015</td>\n",
       "      <td>shooter</td>\n",
       "      <td>6.03</td>\n",
       "      <td>5.86</td>\n",
       "      <td>0.36</td>\n",
       "      <td>2.38</td>\n",
       "      <td>NaN</td>\n",
       "      <td>NaN</td>\n",
       "      <td>no</td>\n",
       "      <td>14.63</td>\n",
       "    </tr>\n",
       "    <tr>\n",
       "      <th>33</th>\n",
       "      <td>Pokemon X/Pokemon Y</td>\n",
       "      <td>3DS</td>\n",
       "      <td>2013</td>\n",
       "      <td>role-playing</td>\n",
       "      <td>5.28</td>\n",
       "      <td>4.19</td>\n",
       "      <td>4.35</td>\n",
       "      <td>0.78</td>\n",
       "      <td>NaN</td>\n",
       "      <td>NaN</td>\n",
       "      <td>no</td>\n",
       "      <td>14.60</td>\n",
       "    </tr>\n",
       "    <tr>\n",
       "      <th>42</th>\n",
       "      <td>Grand Theft Auto V</td>\n",
       "      <td>PS4</td>\n",
       "      <td>2014</td>\n",
       "      <td>action</td>\n",
       "      <td>3.96</td>\n",
       "      <td>6.31</td>\n",
       "      <td>0.38</td>\n",
       "      <td>1.97</td>\n",
       "      <td>97.0</td>\n",
       "      <td>8.3</td>\n",
       "      <td>M</td>\n",
       "      <td>12.62</td>\n",
       "    </tr>\n",
       "    <tr>\n",
       "      <th>47</th>\n",
       "      <td>Pokemon Omega Ruby/Pokemon Alpha Sapphire</td>\n",
       "      <td>3DS</td>\n",
       "      <td>2014</td>\n",
       "      <td>role-playing</td>\n",
       "      <td>4.35</td>\n",
       "      <td>3.49</td>\n",
       "      <td>3.10</td>\n",
       "      <td>0.74</td>\n",
       "      <td>NaN</td>\n",
       "      <td>NaN</td>\n",
       "      <td>no</td>\n",
       "      <td>11.68</td>\n",
       "    </tr>\n",
       "    <tr>\n",
       "      <th>60</th>\n",
       "      <td>Call of Duty: Ghosts</td>\n",
       "      <td>X360</td>\n",
       "      <td>2013</td>\n",
       "      <td>shooter</td>\n",
       "      <td>6.73</td>\n",
       "      <td>2.56</td>\n",
       "      <td>0.04</td>\n",
       "      <td>0.91</td>\n",
       "      <td>73.0</td>\n",
       "      <td>2.6</td>\n",
       "      <td>M</td>\n",
       "      <td>10.24</td>\n",
       "    </tr>\n",
       "    <tr>\n",
       "      <th>69</th>\n",
       "      <td>Call of Duty: Ghosts</td>\n",
       "      <td>PS3</td>\n",
       "      <td>2013</td>\n",
       "      <td>shooter</td>\n",
       "      <td>4.10</td>\n",
       "      <td>3.63</td>\n",
       "      <td>0.38</td>\n",
       "      <td>1.25</td>\n",
       "      <td>71.0</td>\n",
       "      <td>2.6</td>\n",
       "      <td>M</td>\n",
       "      <td>9.36</td>\n",
       "    </tr>\n",
       "    <tr>\n",
       "      <th>72</th>\n",
       "      <td>Minecraft</td>\n",
       "      <td>X360</td>\n",
       "      <td>2013</td>\n",
       "      <td>misc</td>\n",
       "      <td>5.70</td>\n",
       "      <td>2.65</td>\n",
       "      <td>0.02</td>\n",
       "      <td>0.81</td>\n",
       "      <td>NaN</td>\n",
       "      <td>NaN</td>\n",
       "      <td>no</td>\n",
       "      <td>9.18</td>\n",
       "    </tr>\n",
       "    <tr>\n",
       "      <th>77</th>\n",
       "      <td>FIFA 16</td>\n",
       "      <td>PS4</td>\n",
       "      <td>2015</td>\n",
       "      <td>sports</td>\n",
       "      <td>1.12</td>\n",
       "      <td>6.12</td>\n",
       "      <td>0.06</td>\n",
       "      <td>1.28</td>\n",
       "      <td>82.0</td>\n",
       "      <td>4.3</td>\n",
       "      <td>E</td>\n",
       "      <td>8.58</td>\n",
       "    </tr>\n",
       "  </tbody>\n",
       "</table>\n",
       "</div>"
      ],
      "text/plain": [
       "                                         name platform  year_of_release  \\\n",
       "16                         Grand Theft Auto V      PS3             2013   \n",
       "23                         Grand Theft Auto V     X360             2013   \n",
       "31                  Call of Duty: Black Ops 3      PS4             2015   \n",
       "33                        Pokemon X/Pokemon Y      3DS             2013   \n",
       "42                         Grand Theft Auto V      PS4             2014   \n",
       "47  Pokemon Omega Ruby/Pokemon Alpha Sapphire      3DS             2014   \n",
       "60                       Call of Duty: Ghosts     X360             2013   \n",
       "69                       Call of Duty: Ghosts      PS3             2013   \n",
       "72                                  Minecraft     X360             2013   \n",
       "77                                    FIFA 16      PS4             2015   \n",
       "\n",
       "           genre  na_sales  eu_sales  jp_sales  other_sales  critic_score  \\\n",
       "16        action      7.02      9.09      0.98         3.96          97.0   \n",
       "23        action      9.66      5.14      0.06         1.41          97.0   \n",
       "31       shooter      6.03      5.86      0.36         2.38           NaN   \n",
       "33  role-playing      5.28      4.19      4.35         0.78           NaN   \n",
       "42        action      3.96      6.31      0.38         1.97          97.0   \n",
       "47  role-playing      4.35      3.49      3.10         0.74           NaN   \n",
       "60       shooter      6.73      2.56      0.04         0.91          73.0   \n",
       "69       shooter      4.10      3.63      0.38         1.25          71.0   \n",
       "72          misc      5.70      2.65      0.02         0.81           NaN   \n",
       "77        sports      1.12      6.12      0.06         1.28          82.0   \n",
       "\n",
       "    user_score rating  total_sales  \n",
       "16         8.2      M        21.05  \n",
       "23         8.1      M        16.27  \n",
       "31         NaN     no        14.63  \n",
       "33         NaN     no        14.60  \n",
       "42         8.3      M        12.62  \n",
       "47         NaN     no        11.68  \n",
       "60         2.6      M        10.24  \n",
       "69         2.6      M         9.36  \n",
       "72         NaN     no         9.18  \n",
       "77         4.3      E         8.58  "
      ]
     },
     "execution_count": 18,
     "metadata": {},
     "output_type": "execute_result"
    }
   ],
   "source": [
    "actual = games.query('year_of_release > 2012')\n",
    "actual.head(10)"
   ]
  },
  {
   "cell_type": "code",
   "execution_count": 19,
   "metadata": {},
   "outputs": [
    {
     "data": {
      "text/plain": [
       "array(['PS3', 'X360', 'PS4', '3DS', 'XOne', 'WiiU', 'Wii', 'PC', 'PSV',\n",
       "       'DS', 'PSP'], dtype=object)"
      ]
     },
     "execution_count": 19,
     "metadata": {},
     "output_type": "execute_result"
    }
   ],
   "source": [
    "actual['platform'].unique()"
   ]
  },
  {
   "cell_type": "code",
   "execution_count": 20,
   "metadata": {},
   "outputs": [
    {
     "data": {
      "image/png": "[encoded data removed]",
      "text/plain": [
       "<Figure size 1440x720 with 1 Axes>"
      ]
     },
     "metadata": {
      "needs_background": "light"
     },
     "output_type": "display_data"
    },
    {
     "data": {
      "text/html": [
       "<div>\n",
       "<style scoped>\n",
       "    .dataframe tbody tr th:only-of-type {\n",
       "        vertical-align: middle;\n",
       "    }\n",
       "\n",
       "    .dataframe tbody tr th {\n",
       "        vertical-align: top;\n",
       "    }\n",
       "\n",
       "    .dataframe thead tr th {\n",
       "        text-align: left;\n",
       "    }\n",
       "\n",
       "    .dataframe thead tr:last-of-type th {\n",
       "        text-align: right;\n",
       "    }\n",
       "</style>\n",
       "<table border=\"1\" class=\"dataframe\">\n",
       "  <thead>\n",
       "    <tr>\n",
       "      <th></th>\n",
       "      <th colspan=\"11\" halign=\"left\">sum</th>\n",
       "    </tr>\n",
       "    <tr>\n",
       "      <th></th>\n",
       "      <th colspan=\"11\" halign=\"left\">total_sales</th>\n",
       "    </tr>\n",
       "    <tr>\n",
       "      <th>platform</th>\n",
       "      <th>3DS</th>\n",
       "      <th>DS</th>\n",
       "      <th>PC</th>\n",
       "      <th>PS3</th>\n",
       "      <th>PS4</th>\n",
       "      <th>PSP</th>\n",
       "      <th>PSV</th>\n",
       "      <th>Wii</th>\n",
       "      <th>WiiU</th>\n",
       "      <th>X360</th>\n",
       "      <th>XOne</th>\n",
       "    </tr>\n",
       "    <tr>\n",
       "      <th>year_of_release</th>\n",
       "      <th></th>\n",
       "      <th></th>\n",
       "      <th></th>\n",
       "      <th></th>\n",
       "      <th></th>\n",
       "      <th></th>\n",
       "      <th></th>\n",
       "      <th></th>\n",
       "      <th></th>\n",
       "      <th></th>\n",
       "      <th></th>\n",
       "    </tr>\n",
       "  </thead>\n",
       "  <tbody>\n",
       "    <tr>\n",
       "      <th>2013</th>\n",
       "      <td>56.57</td>\n",
       "      <td>1.54</td>\n",
       "      <td>12.38</td>\n",
       "      <td>113.25</td>\n",
       "      <td>25.99</td>\n",
       "      <td>3.14</td>\n",
       "      <td>10.59</td>\n",
       "      <td>8.59</td>\n",
       "      <td>21.65</td>\n",
       "      <td>88.58</td>\n",
       "      <td>18.96</td>\n",
       "    </tr>\n",
       "    <tr>\n",
       "      <th>2014</th>\n",
       "      <td>43.76</td>\n",
       "      <td>NaN</td>\n",
       "      <td>13.28</td>\n",
       "      <td>47.76</td>\n",
       "      <td>100.00</td>\n",
       "      <td>0.24</td>\n",
       "      <td>11.90</td>\n",
       "      <td>3.75</td>\n",
       "      <td>22.03</td>\n",
       "      <td>34.74</td>\n",
       "      <td>54.07</td>\n",
       "    </tr>\n",
       "    <tr>\n",
       "      <th>2015</th>\n",
       "      <td>27.78</td>\n",
       "      <td>NaN</td>\n",
       "      <td>8.52</td>\n",
       "      <td>16.82</td>\n",
       "      <td>118.90</td>\n",
       "      <td>0.12</td>\n",
       "      <td>6.25</td>\n",
       "      <td>1.14</td>\n",
       "      <td>16.35</td>\n",
       "      <td>11.96</td>\n",
       "      <td>60.14</td>\n",
       "    </tr>\n",
       "    <tr>\n",
       "      <th>2016</th>\n",
       "      <td>15.14</td>\n",
       "      <td>NaN</td>\n",
       "      <td>5.25</td>\n",
       "      <td>3.60</td>\n",
       "      <td>69.25</td>\n",
       "      <td>NaN</td>\n",
       "      <td>4.25</td>\n",
       "      <td>0.18</td>\n",
       "      <td>4.60</td>\n",
       "      <td>1.52</td>\n",
       "      <td>26.15</td>\n",
       "    </tr>\n",
       "  </tbody>\n",
       "</table>\n",
       "</div>"
      ],
      "text/plain": [
       "                        sum                                                  \\\n",
       "                total_sales                                                   \n",
       "platform                3DS    DS     PC     PS3     PS4   PSP    PSV   Wii   \n",
       "year_of_release                                                               \n",
       "2013                  56.57  1.54  12.38  113.25   25.99  3.14  10.59  8.59   \n",
       "2014                  43.76   NaN  13.28   47.76  100.00  0.24  11.90  3.75   \n",
       "2015                  27.78   NaN   8.52   16.82  118.90  0.12   6.25  1.14   \n",
       "2016                  15.14   NaN   5.25    3.60   69.25   NaN   4.25  0.18   \n",
       "\n",
       "                                      \n",
       "                                      \n",
       "platform          WiiU   X360   XOne  \n",
       "year_of_release                       \n",
       "2013             21.65  88.58  18.96  \n",
       "2014             22.03  34.74  54.07  \n",
       "2015             16.35  11.96  60.14  \n",
       "2016              4.60   1.52  26.15  "
      ]
     },
     "execution_count": 20,
     "metadata": {},
     "output_type": "execute_result"
    }
   ],
   "source": [
    "top_actual =actual.pivot_table(index = ['year_of_release'], columns = ['platform'], values = ['total_sales'], aggfunc =  ['sum'])\n",
    "top_actual.plot(figsize = (20,10))\n",
    "\n",
    "plt.xlabel(\"Год\")\n",
    "plt.ylabel(\"Продажи\")\n",
    "plt.show()\n",
    "top_actual.tail()"
   ]
  },
  {
   "cell_type": "markdown",
   "metadata": {},
   "source": [
    "Все платформы на спаде, но PS4, XOne, 3DS - потенциально прибыльные. Добавим в этот список еще РС и WiiU. и взглянем на них отдельно."
   ]
  },
  {
   "cell_type": "code",
   "execution_count": 21,
   "metadata": {},
   "outputs": [
    {
     "data": {
      "image/png": "[encoded data removed]",
      "text/plain": [
       "<Figure size 1080x576 with 1 Axes>"
      ]
     },
     "metadata": {
      "needs_background": "light"
     },
     "output_type": "display_data"
    }
   ],
   "source": [
    "top_sales = actual.query('platform == [\"WiiU\", \"PC\", \"PS4\", \"XOne\", \"3DS\"]')\n",
    "top_sales_actual = top_sales.pivot_table(index = ['year_of_release'], columns = ['platform'], values = ['total_sales'], aggfunc =  ['sum'])\n",
    "top_sales_actual.plot(figsize = (15,8))\n",
    "\n",
    "plt.xlabel(\"Год\")\n",
    "plt.ylabel(\"Продажи\")\n",
    "plt.show()\n"
   ]
  },
  {
   "cell_type": "code",
   "execution_count": 22,
   "metadata": {},
   "outputs": [
    {
     "data": {
      "image/png": "[encoded data removed]",
      "text/plain": [
       "<Figure size 1080x720 with 1 Axes>"
      ]
     },
     "metadata": {
      "needs_background": "light"
     },
     "output_type": "display_data"
    },
    {
     "data": {
      "image/png": "[encoded data removed]",
      "text/plain": [
       "<Figure size 1080x720 with 1 Axes>"
      ]
     },
     "metadata": {
      "needs_background": "light"
     },
     "output_type": "display_data"
    }
   ],
   "source": [
    "actual.boxplot(column = ['total_sales'],by = ['platform'],figsize=(15, 10))\n",
    "plt.show()\n",
    "actual.boxplot(column = ['total_sales'],by = ['platform'],figsize=(15, 10))\n",
    "plt.ylim([0, 2])\n",
    "plt.show()"
   ]
  },
  {
   "cell_type": "markdown",
   "metadata": {},
   "source": [
    "у всех платформ медиана разная, но у PS3, PS4, Wii, WiU, X360, Xone -медианы существенно выше, но и сами ящики (диаграммы размаха) шире. и медианна смещена вниз. это нормальное поведение покупателей, когда только при выходе платформы есть интерес и, соответственно, всплеск покупок, а при затухании интереса идет и затухание продаж. Что подтверждается большим количеством выбросов у PS3, PS4, X360, XOne, 3DS."
   ]
  },
  {
   "cell_type": "markdown",
   "metadata": {},
   "source": [
    "СОздадим столбец с общими продажами по каждой игре"
   ]
  },
  {
   "cell_type": "markdown",
   "metadata": {},
   "source": [
    "#### Посмотрим как оценки критиков и покупателей влияют на продажи."
   ]
  },
  {
   "cell_type": "markdown",
   "metadata": {},
   "source": [
    "Посмотрим, как влияют на продажи внутри платформы PS4 отзывы покупателей и критиков. "
   ]
  },
  {
   "cell_type": "code",
   "execution_count": 23,
   "metadata": {},
   "outputs": [
    {
     "data": {
      "text/plain": [
       "'корреляция по отзывам пользователей:'"
      ]
     },
     "metadata": {},
     "output_type": "display_data"
    },
    {
     "data": {
      "text/plain": [
       "'PS4'"
      ]
     },
     "metadata": {},
     "output_type": "display_data"
    },
    {
     "data": {
      "text/plain": [
       "-0.031957110204556376"
      ]
     },
     "metadata": {},
     "output_type": "display_data"
    },
    {
     "data": {
      "text/plain": [
       "' корреляция по отзывам критиков:'"
      ]
     },
     "metadata": {},
     "output_type": "display_data"
    },
    {
     "data": {
      "text/plain": [
       "'PS4'"
      ]
     },
     "metadata": {},
     "output_type": "display_data"
    },
    {
     "data": {
      "text/plain": [
       "0.40656790206178095"
      ]
     },
     "metadata": {},
     "output_type": "display_data"
    },
    {
     "data": {
      "image/png": "[encoded data removed]",
      "text/plain": [
       "<Figure size 720x360 with 1 Axes>"
      ]
     },
     "metadata": {
      "needs_background": "light"
     },
     "output_type": "display_data"
    },
    {
     "data": {
      "image/png": "[encoded data removed]",
      "text/plain": [
       "<Figure size 720x360 with 1 Axes>"
      ]
     },
     "metadata": {
      "needs_background": "light"
     },
     "output_type": "display_data"
    }
   ],
   "source": [
    "def other(name):\n",
    "    platform = actual[actual['platform'] == name]\n",
    "    corr_user = platform['user_score'].corr(platform['total_sales'])\n",
    "    corr_critic = platform['critic_score'].corr(platform['total_sales'])\n",
    "    plt.figure(figsize=(10,5))\n",
    "    sns.scatterplot(data = platform, x = 'user_score', y = 'total_sales')\n",
    "    plt.figure(figsize=(10,5))\n",
    "    sns.scatterplot(data = platform, x = 'critic_score', y = 'total_sales')\n",
    "    display('корреляция по отзывам пользователей:', name, corr_user)\n",
    "    display(\" корреляция по отзывам критиков:\", name, corr_critic)\n",
    "    \n",
    "other('PS4')"
   ]
  },
  {
   "cell_type": "markdown",
   "metadata": {},
   "source": [
    "Оценки пользователей не влияют на продажи - корреляция очень слабая и даже отрицательная, оценки критиков посильнее влияют на продажи, корреляция средняя. и при улучшении оценок критиков - увеличиваются продажи."
   ]
  },
  {
   "cell_type": "markdown",
   "metadata": {},
   "source": [
    "Посмотрим на платформы этого же производителя PS3\n",
    "\n"
   ]
  },
  {
   "cell_type": "code",
   "execution_count": 24,
   "metadata": {},
   "outputs": [
    {
     "data": {
      "text/plain": [
       "'корреляция по отзывам пользователей:'"
      ]
     },
     "metadata": {},
     "output_type": "display_data"
    },
    {
     "data": {
      "text/plain": [
       "'PS3'"
      ]
     },
     "metadata": {},
     "output_type": "display_data"
    },
    {
     "data": {
      "text/plain": [
       "0.0023944027357566925"
      ]
     },
     "metadata": {},
     "output_type": "display_data"
    },
    {
     "data": {
      "text/plain": [
       "' корреляция по отзывам критиков:'"
      ]
     },
     "metadata": {},
     "output_type": "display_data"
    },
    {
     "data": {
      "text/plain": [
       "'PS3'"
      ]
     },
     "metadata": {},
     "output_type": "display_data"
    },
    {
     "data": {
      "text/plain": [
       "0.3342853393371919"
      ]
     },
     "metadata": {},
     "output_type": "display_data"
    },
    {
     "data": {
      "image/png": "[encoded data removed]",
      "text/plain": [
       "<Figure size 720x360 with 1 Axes>"
      ]
     },
     "metadata": {
      "needs_background": "light"
     },
     "output_type": "display_data"
    },
    {
     "data": {
      "image/png": "[encoded data removed]",
      "text/plain": [
       "<Figure size 720x360 with 1 Axes>"
      ]
     },
     "metadata": {
      "needs_background": "light"
     },
     "output_type": "display_data"
    }
   ],
   "source": [
    "other('PS3')\n"
   ]
  },
  {
   "cell_type": "markdown",
   "metadata": {},
   "source": [
    "Корреляция по отзывам пользователей также слабая. Корреляция по отзывам критиков посильнее, но также не дает права говорит о прямой зависимости продаж.\n",
    "Посмотрим на другие популярные платформы"
   ]
  },
  {
   "cell_type": "code",
   "execution_count": 25,
   "metadata": {},
   "outputs": [
    {
     "data": {
      "text/plain": [
       "'корреляция по отзывам пользователей:'"
      ]
     },
     "metadata": {},
     "output_type": "display_data"
    },
    {
     "data": {
      "text/plain": [
       "'XOne'"
      ]
     },
     "metadata": {},
     "output_type": "display_data"
    },
    {
     "data": {
      "text/plain": [
       "-0.06892505328279414"
      ]
     },
     "metadata": {},
     "output_type": "display_data"
    },
    {
     "data": {
      "text/plain": [
       "' корреляция по отзывам критиков:'"
      ]
     },
     "metadata": {},
     "output_type": "display_data"
    },
    {
     "data": {
      "text/plain": [
       "'XOne'"
      ]
     },
     "metadata": {},
     "output_type": "display_data"
    },
    {
     "data": {
      "text/plain": [
       "0.4169983280084017"
      ]
     },
     "metadata": {},
     "output_type": "display_data"
    },
    {
     "data": {
      "text/plain": [
       "'корреляция по отзывам пользователей:'"
      ]
     },
     "metadata": {},
     "output_type": "display_data"
    },
    {
     "data": {
      "text/plain": [
       "'X360'"
      ]
     },
     "metadata": {},
     "output_type": "display_data"
    },
    {
     "data": {
      "text/plain": [
       "-0.011742185147181342"
      ]
     },
     "metadata": {},
     "output_type": "display_data"
    },
    {
     "data": {
      "text/plain": [
       "' корреляция по отзывам критиков:'"
      ]
     },
     "metadata": {},
     "output_type": "display_data"
    },
    {
     "data": {
      "text/plain": [
       "'X360'"
      ]
     },
     "metadata": {},
     "output_type": "display_data"
    },
    {
     "data": {
      "text/plain": [
       "0.3503445460228664"
      ]
     },
     "metadata": {},
     "output_type": "display_data"
    },
    {
     "data": {
      "image/png": "[encoded data removed]",
      "text/plain": [
       "<Figure size 720x360 with 1 Axes>"
      ]
     },
     "metadata": {
      "needs_background": "light"
     },
     "output_type": "display_data"
    },
    {
     "data": {
      "image/png": "[encoded data removed]",
      "text/plain": [
       "<Figure size 720x360 with 1 Axes>"
      ]
     },
     "metadata": {
      "needs_background": "light"
     },
     "output_type": "display_data"
    },
    {
     "data": {
      "image/png": "[encoded data removed]",
      "text/plain": [
       "<Figure size 720x360 with 1 Axes>"
      ]
     },
     "metadata": {
      "needs_background": "light"
     },
     "output_type": "display_data"
    },
    {
     "data": {
      "image/png": "[encoded data removed]",
      "text/plain": [
       "<Figure size 720x360 with 1 Axes>"
      ]
     },
     "metadata": {
      "needs_background": "light"
     },
     "output_type": "display_data"
    }
   ],
   "source": [
    "other('XOne')\n",
    "other('X360')"
   ]
  },
  {
   "cell_type": "code",
   "execution_count": 26,
   "metadata": {},
   "outputs": [
    {
     "data": {
      "text/plain": [
       "'корреляция по отзывам пользователей:'"
      ]
     },
     "metadata": {},
     "output_type": "display_data"
    },
    {
     "data": {
      "text/plain": [
       "'3DS'"
      ]
     },
     "metadata": {},
     "output_type": "display_data"
    },
    {
     "data": {
      "text/plain": [
       "0.24150411773563016"
      ]
     },
     "metadata": {},
     "output_type": "display_data"
    },
    {
     "data": {
      "text/plain": [
       "' корреляция по отзывам критиков:'"
      ]
     },
     "metadata": {},
     "output_type": "display_data"
    },
    {
     "data": {
      "text/plain": [
       "'3DS'"
      ]
     },
     "metadata": {},
     "output_type": "display_data"
    },
    {
     "data": {
      "text/plain": [
       "0.3570566142288103"
      ]
     },
     "metadata": {},
     "output_type": "display_data"
    },
    {
     "data": {
      "image/png": "[encoded data removed]",
      "text/plain": [
       "<Figure size 720x360 with 1 Axes>"
      ]
     },
     "metadata": {
      "needs_background": "light"
     },
     "output_type": "display_data"
    },
    {
     "data": {
      "image/png": "[encoded data removed]",
      "text/plain": [
       "<Figure size 720x360 with 1 Axes>"
      ]
     },
     "metadata": {
      "needs_background": "light"
     },
     "output_type": "display_data"
    }
   ],
   "source": [
    "other('3DS')"
   ]
  },
  {
   "cell_type": "code",
   "execution_count": 27,
   "metadata": {},
   "outputs": [
    {
     "data": {
      "text/plain": [
       "'корреляция по отзывам пользователей:'"
      ]
     },
     "metadata": {},
     "output_type": "display_data"
    },
    {
     "data": {
      "text/plain": [
       "'WiiU'"
      ]
     },
     "metadata": {},
     "output_type": "display_data"
    },
    {
     "data": {
      "text/plain": [
       "0.4193304819266187"
      ]
     },
     "metadata": {},
     "output_type": "display_data"
    },
    {
     "data": {
      "text/plain": [
       "' корреляция по отзывам критиков:'"
      ]
     },
     "metadata": {},
     "output_type": "display_data"
    },
    {
     "data": {
      "text/plain": [
       "'WiiU'"
      ]
     },
     "metadata": {},
     "output_type": "display_data"
    },
    {
     "data": {
      "text/plain": [
       "0.3764149065423912"
      ]
     },
     "metadata": {},
     "output_type": "display_data"
    },
    {
     "data": {
      "image/png": "[encoded data removed]",
      "text/plain": [
       "<Figure size 720x360 with 1 Axes>"
      ]
     },
     "metadata": {
      "needs_background": "light"
     },
     "output_type": "display_data"
    },
    {
     "data": {
      "image/png": "[encoded data removed]",
      "text/plain": [
       "<Figure size 720x360 with 1 Axes>"
      ]
     },
     "metadata": {
      "needs_background": "light"
     },
     "output_type": "display_data"
    }
   ],
   "source": [
    "\n",
    "other('WiiU')"
   ]
  },
  {
   "cell_type": "markdown",
   "metadata": {},
   "source": [
    "Зависимости примерно все такие же. Корреляция продаж от отзывов потребителей - слабая, от отзывов критиков - средняя, но не позволяет говорить о прямой зависимости. Только 'WiiU' немного выделилися - у него корреляция продаж от отзывов потребителей даже чуть выше, чем от отзывов критиков, но тоже не говорит о прямой зависимости."
   ]
  },
  {
   "cell_type": "code",
   "execution_count": 28,
   "metadata": {},
   "outputs": [
    {
     "data": {
      "image/png": "[encoded data removed]",
      "text/plain": [
       "<Figure size 432x288 with 1 Axes>"
      ]
     },
     "metadata": {
      "needs_background": "light"
     },
     "output_type": "display_data"
    }
   ],
   "source": [
    "genre = actual.pivot_table(index='genre', values='total_sales', aggfunc='sum').sort_values(by='total_sales', ascending=False)\n",
    "genre.plot(kind='bar')\n",
    "\n",
    "plt.show()"
   ]
  },
  {
   "cell_type": "markdown",
   "metadata": {},
   "source": [
    "Самые продаваемые игры - игры жанра action. Они лидируют со значительным отрывом от стрелялок и спортивных. Стратегии и паззлы - наименее из продаваемых игр."
   ]
  },
  {
   "cell_type": "code",
   "execution_count": 29,
   "metadata": {},
   "outputs": [
    {
     "data": {
      "image/png": "[encoded data removed]",
      "text/plain": [
       "<Figure size 1080x720 with 1 Axes>"
      ]
     },
     "metadata": {
      "needs_background": "light"
     },
     "output_type": "display_data"
    },
    {
     "data": {
      "image/png": "[encoded data removed]",
      "text/plain": [
       "<Figure size 1080x720 with 1 Axes>"
      ]
     },
     "metadata": {
      "needs_background": "light"
     },
     "output_type": "display_data"
    }
   ],
   "source": [
    "actual.boxplot(column = ['total_sales'],by = ['genre'],figsize=(15, 10))\n",
    "plt.ylim([0, 2])\n",
    "plt.show()\n",
    "\n",
    "actual.boxplot(column = ['total_sales'],by = ['genre'],figsize=(15, 10))\n",
    "plt.show()"
   ]
  },
  {
   "cell_type": "markdown",
   "metadata": {},
   "source": [
    "а по медианному значению лидируют Shooter, на втором месте Platform и Sports. то есть в этих жанрах стабильно хорошие продажи. А в жанрах Action и role-playing много выбросов - то есть игр, которые очень хорошо продавались и продаются, но есть и игры с очень плохими продажами."
   ]
  },
  {
   "cell_type": "markdown",
   "metadata": {},
   "source": [
    "### Составим портрет пользователя для каждого из регионов"
   ]
  },
  {
   "cell_type": "markdown",
   "metadata": {},
   "source": [
    "#### ТОП-5 продаж в каждом регионе\n"
   ]
  },
  {
   "cell_type": "markdown",
   "metadata": {},
   "source": [
    "<div style=\"border:solid steelblue 1px; padding: 20px\">\n",
    "    \n",
    "<font size=\"4\"><p style=\"text-align:center\"><b> </b></p></font>\n",
    "    \n",
    "<div style=\"border:solid steelblue 3px; padding: 20px\">\n",
    "<font size=\"4\"><b>🍕 </b></font>\n",
    "    <br /> \n",
    "        <font size=\"3\", color = \"black\">\n",
    "<br />\n",
    "стоит выделять разделы проекта заголовками разного уровня, за уровень отвечает количество знаков #\n",
    "    \n",
    "        # example 1\n",
    "\n",
    "        ### example 2\n",
    "\n",
    "        #### example 3\n",
    "    "
   ]
  },
  {
   "cell_type": "code",
   "execution_count": 30,
   "metadata": {},
   "outputs": [
    {
     "data": {
      "image/png": "[encoded data removed]",
      "text/plain": [
       "<Figure size 432x288 with 1 Axes>"
      ]
     },
     "metadata": {
      "needs_background": "light"
     },
     "output_type": "display_data"
    },
    {
     "data": {
      "text/html": [
       "<div>\n",
       "<style scoped>\n",
       "    .dataframe tbody tr th:only-of-type {\n",
       "        vertical-align: middle;\n",
       "    }\n",
       "\n",
       "    .dataframe tbody tr th {\n",
       "        vertical-align: top;\n",
       "    }\n",
       "\n",
       "    .dataframe thead th {\n",
       "        text-align: right;\n",
       "    }\n",
       "</style>\n",
       "<table border=\"1\" class=\"dataframe\">\n",
       "  <thead>\n",
       "    <tr style=\"text-align: right;\">\n",
       "      <th></th>\n",
       "      <th>eu_sales</th>\n",
       "    </tr>\n",
       "    <tr>\n",
       "      <th>platform</th>\n",
       "      <th></th>\n",
       "    </tr>\n",
       "  </thead>\n",
       "  <tbody>\n",
       "    <tr>\n",
       "      <th>PS4</th>\n",
       "      <td>141.09</td>\n",
       "    </tr>\n",
       "    <tr>\n",
       "      <th>PS3</th>\n",
       "      <td>67.81</td>\n",
       "    </tr>\n",
       "    <tr>\n",
       "      <th>XOne</th>\n",
       "      <td>51.59</td>\n",
       "    </tr>\n",
       "    <tr>\n",
       "      <th>X360</th>\n",
       "      <td>42.52</td>\n",
       "    </tr>\n",
       "    <tr>\n",
       "      <th>3DS</th>\n",
       "      <td>30.96</td>\n",
       "    </tr>\n",
       "  </tbody>\n",
       "</table>\n",
       "</div>"
      ],
      "text/plain": [
       "          eu_sales\n",
       "platform          \n",
       "PS4         141.09\n",
       "PS3          67.81\n",
       "XOne         51.59\n",
       "X360         42.52\n",
       "3DS          30.96"
      ]
     },
     "metadata": {},
     "output_type": "display_data"
    },
    {
     "data": {
      "text/html": [
       "<div>\n",
       "<style scoped>\n",
       "    .dataframe tbody tr th:only-of-type {\n",
       "        vertical-align: middle;\n",
       "    }\n",
       "\n",
       "    .dataframe tbody tr th {\n",
       "        vertical-align: top;\n",
       "    }\n",
       "\n",
       "    .dataframe thead th {\n",
       "        text-align: right;\n",
       "    }\n",
       "</style>\n",
       "<table border=\"1\" class=\"dataframe\">\n",
       "  <thead>\n",
       "    <tr style=\"text-align: right;\">\n",
       "      <th></th>\n",
       "      <th>jp_sales</th>\n",
       "    </tr>\n",
       "    <tr>\n",
       "      <th>platform</th>\n",
       "      <th></th>\n",
       "    </tr>\n",
       "  </thead>\n",
       "  <tbody>\n",
       "    <tr>\n",
       "      <th>3DS</th>\n",
       "      <td>67.81</td>\n",
       "    </tr>\n",
       "    <tr>\n",
       "      <th>PS3</th>\n",
       "      <td>23.35</td>\n",
       "    </tr>\n",
       "    <tr>\n",
       "      <th>PSV</th>\n",
       "      <td>18.59</td>\n",
       "    </tr>\n",
       "    <tr>\n",
       "      <th>PS4</th>\n",
       "      <td>15.96</td>\n",
       "    </tr>\n",
       "    <tr>\n",
       "      <th>WiiU</th>\n",
       "      <td>10.88</td>\n",
       "    </tr>\n",
       "  </tbody>\n",
       "</table>\n",
       "</div>"
      ],
      "text/plain": [
       "          jp_sales\n",
       "platform          \n",
       "3DS          67.81\n",
       "PS3          23.35\n",
       "PSV          18.59\n",
       "PS4          15.96\n",
       "WiiU         10.88"
      ]
     },
     "metadata": {},
     "output_type": "display_data"
    },
    {
     "data": {
      "text/html": [
       "<div>\n",
       "<style scoped>\n",
       "    .dataframe tbody tr th:only-of-type {\n",
       "        vertical-align: middle;\n",
       "    }\n",
       "\n",
       "    .dataframe tbody tr th {\n",
       "        vertical-align: top;\n",
       "    }\n",
       "\n",
       "    .dataframe thead th {\n",
       "        text-align: right;\n",
       "    }\n",
       "</style>\n",
       "<table border=\"1\" class=\"dataframe\">\n",
       "  <thead>\n",
       "    <tr style=\"text-align: right;\">\n",
       "      <th></th>\n",
       "      <th>na_sales</th>\n",
       "    </tr>\n",
       "    <tr>\n",
       "      <th>platform</th>\n",
       "      <th></th>\n",
       "    </tr>\n",
       "  </thead>\n",
       "  <tbody>\n",
       "    <tr>\n",
       "      <th>PS4</th>\n",
       "      <td>108.74</td>\n",
       "    </tr>\n",
       "    <tr>\n",
       "      <th>XOne</th>\n",
       "      <td>93.12</td>\n",
       "    </tr>\n",
       "    <tr>\n",
       "      <th>X360</th>\n",
       "      <td>81.66</td>\n",
       "    </tr>\n",
       "    <tr>\n",
       "      <th>PS3</th>\n",
       "      <td>63.50</td>\n",
       "    </tr>\n",
       "    <tr>\n",
       "      <th>3DS</th>\n",
       "      <td>38.20</td>\n",
       "    </tr>\n",
       "  </tbody>\n",
       "</table>\n",
       "</div>"
      ],
      "text/plain": [
       "          na_sales\n",
       "platform          \n",
       "PS4         108.74\n",
       "XOne         93.12\n",
       "X360         81.66\n",
       "PS3          63.50\n",
       "3DS          38.20"
      ]
     },
     "metadata": {},
     "output_type": "display_data"
    },
    {
     "data": {
      "text/plain": [
       "<AxesSubplot:title={'center':'Платформы в регионах'}, xlabel='platform', ylabel='Количество продаж'>"
      ]
     },
     "execution_count": 30,
     "metadata": {},
     "output_type": "execute_result"
    },
    {
     "data": {
      "image/png": "[encoded data removed]",
      "text/plain": [
       "<Figure size 432x288 with 3 Axes>"
      ]
     },
     "metadata": {
      "needs_background": "light"
     },
     "output_type": "display_data"
    }
   ],
   "source": [
    "\n",
    "top_platform_region = actual.pivot_table(index='platform', values = ['na_sales','jp_sales','eu_sales'], aggfunc='sum')\n",
    "top_platform_region.plot.bar(stacked=True)\n",
    "plt.title(\"Продажи в регионах\")\n",
    "plt.xlabel(\"Платформа\")\n",
    "plt.ylabel(\"Количество продаж\")\n",
    "plt.show()\n",
    "\n",
    "top5_platform_eu=actual.groupby(by='platform').agg({'eu_sales':'sum'}).sort_values(by='eu_sales', ascending=False).head(5)\n",
    "top5_platform_jp=actual.groupby(by='platform').agg({'jp_sales':'sum'}).sort_values(by='jp_sales', ascending=False).head(5)\n",
    "top5_platform_na=actual.groupby(by='platform').agg({'na_sales':'sum'}).sort_values(by='na_sales', ascending=False).head(5)\n",
    "display(top5_platform_eu,top5_platform_jp,top5_platform_na)\n",
    "\n",
    "fig, axes = plt.subplots(1, 3)\n",
    "plt.title(\"Платформы в регионах\")\n",
    "plt.ylabel(\"Количество продаж\")\n",
    "plt.grid()\n",
    "top5_platform_eu.plot.bar(ax=axes[0], color='b')\n",
    "top5_platform_jp.plot.bar(ax=axes[1], color='r')\n",
    "top5_platform_na.plot.bar(ax=axes[2], color='g')"
   ]
  },
  {
   "cell_type": "markdown",
   "metadata": {},
   "source": [
    "В ЕВропе PS3,Х360,Wii,PS4,PC, в Японии - 3DS,DS,PS3,PSP,Wii, в Северной Америке - X360,PS3,Wii,DS,PS4. Европа И США схожи по предпочтениям пользователей.\n"
   ]
  },
  {
   "cell_type": "markdown",
   "metadata": {},
   "source": [
    "#### ТОП-5 жанров в каждом регионе"
   ]
  },
  {
   "cell_type": "code",
   "execution_count": 31,
   "metadata": {},
   "outputs": [
    {
     "data": {
      "image/png": "[encoded data removed]",
      "text/plain": [
       "<Figure size 432x288 with 1 Axes>"
      ]
     },
     "metadata": {
      "needs_background": "light"
     },
     "output_type": "display_data"
    },
    {
     "data": {
      "text/html": [
       "<div>\n",
       "<style scoped>\n",
       "    .dataframe tbody tr th:only-of-type {\n",
       "        vertical-align: middle;\n",
       "    }\n",
       "\n",
       "    .dataframe tbody tr th {\n",
       "        vertical-align: top;\n",
       "    }\n",
       "\n",
       "    .dataframe thead th {\n",
       "        text-align: right;\n",
       "    }\n",
       "</style>\n",
       "<table border=\"1\" class=\"dataframe\">\n",
       "  <thead>\n",
       "    <tr style=\"text-align: right;\">\n",
       "      <th></th>\n",
       "      <th>eu_sales</th>\n",
       "    </tr>\n",
       "    <tr>\n",
       "      <th>genre</th>\n",
       "      <th></th>\n",
       "    </tr>\n",
       "  </thead>\n",
       "  <tbody>\n",
       "    <tr>\n",
       "      <th>action</th>\n",
       "      <td>118.13</td>\n",
       "    </tr>\n",
       "    <tr>\n",
       "      <th>shooter</th>\n",
       "      <td>87.86</td>\n",
       "    </tr>\n",
       "    <tr>\n",
       "      <th>sports</th>\n",
       "      <td>60.52</td>\n",
       "    </tr>\n",
       "    <tr>\n",
       "      <th>role-playing</th>\n",
       "      <td>36.97</td>\n",
       "    </tr>\n",
       "    <tr>\n",
       "      <th>racing</th>\n",
       "      <td>20.19</td>\n",
       "    </tr>\n",
       "  </tbody>\n",
       "</table>\n",
       "</div>"
      ],
      "text/plain": [
       "              eu_sales\n",
       "genre                 \n",
       "action          118.13\n",
       "shooter          87.86\n",
       "sports           60.52\n",
       "role-playing     36.97\n",
       "racing           20.19"
      ]
     },
     "metadata": {},
     "output_type": "display_data"
    },
    {
     "data": {
      "text/html": [
       "<div>\n",
       "<style scoped>\n",
       "    .dataframe tbody tr th:only-of-type {\n",
       "        vertical-align: middle;\n",
       "    }\n",
       "\n",
       "    .dataframe tbody tr th {\n",
       "        vertical-align: top;\n",
       "    }\n",
       "\n",
       "    .dataframe thead th {\n",
       "        text-align: right;\n",
       "    }\n",
       "</style>\n",
       "<table border=\"1\" class=\"dataframe\">\n",
       "  <thead>\n",
       "    <tr style=\"text-align: right;\">\n",
       "      <th></th>\n",
       "      <th>jp_sales</th>\n",
       "    </tr>\n",
       "    <tr>\n",
       "      <th>genre</th>\n",
       "      <th></th>\n",
       "    </tr>\n",
       "  </thead>\n",
       "  <tbody>\n",
       "    <tr>\n",
       "      <th>role-playing</th>\n",
       "      <td>51.04</td>\n",
       "    </tr>\n",
       "    <tr>\n",
       "      <th>action</th>\n",
       "      <td>40.49</td>\n",
       "    </tr>\n",
       "    <tr>\n",
       "      <th>misc</th>\n",
       "      <td>9.20</td>\n",
       "    </tr>\n",
       "    <tr>\n",
       "      <th>fighting</th>\n",
       "      <td>7.65</td>\n",
       "    </tr>\n",
       "    <tr>\n",
       "      <th>shooter</th>\n",
       "      <td>6.61</td>\n",
       "    </tr>\n",
       "  </tbody>\n",
       "</table>\n",
       "</div>"
      ],
      "text/plain": [
       "              jp_sales\n",
       "genre                 \n",
       "role-playing     51.04\n",
       "action           40.49\n",
       "misc              9.20\n",
       "fighting          7.65\n",
       "shooter           6.61"
      ]
     },
     "metadata": {},
     "output_type": "display_data"
    },
    {
     "data": {
      "text/html": [
       "<div>\n",
       "<style scoped>\n",
       "    .dataframe tbody tr th:only-of-type {\n",
       "        vertical-align: middle;\n",
       "    }\n",
       "\n",
       "    .dataframe tbody tr th {\n",
       "        vertical-align: top;\n",
       "    }\n",
       "\n",
       "    .dataframe thead th {\n",
       "        text-align: right;\n",
       "    }\n",
       "</style>\n",
       "<table border=\"1\" class=\"dataframe\">\n",
       "  <thead>\n",
       "    <tr style=\"text-align: right;\">\n",
       "      <th></th>\n",
       "      <th>na_sales</th>\n",
       "    </tr>\n",
       "    <tr>\n",
       "      <th>genre</th>\n",
       "      <th></th>\n",
       "    </tr>\n",
       "  </thead>\n",
       "  <tbody>\n",
       "    <tr>\n",
       "      <th>action</th>\n",
       "      <td>126.05</td>\n",
       "    </tr>\n",
       "    <tr>\n",
       "      <th>shooter</th>\n",
       "      <td>109.74</td>\n",
       "    </tr>\n",
       "    <tr>\n",
       "      <th>sports</th>\n",
       "      <td>65.27</td>\n",
       "    </tr>\n",
       "    <tr>\n",
       "      <th>role-playing</th>\n",
       "      <td>46.40</td>\n",
       "    </tr>\n",
       "    <tr>\n",
       "      <th>misc</th>\n",
       "      <td>27.49</td>\n",
       "    </tr>\n",
       "  </tbody>\n",
       "</table>\n",
       "</div>"
      ],
      "text/plain": [
       "              na_sales\n",
       "genre                 \n",
       "action          126.05\n",
       "shooter         109.74\n",
       "sports           65.27\n",
       "role-playing     46.40\n",
       "misc             27.49"
      ]
     },
     "metadata": {},
     "output_type": "display_data"
    },
    {
     "data": {
      "text/plain": [
       "<AxesSubplot:title={'center':'Жанры в регионах'}, xlabel='genre', ylabel='Количество продаж'>"
      ]
     },
     "execution_count": 31,
     "metadata": {},
     "output_type": "execute_result"
    },
    {
     "data": {
      "image/png": "[encoded data removed]",
      "text/plain": [
       "<Figure size 432x288 with 3 Axes>"
      ]
     },
     "metadata": {
      "needs_background": "light"
     },
     "output_type": "display_data"
    }
   ],
   "source": [
    "top_genre_region = actual.pivot_table(index='genre', values = ['na_sales','jp_sales','eu_sales'], aggfunc='sum')\n",
    "top_genre_region.plot.bar(stacked=True)\n",
    "plt.title(\"Жанры в регионах\")\n",
    "plt.xlabel(\"Жанр\")\n",
    "plt.ylabel(\"Количество продаж\")\n",
    "plt.show()\n",
    "\n",
    "top5_genre_eu=actual.groupby(by='genre').agg({'eu_sales':'sum'}).sort_values(by='eu_sales', ascending=False).head(5)\n",
    "top5_genre_jp=actual.groupby(by='genre').agg({'jp_sales':'sum'}).sort_values(by='jp_sales', ascending=False).head(5)\n",
    "top5_genre_na=actual.groupby(by='genre').agg({'na_sales':'sum'}).sort_values(by='na_sales', ascending=False).head(5)\n",
    "display(top5_genre_eu, top5_genre_jp, top5_genre_na)\n",
    "\n",
    "fig, axes = plt.subplots(1, 3)\n",
    "plt.title(\"Жанры в регионах\")\n",
    "plt.ylabel(\"Количество продаж\")\n",
    "top5_genre_eu.plot.bar(ax=axes[0], color='b')\n",
    "top5_genre_jp.plot.bar(ax=axes[1], color='r')\n",
    "top5_genre_na.plot.bar(ax=axes[2], color='g')"
   ]
  },
  {
   "cell_type": "markdown",
   "metadata": {},
   "source": [
    "В ЕВропе и США предпочтения по жанрам игр одинаковые: action( игры, чаще от первого лица, требующие прохождения множества уровней до битвы с боссом), shooter(стрелялка, также чаще от первого лица, требующая внимания, координации), sports(имитация различных спортивных игр или соревнований), role-playing(ролевые игры), racing(гонки) и misc(игры, которые не определены по классификации).\n",
    "А в Японии лидирующие жанры - другие: role-playing(ролевые игры), action, misc(игры, которые не определены по классификации), fighting(поединки), shooter."
   ]
  },
  {
   "cell_type": "markdown",
   "metadata": {},
   "source": [
    "#### ТОП-5 рейтингов"
   ]
  },
  {
   "cell_type": "code",
   "execution_count": 32,
   "metadata": {},
   "outputs": [
    {
     "data": {
      "image/png": "[encoded data removed]",
      "text/plain": [
       "<Figure size 432x288 with 1 Axes>"
      ]
     },
     "metadata": {
      "needs_background": "light"
     },
     "output_type": "display_data"
    },
    {
     "data": {
      "text/html": [
       "<div>\n",
       "<style scoped>\n",
       "    .dataframe tbody tr th:only-of-type {\n",
       "        vertical-align: middle;\n",
       "    }\n",
       "\n",
       "    .dataframe tbody tr th {\n",
       "        vertical-align: top;\n",
       "    }\n",
       "\n",
       "    .dataframe thead th {\n",
       "        text-align: right;\n",
       "    }\n",
       "</style>\n",
       "<table border=\"1\" class=\"dataframe\">\n",
       "  <thead>\n",
       "    <tr style=\"text-align: right;\">\n",
       "      <th></th>\n",
       "      <th>eu_sales</th>\n",
       "    </tr>\n",
       "    <tr>\n",
       "      <th>rating</th>\n",
       "      <th></th>\n",
       "    </tr>\n",
       "  </thead>\n",
       "  <tbody>\n",
       "    <tr>\n",
       "      <th>M</th>\n",
       "      <td>145.32</td>\n",
       "    </tr>\n",
       "    <tr>\n",
       "      <th>E</th>\n",
       "      <td>83.36</td>\n",
       "    </tr>\n",
       "    <tr>\n",
       "      <th>no</th>\n",
       "      <td>78.91</td>\n",
       "    </tr>\n",
       "    <tr>\n",
       "      <th>E10+</th>\n",
       "      <td>42.69</td>\n",
       "    </tr>\n",
       "    <tr>\n",
       "      <th>T</th>\n",
       "      <td>41.95</td>\n",
       "    </tr>\n",
       "  </tbody>\n",
       "</table>\n",
       "</div>"
      ],
      "text/plain": [
       "        eu_sales\n",
       "rating          \n",
       "M         145.32\n",
       "E          83.36\n",
       "no         78.91\n",
       "E10+       42.69\n",
       "T          41.95"
      ]
     },
     "metadata": {},
     "output_type": "display_data"
    },
    {
     "data": {
      "text/html": [
       "<div>\n",
       "<style scoped>\n",
       "    .dataframe tbody tr th:only-of-type {\n",
       "        vertical-align: middle;\n",
       "    }\n",
       "\n",
       "    .dataframe tbody tr th {\n",
       "        vertical-align: top;\n",
       "    }\n",
       "\n",
       "    .dataframe thead th {\n",
       "        text-align: right;\n",
       "    }\n",
       "</style>\n",
       "<table border=\"1\" class=\"dataframe\">\n",
       "  <thead>\n",
       "    <tr style=\"text-align: right;\">\n",
       "      <th></th>\n",
       "      <th>jp_sales</th>\n",
       "    </tr>\n",
       "    <tr>\n",
       "      <th>rating</th>\n",
       "      <th></th>\n",
       "    </tr>\n",
       "  </thead>\n",
       "  <tbody>\n",
       "    <tr>\n",
       "      <th>no</th>\n",
       "      <td>85.05</td>\n",
       "    </tr>\n",
       "    <tr>\n",
       "      <th>T</th>\n",
       "      <td>20.59</td>\n",
       "    </tr>\n",
       "    <tr>\n",
       "      <th>E</th>\n",
       "      <td>15.14</td>\n",
       "    </tr>\n",
       "    <tr>\n",
       "      <th>M</th>\n",
       "      <td>14.11</td>\n",
       "    </tr>\n",
       "    <tr>\n",
       "      <th>E10+</th>\n",
       "      <td>5.89</td>\n",
       "    </tr>\n",
       "  </tbody>\n",
       "</table>\n",
       "</div>"
      ],
      "text/plain": [
       "        jp_sales\n",
       "rating          \n",
       "no         85.05\n",
       "T          20.59\n",
       "E          15.14\n",
       "M          14.11\n",
       "E10+        5.89"
      ]
     },
     "metadata": {},
     "output_type": "display_data"
    },
    {
     "data": {
      "text/html": [
       "<div>\n",
       "<style scoped>\n",
       "    .dataframe tbody tr th:only-of-type {\n",
       "        vertical-align: middle;\n",
       "    }\n",
       "\n",
       "    .dataframe tbody tr th {\n",
       "        vertical-align: top;\n",
       "    }\n",
       "\n",
       "    .dataframe thead th {\n",
       "        text-align: right;\n",
       "    }\n",
       "</style>\n",
       "<table border=\"1\" class=\"dataframe\">\n",
       "  <thead>\n",
       "    <tr style=\"text-align: right;\">\n",
       "      <th></th>\n",
       "      <th>na_sales</th>\n",
       "    </tr>\n",
       "    <tr>\n",
       "      <th>rating</th>\n",
       "      <th></th>\n",
       "    </tr>\n",
       "  </thead>\n",
       "  <tbody>\n",
       "    <tr>\n",
       "      <th>M</th>\n",
       "      <td>165.21</td>\n",
       "    </tr>\n",
       "    <tr>\n",
       "      <th>no</th>\n",
       "      <td>89.42</td>\n",
       "    </tr>\n",
       "    <tr>\n",
       "      <th>E</th>\n",
       "      <td>79.05</td>\n",
       "    </tr>\n",
       "    <tr>\n",
       "      <th>E10+</th>\n",
       "      <td>54.24</td>\n",
       "    </tr>\n",
       "    <tr>\n",
       "      <th>T</th>\n",
       "      <td>49.79</td>\n",
       "    </tr>\n",
       "  </tbody>\n",
       "</table>\n",
       "</div>"
      ],
      "text/plain": [
       "        na_sales\n",
       "rating          \n",
       "M         165.21\n",
       "no         89.42\n",
       "E          79.05\n",
       "E10+       54.24\n",
       "T          49.79"
      ]
     },
     "metadata": {},
     "output_type": "display_data"
    },
    {
     "data": {
      "text/plain": [
       "<AxesSubplot:title={'center':'Рейтинг в регионах'}, xlabel='rating', ylabel='Количество продаж'>"
      ]
     },
     "execution_count": 32,
     "metadata": {},
     "output_type": "execute_result"
    },
    {
     "data": {
      "image/png": "[encoded data removed]",
      "text/plain": [
       "<Figure size 432x288 with 3 Axes>"
      ]
     },
     "metadata": {
      "needs_background": "light"
     },
     "output_type": "display_data"
    }
   ],
   "source": [
    "top_genre_region = actual.pivot_table(index='rating', values = ['na_sales','jp_sales','eu_sales'], aggfunc='sum')\n",
    "top_genre_region.plot.bar(stacked=True)\n",
    "plt.title(\"Рейтинг в регионах\")\n",
    "plt.xlabel(\"рейтинг\")\n",
    "plt.ylabel(\"Количество продаж\")\n",
    "plt.show()\n",
    "\n",
    "top5_genre_eu=actual.groupby(by='rating').agg({'eu_sales':'sum'}).sort_values(by='eu_sales', ascending=False).head(5)\n",
    "top5_genre_jp=actual.groupby(by='rating').agg({'jp_sales':'sum'}).sort_values(by='jp_sales', ascending=False).head(5)\n",
    "top5_genre_na=actual.groupby(by='rating').agg({'na_sales':'sum'}).sort_values(by='na_sales', ascending=False).head(5)\n",
    "display(top5_genre_eu, top5_genre_jp, top5_genre_na)\n",
    "\n",
    "fig, axes = plt.subplots(1, 3)\n",
    "plt.title(\"Рейтинг в регионах\")\n",
    "plt.ylabel(\"Количество продаж\")\n",
    "top5_genre_eu.plot.bar(ax=axes[0], color='b')\n",
    "top5_genre_jp.plot.bar(ax=axes[1], color='r')\n",
    "top5_genre_na.plot.bar(ax=axes[2], color='g')"
   ]
  },
  {
   "cell_type": "markdown",
   "metadata": {},
   "source": [
    "В Европе топ-рейтинг: М (для взрослых), Е (для всех), no (игры без рейтинга), Е10+ (для лиц старше 10 лет), Т (для подростков).\n",
    "В Америке топ-рейтинг:  М (для взрослых), no (игры без рейтинга), Е (для всех), Е10+ (для лиц старше 10 лет), Т (для подростков).\n",
    "В Японии на первом месте с существенным отрывом игры без рейтинга. Возможно это связано с тем, что агентство Entertainment Software Rating Board (ESRB) действует в США и Канаде. Скорее всего в Японии своя организация, которая определяет рейтинги видеоигр."
   ]
  },
  {
   "cell_type": "markdown",
   "metadata": {},
   "source": [
    "ИТак. Среднестатистический пользователь Европы играет на PS4 в Action игры для взрослых.\n",
    "Среднестатистический пользователь в Японии играет на 3DS в role-playing игры без определенного рейтинга ESRB.\n",
    "Среднестатистический пользователь в США играет на PS4 в action игры для взрослых."
   ]
  },
  {
   "cell_type": "markdown",
   "metadata": {},
   "source": [
    "### Проверка гипотез\n"
   ]
  },
  {
   "cell_type": "markdown",
   "metadata": {},
   "source": [
    "Проверим гипотезу:\"Средние пользовательские рейтинги платформ Xbox One и PC одинаковые\".\n",
    "Сформулируем нулевую и анльтернативную гипотезы:\n",
    "\n",
    "Н0: Средний пользовательский рейтинг платформ Xbox One и PC одинаковый\n",
    "H1: Средний пользовательский рейтинг платформ Xbox One и PC отличается"
   ]
  },
  {
   "cell_type": "code",
   "execution_count": 33,
   "metadata": {
    "scrolled": true
   },
   "outputs": [
    {
     "data": {
      "text/plain": [
       "'дисперсии:'"
      ]
     },
     "metadata": {},
     "output_type": "display_data"
    },
    {
     "data": {
      "text/plain": [
       "0.21117175955065698"
      ]
     },
     "metadata": {},
     "output_type": "display_data"
    },
    {
     "data": {
      "text/plain": [
       "0.27700813763090737"
      ]
     },
     "metadata": {},
     "output_type": "display_data"
    },
    {
     "data": {
      "text/plain": [
       "'p-значение:'"
      ]
     },
     "metadata": {},
     "output_type": "display_data"
    },
    {
     "data": {
      "text/plain": [
       "0.14012658403611647"
      ]
     },
     "metadata": {},
     "output_type": "display_data"
    },
    {
     "data": {
      "text/plain": [
       "'Не получилось отвергнуть нулевую гипотезу'"
      ]
     },
     "metadata": {},
     "output_type": "display_data"
    }
   ],
   "source": [
    "xbox = actual[(actual['platform'] == 'XOne')&(actual['user_score'] > 0)]['user_score']\n",
    "pc = actual[(actual['platform'] == 'PC')&(actual['user_score'] > 0)]['user_score']\n",
    "\n",
    "alpha= 0.05\n",
    "display('дисперсии:',st.variation(xbox), st.variation(pc))\n",
    "\n",
    "results = st.ttest_ind(xbox, pc)\n",
    "\n",
    "display('p-значение:', results.pvalue)\n",
    "\n",
    "if (results.pvalue < alpha):\n",
    "    display(\"Отвергаем нулевую гипотезу\")\n",
    "else:\n",
    "    display(\"Не получилось отвергнуть нулевую гипотезу\")"
   ]
  },
  {
   "cell_type": "markdown",
   "metadata": {},
   "source": [
    "\n",
    "Р-значение 0,14 означает, что есть 14% (вероятность в процентах), что результат обусловлен случайностью — что не соответствует действительности.\n",
    "Таким образом, средний пользовательский рейтинг  Xbox One и PC статистически не отличается."
   ]
  },
  {
   "cell_type": "markdown",
   "metadata": {},
   "source": [
    "Проверим гипотезу: \"Средние пользовательские рейтинги жанров Action (англ. «действие», экшен-игры) и Sports (англ. «спортивные соревнования») разные.\" \n",
    "Сформулируем нулевую и анльтернативную гипотезы:\n",
    "H0: Средние пользовательские рейтинги жанров Action и Sports равны\n",
    "H1: Средние пользовательские рейтинги жанров Action и Sports различаются."
   ]
  },
  {
   "cell_type": "code",
   "execution_count": 34,
   "metadata": {},
   "outputs": [
    {
     "data": {
      "text/plain": [
       "'дисперсии'"
      ]
     },
     "metadata": {},
     "output_type": "display_data"
    },
    {
     "data": {
      "text/plain": [
       "0.19428975257918113"
      ]
     },
     "metadata": {},
     "output_type": "display_data"
    },
    {
     "data": {
      "text/plain": [
       "0.33940490551700886"
      ]
     },
     "metadata": {},
     "output_type": "display_data"
    },
    {
     "data": {
      "text/plain": [
       "'p-значение:'"
      ]
     },
     "metadata": {},
     "output_type": "display_data"
    },
    {
     "data": {
      "text/plain": [
       "0.14759594013430463"
      ]
     },
     "metadata": {},
     "output_type": "display_data"
    },
    {
     "data": {
      "text/plain": [
       "'Не получилось отвергнуть нулевую гипотезу'"
      ]
     },
     "metadata": {},
     "output_type": "display_data"
    }
   ],
   "source": [
    "action = actual[(actual['genre'] == 'action')&(actual['user_score'] > 0)]['user_score']\n",
    "sport = actual[(actual['genre'] == 'sports')&(actual['user_score'] > 0)]['user_score']\n",
    "\n",
    "alpha= 0.05\n",
    "display('дисперсии',st.variation(action), st.variation(sport))\n",
    "results2 = st.ttest_ind(xbox, pc,equal_var=False)\n",
    "\n",
    "display('p-значение:', results2.pvalue)\n",
    "\n",
    "if (results2.pvalue < alpha):\n",
    "    display(\"Отвергаем нулевую гипотезу\")\n",
    "else:\n",
    "    display(\"Не получилось отвергнуть нулевую гипотезу\")"
   ]
  },
  {
   "cell_type": "markdown",
   "metadata": {},
   "source": [
    "Статистически значимой разницы в пользовательских рейтинга жанров Action и Sport - нет."
   ]
  },
  {
   "cell_type": "markdown",
   "metadata": {},
   "source": [
    "## Вывод\n"
   ]
  },
  {
   "cell_type": "markdown",
   "metadata": {},
   "source": [
    "Люди будут играть в игры всегда. Но до 1993 года рынок технологичных игр слабо развивался, по всей видимости, это было связано с небольшим количеством персональных компьютеров и игровых консолей. НО дальше начался бурный рост, который связан с технологическими прорывами в производстве компьютеров и консолей. Игры становятся красивее и сложнее. Количество продаж их растет. Но мировой финансовый кризис сказался и на рынке продаж компьютерных игр.\n",
    "Мы выявили, что \"средний срок жизни\"- срок активных продаж игровой приставки составляет около 10 лет. Пик продаж приходится на 5 лет.\n",
    "Оценка пользователей слабо влияют на продажи, а вот к оценкам критиков новые покупатели уже прислушиваются.\n",
    "Лучше всего из всех консолей за время исследований продавалась PS2 в период 2000-2008 года. Но судя по данным, в Европе предпочитают играть на PS, в США - Xbox, в Японии - DS. Каждый регион играет на той консоли, которую и выпускает.\n",
    "Наиболее популярны игры в жанре action, если смотреть в общем по миру. Но в каждом регионе свои предпочтения. В Японии, например, на первое место по продажам выходят role-playing.\n",
    "Поэтому строить прогнозы на будущий год необходимо для каждого региона отдельно.\n",
    "Для Европы - наиболее продаваемыми будут игры для PS4 жанра action, shooter, рейтинга М (для взрослых) и Е,\n",
    "для Японии - игры для 3DS жанра role-playing, action, misc,\n",
    "для США - игры для PS4 жанра action, shooter, sports, рейтинг Е(для всех) и М.\n"
   ]
  }
 ],
 "metadata": {
  "ExecuteTimeLog": [
   {
    "duration": 843,
    "start_time": "2022-10-10T15:49:42.794Z"
   },
   {
    "duration": 189,
    "start_time": "2022-10-10T15:50:43.218Z"
   },
   {
    "duration": 37,
    "start_time": "2022-10-10T15:51:41.941Z"
   },
   {
    "duration": 29,
    "start_time": "2022-10-10T16:01:33.323Z"
   },
   {
    "duration": 15,
    "start_time": "2022-10-10T16:03:44.620Z"
   },
   {
    "duration": 507,
    "start_time": "2022-10-10T16:08:58.276Z"
   },
   {
    "duration": 49,
    "start_time": "2022-10-10T16:08:59.808Z"
   },
   {
    "duration": 26,
    "start_time": "2022-10-10T16:09:01.964Z"
   },
   {
    "duration": 14,
    "start_time": "2022-10-10T16:09:04.790Z"
   },
   {
    "duration": 96,
    "start_time": "2022-10-10T16:16:29.501Z"
   },
   {
    "duration": 3,
    "start_time": "2022-10-10T16:17:13.569Z"
   },
   {
    "duration": 1121,
    "start_time": "2022-10-10T16:18:45.467Z"
   },
   {
    "duration": 57,
    "start_time": "2022-10-10T16:18:46.590Z"
   },
   {
    "duration": 38,
    "start_time": "2022-10-10T16:18:46.649Z"
   },
   {
    "duration": 19,
    "start_time": "2022-10-10T16:18:46.689Z"
   },
   {
    "duration": 113,
    "start_time": "2022-10-10T16:18:46.710Z"
   },
   {
    "duration": 13,
    "start_time": "2022-10-10T16:19:43.361Z"
   },
   {
    "duration": 15,
    "start_time": "2022-10-10T16:27:04.497Z"
   },
   {
    "duration": 1241,
    "start_time": "2022-10-11T06:05:24.645Z"
   },
   {
    "duration": 92,
    "start_time": "2022-10-11T06:05:25.888Z"
   },
   {
    "duration": 29,
    "start_time": "2022-10-11T06:05:25.982Z"
   },
   {
    "duration": 13,
    "start_time": "2022-10-11T06:05:26.012Z"
   },
   {
    "duration": 12,
    "start_time": "2022-10-11T06:05:26.027Z"
   },
   {
    "duration": 17,
    "start_time": "2022-10-11T06:05:26.041Z"
   },
   {
    "duration": 87,
    "start_time": "2022-10-11T06:05:26.060Z"
   },
   {
    "duration": 45,
    "start_time": "2022-10-11T06:12:23.294Z"
   },
   {
    "duration": 4,
    "start_time": "2022-10-11T06:12:32.619Z"
   },
   {
    "duration": 4,
    "start_time": "2022-10-11T06:15:13.031Z"
   },
   {
    "duration": 810,
    "start_time": "2022-10-11T06:15:18.828Z"
   },
   {
    "duration": 11,
    "start_time": "2022-10-11T06:15:52.429Z"
   },
   {
    "duration": 3,
    "start_time": "2022-10-11T06:16:36.444Z"
   },
   {
    "duration": 11,
    "start_time": "2022-10-11T06:16:45.115Z"
   },
   {
    "duration": 5,
    "start_time": "2022-10-11T06:19:12.190Z"
   },
   {
    "duration": 12,
    "start_time": "2022-10-11T06:23:21.145Z"
   },
   {
    "duration": 12,
    "start_time": "2022-10-11T06:25:10.857Z"
   },
   {
    "duration": 11,
    "start_time": "2022-10-11T06:25:19.808Z"
   },
   {
    "duration": 1040,
    "start_time": "2022-10-11T06:25:35.641Z"
   },
   {
    "duration": 52,
    "start_time": "2022-10-11T06:25:36.683Z"
   },
   {
    "duration": 34,
    "start_time": "2022-10-11T06:25:36.737Z"
   },
   {
    "duration": 14,
    "start_time": "2022-10-11T06:25:36.773Z"
   },
   {
    "duration": 27,
    "start_time": "2022-10-11T06:25:36.800Z"
   },
   {
    "duration": 26,
    "start_time": "2022-10-11T06:25:36.829Z"
   },
   {
    "duration": 128,
    "start_time": "2022-10-11T06:25:36.856Z"
   },
   {
    "duration": 0,
    "start_time": "2022-10-11T06:25:36.986Z"
   },
   {
    "duration": 1120,
    "start_time": "2022-10-11T06:26:40.271Z"
   },
   {
    "duration": 56,
    "start_time": "2022-10-11T06:26:41.393Z"
   },
   {
    "duration": 33,
    "start_time": "2022-10-11T06:26:41.451Z"
   },
   {
    "duration": 13,
    "start_time": "2022-10-11T06:26:41.486Z"
   },
   {
    "duration": 12,
    "start_time": "2022-10-11T06:26:41.502Z"
   },
   {
    "duration": 15,
    "start_time": "2022-10-11T06:26:41.515Z"
   },
   {
    "duration": 132,
    "start_time": "2022-10-11T06:26:41.532Z"
   },
   {
    "duration": 0,
    "start_time": "2022-10-11T06:26:41.666Z"
   },
   {
    "duration": 9,
    "start_time": "2022-10-11T06:28:46.600Z"
   },
   {
    "duration": 11,
    "start_time": "2022-10-11T06:29:04.104Z"
   },
   {
    "duration": 13,
    "start_time": "2022-10-11T06:31:05.946Z"
   },
   {
    "duration": 1001,
    "start_time": "2022-10-11T06:31:15.661Z"
   },
   {
    "duration": 50,
    "start_time": "2022-10-11T06:31:16.663Z"
   },
   {
    "duration": 28,
    "start_time": "2022-10-11T06:31:16.715Z"
   },
   {
    "duration": 13,
    "start_time": "2022-10-11T06:31:16.745Z"
   },
   {
    "duration": 14,
    "start_time": "2022-10-11T06:31:16.759Z"
   },
   {
    "duration": 26,
    "start_time": "2022-10-11T06:31:16.774Z"
   },
   {
    "duration": 86,
    "start_time": "2022-10-11T06:31:16.802Z"
   },
   {
    "duration": 0,
    "start_time": "2022-10-11T06:31:16.889Z"
   },
   {
    "duration": 9,
    "start_time": "2022-10-11T06:32:15.035Z"
   },
   {
    "duration": 8,
    "start_time": "2022-10-11T06:34:38.859Z"
   },
   {
    "duration": 8,
    "start_time": "2022-10-11T06:35:43.198Z"
   },
   {
    "duration": 1029,
    "start_time": "2022-10-11T06:41:39.241Z"
   },
   {
    "duration": 49,
    "start_time": "2022-10-11T06:41:40.272Z"
   },
   {
    "duration": 28,
    "start_time": "2022-10-11T06:41:40.323Z"
   },
   {
    "duration": 12,
    "start_time": "2022-10-11T06:41:40.353Z"
   },
   {
    "duration": 35,
    "start_time": "2022-10-11T06:41:40.366Z"
   },
   {
    "duration": 7,
    "start_time": "2022-10-11T06:41:40.402Z"
   },
   {
    "duration": 100,
    "start_time": "2022-10-11T06:41:40.410Z"
   },
   {
    "duration": 0,
    "start_time": "2022-10-11T06:41:40.512Z"
   },
   {
    "duration": 11,
    "start_time": "2022-10-11T06:43:17.024Z"
   },
   {
    "duration": 1073,
    "start_time": "2022-10-11T06:43:49.611Z"
   },
   {
    "duration": 52,
    "start_time": "2022-10-11T06:43:50.686Z"
   },
   {
    "duration": 28,
    "start_time": "2022-10-11T06:43:50.739Z"
   },
   {
    "duration": 12,
    "start_time": "2022-10-11T06:43:50.769Z"
   },
   {
    "duration": 21,
    "start_time": "2022-10-11T06:43:50.783Z"
   },
   {
    "duration": 7,
    "start_time": "2022-10-11T06:43:50.806Z"
   },
   {
    "duration": 104,
    "start_time": "2022-10-11T06:43:50.814Z"
   },
   {
    "duration": 0,
    "start_time": "2022-10-11T06:43:50.919Z"
   },
   {
    "duration": 9,
    "start_time": "2022-10-11T06:44:37.295Z"
   },
   {
    "duration": 1023,
    "start_time": "2022-10-11T06:44:46.840Z"
   },
   {
    "duration": 50,
    "start_time": "2022-10-11T06:44:47.865Z"
   },
   {
    "duration": 29,
    "start_time": "2022-10-11T06:44:47.916Z"
   },
   {
    "duration": 14,
    "start_time": "2022-10-11T06:44:47.946Z"
   },
   {
    "duration": 39,
    "start_time": "2022-10-11T06:44:47.962Z"
   },
   {
    "duration": 8,
    "start_time": "2022-10-11T06:44:48.002Z"
   },
   {
    "duration": 113,
    "start_time": "2022-10-11T06:44:48.011Z"
   },
   {
    "duration": 0,
    "start_time": "2022-10-11T06:44:48.126Z"
   },
   {
    "duration": 3,
    "start_time": "2022-10-11T06:45:21.649Z"
   },
   {
    "duration": 49,
    "start_time": "2022-10-11T06:45:22.962Z"
   },
   {
    "duration": 26,
    "start_time": "2022-10-11T06:45:24.106Z"
   },
   {
    "duration": 16,
    "start_time": "2022-10-11T06:45:25.315Z"
   },
   {
    "duration": 14,
    "start_time": "2022-10-11T06:45:29.297Z"
   },
   {
    "duration": 7,
    "start_time": "2022-10-11T06:45:32.078Z"
   },
   {
    "duration": 11,
    "start_time": "2022-10-11T06:45:33.601Z"
   },
   {
    "duration": 10,
    "start_time": "2022-10-11T06:45:36.929Z"
   },
   {
    "duration": 9,
    "start_time": "2022-10-11T06:46:17.829Z"
   },
   {
    "duration": 1072,
    "start_time": "2022-10-11T06:46:27.513Z"
   },
   {
    "duration": 51,
    "start_time": "2022-10-11T06:46:28.587Z"
   },
   {
    "duration": 31,
    "start_time": "2022-10-11T06:46:28.640Z"
   },
   {
    "duration": 14,
    "start_time": "2022-10-11T06:46:28.673Z"
   },
   {
    "duration": 23,
    "start_time": "2022-10-11T06:46:28.690Z"
   },
   {
    "duration": 9,
    "start_time": "2022-10-11T06:46:28.715Z"
   },
   {
    "duration": 101,
    "start_time": "2022-10-11T06:46:28.726Z"
   },
   {
    "duration": 0,
    "start_time": "2022-10-11T06:46:28.830Z"
   },
   {
    "duration": 1086,
    "start_time": "2022-10-11T06:46:53.304Z"
   },
   {
    "duration": 57,
    "start_time": "2022-10-11T06:46:54.392Z"
   },
   {
    "duration": 36,
    "start_time": "2022-10-11T06:46:54.453Z"
   },
   {
    "duration": 18,
    "start_time": "2022-10-11T06:46:54.490Z"
   },
   {
    "duration": 27,
    "start_time": "2022-10-11T06:46:54.510Z"
   },
   {
    "duration": 17,
    "start_time": "2022-10-11T06:46:54.538Z"
   },
   {
    "duration": 102,
    "start_time": "2022-10-11T06:46:54.557Z"
   },
   {
    "duration": 0,
    "start_time": "2022-10-11T06:46:54.660Z"
   },
   {
    "duration": 1067,
    "start_time": "2022-10-11T06:47:22.604Z"
   },
   {
    "duration": 49,
    "start_time": "2022-10-11T06:47:23.673Z"
   },
   {
    "duration": 27,
    "start_time": "2022-10-11T06:47:23.723Z"
   },
   {
    "duration": 13,
    "start_time": "2022-10-11T06:47:23.752Z"
   },
   {
    "duration": 34,
    "start_time": "2022-10-11T06:47:23.767Z"
   },
   {
    "duration": 8,
    "start_time": "2022-10-11T06:47:23.802Z"
   },
   {
    "duration": 99,
    "start_time": "2022-10-11T06:47:23.812Z"
   },
   {
    "duration": 0,
    "start_time": "2022-10-11T06:47:23.912Z"
   },
   {
    "duration": 8,
    "start_time": "2022-10-11T06:47:58.795Z"
   },
   {
    "duration": 7,
    "start_time": "2022-10-11T06:49:23.233Z"
   },
   {
    "duration": 1033,
    "start_time": "2022-10-11T06:52:22.834Z"
   },
   {
    "duration": 49,
    "start_time": "2022-10-11T06:52:23.869Z"
   },
   {
    "duration": 28,
    "start_time": "2022-10-11T06:52:23.919Z"
   },
   {
    "duration": 12,
    "start_time": "2022-10-11T06:52:23.948Z"
   },
   {
    "duration": 4,
    "start_time": "2022-10-11T06:52:23.962Z"
   },
   {
    "duration": 16,
    "start_time": "2022-10-11T06:52:23.967Z"
   },
   {
    "duration": 108,
    "start_time": "2022-10-11T06:52:23.984Z"
   },
   {
    "duration": 0,
    "start_time": "2022-10-11T06:52:24.100Z"
   },
   {
    "duration": 11,
    "start_time": "2022-10-11T06:54:07.058Z"
   },
   {
    "duration": 9,
    "start_time": "2022-10-11T06:57:19.910Z"
   },
   {
    "duration": 1077,
    "start_time": "2022-10-11T06:57:57.996Z"
   },
   {
    "duration": 50,
    "start_time": "2022-10-11T06:57:59.075Z"
   },
   {
    "duration": 32,
    "start_time": "2022-10-11T06:57:59.126Z"
   },
   {
    "duration": 14,
    "start_time": "2022-10-11T06:57:59.160Z"
   },
   {
    "duration": 27,
    "start_time": "2022-10-11T06:57:59.176Z"
   },
   {
    "duration": 106,
    "start_time": "2022-10-11T06:57:59.205Z"
   },
   {
    "duration": 0,
    "start_time": "2022-10-11T06:57:59.313Z"
   },
   {
    "duration": 0,
    "start_time": "2022-10-11T06:57:59.314Z"
   },
   {
    "duration": 0,
    "start_time": "2022-10-11T06:57:59.315Z"
   },
   {
    "duration": 9,
    "start_time": "2022-10-11T06:58:24.226Z"
   },
   {
    "duration": 5,
    "start_time": "2022-10-11T07:00:19.172Z"
   },
   {
    "duration": 5,
    "start_time": "2022-10-11T07:01:04.668Z"
   },
   {
    "duration": 12,
    "start_time": "2022-10-11T07:01:22.500Z"
   },
   {
    "duration": 12,
    "start_time": "2022-10-11T07:01:52.052Z"
   },
   {
    "duration": 12,
    "start_time": "2022-10-11T07:03:42.927Z"
   },
   {
    "duration": 1086,
    "start_time": "2022-10-11T07:03:51.901Z"
   },
   {
    "duration": 51,
    "start_time": "2022-10-11T07:03:52.990Z"
   },
   {
    "duration": 27,
    "start_time": "2022-10-11T07:03:53.043Z"
   },
   {
    "duration": 14,
    "start_time": "2022-10-11T07:03:53.072Z"
   },
   {
    "duration": 5,
    "start_time": "2022-10-11T07:03:53.088Z"
   },
   {
    "duration": 8,
    "start_time": "2022-10-11T07:03:53.101Z"
   },
   {
    "duration": 101,
    "start_time": "2022-10-11T07:03:53.110Z"
   },
   {
    "duration": 0,
    "start_time": "2022-10-11T07:03:53.212Z"
   },
   {
    "duration": 1380,
    "start_time": "2022-10-11T07:05:46.892Z"
   },
   {
    "duration": 48,
    "start_time": "2022-10-11T07:05:48.274Z"
   },
   {
    "duration": 27,
    "start_time": "2022-10-11T07:05:48.324Z"
   },
   {
    "duration": 15,
    "start_time": "2022-10-11T07:05:48.352Z"
   },
   {
    "duration": 21,
    "start_time": "2022-10-11T07:05:48.368Z"
   },
   {
    "duration": 9,
    "start_time": "2022-10-11T07:05:48.399Z"
   },
   {
    "duration": 111,
    "start_time": "2022-10-11T07:05:48.409Z"
   },
   {
    "duration": 0,
    "start_time": "2022-10-11T07:05:48.521Z"
   },
   {
    "duration": 9,
    "start_time": "2022-10-11T07:06:31.054Z"
   },
   {
    "duration": 1012,
    "start_time": "2022-10-11T07:07:06.345Z"
   },
   {
    "duration": 48,
    "start_time": "2022-10-11T07:07:07.359Z"
   },
   {
    "duration": 29,
    "start_time": "2022-10-11T07:07:07.409Z"
   },
   {
    "duration": 16,
    "start_time": "2022-10-11T07:07:07.441Z"
   },
   {
    "duration": 6,
    "start_time": "2022-10-11T07:07:07.459Z"
   },
   {
    "duration": 106,
    "start_time": "2022-10-11T07:07:07.501Z"
   },
   {
    "duration": 0,
    "start_time": "2022-10-11T07:07:07.609Z"
   },
   {
    "duration": 0,
    "start_time": "2022-10-11T07:07:07.612Z"
   },
   {
    "duration": 3,
    "start_time": "2022-10-11T07:10:13.831Z"
   },
   {
    "duration": 52,
    "start_time": "2022-10-11T07:10:14.729Z"
   },
   {
    "duration": 25,
    "start_time": "2022-10-11T07:10:15.561Z"
   },
   {
    "duration": 14,
    "start_time": "2022-10-11T07:10:16.504Z"
   },
   {
    "duration": 4,
    "start_time": "2022-10-11T07:10:20.753Z"
   },
   {
    "duration": 15,
    "start_time": "2022-10-11T07:10:23.360Z"
   },
   {
    "duration": 1082,
    "start_time": "2022-10-11T07:11:11.484Z"
   },
   {
    "duration": 48,
    "start_time": "2022-10-11T07:11:12.567Z"
   },
   {
    "duration": 28,
    "start_time": "2022-10-11T07:11:12.617Z"
   },
   {
    "duration": 12,
    "start_time": "2022-10-11T07:11:12.647Z"
   },
   {
    "duration": 5,
    "start_time": "2022-10-11T07:11:12.661Z"
   },
   {
    "duration": 49,
    "start_time": "2022-10-11T07:11:12.668Z"
   },
   {
    "duration": 0,
    "start_time": "2022-10-11T07:11:12.719Z"
   },
   {
    "duration": 0,
    "start_time": "2022-10-11T07:11:12.720Z"
   },
   {
    "duration": 112,
    "start_time": "2022-10-11T07:12:02.320Z"
   },
   {
    "duration": 75,
    "start_time": "2022-10-11T07:12:15.920Z"
   },
   {
    "duration": 48,
    "start_time": "2022-10-11T07:12:26.721Z"
   },
   {
    "duration": 3,
    "start_time": "2022-10-11T07:21:52.374Z"
   },
   {
    "duration": 50,
    "start_time": "2022-10-11T07:21:53.592Z"
   },
   {
    "duration": 23,
    "start_time": "2022-10-11T07:21:55.038Z"
   },
   {
    "duration": 13,
    "start_time": "2022-10-11T07:21:56.713Z"
   },
   {
    "duration": 5,
    "start_time": "2022-10-11T07:22:00.320Z"
   },
   {
    "duration": 66,
    "start_time": "2022-10-11T07:22:02.640Z"
   },
   {
    "duration": 62,
    "start_time": "2022-10-11T07:22:39.850Z"
   },
   {
    "duration": 19,
    "start_time": "2022-10-11T07:22:50.305Z"
   },
   {
    "duration": 5,
    "start_time": "2022-10-11T07:23:04.907Z"
   },
   {
    "duration": 98,
    "start_time": "2022-10-11T07:23:13.352Z"
   },
   {
    "duration": 26,
    "start_time": "2022-10-11T07:24:17.594Z"
   },
   {
    "duration": 12,
    "start_time": "2022-10-11T07:24:35.505Z"
   },
   {
    "duration": 29,
    "start_time": "2022-10-11T07:25:04.269Z"
   },
   {
    "duration": 16,
    "start_time": "2022-10-11T07:26:58.695Z"
   },
   {
    "duration": 13,
    "start_time": "2022-10-11T07:28:00.834Z"
   },
   {
    "duration": 874,
    "start_time": "2022-10-11T07:28:11.795Z"
   },
   {
    "duration": 27,
    "start_time": "2022-10-11T07:30:17.483Z"
   },
   {
    "duration": 54,
    "start_time": "2022-10-11T07:38:03.119Z"
   },
   {
    "duration": 25,
    "start_time": "2022-10-11T07:39:21.608Z"
   },
   {
    "duration": 8,
    "start_time": "2022-10-11T07:41:46.367Z"
   },
   {
    "duration": 15,
    "start_time": "2022-10-11T07:42:01.253Z"
   },
   {
    "duration": 39,
    "start_time": "2022-10-11T07:42:42.537Z"
   },
   {
    "duration": 15,
    "start_time": "2022-10-11T07:43:47.010Z"
   },
   {
    "duration": 39,
    "start_time": "2022-10-11T07:45:28.434Z"
   },
   {
    "duration": 29,
    "start_time": "2022-10-11T08:00:20.003Z"
   },
   {
    "duration": 45,
    "start_time": "2022-10-11T08:01:03.378Z"
   },
   {
    "duration": 12,
    "start_time": "2022-10-11T08:02:45.968Z"
   },
   {
    "duration": 17,
    "start_time": "2022-10-11T08:08:55.450Z"
   },
   {
    "duration": 7,
    "start_time": "2022-10-11T08:15:32.801Z"
   },
   {
    "duration": 6,
    "start_time": "2022-10-11T08:15:36.136Z"
   },
   {
    "duration": 25,
    "start_time": "2022-10-11T08:15:45.752Z"
   },
   {
    "duration": 5,
    "start_time": "2022-10-11T08:15:51.410Z"
   },
   {
    "duration": 29,
    "start_time": "2022-10-11T08:16:00.832Z"
   },
   {
    "duration": 1028,
    "start_time": "2022-10-11T08:16:45.538Z"
   },
   {
    "duration": 48,
    "start_time": "2022-10-11T08:16:46.568Z"
   },
   {
    "duration": 29,
    "start_time": "2022-10-11T08:16:46.619Z"
   },
   {
    "duration": 15,
    "start_time": "2022-10-11T08:16:46.650Z"
   },
   {
    "duration": 7,
    "start_time": "2022-10-11T08:16:46.700Z"
   },
   {
    "duration": 13,
    "start_time": "2022-10-11T08:16:46.709Z"
   },
   {
    "duration": 18,
    "start_time": "2022-10-11T08:16:46.724Z"
   },
   {
    "duration": 4,
    "start_time": "2022-10-11T08:16:46.744Z"
   },
   {
    "duration": 53,
    "start_time": "2022-10-11T08:16:46.750Z"
   },
   {
    "duration": 53,
    "start_time": "2022-10-11T08:16:46.805Z"
   },
   {
    "duration": 12,
    "start_time": "2022-10-11T08:16:46.860Z"
   },
   {
    "duration": 35,
    "start_time": "2022-10-11T08:16:46.874Z"
   },
   {
    "duration": 110,
    "start_time": "2022-10-11T08:22:54.035Z"
   },
   {
    "duration": 26,
    "start_time": "2022-10-11T08:23:19.371Z"
   },
   {
    "duration": 243,
    "start_time": "2022-10-11T08:23:32.307Z"
   },
   {
    "duration": 194,
    "start_time": "2022-10-11T08:23:58.326Z"
   },
   {
    "duration": 163,
    "start_time": "2022-10-11T08:26:01.227Z"
   },
   {
    "duration": 296,
    "start_time": "2022-10-11T08:34:30.348Z"
   },
   {
    "duration": 333,
    "start_time": "2022-10-11T08:34:45.369Z"
   },
   {
    "duration": 876,
    "start_time": "2022-10-11T08:37:47.729Z"
   },
   {
    "duration": 305,
    "start_time": "2022-10-11T08:44:30.638Z"
   },
   {
    "duration": 22,
    "start_time": "2022-10-11T08:51:17.610Z"
   },
   {
    "duration": 242,
    "start_time": "2022-10-11T08:51:31.546Z"
   },
   {
    "duration": 689,
    "start_time": "2022-10-11T08:53:43.555Z"
   },
   {
    "duration": 257,
    "start_time": "2022-10-11T08:56:53.294Z"
   },
   {
    "duration": 259,
    "start_time": "2022-10-11T08:57:30.502Z"
   },
   {
    "duration": 240,
    "start_time": "2022-10-11T08:58:22.378Z"
   },
   {
    "duration": 232,
    "start_time": "2022-10-11T08:58:38.255Z"
   },
   {
    "duration": 19,
    "start_time": "2022-10-11T09:07:45.628Z"
   },
   {
    "duration": 4,
    "start_time": "2022-10-11T09:16:56.684Z"
   },
   {
    "duration": 318,
    "start_time": "2022-10-11T09:19:53.443Z"
   },
   {
    "duration": 402,
    "start_time": "2022-10-11T09:20:10.819Z"
   },
   {
    "duration": 343,
    "start_time": "2022-10-11T09:22:47.868Z"
   },
   {
    "duration": 333,
    "start_time": "2022-10-11T09:27:41.321Z"
   },
   {
    "duration": 1305,
    "start_time": "2022-10-12T06:35:49.272Z"
   },
   {
    "duration": 115,
    "start_time": "2022-10-12T06:35:50.579Z"
   },
   {
    "duration": 34,
    "start_time": "2022-10-12T06:35:50.696Z"
   },
   {
    "duration": 22,
    "start_time": "2022-10-12T06:35:50.732Z"
   },
   {
    "duration": 9,
    "start_time": "2022-10-12T06:35:50.756Z"
   },
   {
    "duration": 16,
    "start_time": "2022-10-12T06:35:50.767Z"
   },
   {
    "duration": 27,
    "start_time": "2022-10-12T06:35:50.784Z"
   },
   {
    "duration": 6,
    "start_time": "2022-10-12T06:35:50.813Z"
   },
   {
    "duration": 45,
    "start_time": "2022-10-12T06:35:50.820Z"
   },
   {
    "duration": 53,
    "start_time": "2022-10-12T06:35:50.866Z"
   },
   {
    "duration": 37,
    "start_time": "2022-10-12T06:35:50.921Z"
   },
   {
    "duration": 17,
    "start_time": "2022-10-12T06:35:50.960Z"
   },
   {
    "duration": 217,
    "start_time": "2022-10-12T06:35:50.979Z"
   },
   {
    "duration": 373,
    "start_time": "2022-10-12T06:35:51.198Z"
   },
   {
    "duration": 363,
    "start_time": "2022-10-12T06:35:51.574Z"
   },
   {
    "duration": 22,
    "start_time": "2022-10-12T06:35:51.939Z"
   },
   {
    "duration": 5,
    "start_time": "2022-10-12T06:35:51.964Z"
   },
   {
    "duration": 383,
    "start_time": "2022-10-12T06:35:51.971Z"
   },
   {
    "duration": 492,
    "start_time": "2022-10-12T06:37:03.912Z"
   },
   {
    "duration": 449,
    "start_time": "2022-10-12T06:37:12.985Z"
   },
   {
    "duration": 382,
    "start_time": "2022-10-12T06:37:54.586Z"
   },
   {
    "duration": 489,
    "start_time": "2022-10-12T06:39:19.190Z"
   },
   {
    "duration": 393,
    "start_time": "2022-10-12T06:39:34.654Z"
   },
   {
    "duration": 362,
    "start_time": "2022-10-12T06:45:55.173Z"
   },
   {
    "duration": 349,
    "start_time": "2022-10-12T06:46:04.836Z"
   },
   {
    "duration": 340,
    "start_time": "2022-10-12T06:46:32.869Z"
   },
   {
    "duration": 326,
    "start_time": "2022-10-12T06:46:50.341Z"
   },
   {
    "duration": 11,
    "start_time": "2022-10-12T07:13:08.144Z"
   },
   {
    "duration": 13,
    "start_time": "2022-10-12T07:21:23.860Z"
   },
   {
    "duration": 12,
    "start_time": "2022-10-12T07:21:33.042Z"
   },
   {
    "duration": 13,
    "start_time": "2022-10-12T07:21:49.811Z"
   },
   {
    "duration": 11,
    "start_time": "2022-10-12T07:21:54.163Z"
   },
   {
    "duration": 67,
    "start_time": "2022-10-12T07:22:01.387Z"
   },
   {
    "duration": 12,
    "start_time": "2022-10-12T07:22:13.859Z"
   },
   {
    "duration": 12,
    "start_time": "2022-10-12T07:22:33.308Z"
   },
   {
    "duration": 12,
    "start_time": "2022-10-12T07:22:58.940Z"
   },
   {
    "duration": 12,
    "start_time": "2022-10-12T07:23:38.069Z"
   },
   {
    "duration": 158,
    "start_time": "2022-10-12T07:24:49.315Z"
   },
   {
    "duration": 272,
    "start_time": "2022-10-12T07:25:06.749Z"
   },
   {
    "duration": 169,
    "start_time": "2022-10-12T07:25:57.181Z"
   },
   {
    "duration": 162,
    "start_time": "2022-10-12T07:26:06.982Z"
   },
   {
    "duration": 179,
    "start_time": "2022-10-12T07:27:02.552Z"
   },
   {
    "duration": 334,
    "start_time": "2022-10-12T07:27:41.797Z"
   },
   {
    "duration": 5,
    "start_time": "2022-10-12T07:36:35.189Z"
   },
   {
    "duration": 3121,
    "start_time": "2022-10-12T07:37:27.042Z"
   },
   {
    "duration": 3551,
    "start_time": "2022-10-12T07:38:26.636Z"
   },
   {
    "duration": 11,
    "start_time": "2022-10-12T07:39:04.739Z"
   },
   {
    "duration": 11,
    "start_time": "2022-10-12T07:39:59.181Z"
   },
   {
    "duration": 319,
    "start_time": "2022-10-12T07:40:07.444Z"
   },
   {
    "duration": 276,
    "start_time": "2022-10-12T07:42:02.149Z"
   },
   {
    "duration": 3542,
    "start_time": "2022-10-12T07:42:42.820Z"
   },
   {
    "duration": 3748,
    "start_time": "2022-10-12T07:42:58.928Z"
   },
   {
    "duration": 1278,
    "start_time": "2022-10-12T07:44:19.767Z"
   },
   {
    "duration": 57,
    "start_time": "2022-10-12T07:44:21.047Z"
   },
   {
    "duration": 40,
    "start_time": "2022-10-12T07:44:21.106Z"
   },
   {
    "duration": 21,
    "start_time": "2022-10-12T07:44:21.148Z"
   },
   {
    "duration": 35,
    "start_time": "2022-10-12T07:44:21.171Z"
   },
   {
    "duration": 9,
    "start_time": "2022-10-12T07:44:21.208Z"
   },
   {
    "duration": 27,
    "start_time": "2022-10-12T07:44:21.219Z"
   },
   {
    "duration": 5,
    "start_time": "2022-10-12T07:44:21.248Z"
   },
   {
    "duration": 52,
    "start_time": "2022-10-12T07:44:21.254Z"
   },
   {
    "duration": 64,
    "start_time": "2022-10-12T07:44:21.309Z"
   },
   {
    "duration": 21,
    "start_time": "2022-10-12T07:44:21.376Z"
   },
   {
    "duration": 20,
    "start_time": "2022-10-12T07:44:21.399Z"
   },
   {
    "duration": 327,
    "start_time": "2022-10-12T07:44:21.421Z"
   },
   {
    "duration": 421,
    "start_time": "2022-10-12T07:44:21.753Z"
   },
   {
    "duration": 336,
    "start_time": "2022-10-12T07:44:22.177Z"
   },
   {
    "duration": 22,
    "start_time": "2022-10-12T07:44:22.515Z"
   },
   {
    "duration": 53,
    "start_time": "2022-10-12T07:44:22.539Z"
   },
   {
    "duration": 489,
    "start_time": "2022-10-12T07:44:22.594Z"
   },
   {
    "duration": 399,
    "start_time": "2022-10-12T07:44:23.086Z"
   },
   {
    "duration": 390,
    "start_time": "2022-10-12T07:44:23.488Z"
   },
   {
    "duration": 5,
    "start_time": "2022-10-12T07:44:23.881Z"
   },
   {
    "duration": 3989,
    "start_time": "2022-10-12T07:44:23.888Z"
   },
   {
    "duration": 3088,
    "start_time": "2022-10-12T07:48:52.473Z"
   },
   {
    "duration": 1118,
    "start_time": "2022-10-12T07:53:15.462Z"
   },
   {
    "duration": 54,
    "start_time": "2022-10-12T07:53:16.582Z"
   },
   {
    "duration": 34,
    "start_time": "2022-10-12T07:53:16.638Z"
   },
   {
    "duration": 21,
    "start_time": "2022-10-12T07:53:16.674Z"
   },
   {
    "duration": 8,
    "start_time": "2022-10-12T07:53:16.698Z"
   },
   {
    "duration": 16,
    "start_time": "2022-10-12T07:53:16.708Z"
   },
   {
    "duration": 41,
    "start_time": "2022-10-12T07:53:16.726Z"
   },
   {
    "duration": 5,
    "start_time": "2022-10-12T07:53:16.769Z"
   },
   {
    "duration": 37,
    "start_time": "2022-10-12T07:53:16.775Z"
   },
   {
    "duration": 83,
    "start_time": "2022-10-12T07:53:16.814Z"
   },
   {
    "duration": 17,
    "start_time": "2022-10-12T07:53:16.899Z"
   },
   {
    "duration": 51,
    "start_time": "2022-10-12T07:53:16.918Z"
   },
   {
    "duration": 241,
    "start_time": "2022-10-12T07:53:16.971Z"
   },
   {
    "duration": 364,
    "start_time": "2022-10-12T07:53:17.215Z"
   },
   {
    "duration": 391,
    "start_time": "2022-10-12T07:53:17.582Z"
   },
   {
    "duration": 24,
    "start_time": "2022-10-12T07:53:17.975Z"
   },
   {
    "duration": 5,
    "start_time": "2022-10-12T07:53:18.001Z"
   },
   {
    "duration": 478,
    "start_time": "2022-10-12T07:53:18.008Z"
   },
   {
    "duration": 358,
    "start_time": "2022-10-12T07:53:18.487Z"
   },
   {
    "duration": 374,
    "start_time": "2022-10-12T07:53:18.847Z"
   },
   {
    "duration": 5,
    "start_time": "2022-10-12T07:53:19.223Z"
   },
   {
    "duration": 690,
    "start_time": "2022-10-12T07:56:06.137Z"
   },
   {
    "duration": 473,
    "start_time": "2022-10-12T07:59:02.481Z"
   },
   {
    "duration": 616,
    "start_time": "2022-10-12T08:00:08.480Z"
   },
   {
    "duration": 637,
    "start_time": "2022-10-12T08:01:33.321Z"
   },
   {
    "duration": 289,
    "start_time": "2022-10-12T08:08:31.444Z"
   },
   {
    "duration": 207,
    "start_time": "2022-10-12T08:09:56.483Z"
   },
   {
    "duration": 195,
    "start_time": "2022-10-12T08:10:37.070Z"
   },
   {
    "duration": 300,
    "start_time": "2022-10-12T08:11:12.574Z"
   },
   {
    "duration": 1185,
    "start_time": "2022-10-12T08:11:33.190Z"
   },
   {
    "duration": 55,
    "start_time": "2022-10-12T08:11:34.377Z"
   },
   {
    "duration": 32,
    "start_time": "2022-10-12T08:11:34.433Z"
   },
   {
    "duration": 15,
    "start_time": "2022-10-12T08:11:34.467Z"
   },
   {
    "duration": 9,
    "start_time": "2022-10-12T08:11:34.484Z"
   },
   {
    "duration": 9,
    "start_time": "2022-10-12T08:11:34.494Z"
   },
   {
    "duration": 25,
    "start_time": "2022-10-12T08:11:34.504Z"
   },
   {
    "duration": 6,
    "start_time": "2022-10-12T08:11:34.553Z"
   },
   {
    "duration": 35,
    "start_time": "2022-10-12T08:11:34.560Z"
   },
   {
    "duration": 83,
    "start_time": "2022-10-12T08:11:34.597Z"
   },
   {
    "duration": 17,
    "start_time": "2022-10-12T08:11:34.682Z"
   },
   {
    "duration": 19,
    "start_time": "2022-10-12T08:11:34.701Z"
   },
   {
    "duration": 236,
    "start_time": "2022-10-12T08:11:34.721Z"
   },
   {
    "duration": 344,
    "start_time": "2022-10-12T08:11:34.960Z"
   },
   {
    "duration": 328,
    "start_time": "2022-10-12T08:11:35.305Z"
   },
   {
    "duration": 22,
    "start_time": "2022-10-12T08:11:35.635Z"
   },
   {
    "duration": 6,
    "start_time": "2022-10-12T08:11:35.659Z"
   },
   {
    "duration": 411,
    "start_time": "2022-10-12T08:11:35.666Z"
   },
   {
    "duration": 351,
    "start_time": "2022-10-12T08:11:36.079Z"
   },
   {
    "duration": 343,
    "start_time": "2022-10-12T08:11:36.432Z"
   },
   {
    "duration": 739,
    "start_time": "2022-10-12T08:11:36.777Z"
   },
   {
    "duration": 643,
    "start_time": "2022-10-12T08:11:37.518Z"
   },
   {
    "duration": 687,
    "start_time": "2022-10-12T08:11:38.164Z"
   },
   {
    "duration": 353,
    "start_time": "2022-10-12T08:11:38.852Z"
   },
   {
    "duration": 351,
    "start_time": "2022-10-12T08:13:42.607Z"
   },
   {
    "duration": 470,
    "start_time": "2022-10-12T08:16:21.791Z"
   },
   {
    "duration": 129,
    "start_time": "2022-10-12T08:17:04.055Z"
   },
   {
    "duration": 242,
    "start_time": "2022-10-12T08:19:37.115Z"
   },
   {
    "duration": 12,
    "start_time": "2022-10-12T08:20:07.448Z"
   },
   {
    "duration": 162,
    "start_time": "2022-10-12T08:21:17.378Z"
   },
   {
    "duration": 16,
    "start_time": "2022-10-12T08:22:20.322Z"
   },
   {
    "duration": 18,
    "start_time": "2022-10-12T08:22:39.313Z"
   },
   {
    "duration": 19,
    "start_time": "2022-10-12T08:25:37.756Z"
   },
   {
    "duration": 19,
    "start_time": "2022-10-12T08:26:28.137Z"
   },
   {
    "duration": 19,
    "start_time": "2022-10-12T08:27:03.205Z"
   },
   {
    "duration": 176,
    "start_time": "2022-10-12T08:27:45.395Z"
   },
   {
    "duration": 163,
    "start_time": "2022-10-12T08:27:59.172Z"
   },
   {
    "duration": 20,
    "start_time": "2022-10-12T08:28:20.065Z"
   },
   {
    "duration": 161,
    "start_time": "2022-10-12T08:29:34.029Z"
   },
   {
    "duration": 144,
    "start_time": "2022-10-12T08:30:33.367Z"
   },
   {
    "duration": 1322,
    "start_time": "2022-10-12T08:35:32.839Z"
   },
   {
    "duration": 1697,
    "start_time": "2022-10-12T08:35:38.696Z"
   },
   {
    "duration": 247,
    "start_time": "2022-10-12T08:37:41.360Z"
   },
   {
    "duration": 22,
    "start_time": "2022-10-12T08:37:55.045Z"
   },
   {
    "duration": 134,
    "start_time": "2022-10-12T08:38:16.416Z"
   },
   {
    "duration": 14,
    "start_time": "2022-10-12T08:39:16.644Z"
   },
   {
    "duration": 12,
    "start_time": "2022-10-12T08:39:24.343Z"
   },
   {
    "duration": 1247,
    "start_time": "2022-10-12T08:39:34.629Z"
   },
   {
    "duration": 57,
    "start_time": "2022-10-12T08:39:35.878Z"
   },
   {
    "duration": 37,
    "start_time": "2022-10-12T08:39:35.936Z"
   },
   {
    "duration": 16,
    "start_time": "2022-10-12T08:39:35.975Z"
   },
   {
    "duration": 35,
    "start_time": "2022-10-12T08:39:35.994Z"
   },
   {
    "duration": 27,
    "start_time": "2022-10-12T08:39:36.030Z"
   },
   {
    "duration": 68,
    "start_time": "2022-10-12T08:39:36.059Z"
   },
   {
    "duration": 7,
    "start_time": "2022-10-12T08:39:36.129Z"
   },
   {
    "duration": 45,
    "start_time": "2022-10-12T08:39:36.138Z"
   },
   {
    "duration": 72,
    "start_time": "2022-10-12T08:39:36.185Z"
   },
   {
    "duration": 21,
    "start_time": "2022-10-12T08:39:36.259Z"
   },
   {
    "duration": 23,
    "start_time": "2022-10-12T08:39:36.282Z"
   },
   {
    "duration": 263,
    "start_time": "2022-10-12T08:39:36.307Z"
   },
   {
    "duration": 363,
    "start_time": "2022-10-12T08:39:36.572Z"
   },
   {
    "duration": 335,
    "start_time": "2022-10-12T08:39:36.938Z"
   },
   {
    "duration": 20,
    "start_time": "2022-10-12T08:39:37.275Z"
   },
   {
    "duration": 5,
    "start_time": "2022-10-12T08:39:37.297Z"
   },
   {
    "duration": 421,
    "start_time": "2022-10-12T08:39:37.304Z"
   },
   {
    "duration": 358,
    "start_time": "2022-10-12T08:39:37.726Z"
   },
   {
    "duration": 337,
    "start_time": "2022-10-12T08:39:38.085Z"
   },
   {
    "duration": 677,
    "start_time": "2022-10-12T08:39:38.424Z"
   },
   {
    "duration": 604,
    "start_time": "2022-10-12T08:39:39.102Z"
   },
   {
    "duration": 646,
    "start_time": "2022-10-12T08:39:39.708Z"
   },
   {
    "duration": 13,
    "start_time": "2022-10-12T08:39:40.355Z"
   },
   {
    "duration": 130,
    "start_time": "2022-10-12T08:40:52.522Z"
   },
   {
    "duration": 143,
    "start_time": "2022-10-12T08:41:44.086Z"
   },
   {
    "duration": 179,
    "start_time": "2022-10-12T08:42:21.994Z"
   },
   {
    "duration": 176,
    "start_time": "2022-10-12T08:43:15.666Z"
   },
   {
    "duration": 209,
    "start_time": "2022-10-12T08:43:22.985Z"
   },
   {
    "duration": 172,
    "start_time": "2022-10-12T08:43:49.912Z"
   },
   {
    "duration": 435,
    "start_time": "2022-10-12T08:47:38.854Z"
   },
   {
    "duration": 48,
    "start_time": "2022-10-12T09:09:47.107Z"
   },
   {
    "duration": 19,
    "start_time": "2022-10-12T09:09:54.195Z"
   },
   {
    "duration": 13,
    "start_time": "2022-10-12T09:13:07.429Z"
   },
   {
    "duration": 18,
    "start_time": "2022-10-12T09:13:22.037Z"
   },
   {
    "duration": 1182,
    "start_time": "2022-10-12T09:17:57.537Z"
   },
   {
    "duration": 18,
    "start_time": "2022-10-12T09:18:13.713Z"
   },
   {
    "duration": 24,
    "start_time": "2022-10-12T09:26:30.740Z"
   },
   {
    "duration": 15,
    "start_time": "2022-10-12T09:26:49.229Z"
   },
   {
    "duration": 20,
    "start_time": "2022-10-12T09:28:47.718Z"
   },
   {
    "duration": 19,
    "start_time": "2022-10-12T09:29:32.758Z"
   },
   {
    "duration": 32,
    "start_time": "2022-10-12T09:30:33.397Z"
   },
   {
    "duration": 24,
    "start_time": "2022-10-12T09:33:11.554Z"
   },
   {
    "duration": 20,
    "start_time": "2022-10-12T09:34:49.251Z"
   },
   {
    "duration": 42,
    "start_time": "2022-10-12T09:37:19.259Z"
   },
   {
    "duration": 1264,
    "start_time": "2022-10-12T09:38:32.544Z"
   },
   {
    "duration": 59,
    "start_time": "2022-10-12T09:38:33.810Z"
   },
   {
    "duration": 34,
    "start_time": "2022-10-12T09:38:33.871Z"
   },
   {
    "duration": 16,
    "start_time": "2022-10-12T09:38:33.907Z"
   },
   {
    "duration": 34,
    "start_time": "2022-10-12T09:38:33.925Z"
   },
   {
    "duration": 6,
    "start_time": "2022-10-12T09:38:33.961Z"
   },
   {
    "duration": 33,
    "start_time": "2022-10-12T09:38:33.968Z"
   },
   {
    "duration": 6,
    "start_time": "2022-10-12T09:38:34.002Z"
   },
   {
    "duration": 50,
    "start_time": "2022-10-12T09:38:34.010Z"
   },
   {
    "duration": 53,
    "start_time": "2022-10-12T09:38:34.062Z"
   },
   {
    "duration": 42,
    "start_time": "2022-10-12T09:38:34.116Z"
   },
   {
    "duration": 17,
    "start_time": "2022-10-12T09:38:34.159Z"
   },
   {
    "duration": 239,
    "start_time": "2022-10-12T09:38:34.178Z"
   },
   {
    "duration": 399,
    "start_time": "2022-10-12T09:38:34.420Z"
   },
   {
    "duration": 316,
    "start_time": "2022-10-12T09:38:34.821Z"
   },
   {
    "duration": 22,
    "start_time": "2022-10-12T09:38:35.139Z"
   },
   {
    "duration": 6,
    "start_time": "2022-10-12T09:38:35.162Z"
   },
   {
    "duration": 427,
    "start_time": "2022-10-12T09:38:35.169Z"
   },
   {
    "duration": 365,
    "start_time": "2022-10-12T09:38:35.598Z"
   },
   {
    "duration": 337,
    "start_time": "2022-10-12T09:38:35.965Z"
   },
   {
    "duration": 689,
    "start_time": "2022-10-12T09:38:36.304Z"
   },
   {
    "duration": 664,
    "start_time": "2022-10-12T09:38:36.995Z"
   },
   {
    "duration": 653,
    "start_time": "2022-10-12T09:38:37.661Z"
   },
   {
    "duration": 193,
    "start_time": "2022-10-12T09:38:38.316Z"
   },
   {
    "duration": 344,
    "start_time": "2022-10-12T09:38:38.512Z"
   },
   {
    "duration": 13,
    "start_time": "2022-10-12T09:38:38.858Z"
   },
   {
    "duration": 14,
    "start_time": "2022-10-12T09:38:38.873Z"
   },
   {
    "duration": 14,
    "start_time": "2022-10-12T09:38:38.889Z"
   },
   {
    "duration": 72,
    "start_time": "2022-10-12T09:38:38.905Z"
   },
   {
    "duration": 14,
    "start_time": "2022-10-12T09:40:30.604Z"
   },
   {
    "duration": 1153,
    "start_time": "2022-10-12T09:40:49.919Z"
   },
   {
    "duration": 55,
    "start_time": "2022-10-12T09:40:51.074Z"
   },
   {
    "duration": 31,
    "start_time": "2022-10-12T09:40:51.131Z"
   },
   {
    "duration": 16,
    "start_time": "2022-10-12T09:40:51.164Z"
   },
   {
    "duration": 8,
    "start_time": "2022-10-12T09:40:51.182Z"
   },
   {
    "duration": 16,
    "start_time": "2022-10-12T09:40:51.192Z"
   },
   {
    "duration": 23,
    "start_time": "2022-10-12T09:40:51.210Z"
   },
   {
    "duration": 21,
    "start_time": "2022-10-12T09:40:51.235Z"
   },
   {
    "duration": 30,
    "start_time": "2022-10-12T09:40:51.258Z"
   },
   {
    "duration": 69,
    "start_time": "2022-10-12T09:40:51.290Z"
   },
   {
    "duration": 15,
    "start_time": "2022-10-12T09:40:51.361Z"
   },
   {
    "duration": 16,
    "start_time": "2022-10-12T09:40:51.378Z"
   },
   {
    "duration": 298,
    "start_time": "2022-10-12T09:40:51.396Z"
   },
   {
    "duration": 353,
    "start_time": "2022-10-12T09:40:51.698Z"
   },
   {
    "duration": 325,
    "start_time": "2022-10-12T09:40:52.052Z"
   },
   {
    "duration": 22,
    "start_time": "2022-10-12T09:40:52.378Z"
   },
   {
    "duration": 5,
    "start_time": "2022-10-12T09:40:52.402Z"
   },
   {
    "duration": 415,
    "start_time": "2022-10-12T09:40:52.409Z"
   },
   {
    "duration": 368,
    "start_time": "2022-10-12T09:40:52.826Z"
   },
   {
    "duration": 365,
    "start_time": "2022-10-12T09:40:53.196Z"
   },
   {
    "duration": 666,
    "start_time": "2022-10-12T09:40:53.563Z"
   },
   {
    "duration": 628,
    "start_time": "2022-10-12T09:40:54.231Z"
   },
   {
    "duration": 614,
    "start_time": "2022-10-12T09:40:54.861Z"
   },
   {
    "duration": 198,
    "start_time": "2022-10-12T09:40:55.476Z"
   },
   {
    "duration": 332,
    "start_time": "2022-10-12T09:40:55.676Z"
   },
   {
    "duration": 14,
    "start_time": "2022-10-12T09:40:56.010Z"
   },
   {
    "duration": 29,
    "start_time": "2022-10-12T09:40:56.025Z"
   },
   {
    "duration": 12,
    "start_time": "2022-10-12T09:40:56.056Z"
   },
   {
    "duration": 52,
    "start_time": "2022-10-12T09:40:56.069Z"
   },
   {
    "duration": 110,
    "start_time": "2022-10-12T09:43:31.071Z"
   },
   {
    "duration": 16,
    "start_time": "2022-10-12T09:43:53.281Z"
   },
   {
    "duration": 50,
    "start_time": "2022-10-12T09:45:07.047Z"
   },
   {
    "duration": 47,
    "start_time": "2022-10-12T09:45:33.119Z"
   },
   {
    "duration": 15,
    "start_time": "2022-10-12T09:47:07.338Z"
   },
   {
    "duration": 26,
    "start_time": "2022-10-12T09:47:22.657Z"
   },
   {
    "duration": 38,
    "start_time": "2022-10-12T09:47:59.090Z"
   },
   {
    "duration": 31,
    "start_time": "2022-10-12T09:58:16.575Z"
   },
   {
    "duration": 36,
    "start_time": "2022-10-12T09:58:57.479Z"
   },
   {
    "duration": 25,
    "start_time": "2022-10-12T09:59:13.816Z"
   },
   {
    "duration": 26,
    "start_time": "2022-10-12T09:59:48.672Z"
   },
   {
    "duration": 25,
    "start_time": "2022-10-12T10:00:36.801Z"
   },
   {
    "duration": 200,
    "start_time": "2022-10-12T10:04:01.523Z"
   },
   {
    "duration": 516,
    "start_time": "2022-10-12T10:04:36.189Z"
   },
   {
    "duration": 427,
    "start_time": "2022-10-12T10:05:18.732Z"
   },
   {
    "duration": 442,
    "start_time": "2022-10-12T10:11:02.438Z"
   },
   {
    "duration": 421,
    "start_time": "2022-10-12T10:15:15.953Z"
   },
   {
    "duration": 1279,
    "start_time": "2022-10-12T10:19:51.848Z"
   },
   {
    "duration": 55,
    "start_time": "2022-10-12T10:19:53.129Z"
   },
   {
    "duration": 53,
    "start_time": "2022-10-12T10:19:53.185Z"
   },
   {
    "duration": 14,
    "start_time": "2022-10-12T10:19:53.240Z"
   },
   {
    "duration": 33,
    "start_time": "2022-10-12T10:19:53.256Z"
   },
   {
    "duration": 33,
    "start_time": "2022-10-12T10:19:53.291Z"
   },
   {
    "duration": 68,
    "start_time": "2022-10-12T10:19:53.326Z"
   },
   {
    "duration": 10,
    "start_time": "2022-10-12T10:19:53.396Z"
   },
   {
    "duration": 55,
    "start_time": "2022-10-12T10:19:53.408Z"
   },
   {
    "duration": 8,
    "start_time": "2022-10-12T10:19:53.465Z"
   },
   {
    "duration": 25,
    "start_time": "2022-10-12T10:19:53.474Z"
   },
   {
    "duration": 70,
    "start_time": "2022-10-12T10:19:53.501Z"
   },
   {
    "duration": 15,
    "start_time": "2022-10-12T10:19:53.573Z"
   },
   {
    "duration": 44,
    "start_time": "2022-10-12T10:19:53.590Z"
   },
   {
    "duration": 228,
    "start_time": "2022-10-12T10:19:53.635Z"
   },
   {
    "duration": 347,
    "start_time": "2022-10-12T10:19:53.865Z"
   },
   {
    "duration": 319,
    "start_time": "2022-10-12T10:19:54.214Z"
   },
   {
    "duration": 22,
    "start_time": "2022-10-12T10:19:54.535Z"
   },
   {
    "duration": 6,
    "start_time": "2022-10-12T10:19:54.559Z"
   },
   {
    "duration": 423,
    "start_time": "2022-10-12T10:19:54.566Z"
   },
   {
    "duration": 399,
    "start_time": "2022-10-12T10:19:54.991Z"
   },
   {
    "duration": 377,
    "start_time": "2022-10-12T10:19:55.393Z"
   },
   {
    "duration": 690,
    "start_time": "2022-10-12T10:19:55.771Z"
   },
   {
    "duration": 624,
    "start_time": "2022-10-12T10:19:56.462Z"
   },
   {
    "duration": 635,
    "start_time": "2022-10-12T10:19:57.088Z"
   },
   {
    "duration": 185,
    "start_time": "2022-10-12T10:19:57.725Z"
   },
   {
    "duration": 326,
    "start_time": "2022-10-12T10:19:57.911Z"
   },
   {
    "duration": 401,
    "start_time": "2022-10-12T10:19:58.240Z"
   },
   {
    "duration": 532,
    "start_time": "2022-10-12T10:19:58.643Z"
   },
   {
    "duration": 433,
    "start_time": "2022-10-12T10:19:59.177Z"
   },
   {
    "duration": 1219,
    "start_time": "2022-10-12T10:54:05.859Z"
   },
   {
    "duration": 57,
    "start_time": "2022-10-12T10:54:07.079Z"
   },
   {
    "duration": 34,
    "start_time": "2022-10-12T10:54:07.137Z"
   },
   {
    "duration": 15,
    "start_time": "2022-10-12T10:54:07.173Z"
   },
   {
    "duration": 8,
    "start_time": "2022-10-12T10:54:07.190Z"
   },
   {
    "duration": 9,
    "start_time": "2022-10-12T10:54:07.200Z"
   },
   {
    "duration": 44,
    "start_time": "2022-10-12T10:54:07.211Z"
   },
   {
    "duration": 5,
    "start_time": "2022-10-12T10:54:07.257Z"
   },
   {
    "duration": 39,
    "start_time": "2022-10-12T10:54:07.263Z"
   },
   {
    "duration": 7,
    "start_time": "2022-10-12T10:54:07.305Z"
   },
   {
    "duration": 5,
    "start_time": "2022-10-12T10:54:07.314Z"
   },
   {
    "duration": 82,
    "start_time": "2022-10-12T10:54:07.321Z"
   },
   {
    "duration": 16,
    "start_time": "2022-10-12T10:54:07.404Z"
   },
   {
    "duration": 37,
    "start_time": "2022-10-12T10:54:07.422Z"
   },
   {
    "duration": 226,
    "start_time": "2022-10-12T10:54:07.461Z"
   },
   {
    "duration": 355,
    "start_time": "2022-10-12T10:54:07.688Z"
   },
   {
    "duration": 336,
    "start_time": "2022-10-12T10:54:08.045Z"
   },
   {
    "duration": 22,
    "start_time": "2022-10-12T10:54:08.384Z"
   },
   {
    "duration": 6,
    "start_time": "2022-10-12T10:54:08.408Z"
   },
   {
    "duration": 420,
    "start_time": "2022-10-12T10:54:08.416Z"
   },
   {
    "duration": 358,
    "start_time": "2022-10-12T10:54:08.838Z"
   },
   {
    "duration": 357,
    "start_time": "2022-10-12T10:54:09.197Z"
   },
   {
    "duration": 698,
    "start_time": "2022-10-12T10:54:09.556Z"
   },
   {
    "duration": 621,
    "start_time": "2022-10-12T10:54:10.256Z"
   },
   {
    "duration": 696,
    "start_time": "2022-10-12T10:54:10.879Z"
   },
   {
    "duration": 249,
    "start_time": "2022-10-12T10:54:11.577Z"
   },
   {
    "duration": 335,
    "start_time": "2022-10-12T10:54:11.828Z"
   },
   {
    "duration": 415,
    "start_time": "2022-10-12T10:54:12.166Z"
   },
   {
    "duration": 536,
    "start_time": "2022-10-12T10:54:12.583Z"
   },
   {
    "duration": 412,
    "start_time": "2022-10-12T10:54:13.121Z"
   },
   {
    "duration": 114,
    "start_time": "2022-10-12T11:09:01.299Z"
   },
   {
    "duration": 12,
    "start_time": "2022-10-12T11:09:24.258Z"
   },
   {
    "duration": 11,
    "start_time": "2022-10-12T11:11:32.561Z"
   },
   {
    "duration": 12,
    "start_time": "2022-10-12T11:11:52.112Z"
   },
   {
    "duration": 1225,
    "start_time": "2022-10-12T11:12:02.062Z"
   },
   {
    "duration": 55,
    "start_time": "2022-10-12T11:12:03.289Z"
   },
   {
    "duration": 32,
    "start_time": "2022-10-12T11:12:03.345Z"
   },
   {
    "duration": 16,
    "start_time": "2022-10-12T11:12:03.379Z"
   },
   {
    "duration": 13,
    "start_time": "2022-10-12T11:12:03.397Z"
   },
   {
    "duration": 15,
    "start_time": "2022-10-12T11:12:03.412Z"
   },
   {
    "duration": 37,
    "start_time": "2022-10-12T11:12:03.428Z"
   },
   {
    "duration": 4,
    "start_time": "2022-10-12T11:12:03.466Z"
   },
   {
    "duration": 29,
    "start_time": "2022-10-12T11:12:03.472Z"
   },
   {
    "duration": 7,
    "start_time": "2022-10-12T11:12:03.503Z"
   },
   {
    "duration": 13,
    "start_time": "2022-10-12T11:12:03.512Z"
   },
   {
    "duration": 74,
    "start_time": "2022-10-12T11:12:03.527Z"
   },
   {
    "duration": 16,
    "start_time": "2022-10-12T11:12:03.602Z"
   },
   {
    "duration": 38,
    "start_time": "2022-10-12T11:12:03.621Z"
   },
   {
    "duration": 226,
    "start_time": "2022-10-12T11:12:03.661Z"
   },
   {
    "duration": 354,
    "start_time": "2022-10-12T11:12:03.889Z"
   },
   {
    "duration": 332,
    "start_time": "2022-10-12T11:12:04.245Z"
   },
   {
    "duration": 27,
    "start_time": "2022-10-12T11:12:04.579Z"
   },
   {
    "duration": 6,
    "start_time": "2022-10-12T11:12:04.608Z"
   },
   {
    "duration": 414,
    "start_time": "2022-10-12T11:12:04.616Z"
   },
   {
    "duration": 353,
    "start_time": "2022-10-12T11:12:05.033Z"
   },
   {
    "duration": 354,
    "start_time": "2022-10-12T11:12:05.388Z"
   },
   {
    "duration": 647,
    "start_time": "2022-10-12T11:12:05.744Z"
   },
   {
    "duration": 619,
    "start_time": "2022-10-12T11:12:06.393Z"
   },
   {
    "duration": 623,
    "start_time": "2022-10-12T11:12:07.014Z"
   },
   {
    "duration": 173,
    "start_time": "2022-10-12T11:12:07.638Z"
   },
   {
    "duration": 324,
    "start_time": "2022-10-12T11:12:07.813Z"
   },
   {
    "duration": 415,
    "start_time": "2022-10-12T11:12:08.139Z"
   },
   {
    "duration": 538,
    "start_time": "2022-10-12T11:12:08.556Z"
   },
   {
    "duration": 402,
    "start_time": "2022-10-12T11:12:09.096Z"
   },
   {
    "duration": 11,
    "start_time": "2022-10-12T11:12:09.501Z"
   },
   {
    "duration": 13,
    "start_time": "2022-10-12T11:12:41.905Z"
   },
   {
    "duration": 1228,
    "start_time": "2022-10-12T11:12:52.848Z"
   },
   {
    "duration": 56,
    "start_time": "2022-10-12T11:12:54.078Z"
   },
   {
    "duration": 34,
    "start_time": "2022-10-12T11:12:54.136Z"
   },
   {
    "duration": 16,
    "start_time": "2022-10-12T11:12:54.172Z"
   },
   {
    "duration": 9,
    "start_time": "2022-10-12T11:12:54.191Z"
   },
   {
    "duration": 10,
    "start_time": "2022-10-12T11:12:54.202Z"
   },
   {
    "duration": 48,
    "start_time": "2022-10-12T11:12:54.214Z"
   },
   {
    "duration": 6,
    "start_time": "2022-10-12T11:12:54.265Z"
   },
   {
    "duration": 36,
    "start_time": "2022-10-12T11:12:54.273Z"
   },
   {
    "duration": 8,
    "start_time": "2022-10-12T11:12:54.311Z"
   },
   {
    "duration": 8,
    "start_time": "2022-10-12T11:12:54.320Z"
   },
   {
    "duration": 81,
    "start_time": "2022-10-12T11:12:54.330Z"
   },
   {
    "duration": 17,
    "start_time": "2022-10-12T11:12:54.412Z"
   },
   {
    "duration": 36,
    "start_time": "2022-10-12T11:12:54.432Z"
   },
   {
    "duration": 237,
    "start_time": "2022-10-12T11:12:54.470Z"
   },
   {
    "duration": 345,
    "start_time": "2022-10-12T11:12:54.709Z"
   },
   {
    "duration": 325,
    "start_time": "2022-10-12T11:12:55.056Z"
   },
   {
    "duration": 22,
    "start_time": "2022-10-12T11:12:55.383Z"
   },
   {
    "duration": 5,
    "start_time": "2022-10-12T11:12:55.407Z"
   },
   {
    "duration": 420,
    "start_time": "2022-10-12T11:12:55.414Z"
   },
   {
    "duration": 372,
    "start_time": "2022-10-12T11:12:55.835Z"
   },
   {
    "duration": 361,
    "start_time": "2022-10-12T11:12:56.209Z"
   },
   {
    "duration": 697,
    "start_time": "2022-10-12T11:12:56.572Z"
   },
   {
    "duration": 605,
    "start_time": "2022-10-12T11:12:57.271Z"
   },
   {
    "duration": 670,
    "start_time": "2022-10-12T11:12:57.879Z"
   },
   {
    "duration": 191,
    "start_time": "2022-10-12T11:12:58.553Z"
   },
   {
    "duration": 344,
    "start_time": "2022-10-12T11:12:58.746Z"
   },
   {
    "duration": 416,
    "start_time": "2022-10-12T11:12:59.092Z"
   },
   {
    "duration": 539,
    "start_time": "2022-10-12T11:12:59.509Z"
   },
   {
    "duration": 409,
    "start_time": "2022-10-12T11:13:00.054Z"
   },
   {
    "duration": 13,
    "start_time": "2022-10-12T11:13:00.464Z"
   },
   {
    "duration": 16,
    "start_time": "2022-10-12T11:14:24.908Z"
   },
   {
    "duration": 16,
    "start_time": "2022-10-12T11:15:08.172Z"
   },
   {
    "duration": 17,
    "start_time": "2022-10-12T11:15:33.322Z"
   },
   {
    "duration": 17,
    "start_time": "2022-10-12T11:15:42.257Z"
   },
   {
    "duration": 15,
    "start_time": "2022-10-12T11:15:50.682Z"
   },
   {
    "duration": 16,
    "start_time": "2022-10-12T11:18:20.924Z"
   },
   {
    "duration": 13,
    "start_time": "2022-10-12T11:19:40.678Z"
   },
   {
    "duration": 12,
    "start_time": "2022-10-12T11:19:53.925Z"
   },
   {
    "duration": 1206,
    "start_time": "2022-10-12T11:19:59.813Z"
   },
   {
    "duration": 59,
    "start_time": "2022-10-12T11:20:01.022Z"
   },
   {
    "duration": 36,
    "start_time": "2022-10-12T11:20:01.082Z"
   },
   {
    "duration": 20,
    "start_time": "2022-10-12T11:20:01.119Z"
   },
   {
    "duration": 50,
    "start_time": "2022-10-12T11:20:01.141Z"
   },
   {
    "duration": 37,
    "start_time": "2022-10-12T11:20:01.193Z"
   },
   {
    "duration": 64,
    "start_time": "2022-10-12T11:20:01.232Z"
   },
   {
    "duration": 31,
    "start_time": "2022-10-12T11:20:01.298Z"
   },
   {
    "duration": 55,
    "start_time": "2022-10-12T11:20:01.331Z"
   },
   {
    "duration": 8,
    "start_time": "2022-10-12T11:20:01.388Z"
   },
   {
    "duration": 26,
    "start_time": "2022-10-12T11:20:01.397Z"
   },
   {
    "duration": 77,
    "start_time": "2022-10-12T11:20:01.424Z"
   },
   {
    "duration": 20,
    "start_time": "2022-10-12T11:20:01.504Z"
   },
   {
    "duration": 42,
    "start_time": "2022-10-12T11:20:01.528Z"
   },
   {
    "duration": 265,
    "start_time": "2022-10-12T11:20:01.573Z"
   },
   {
    "duration": 342,
    "start_time": "2022-10-12T11:20:01.840Z"
   },
   {
    "duration": 310,
    "start_time": "2022-10-12T11:20:02.183Z"
   },
   {
    "duration": 20,
    "start_time": "2022-10-12T11:20:02.495Z"
   },
   {
    "duration": 28,
    "start_time": "2022-10-12T11:20:02.517Z"
   },
   {
    "duration": 410,
    "start_time": "2022-10-12T11:20:02.547Z"
   },
   {
    "duration": 344,
    "start_time": "2022-10-12T11:20:02.958Z"
   },
   {
    "duration": 327,
    "start_time": "2022-10-12T11:20:03.304Z"
   },
   {
    "duration": 653,
    "start_time": "2022-10-12T11:20:03.633Z"
   },
   {
    "duration": 611,
    "start_time": "2022-10-12T11:20:04.288Z"
   },
   {
    "duration": 622,
    "start_time": "2022-10-12T11:20:04.900Z"
   },
   {
    "duration": 181,
    "start_time": "2022-10-12T11:20:05.524Z"
   },
   {
    "duration": 325,
    "start_time": "2022-10-12T11:20:05.707Z"
   },
   {
    "duration": 412,
    "start_time": "2022-10-12T11:20:06.034Z"
   },
   {
    "duration": 539,
    "start_time": "2022-10-12T11:20:06.454Z"
   },
   {
    "duration": 406,
    "start_time": "2022-10-12T11:20:06.995Z"
   },
   {
    "duration": 13,
    "start_time": "2022-10-12T11:20:07.402Z"
   },
   {
    "duration": 13,
    "start_time": "2022-10-12T11:21:29.985Z"
   },
   {
    "duration": 13,
    "start_time": "2022-10-12T11:25:30.363Z"
   },
   {
    "duration": 16,
    "start_time": "2022-10-12T11:25:34.123Z"
   },
   {
    "duration": 15,
    "start_time": "2022-10-12T11:29:59.981Z"
   },
   {
    "duration": 1171,
    "start_time": "2022-10-12T11:30:55.910Z"
   },
   {
    "duration": 61,
    "start_time": "2022-10-12T11:30:57.083Z"
   },
   {
    "duration": 36,
    "start_time": "2022-10-12T11:30:57.146Z"
   },
   {
    "duration": 17,
    "start_time": "2022-10-12T11:30:57.185Z"
   },
   {
    "duration": 9,
    "start_time": "2022-10-12T11:30:57.205Z"
   },
   {
    "duration": 8,
    "start_time": "2022-10-12T11:30:57.216Z"
   },
   {
    "duration": 21,
    "start_time": "2022-10-12T11:30:57.255Z"
   },
   {
    "duration": 4,
    "start_time": "2022-10-12T11:30:57.278Z"
   },
   {
    "duration": 47,
    "start_time": "2022-10-12T11:30:57.284Z"
   },
   {
    "duration": 23,
    "start_time": "2022-10-12T11:30:57.333Z"
   },
   {
    "duration": 23,
    "start_time": "2022-10-12T11:30:57.358Z"
   },
   {
    "duration": 62,
    "start_time": "2022-10-12T11:30:57.383Z"
   },
   {
    "duration": 18,
    "start_time": "2022-10-12T11:30:57.446Z"
   },
   {
    "duration": 16,
    "start_time": "2022-10-12T11:30:57.467Z"
   },
   {
    "duration": 223,
    "start_time": "2022-10-12T11:30:57.485Z"
   },
   {
    "duration": 341,
    "start_time": "2022-10-12T11:30:57.710Z"
   },
   {
    "duration": 339,
    "start_time": "2022-10-12T11:30:58.054Z"
   },
   {
    "duration": 23,
    "start_time": "2022-10-12T11:30:58.395Z"
   },
   {
    "duration": 6,
    "start_time": "2022-10-12T11:30:58.420Z"
   },
   {
    "duration": 408,
    "start_time": "2022-10-12T11:30:58.428Z"
   },
   {
    "duration": 370,
    "start_time": "2022-10-12T11:30:58.838Z"
   },
   {
    "duration": 352,
    "start_time": "2022-10-12T11:30:59.210Z"
   },
   {
    "duration": 670,
    "start_time": "2022-10-12T11:30:59.564Z"
   },
   {
    "duration": 649,
    "start_time": "2022-10-12T11:31:00.236Z"
   },
   {
    "duration": 704,
    "start_time": "2022-10-12T11:31:00.887Z"
   },
   {
    "duration": 237,
    "start_time": "2022-10-12T11:31:01.594Z"
   },
   {
    "duration": 353,
    "start_time": "2022-10-12T11:31:01.832Z"
   },
   {
    "duration": 412,
    "start_time": "2022-10-12T11:31:02.187Z"
   },
   {
    "duration": 561,
    "start_time": "2022-10-12T11:31:02.600Z"
   },
   {
    "duration": 446,
    "start_time": "2022-10-12T11:31:03.163Z"
   },
   {
    "duration": 12,
    "start_time": "2022-10-12T11:31:03.611Z"
   },
   {
    "duration": 13,
    "start_time": "2022-10-12T11:31:03.625Z"
   },
   {
    "duration": 14,
    "start_time": "2022-10-12T11:31:33.919Z"
   },
   {
    "duration": 15,
    "start_time": "2022-10-12T11:35:35.326Z"
   },
   {
    "duration": 16,
    "start_time": "2022-10-12T11:35:56.334Z"
   },
   {
    "duration": 13,
    "start_time": "2022-10-12T11:36:57.653Z"
   },
   {
    "duration": 14,
    "start_time": "2022-10-12T11:37:18.166Z"
   },
   {
    "duration": 14,
    "start_time": "2022-10-12T11:37:48.151Z"
   },
   {
    "duration": 1209,
    "start_time": "2022-10-12T11:37:58.492Z"
   },
   {
    "duration": 58,
    "start_time": "2022-10-12T11:37:59.704Z"
   },
   {
    "duration": 34,
    "start_time": "2022-10-12T11:37:59.764Z"
   },
   {
    "duration": 17,
    "start_time": "2022-10-12T11:37:59.800Z"
   },
   {
    "duration": 36,
    "start_time": "2022-10-12T11:37:59.820Z"
   },
   {
    "duration": 9,
    "start_time": "2022-10-12T11:37:59.858Z"
   },
   {
    "duration": 30,
    "start_time": "2022-10-12T11:37:59.868Z"
   },
   {
    "duration": 5,
    "start_time": "2022-10-12T11:37:59.900Z"
   },
   {
    "duration": 51,
    "start_time": "2022-10-12T11:37:59.907Z"
   },
   {
    "duration": 8,
    "start_time": "2022-10-12T11:37:59.960Z"
   },
   {
    "duration": 17,
    "start_time": "2022-10-12T11:37:59.969Z"
   },
   {
    "duration": 92,
    "start_time": "2022-10-12T11:37:59.988Z"
   },
   {
    "duration": 15,
    "start_time": "2022-10-12T11:38:00.082Z"
   },
   {
    "duration": 23,
    "start_time": "2022-10-12T11:38:00.102Z"
   },
   {
    "duration": 266,
    "start_time": "2022-10-12T11:38:00.126Z"
   },
   {
    "duration": 385,
    "start_time": "2022-10-12T11:38:00.394Z"
   },
   {
    "duration": 340,
    "start_time": "2022-10-12T11:38:00.781Z"
   },
   {
    "duration": 21,
    "start_time": "2022-10-12T11:38:01.124Z"
   },
   {
    "duration": 7,
    "start_time": "2022-10-12T11:38:01.147Z"
   },
   {
    "duration": 474,
    "start_time": "2022-10-12T11:38:01.156Z"
   },
   {
    "duration": 390,
    "start_time": "2022-10-12T11:38:01.632Z"
   },
   {
    "duration": 349,
    "start_time": "2022-10-12T11:38:02.024Z"
   },
   {
    "duration": 666,
    "start_time": "2022-10-12T11:38:02.374Z"
   },
   {
    "duration": 631,
    "start_time": "2022-10-12T11:38:03.042Z"
   },
   {
    "duration": 632,
    "start_time": "2022-10-12T11:38:03.675Z"
   },
   {
    "duration": 181,
    "start_time": "2022-10-12T11:38:04.309Z"
   },
   {
    "duration": 332,
    "start_time": "2022-10-12T11:38:04.492Z"
   },
   {
    "duration": 409,
    "start_time": "2022-10-12T11:38:04.826Z"
   },
   {
    "duration": 585,
    "start_time": "2022-10-12T11:38:05.238Z"
   },
   {
    "duration": 403,
    "start_time": "2022-10-12T11:38:05.824Z"
   },
   {
    "duration": 13,
    "start_time": "2022-10-12T11:38:06.228Z"
   },
   {
    "duration": 12,
    "start_time": "2022-10-12T11:38:06.254Z"
   },
   {
    "duration": 14,
    "start_time": "2022-10-12T11:38:29.079Z"
   },
   {
    "duration": 1218,
    "start_time": "2022-10-12T11:38:38.962Z"
   },
   {
    "duration": 55,
    "start_time": "2022-10-12T11:38:40.182Z"
   },
   {
    "duration": 33,
    "start_time": "2022-10-12T11:38:40.239Z"
   },
   {
    "duration": 15,
    "start_time": "2022-10-12T11:38:40.273Z"
   },
   {
    "duration": 8,
    "start_time": "2022-10-12T11:38:40.290Z"
   },
   {
    "duration": 14,
    "start_time": "2022-10-12T11:38:40.300Z"
   },
   {
    "duration": 42,
    "start_time": "2022-10-12T11:38:40.316Z"
   },
   {
    "duration": 7,
    "start_time": "2022-10-12T11:38:40.360Z"
   },
   {
    "duration": 36,
    "start_time": "2022-10-12T11:38:40.368Z"
   },
   {
    "duration": 9,
    "start_time": "2022-10-12T11:38:40.406Z"
   },
   {
    "duration": 12,
    "start_time": "2022-10-12T11:38:40.416Z"
   },
   {
    "duration": 76,
    "start_time": "2022-10-12T11:38:40.430Z"
   },
   {
    "duration": 15,
    "start_time": "2022-10-12T11:38:40.508Z"
   },
   {
    "duration": 38,
    "start_time": "2022-10-12T11:38:40.527Z"
   },
   {
    "duration": 240,
    "start_time": "2022-10-12T11:38:40.567Z"
   },
   {
    "duration": 350,
    "start_time": "2022-10-12T11:38:40.809Z"
   },
   {
    "duration": 335,
    "start_time": "2022-10-12T11:38:41.162Z"
   },
   {
    "duration": 31,
    "start_time": "2022-10-12T11:38:41.499Z"
   },
   {
    "duration": 7,
    "start_time": "2022-10-12T11:38:41.532Z"
   },
   {
    "duration": 492,
    "start_time": "2022-10-12T11:38:41.542Z"
   },
   {
    "duration": 346,
    "start_time": "2022-10-12T11:38:42.036Z"
   },
   {
    "duration": 348,
    "start_time": "2022-10-12T11:38:42.383Z"
   },
   {
    "duration": 661,
    "start_time": "2022-10-12T11:38:42.733Z"
   },
   {
    "duration": 628,
    "start_time": "2022-10-12T11:38:43.396Z"
   },
   {
    "duration": 631,
    "start_time": "2022-10-12T11:38:44.026Z"
   },
   {
    "duration": 183,
    "start_time": "2022-10-12T11:38:44.659Z"
   },
   {
    "duration": 323,
    "start_time": "2022-10-12T11:38:44.844Z"
   },
   {
    "duration": 404,
    "start_time": "2022-10-12T11:38:45.168Z"
   },
   {
    "duration": 529,
    "start_time": "2022-10-12T11:38:45.574Z"
   },
   {
    "duration": 407,
    "start_time": "2022-10-12T11:38:46.104Z"
   },
   {
    "duration": 11,
    "start_time": "2022-10-12T11:38:46.513Z"
   },
   {
    "duration": 33,
    "start_time": "2022-10-12T11:38:46.526Z"
   },
   {
    "duration": 17,
    "start_time": "2022-10-12T11:40:05.419Z"
   },
   {
    "duration": 16,
    "start_time": "2022-10-12T11:40:50.605Z"
   },
   {
    "duration": 18,
    "start_time": "2022-10-12T11:46:05.570Z"
   },
   {
    "duration": 17,
    "start_time": "2022-10-12T11:47:08.319Z"
   },
   {
    "duration": 16,
    "start_time": "2022-10-12T11:48:19.408Z"
   },
   {
    "duration": 17,
    "start_time": "2022-10-12T11:48:46.961Z"
   },
   {
    "duration": 16,
    "start_time": "2022-10-12T11:48:55.858Z"
   },
   {
    "duration": 20,
    "start_time": "2022-10-12T11:50:42.681Z"
   },
   {
    "duration": 93,
    "start_time": "2022-10-12T16:27:49.212Z"
   },
   {
    "duration": 1453,
    "start_time": "2022-10-12T16:27:54.970Z"
   },
   {
    "duration": 774,
    "start_time": "2022-10-12T16:27:56.425Z"
   },
   {
    "duration": 36,
    "start_time": "2022-10-12T16:27:57.201Z"
   },
   {
    "duration": 25,
    "start_time": "2022-10-12T16:27:57.239Z"
   },
   {
    "duration": 29,
    "start_time": "2022-10-12T16:27:57.265Z"
   },
   {
    "duration": 30,
    "start_time": "2022-10-12T16:27:57.296Z"
   },
   {
    "duration": 40,
    "start_time": "2022-10-12T16:27:57.328Z"
   },
   {
    "duration": 25,
    "start_time": "2022-10-12T16:27:57.370Z"
   },
   {
    "duration": 48,
    "start_time": "2022-10-12T16:27:57.397Z"
   },
   {
    "duration": 8,
    "start_time": "2022-10-12T16:27:57.448Z"
   },
   {
    "duration": 23,
    "start_time": "2022-10-12T16:27:57.457Z"
   },
   {
    "duration": 71,
    "start_time": "2022-10-12T16:27:57.482Z"
   },
   {
    "duration": 14,
    "start_time": "2022-10-12T16:27:57.554Z"
   },
   {
    "duration": 23,
    "start_time": "2022-10-12T16:27:57.570Z"
   },
   {
    "duration": 227,
    "start_time": "2022-10-12T16:27:57.595Z"
   },
   {
    "duration": 339,
    "start_time": "2022-10-12T16:27:57.824Z"
   },
   {
    "duration": 340,
    "start_time": "2022-10-12T16:27:58.165Z"
   },
   {
    "duration": 20,
    "start_time": "2022-10-12T16:27:58.507Z"
   },
   {
    "duration": 22,
    "start_time": "2022-10-12T16:27:58.529Z"
   },
   {
    "duration": 417,
    "start_time": "2022-10-12T16:27:58.553Z"
   },
   {
    "duration": 372,
    "start_time": "2022-10-12T16:27:58.971Z"
   },
   {
    "duration": 378,
    "start_time": "2022-10-12T16:27:59.345Z"
   },
   {
    "duration": 708,
    "start_time": "2022-10-12T16:27:59.725Z"
   },
   {
    "duration": 682,
    "start_time": "2022-10-12T16:28:00.435Z"
   },
   {
    "duration": 693,
    "start_time": "2022-10-12T16:28:01.119Z"
   },
   {
    "duration": 249,
    "start_time": "2022-10-12T16:28:01.815Z"
   },
   {
    "duration": 367,
    "start_time": "2022-10-12T16:28:02.066Z"
   },
   {
    "duration": 413,
    "start_time": "2022-10-12T16:28:02.437Z"
   },
   {
    "duration": 565,
    "start_time": "2022-10-12T16:28:02.851Z"
   },
   {
    "duration": 399,
    "start_time": "2022-10-12T16:28:03.418Z"
   },
   {
    "duration": 14,
    "start_time": "2022-10-12T16:28:03.819Z"
   },
   {
    "duration": 36,
    "start_time": "2022-10-12T16:28:03.835Z"
   },
   {
    "duration": 79,
    "start_time": "2022-10-12T16:28:03.872Z"
   },
   {
    "duration": 1332,
    "start_time": "2022-10-12T22:15:25.063Z"
   },
   {
    "duration": 52,
    "start_time": "2022-10-12T22:15:26.397Z"
   },
   {
    "duration": 43,
    "start_time": "2022-10-12T22:15:26.451Z"
   },
   {
    "duration": 18,
    "start_time": "2022-10-12T22:15:26.495Z"
   },
   {
    "duration": 7,
    "start_time": "2022-10-12T22:15:26.515Z"
   },
   {
    "duration": 8,
    "start_time": "2022-10-12T22:15:26.524Z"
   },
   {
    "duration": 24,
    "start_time": "2022-10-12T22:15:26.533Z"
   },
   {
    "duration": 3,
    "start_time": "2022-10-12T22:15:26.559Z"
   },
   {
    "duration": 58,
    "start_time": "2022-10-12T22:15:26.564Z"
   },
   {
    "duration": 7,
    "start_time": "2022-10-12T22:15:26.623Z"
   },
   {
    "duration": 9,
    "start_time": "2022-10-12T22:15:26.631Z"
   },
   {
    "duration": 74,
    "start_time": "2022-10-12T22:15:26.642Z"
   },
   {
    "duration": 14,
    "start_time": "2022-10-12T22:15:26.718Z"
   },
   {
    "duration": 14,
    "start_time": "2022-10-12T22:15:26.735Z"
   },
   {
    "duration": 224,
    "start_time": "2022-10-12T22:15:26.750Z"
   },
   {
    "duration": 313,
    "start_time": "2022-10-12T22:15:26.975Z"
   },
   {
    "duration": 265,
    "start_time": "2022-10-12T22:15:27.290Z"
   },
   {
    "duration": 17,
    "start_time": "2022-10-12T22:15:27.557Z"
   },
   {
    "duration": 4,
    "start_time": "2022-10-12T22:15:27.575Z"
   },
   {
    "duration": 383,
    "start_time": "2022-10-12T22:15:27.597Z"
   },
   {
    "duration": 436,
    "start_time": "2022-10-12T22:15:27.981Z"
   },
   {
    "duration": 302,
    "start_time": "2022-10-12T22:15:28.419Z"
   },
   {
    "duration": 560,
    "start_time": "2022-10-12T22:15:28.723Z"
   },
   {
    "duration": 598,
    "start_time": "2022-10-12T22:15:29.284Z"
   },
   {
    "duration": 603,
    "start_time": "2022-10-12T22:15:29.884Z"
   },
   {
    "duration": 174,
    "start_time": "2022-10-12T22:15:30.488Z"
   },
   {
    "duration": 325,
    "start_time": "2022-10-12T22:15:30.664Z"
   },
   {
    "duration": 472,
    "start_time": "2022-10-12T22:15:30.991Z"
   },
   {
    "duration": 394,
    "start_time": "2022-10-12T22:15:31.465Z"
   },
   {
    "duration": 386,
    "start_time": "2022-10-12T22:15:31.861Z"
   },
   {
    "duration": 15,
    "start_time": "2022-10-12T22:15:32.249Z"
   },
   {
    "duration": 37,
    "start_time": "2022-10-12T22:15:32.266Z"
   },
   {
    "duration": 1428,
    "start_time": "2022-10-13T13:41:46.584Z"
   },
   {
    "duration": 458,
    "start_time": "2022-10-13T13:41:48.014Z"
   },
   {
    "duration": 34,
    "start_time": "2022-10-13T13:41:48.474Z"
   },
   {
    "duration": 15,
    "start_time": "2022-10-13T13:41:48.509Z"
   },
   {
    "duration": 8,
    "start_time": "2022-10-13T13:41:48.526Z"
   },
   {
    "duration": 11,
    "start_time": "2022-10-13T13:41:48.535Z"
   },
   {
    "duration": 26,
    "start_time": "2022-10-13T13:41:48.548Z"
   },
   {
    "duration": 23,
    "start_time": "2022-10-13T13:41:48.576Z"
   },
   {
    "duration": 35,
    "start_time": "2022-10-13T13:41:48.600Z"
   },
   {
    "duration": 7,
    "start_time": "2022-10-13T13:41:48.637Z"
   },
   {
    "duration": 7,
    "start_time": "2022-10-13T13:41:48.646Z"
   },
   {
    "duration": 73,
    "start_time": "2022-10-13T13:41:48.654Z"
   },
   {
    "duration": 15,
    "start_time": "2022-10-13T13:41:48.729Z"
   },
   {
    "duration": 17,
    "start_time": "2022-10-13T13:41:48.747Z"
   },
   {
    "duration": 246,
    "start_time": "2022-10-13T13:41:48.765Z"
   },
   {
    "duration": 341,
    "start_time": "2022-10-13T13:41:49.013Z"
   },
   {
    "duration": 303,
    "start_time": "2022-10-13T13:41:49.355Z"
   },
   {
    "duration": 20,
    "start_time": "2022-10-13T13:41:49.660Z"
   },
   {
    "duration": 4,
    "start_time": "2022-10-13T13:41:49.682Z"
   },
   {
    "duration": 410,
    "start_time": "2022-10-13T13:41:49.688Z"
   },
   {
    "duration": 373,
    "start_time": "2022-10-13T13:41:50.100Z"
   },
   {
    "duration": 341,
    "start_time": "2022-10-13T13:41:50.475Z"
   },
   {
    "duration": 666,
    "start_time": "2022-10-13T13:41:50.818Z"
   },
   {
    "duration": 622,
    "start_time": "2022-10-13T13:41:51.485Z"
   },
   {
    "duration": 667,
    "start_time": "2022-10-13T13:41:52.109Z"
   },
   {
    "duration": 189,
    "start_time": "2022-10-13T13:41:52.778Z"
   },
   {
    "duration": 345,
    "start_time": "2022-10-13T13:41:52.969Z"
   },
   {
    "duration": 407,
    "start_time": "2022-10-13T13:41:53.316Z"
   },
   {
    "duration": 552,
    "start_time": "2022-10-13T13:41:53.725Z"
   },
   {
    "duration": 406,
    "start_time": "2022-10-13T13:41:54.278Z"
   },
   {
    "duration": 21,
    "start_time": "2022-10-13T13:41:54.686Z"
   },
   {
    "duration": 16,
    "start_time": "2022-10-13T13:41:54.709Z"
   },
   {
    "duration": 107,
    "start_time": "2022-10-13T13:45:28.465Z"
   },
   {
    "duration": 4,
    "start_time": "2022-10-13T13:45:56.222Z"
   },
   {
    "duration": 11,
    "start_time": "2022-10-13T13:46:07.968Z"
   },
   {
    "duration": 1169,
    "start_time": "2022-10-13T13:46:24.791Z"
   },
   {
    "duration": 53,
    "start_time": "2022-10-13T13:46:25.962Z"
   },
   {
    "duration": 36,
    "start_time": "2022-10-13T13:46:26.017Z"
   },
   {
    "duration": 23,
    "start_time": "2022-10-13T13:46:26.055Z"
   },
   {
    "duration": 9,
    "start_time": "2022-10-13T13:46:26.095Z"
   },
   {
    "duration": 35,
    "start_time": "2022-10-13T13:46:26.106Z"
   },
   {
    "duration": 26,
    "start_time": "2022-10-13T13:46:26.143Z"
   },
   {
    "duration": 4,
    "start_time": "2022-10-13T13:46:26.171Z"
   },
   {
    "duration": 43,
    "start_time": "2022-10-13T13:46:26.177Z"
   },
   {
    "duration": 7,
    "start_time": "2022-10-13T13:46:26.223Z"
   },
   {
    "duration": 8,
    "start_time": "2022-10-13T13:46:26.231Z"
   },
   {
    "duration": 73,
    "start_time": "2022-10-13T13:46:26.241Z"
   },
   {
    "duration": 14,
    "start_time": "2022-10-13T13:46:26.316Z"
   },
   {
    "duration": 15,
    "start_time": "2022-10-13T13:46:26.332Z"
   },
   {
    "duration": 265,
    "start_time": "2022-10-13T13:46:26.349Z"
   },
   {
    "duration": 453,
    "start_time": "2022-10-13T13:46:26.616Z"
   },
   {
    "duration": 323,
    "start_time": "2022-10-13T13:46:27.071Z"
   },
   {
    "duration": 22,
    "start_time": "2022-10-13T13:46:27.396Z"
   },
   {
    "duration": 5,
    "start_time": "2022-10-13T13:46:27.420Z"
   },
   {
    "duration": 416,
    "start_time": "2022-10-13T13:46:27.427Z"
   },
   {
    "duration": 367,
    "start_time": "2022-10-13T13:46:27.844Z"
   },
   {
    "duration": 333,
    "start_time": "2022-10-13T13:46:28.212Z"
   },
   {
    "duration": 649,
    "start_time": "2022-10-13T13:46:28.547Z"
   },
   {
    "duration": 585,
    "start_time": "2022-10-13T13:46:29.198Z"
   },
   {
    "duration": 632,
    "start_time": "2022-10-13T13:46:29.785Z"
   },
   {
    "duration": 178,
    "start_time": "2022-10-13T13:46:30.418Z"
   },
   {
    "duration": 322,
    "start_time": "2022-10-13T13:46:30.598Z"
   },
   {
    "duration": 407,
    "start_time": "2022-10-13T13:46:30.923Z"
   },
   {
    "duration": 514,
    "start_time": "2022-10-13T13:46:31.332Z"
   },
   {
    "duration": 400,
    "start_time": "2022-10-13T13:46:31.848Z"
   },
   {
    "duration": 17,
    "start_time": "2022-10-13T13:46:32.249Z"
   },
   {
    "duration": 37,
    "start_time": "2022-10-13T13:46:32.267Z"
   },
   {
    "duration": 363,
    "start_time": "2022-10-13T14:02:06.670Z"
   },
   {
    "duration": 12,
    "start_time": "2022-10-13T14:12:25.999Z"
   },
   {
    "duration": 1146,
    "start_time": "2022-10-13T14:12:33.610Z"
   },
   {
    "duration": 52,
    "start_time": "2022-10-13T14:12:34.758Z"
   },
   {
    "duration": 31,
    "start_time": "2022-10-13T14:12:34.812Z"
   },
   {
    "duration": 15,
    "start_time": "2022-10-13T14:12:34.845Z"
   },
   {
    "duration": 7,
    "start_time": "2022-10-13T14:12:34.862Z"
   },
   {
    "duration": 34,
    "start_time": "2022-10-13T14:12:34.871Z"
   },
   {
    "duration": 19,
    "start_time": "2022-10-13T14:12:34.907Z"
   },
   {
    "duration": 4,
    "start_time": "2022-10-13T14:12:34.928Z"
   },
   {
    "duration": 33,
    "start_time": "2022-10-13T14:12:34.934Z"
   },
   {
    "duration": 7,
    "start_time": "2022-10-13T14:12:34.995Z"
   },
   {
    "duration": 8,
    "start_time": "2022-10-13T14:12:35.004Z"
   },
   {
    "duration": 54,
    "start_time": "2022-10-13T14:12:35.013Z"
   },
   {
    "duration": 35,
    "start_time": "2022-10-13T14:12:35.069Z"
   },
   {
    "duration": 16,
    "start_time": "2022-10-13T14:12:35.106Z"
   },
   {
    "duration": 211,
    "start_time": "2022-10-13T14:12:35.124Z"
   },
   {
    "duration": 339,
    "start_time": "2022-10-13T14:12:35.337Z"
   },
   {
    "duration": 344,
    "start_time": "2022-10-13T14:12:35.678Z"
   },
   {
    "duration": 22,
    "start_time": "2022-10-13T14:12:36.024Z"
   },
   {
    "duration": 5,
    "start_time": "2022-10-13T14:12:36.047Z"
   },
   {
    "duration": 428,
    "start_time": "2022-10-13T14:12:36.054Z"
   },
   {
    "duration": 417,
    "start_time": "2022-10-13T14:12:36.484Z"
   },
   {
    "duration": 325,
    "start_time": "2022-10-13T14:12:36.902Z"
   },
   {
    "duration": 657,
    "start_time": "2022-10-13T14:12:37.229Z"
   },
   {
    "duration": 615,
    "start_time": "2022-10-13T14:12:37.888Z"
   },
   {
    "duration": 631,
    "start_time": "2022-10-13T14:12:38.505Z"
   },
   {
    "duration": 179,
    "start_time": "2022-10-13T14:12:39.138Z"
   },
   {
    "duration": 354,
    "start_time": "2022-10-13T14:12:39.319Z"
   },
   {
    "duration": 402,
    "start_time": "2022-10-13T14:12:39.676Z"
   },
   {
    "duration": 523,
    "start_time": "2022-10-13T14:12:40.080Z"
   },
   {
    "duration": 396,
    "start_time": "2022-10-13T14:12:40.604Z"
   },
   {
    "duration": 15,
    "start_time": "2022-10-13T14:12:41.001Z"
   },
   {
    "duration": 15,
    "start_time": "2022-10-13T14:12:41.017Z"
   },
   {
    "duration": 20,
    "start_time": "2022-10-13T14:14:20.227Z"
   },
   {
    "duration": 1245,
    "start_time": "2022-10-13T14:14:36.876Z"
   },
   {
    "duration": 53,
    "start_time": "2022-10-13T14:14:38.125Z"
   },
   {
    "duration": 34,
    "start_time": "2022-10-13T14:14:38.180Z"
   },
   {
    "duration": 16,
    "start_time": "2022-10-13T14:14:38.216Z"
   },
   {
    "duration": 9,
    "start_time": "2022-10-13T14:14:38.233Z"
   },
   {
    "duration": 21,
    "start_time": "2022-10-13T14:14:38.244Z"
   },
   {
    "duration": 47,
    "start_time": "2022-10-13T14:14:38.267Z"
   },
   {
    "duration": 5,
    "start_time": "2022-10-13T14:14:38.316Z"
   },
   {
    "duration": 31,
    "start_time": "2022-10-13T14:14:38.323Z"
   },
   {
    "duration": 37,
    "start_time": "2022-10-13T14:14:38.358Z"
   },
   {
    "duration": 5,
    "start_time": "2022-10-13T14:14:38.397Z"
   },
   {
    "duration": 53,
    "start_time": "2022-10-13T14:14:38.403Z"
   },
   {
    "duration": 41,
    "start_time": "2022-10-13T14:14:38.459Z"
   },
   {
    "duration": 17,
    "start_time": "2022-10-13T14:14:38.502Z"
   },
   {
    "duration": 224,
    "start_time": "2022-10-13T14:14:38.520Z"
   },
   {
    "duration": 334,
    "start_time": "2022-10-13T14:14:38.746Z"
   },
   {
    "duration": 360,
    "start_time": "2022-10-13T14:14:39.082Z"
   },
   {
    "duration": 21,
    "start_time": "2022-10-13T14:14:39.444Z"
   },
   {
    "duration": 4,
    "start_time": "2022-10-13T14:14:39.466Z"
   },
   {
    "duration": 378,
    "start_time": "2022-10-13T14:14:39.472Z"
   },
   {
    "duration": 328,
    "start_time": "2022-10-13T14:14:39.851Z"
   },
   {
    "duration": 363,
    "start_time": "2022-10-13T14:14:40.181Z"
   },
   {
    "duration": 623,
    "start_time": "2022-10-13T14:14:40.546Z"
   },
   {
    "duration": 684,
    "start_time": "2022-10-13T14:14:41.171Z"
   },
   {
    "duration": 617,
    "start_time": "2022-10-13T14:14:41.856Z"
   },
   {
    "duration": 190,
    "start_time": "2022-10-13T14:14:42.475Z"
   },
   {
    "duration": 321,
    "start_time": "2022-10-13T14:14:42.667Z"
   },
   {
    "duration": 420,
    "start_time": "2022-10-13T14:14:42.991Z"
   },
   {
    "duration": 540,
    "start_time": "2022-10-13T14:14:43.412Z"
   },
   {
    "duration": 424,
    "start_time": "2022-10-13T14:14:43.954Z"
   },
   {
    "duration": 22,
    "start_time": "2022-10-13T14:14:44.379Z"
   },
   {
    "duration": 15,
    "start_time": "2022-10-13T14:14:44.403Z"
   },
   {
    "duration": 277,
    "start_time": "2022-10-13T14:24:48.528Z"
   },
   {
    "duration": 288,
    "start_time": "2022-10-13T14:24:59.569Z"
   },
   {
    "duration": 240,
    "start_time": "2022-10-13T14:25:08.326Z"
   },
   {
    "duration": 371,
    "start_time": "2022-10-13T14:29:15.373Z"
   },
   {
    "duration": 1151,
    "start_time": "2022-10-13T14:29:31.869Z"
   },
   {
    "duration": 52,
    "start_time": "2022-10-13T14:29:33.022Z"
   },
   {
    "duration": 35,
    "start_time": "2022-10-13T14:29:33.076Z"
   },
   {
    "duration": 14,
    "start_time": "2022-10-13T14:29:33.114Z"
   },
   {
    "duration": 10,
    "start_time": "2022-10-13T14:29:33.130Z"
   },
   {
    "duration": 18,
    "start_time": "2022-10-13T14:29:33.141Z"
   },
   {
    "duration": 46,
    "start_time": "2022-10-13T14:29:33.161Z"
   },
   {
    "duration": 5,
    "start_time": "2022-10-13T14:29:33.209Z"
   },
   {
    "duration": 36,
    "start_time": "2022-10-13T14:29:33.215Z"
   },
   {
    "duration": 7,
    "start_time": "2022-10-13T14:29:33.255Z"
   },
   {
    "duration": 8,
    "start_time": "2022-10-13T14:29:33.264Z"
   },
   {
    "duration": 71,
    "start_time": "2022-10-13T14:29:33.274Z"
   },
   {
    "duration": 15,
    "start_time": "2022-10-13T14:29:33.347Z"
   },
   {
    "duration": 42,
    "start_time": "2022-10-13T14:29:33.364Z"
   },
   {
    "duration": 224,
    "start_time": "2022-10-13T14:29:33.407Z"
   },
   {
    "duration": 353,
    "start_time": "2022-10-13T14:29:33.633Z"
   },
   {
    "duration": 350,
    "start_time": "2022-10-13T14:29:33.988Z"
   },
   {
    "duration": 21,
    "start_time": "2022-10-13T14:29:34.341Z"
   },
   {
    "duration": 5,
    "start_time": "2022-10-13T14:29:34.364Z"
   },
   {
    "duration": 356,
    "start_time": "2022-10-13T14:29:34.371Z"
   },
   {
    "duration": 250,
    "start_time": "2022-10-13T14:29:34.729Z"
   },
   {
    "duration": 464,
    "start_time": "2022-10-13T14:29:34.981Z"
   },
   {
    "duration": 325,
    "start_time": "2022-10-13T14:29:35.447Z"
   },
   {
    "duration": 509,
    "start_time": "2022-10-13T14:29:35.774Z"
   },
   {
    "duration": 733,
    "start_time": "2022-10-13T14:29:36.285Z"
   },
   {
    "duration": 588,
    "start_time": "2022-10-13T14:29:37.020Z"
   },
   {
    "duration": 189,
    "start_time": "2022-10-13T14:29:37.609Z"
   },
   {
    "duration": 328,
    "start_time": "2022-10-13T14:29:37.801Z"
   },
   {
    "duration": 545,
    "start_time": "2022-10-13T14:29:38.133Z"
   },
   {
    "duration": 427,
    "start_time": "2022-10-13T14:29:38.680Z"
   },
   {
    "duration": 447,
    "start_time": "2022-10-13T14:29:39.109Z"
   },
   {
    "duration": 15,
    "start_time": "2022-10-13T14:29:39.558Z"
   },
   {
    "duration": 30,
    "start_time": "2022-10-13T14:29:39.595Z"
   },
   {
    "duration": 569,
    "start_time": "2022-10-13T14:30:49.519Z"
   },
   {
    "duration": 264,
    "start_time": "2022-10-13T14:34:24.755Z"
   },
   {
    "duration": 428,
    "start_time": "2022-10-13T14:34:55.281Z"
   },
   {
    "duration": 615,
    "start_time": "2022-10-13T14:40:22.799Z"
   },
   {
    "duration": 2,
    "start_time": "2022-10-13T14:46:49.974Z"
   },
   {
    "duration": 537,
    "start_time": "2022-10-13T14:48:26.431Z"
   },
   {
    "duration": 120,
    "start_time": "2022-10-13T15:13:17.160Z"
   },
   {
    "duration": 677,
    "start_time": "2022-10-13T15:13:46.888Z"
   },
   {
    "duration": 777,
    "start_time": "2022-10-13T15:15:03.757Z"
   },
   {
    "duration": 629,
    "start_time": "2022-10-13T15:15:12.055Z"
   },
   {
    "duration": 658,
    "start_time": "2022-10-13T15:17:27.185Z"
   },
   {
    "duration": 660,
    "start_time": "2022-10-13T15:19:51.773Z"
   },
   {
    "duration": 678,
    "start_time": "2022-10-13T15:23:22.996Z"
   },
   {
    "duration": 593,
    "start_time": "2022-10-13T15:23:45.806Z"
   },
   {
    "duration": 1521,
    "start_time": "2022-10-14T08:30:15.791Z"
   },
   {
    "duration": 298,
    "start_time": "2022-10-14T08:30:17.315Z"
   },
   {
    "duration": 47,
    "start_time": "2022-10-14T08:30:17.615Z"
   },
   {
    "duration": 20,
    "start_time": "2022-10-14T08:30:17.670Z"
   },
   {
    "duration": 7,
    "start_time": "2022-10-14T08:30:17.692Z"
   },
   {
    "duration": 18,
    "start_time": "2022-10-14T08:30:17.700Z"
   },
   {
    "duration": 73,
    "start_time": "2022-10-14T08:30:17.719Z"
   },
   {
    "duration": 5,
    "start_time": "2022-10-14T08:30:17.794Z"
   },
   {
    "duration": 46,
    "start_time": "2022-10-14T08:30:17.801Z"
   },
   {
    "duration": 21,
    "start_time": "2022-10-14T08:30:17.849Z"
   },
   {
    "duration": 16,
    "start_time": "2022-10-14T08:30:17.872Z"
   },
   {
    "duration": 84,
    "start_time": "2022-10-14T08:30:17.890Z"
   },
   {
    "duration": 14,
    "start_time": "2022-10-14T08:30:17.976Z"
   },
   {
    "duration": 15,
    "start_time": "2022-10-14T08:30:17.993Z"
   },
   {
    "duration": 213,
    "start_time": "2022-10-14T08:30:18.009Z"
   },
   {
    "duration": 373,
    "start_time": "2022-10-14T08:30:18.224Z"
   },
   {
    "duration": 472,
    "start_time": "2022-10-14T08:30:18.599Z"
   },
   {
    "duration": 22,
    "start_time": "2022-10-14T08:30:19.073Z"
   },
   {
    "duration": 5,
    "start_time": "2022-10-14T08:30:19.097Z"
   },
   {
    "duration": 453,
    "start_time": "2022-10-14T08:30:19.104Z"
   },
   {
    "duration": 254,
    "start_time": "2022-10-14T08:30:19.559Z"
   },
   {
    "duration": 782,
    "start_time": "2022-10-14T08:30:19.826Z"
   },
   {
    "duration": 424,
    "start_time": "2022-10-14T08:30:20.610Z"
   },
   {
    "duration": 351,
    "start_time": "2022-10-14T08:30:21.036Z"
   },
   {
    "duration": 751,
    "start_time": "2022-10-14T08:30:21.390Z"
   },
   {
    "duration": 361,
    "start_time": "2022-10-14T08:30:22.143Z"
   },
   {
    "duration": 241,
    "start_time": "2022-10-14T08:30:22.505Z"
   },
   {
    "duration": 737,
    "start_time": "2022-10-14T08:30:22.751Z"
   },
   {
    "duration": 118,
    "start_time": "2022-10-14T08:30:23.489Z"
   },
   {
    "duration": 0,
    "start_time": "2022-10-14T08:30:23.609Z"
   },
   {
    "duration": 0,
    "start_time": "2022-10-14T08:30:23.610Z"
   },
   {
    "duration": 0,
    "start_time": "2022-10-14T08:30:23.611Z"
   },
   {
    "duration": 0,
    "start_time": "2022-10-14T08:30:23.612Z"
   },
   {
    "duration": 0,
    "start_time": "2022-10-14T08:30:23.613Z"
   },
   {
    "duration": 605,
    "start_time": "2022-10-14T08:32:13.138Z"
   },
   {
    "duration": 307,
    "start_time": "2022-10-14T08:33:07.896Z"
   },
   {
    "duration": 130,
    "start_time": "2022-10-14T08:34:47.753Z"
   },
   {
    "duration": 104,
    "start_time": "2022-10-14T08:36:03.167Z"
   },
   {
    "duration": 80,
    "start_time": "2022-10-14T08:38:26.162Z"
   },
   {
    "duration": 89,
    "start_time": "2022-10-14T08:38:40.314Z"
   },
   {
    "duration": 118,
    "start_time": "2022-10-14T08:39:09.793Z"
   },
   {
    "duration": 75,
    "start_time": "2022-10-14T08:39:24.266Z"
   },
   {
    "duration": 69,
    "start_time": "2022-10-14T08:39:38.409Z"
   },
   {
    "duration": 146,
    "start_time": "2022-10-14T08:39:44.913Z"
   },
   {
    "duration": 1166,
    "start_time": "2022-10-14T08:43:22.857Z"
   },
   {
    "duration": 49,
    "start_time": "2022-10-14T08:43:24.026Z"
   },
   {
    "duration": 40,
    "start_time": "2022-10-14T08:43:24.078Z"
   },
   {
    "duration": 17,
    "start_time": "2022-10-14T08:43:24.120Z"
   },
   {
    "duration": 23,
    "start_time": "2022-10-14T08:43:24.138Z"
   },
   {
    "duration": 21,
    "start_time": "2022-10-14T08:43:24.162Z"
   },
   {
    "duration": 26,
    "start_time": "2022-10-14T08:43:24.185Z"
   },
   {
    "duration": 8,
    "start_time": "2022-10-14T08:43:24.213Z"
   },
   {
    "duration": 47,
    "start_time": "2022-10-14T08:43:24.222Z"
   },
   {
    "duration": 7,
    "start_time": "2022-10-14T08:43:24.272Z"
   },
   {
    "duration": 27,
    "start_time": "2022-10-14T08:43:24.280Z"
   },
   {
    "duration": 74,
    "start_time": "2022-10-14T08:43:24.309Z"
   },
   {
    "duration": 12,
    "start_time": "2022-10-14T08:43:24.384Z"
   },
   {
    "duration": 28,
    "start_time": "2022-10-14T08:43:24.397Z"
   },
   {
    "duration": 186,
    "start_time": "2022-10-14T08:43:24.426Z"
   },
   {
    "duration": 296,
    "start_time": "2022-10-14T08:43:24.613Z"
   },
   {
    "duration": 313,
    "start_time": "2022-10-14T08:43:24.911Z"
   },
   {
    "duration": 26,
    "start_time": "2022-10-14T08:43:25.226Z"
   },
   {
    "duration": 7,
    "start_time": "2022-10-14T08:43:25.254Z"
   },
   {
    "duration": 361,
    "start_time": "2022-10-14T08:43:25.263Z"
   },
   {
    "duration": 227,
    "start_time": "2022-10-14T08:43:25.626Z"
   },
   {
    "duration": 685,
    "start_time": "2022-10-14T08:43:25.854Z"
   },
   {
    "duration": 285,
    "start_time": "2022-10-14T08:43:26.541Z"
   },
   {
    "duration": 247,
    "start_time": "2022-10-14T08:43:26.828Z"
   },
   {
    "duration": 596,
    "start_time": "2022-10-14T08:43:27.077Z"
   },
   {
    "duration": 288,
    "start_time": "2022-10-14T08:43:27.675Z"
   },
   {
    "duration": 293,
    "start_time": "2022-10-14T08:43:27.965Z"
   },
   {
    "duration": 172,
    "start_time": "2022-10-14T08:43:28.261Z"
   },
   {
    "duration": 622,
    "start_time": "2022-10-14T08:43:28.435Z"
   },
   {
    "duration": 623,
    "start_time": "2022-10-14T08:43:29.059Z"
   },
   {
    "duration": 597,
    "start_time": "2022-10-14T08:43:29.684Z"
   },
   {
    "duration": 389,
    "start_time": "2022-10-14T08:43:30.283Z"
   },
   {
    "duration": 14,
    "start_time": "2022-10-14T08:43:30.673Z"
   },
   {
    "duration": 40,
    "start_time": "2022-10-14T08:43:30.688Z"
   },
   {
    "duration": 325,
    "start_time": "2022-10-14T08:46:25.198Z"
   },
   {
    "duration": 1004,
    "start_time": "2022-10-14T08:52:13.511Z"
   },
   {
    "duration": 244,
    "start_time": "2022-10-14T08:59:37.248Z"
   },
   {
    "duration": 5,
    "start_time": "2022-10-14T09:07:20.392Z"
   },
   {
    "duration": 223,
    "start_time": "2022-10-14T09:07:32.288Z"
   },
   {
    "duration": 1329,
    "start_time": "2022-10-14T09:09:54.312Z"
   },
   {
    "duration": 1420,
    "start_time": "2022-10-14T09:11:25.000Z"
   },
   {
    "duration": 1606,
    "start_time": "2022-10-14T09:12:03.672Z"
   },
   {
    "duration": 437,
    "start_time": "2022-10-14T09:16:58.204Z"
   },
   {
    "duration": 637,
    "start_time": "2022-10-14T09:20:48.204Z"
   },
   {
    "duration": 992,
    "start_time": "2022-10-14T09:24:38.830Z"
   },
   {
    "duration": 2065,
    "start_time": "2022-10-14T09:26:05.118Z"
   },
   {
    "duration": 655,
    "start_time": "2022-10-14T09:40:19.645Z"
   },
   {
    "duration": 855,
    "start_time": "2022-10-14T09:40:50.829Z"
   },
   {
    "duration": 625,
    "start_time": "2022-10-14T09:41:57.484Z"
   },
   {
    "duration": 847,
    "start_time": "2022-10-14T09:46:22.119Z"
   },
   {
    "duration": 913,
    "start_time": "2022-10-14T09:46:55.126Z"
   },
   {
    "duration": 807,
    "start_time": "2022-10-14T09:47:14.919Z"
   },
   {
    "duration": 927,
    "start_time": "2022-10-14T09:47:33.839Z"
   },
   {
    "duration": 594,
    "start_time": "2022-10-14T09:48:01.903Z"
   },
   {
    "duration": 869,
    "start_time": "2022-10-14T09:48:25.000Z"
   },
   {
    "duration": 890,
    "start_time": "2022-10-14T09:56:11.906Z"
   },
   {
    "duration": 947,
    "start_time": "2022-10-14T10:02:08.045Z"
   },
   {
    "duration": 854,
    "start_time": "2022-10-14T10:02:57.205Z"
   },
   {
    "duration": 307,
    "start_time": "2022-10-14T10:07:26.149Z"
   },
   {
    "duration": 387,
    "start_time": "2022-10-14T10:09:13.762Z"
   },
   {
    "duration": 515,
    "start_time": "2022-10-14T10:09:33.296Z"
   },
   {
    "duration": 430,
    "start_time": "2022-10-14T10:09:44.745Z"
   },
   {
    "duration": 405,
    "start_time": "2022-10-14T10:11:37.682Z"
   },
   {
    "duration": 387,
    "start_time": "2022-10-14T10:12:02.075Z"
   },
   {
    "duration": 360,
    "start_time": "2022-10-14T10:14:16.043Z"
   },
   {
    "duration": 589,
    "start_time": "2022-10-14T10:19:18.022Z"
   },
   {
    "duration": 505,
    "start_time": "2022-10-14T10:19:43.501Z"
   },
   {
    "duration": 630,
    "start_time": "2022-10-14T10:22:03.574Z"
   },
   {
    "duration": 1314,
    "start_time": "2022-10-15T09:12:55.705Z"
   },
   {
    "duration": 200,
    "start_time": "2022-10-15T09:12:57.021Z"
   },
   {
    "duration": 36,
    "start_time": "2022-10-15T09:12:57.222Z"
   },
   {
    "duration": 15,
    "start_time": "2022-10-15T09:12:57.259Z"
   },
   {
    "duration": 29,
    "start_time": "2022-10-15T09:12:57.276Z"
   },
   {
    "duration": 20,
    "start_time": "2022-10-15T09:12:57.307Z"
   },
   {
    "duration": 44,
    "start_time": "2022-10-15T09:12:57.329Z"
   },
   {
    "duration": 6,
    "start_time": "2022-10-15T09:12:57.375Z"
   },
   {
    "duration": 44,
    "start_time": "2022-10-15T09:12:57.383Z"
   },
   {
    "duration": 8,
    "start_time": "2022-10-15T09:12:57.430Z"
   },
   {
    "duration": 16,
    "start_time": "2022-10-15T09:12:57.440Z"
   },
   {
    "duration": 53,
    "start_time": "2022-10-15T09:12:57.458Z"
   },
   {
    "duration": 15,
    "start_time": "2022-10-15T09:12:57.513Z"
   },
   {
    "duration": 16,
    "start_time": "2022-10-15T09:12:57.531Z"
   },
   {
    "duration": 229,
    "start_time": "2022-10-15T09:12:57.549Z"
   },
   {
    "duration": 345,
    "start_time": "2022-10-15T09:12:57.780Z"
   },
   {
    "duration": 394,
    "start_time": "2022-10-15T09:12:58.127Z"
   },
   {
    "duration": 21,
    "start_time": "2022-10-15T09:12:58.523Z"
   },
   {
    "duration": 5,
    "start_time": "2022-10-15T09:12:58.549Z"
   },
   {
    "duration": 380,
    "start_time": "2022-10-15T09:12:58.555Z"
   },
   {
    "duration": 254,
    "start_time": "2022-10-15T09:12:58.937Z"
   },
   {
    "duration": 685,
    "start_time": "2022-10-15T09:12:59.193Z"
   },
   {
    "duration": 340,
    "start_time": "2022-10-15T09:12:59.889Z"
   },
   {
    "duration": 330,
    "start_time": "2022-10-15T09:13:00.231Z"
   },
   {
    "duration": 710,
    "start_time": "2022-10-15T09:13:00.563Z"
   },
   {
    "duration": 329,
    "start_time": "2022-10-15T09:13:01.275Z"
   },
   {
    "duration": 381,
    "start_time": "2022-10-15T09:13:01.606Z"
   },
   {
    "duration": 200,
    "start_time": "2022-10-15T09:13:01.989Z"
   },
   {
    "duration": 727,
    "start_time": "2022-10-15T09:13:02.191Z"
   },
   {
    "duration": 914,
    "start_time": "2022-10-15T09:13:02.920Z"
   },
   {
    "duration": 591,
    "start_time": "2022-10-15T09:13:03.836Z"
   },
   {
    "duration": 527,
    "start_time": "2022-10-15T09:13:04.430Z"
   },
   {
    "duration": 33,
    "start_time": "2022-10-15T09:13:04.959Z"
   },
   {
    "duration": 14,
    "start_time": "2022-10-15T09:13:04.994Z"
   },
   {
    "duration": 111,
    "start_time": "2022-10-15T09:23:03.762Z"
   },
   {
    "duration": 24,
    "start_time": "2022-10-15T09:24:36.734Z"
   },
   {
    "duration": 33,
    "start_time": "2022-10-15T09:25:33.240Z"
   },
   {
    "duration": 229,
    "start_time": "2022-10-15T09:26:10.743Z"
   },
   {
    "duration": 317,
    "start_time": "2022-10-15T09:26:25.146Z"
   },
   {
    "duration": 348,
    "start_time": "2022-10-15T09:27:35.559Z"
   },
   {
    "duration": 381,
    "start_time": "2022-10-15T09:27:48.498Z"
   },
   {
    "duration": 469,
    "start_time": "2022-10-15T09:28:07.550Z"
   },
   {
    "duration": 497,
    "start_time": "2022-10-15T09:28:20.210Z"
   },
   {
    "duration": 391,
    "start_time": "2022-10-15T09:28:36.806Z"
   },
   {
    "duration": 378,
    "start_time": "2022-10-15T09:29:55.406Z"
   },
   {
    "duration": 418,
    "start_time": "2022-10-15T09:31:15.465Z"
   },
   {
    "duration": 367,
    "start_time": "2022-10-15T09:31:26.803Z"
   },
   {
    "duration": 1068,
    "start_time": "2022-10-15T09:36:23.724Z"
   },
   {
    "duration": 965,
    "start_time": "2022-10-15T09:36:32.437Z"
   },
   {
    "duration": 92,
    "start_time": "2022-10-15T09:39:33.454Z"
   },
   {
    "duration": 716,
    "start_time": "2022-10-15T09:40:45.354Z"
   },
   {
    "duration": 965,
    "start_time": "2022-10-15T09:41:12.252Z"
   },
   {
    "duration": 1242,
    "start_time": "2022-10-15T09:43:21.716Z"
   },
   {
    "duration": 633,
    "start_time": "2022-10-15T09:43:38.150Z"
   },
   {
    "duration": 605,
    "start_time": "2022-10-15T09:43:53.645Z"
   },
   {
    "duration": 590,
    "start_time": "2022-10-15T09:44:10.081Z"
   },
   {
    "duration": 769,
    "start_time": "2022-10-15T09:44:40.377Z"
   },
   {
    "duration": 382,
    "start_time": "2022-10-15T09:45:04.597Z"
   },
   {
    "duration": 644,
    "start_time": "2022-10-15T09:46:27.246Z"
   },
   {
    "duration": 613,
    "start_time": "2022-10-15T09:49:22.488Z"
   },
   {
    "duration": 825,
    "start_time": "2022-10-15T09:59:20.662Z"
   },
   {
    "duration": 75,
    "start_time": "2022-10-15T10:20:35.877Z"
   },
   {
    "duration": 1348,
    "start_time": "2022-10-15T10:23:59.782Z"
   },
   {
    "duration": 56,
    "start_time": "2022-10-15T10:24:01.132Z"
   },
   {
    "duration": 37,
    "start_time": "2022-10-15T10:24:01.190Z"
   },
   {
    "duration": 16,
    "start_time": "2022-10-15T10:24:01.229Z"
   },
   {
    "duration": 38,
    "start_time": "2022-10-15T10:24:01.247Z"
   },
   {
    "duration": 38,
    "start_time": "2022-10-15T10:24:01.287Z"
   },
   {
    "duration": 51,
    "start_time": "2022-10-15T10:24:01.327Z"
   },
   {
    "duration": 9,
    "start_time": "2022-10-15T10:24:01.379Z"
   },
   {
    "duration": 66,
    "start_time": "2022-10-15T10:24:01.390Z"
   },
   {
    "duration": 8,
    "start_time": "2022-10-15T10:24:01.459Z"
   },
   {
    "duration": 43,
    "start_time": "2022-10-15T10:24:01.469Z"
   },
   {
    "duration": 75,
    "start_time": "2022-10-15T10:24:01.514Z"
   },
   {
    "duration": 18,
    "start_time": "2022-10-15T10:24:01.591Z"
   },
   {
    "duration": 30,
    "start_time": "2022-10-15T10:24:01.612Z"
   },
   {
    "duration": 277,
    "start_time": "2022-10-15T10:24:01.644Z"
   },
   {
    "duration": 435,
    "start_time": "2022-10-15T10:24:01.923Z"
   },
   {
    "duration": 437,
    "start_time": "2022-10-15T10:24:02.360Z"
   },
   {
    "duration": 22,
    "start_time": "2022-10-15T10:24:02.799Z"
   },
   {
    "duration": 5,
    "start_time": "2022-10-15T10:24:02.822Z"
   },
   {
    "duration": 456,
    "start_time": "2022-10-15T10:24:02.829Z"
   },
   {
    "duration": 272,
    "start_time": "2022-10-15T10:24:03.287Z"
   },
   {
    "duration": 726,
    "start_time": "2022-10-15T10:24:03.562Z"
   },
   {
    "duration": 342,
    "start_time": "2022-10-15T10:24:04.289Z"
   },
   {
    "duration": 300,
    "start_time": "2022-10-15T10:24:04.634Z"
   },
   {
    "duration": 715,
    "start_time": "2022-10-15T10:24:04.937Z"
   },
   {
    "duration": 310,
    "start_time": "2022-10-15T10:24:05.653Z"
   },
   {
    "duration": 344,
    "start_time": "2022-10-15T10:24:05.966Z"
   },
   {
    "duration": 208,
    "start_time": "2022-10-15T10:24:06.313Z"
   },
   {
    "duration": 750,
    "start_time": "2022-10-15T10:24:06.523Z"
   },
   {
    "duration": 705,
    "start_time": "2022-10-15T10:24:07.275Z"
   },
   {
    "duration": 660,
    "start_time": "2022-10-15T10:24:07.982Z"
   },
   {
    "duration": 581,
    "start_time": "2022-10-15T10:24:08.644Z"
   },
   {
    "duration": 17,
    "start_time": "2022-10-15T10:24:09.226Z"
   },
   {
    "duration": 19,
    "start_time": "2022-10-15T10:24:09.245Z"
   }
  ],
  "kernelspec": {
   "display_name": "Python 3 (ipykernel)",
   "language": "python",
   "name": "python3"
  },
  "language_info": {
   "codemirror_mode": {
    "name": "ipython",
    "version": 3
   },
   "file_extension": ".py",
   "mimetype": "text/x-python",
   "name": "python",
   "nbconvert_exporter": "python",
   "pygments_lexer": "ipython3",
   "version": "3.11.1"
  },
  "toc": {
   "base_numbering": 1,
   "nav_menu": {},
   "number_sections": true,
   "sideBar": true,
   "skip_h1_title": true,
   "title_cell": "Table of Contents",
   "title_sidebar": "Contents",
   "toc_cell": false,
   "toc_position": {
    "height": "calc(100% - 180px)",
    "left": "10px",
    "top": "150px",
    "width": "165px"
   },
   "toc_section_display": true,
   "toc_window_display": true
  }
 },
 "nbformat": 4,
 "nbformat_minor": 2
}
