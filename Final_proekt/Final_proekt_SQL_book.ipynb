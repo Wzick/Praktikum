{
 "cells": [
  {
   "cell_type": "markdown",
   "metadata": {},
   "source": [
    "# Проект по SQL\n",
    "\n",
    "**Дано:** \n",
    "\n",
    "база данных крупного сервиса по чтению книг по подписке. В ней — информация о книгах, издательствах, авторах, а также пользовательские обзоры книг. \n",
    "\n",
    "**Цель**: оценит базу данных с точки зрения ее ценности."
   ]
  },
  {
   "cell_type": "markdown",
   "metadata": {},
   "source": []
  },
  {
   "cell_type": "code",
   "execution_count": 1,
   "metadata": {},
   "outputs": [],
   "source": [
    "# импортируем библиотеки\n",
    "import pandas as pd \n",
    "from sqlalchemy import create_engine "
   ]
  },
  {
   "cell_type": "code",
   "execution_count": 2,
   "metadata": {},
   "outputs": [],
   "source": [
    "# устанавливаем параметры\n",
    "db_config = {'user': 'praktikum_student', # имя пользователя\n",
    "'pwd': 'Sdf4$2;d-d30pp', # пароль\n",
    "'host': 'rc1b-wcoijxj3yxfsf3fs.mdb.yandexcloud.net', \n",
    "'port': 6432, # порт подключения\n",
    "'db': 'data-analyst-final-project-db'} # название базы данных\n",
    "connection_string = 'postgresql://{}:{}@{}:{}/{}'.format(db_config['user'], \n",
    " db_config['pwd'], \n",
    " db_config['host'], \n",
    " db_config['port'], \n",
    " db_config['db']) "
   ]
  },
  {
   "cell_type": "code",
   "execution_count": 3,
   "metadata": {},
   "outputs": [],
   "source": [
    "# сохраняем коннектор\n",
    "engine = create_engine(connection_string, connect_args={'sslmode':'require'})"
   ]
  },
  {
   "cell_type": "code",
   "execution_count": 4,
   "metadata": {},
   "outputs": [
    {
     "data": {
      "text/html": [
       "<div>\n",
       "<style scoped>\n",
       "    .dataframe tbody tr th:only-of-type {\n",
       "        vertical-align: middle;\n",
       "    }\n",
       "\n",
       "    .dataframe tbody tr th {\n",
       "        vertical-align: top;\n",
       "    }\n",
       "\n",
       "    .dataframe thead th {\n",
       "        text-align: right;\n",
       "    }\n",
       "</style>\n",
       "<table border=\"1\" class=\"dataframe\">\n",
       "  <thead>\n",
       "    <tr style=\"text-align: right;\">\n",
       "      <th></th>\n",
       "      <th>book_id</th>\n",
       "      <th>author_id</th>\n",
       "      <th>title</th>\n",
       "      <th>num_pages</th>\n",
       "      <th>publication_date</th>\n",
       "      <th>publisher_id</th>\n",
       "    </tr>\n",
       "  </thead>\n",
       "  <tbody>\n",
       "    <tr>\n",
       "      <th>0</th>\n",
       "      <td>1</td>\n",
       "      <td>546</td>\n",
       "      <td>'Salem's Lot</td>\n",
       "      <td>594</td>\n",
       "      <td>2005-11-01</td>\n",
       "      <td>93</td>\n",
       "    </tr>\n",
       "    <tr>\n",
       "      <th>1</th>\n",
       "      <td>2</td>\n",
       "      <td>465</td>\n",
       "      <td>1 000 Places to See Before You Die</td>\n",
       "      <td>992</td>\n",
       "      <td>2003-05-22</td>\n",
       "      <td>336</td>\n",
       "    </tr>\n",
       "    <tr>\n",
       "      <th>2</th>\n",
       "      <td>3</td>\n",
       "      <td>407</td>\n",
       "      <td>13 Little Blue Envelopes (Little Blue Envelope...</td>\n",
       "      <td>322</td>\n",
       "      <td>2010-12-21</td>\n",
       "      <td>135</td>\n",
       "    </tr>\n",
       "    <tr>\n",
       "      <th>3</th>\n",
       "      <td>4</td>\n",
       "      <td>82</td>\n",
       "      <td>1491: New Revelations of the Americas Before C...</td>\n",
       "      <td>541</td>\n",
       "      <td>2006-10-10</td>\n",
       "      <td>309</td>\n",
       "    </tr>\n",
       "    <tr>\n",
       "      <th>4</th>\n",
       "      <td>5</td>\n",
       "      <td>125</td>\n",
       "      <td>1776</td>\n",
       "      <td>386</td>\n",
       "      <td>2006-07-04</td>\n",
       "      <td>268</td>\n",
       "    </tr>\n",
       "  </tbody>\n",
       "</table>\n",
       "</div>"
      ],
      "text/plain": [
       "   book_id  author_id                                              title  \\\n",
       "0        1        546                                       'Salem's Lot   \n",
       "1        2        465                 1 000 Places to See Before You Die   \n",
       "2        3        407  13 Little Blue Envelopes (Little Blue Envelope...   \n",
       "3        4         82  1491: New Revelations of the Americas Before C...   \n",
       "4        5        125                                               1776   \n",
       "\n",
       "   num_pages publication_date  publisher_id  \n",
       "0        594       2005-11-01            93  \n",
       "1        992       2003-05-22           336  \n",
       "2        322       2010-12-21           135  \n",
       "3        541       2006-10-10           309  \n",
       "4        386       2006-07-04           268  "
      ]
     },
     "metadata": {},
     "output_type": "display_data"
    },
    {
     "data": {
      "text/html": [
       "<div>\n",
       "<style scoped>\n",
       "    .dataframe tbody tr th:only-of-type {\n",
       "        vertical-align: middle;\n",
       "    }\n",
       "\n",
       "    .dataframe tbody tr th {\n",
       "        vertical-align: top;\n",
       "    }\n",
       "\n",
       "    .dataframe thead th {\n",
       "        text-align: right;\n",
       "    }\n",
       "</style>\n",
       "<table border=\"1\" class=\"dataframe\">\n",
       "  <thead>\n",
       "    <tr style=\"text-align: right;\">\n",
       "      <th></th>\n",
       "      <th>author_id</th>\n",
       "      <th>author</th>\n",
       "    </tr>\n",
       "  </thead>\n",
       "  <tbody>\n",
       "    <tr>\n",
       "      <th>0</th>\n",
       "      <td>1</td>\n",
       "      <td>A.S. Byatt</td>\n",
       "    </tr>\n",
       "    <tr>\n",
       "      <th>1</th>\n",
       "      <td>2</td>\n",
       "      <td>Aesop/Laura Harris/Laura Gibbs</td>\n",
       "    </tr>\n",
       "    <tr>\n",
       "      <th>2</th>\n",
       "      <td>3</td>\n",
       "      <td>Agatha Christie</td>\n",
       "    </tr>\n",
       "    <tr>\n",
       "      <th>3</th>\n",
       "      <td>4</td>\n",
       "      <td>Alan Brennert</td>\n",
       "    </tr>\n",
       "    <tr>\n",
       "      <th>4</th>\n",
       "      <td>5</td>\n",
       "      <td>Alan Moore/David   Lloyd</td>\n",
       "    </tr>\n",
       "  </tbody>\n",
       "</table>\n",
       "</div>"
      ],
      "text/plain": [
       "   author_id                          author\n",
       "0          1                      A.S. Byatt\n",
       "1          2  Aesop/Laura Harris/Laura Gibbs\n",
       "2          3                 Agatha Christie\n",
       "3          4                   Alan Brennert\n",
       "4          5        Alan Moore/David   Lloyd"
      ]
     },
     "metadata": {},
     "output_type": "display_data"
    },
    {
     "data": {
      "text/html": [
       "<div>\n",
       "<style scoped>\n",
       "    .dataframe tbody tr th:only-of-type {\n",
       "        vertical-align: middle;\n",
       "    }\n",
       "\n",
       "    .dataframe tbody tr th {\n",
       "        vertical-align: top;\n",
       "    }\n",
       "\n",
       "    .dataframe thead th {\n",
       "        text-align: right;\n",
       "    }\n",
       "</style>\n",
       "<table border=\"1\" class=\"dataframe\">\n",
       "  <thead>\n",
       "    <tr style=\"text-align: right;\">\n",
       "      <th></th>\n",
       "      <th>publisher_id</th>\n",
       "      <th>publisher</th>\n",
       "    </tr>\n",
       "  </thead>\n",
       "  <tbody>\n",
       "    <tr>\n",
       "      <th>0</th>\n",
       "      <td>1</td>\n",
       "      <td>Ace</td>\n",
       "    </tr>\n",
       "    <tr>\n",
       "      <th>1</th>\n",
       "      <td>2</td>\n",
       "      <td>Ace Book</td>\n",
       "    </tr>\n",
       "    <tr>\n",
       "      <th>2</th>\n",
       "      <td>3</td>\n",
       "      <td>Ace Books</td>\n",
       "    </tr>\n",
       "    <tr>\n",
       "      <th>3</th>\n",
       "      <td>4</td>\n",
       "      <td>Ace Hardcover</td>\n",
       "    </tr>\n",
       "    <tr>\n",
       "      <th>4</th>\n",
       "      <td>5</td>\n",
       "      <td>Addison Wesley Publishing Company</td>\n",
       "    </tr>\n",
       "  </tbody>\n",
       "</table>\n",
       "</div>"
      ],
      "text/plain": [
       "   publisher_id                          publisher\n",
       "0             1                                Ace\n",
       "1             2                           Ace Book\n",
       "2             3                          Ace Books\n",
       "3             4                      Ace Hardcover\n",
       "4             5  Addison Wesley Publishing Company"
      ]
     },
     "metadata": {},
     "output_type": "display_data"
    },
    {
     "data": {
      "text/html": [
       "<div>\n",
       "<style scoped>\n",
       "    .dataframe tbody tr th:only-of-type {\n",
       "        vertical-align: middle;\n",
       "    }\n",
       "\n",
       "    .dataframe tbody tr th {\n",
       "        vertical-align: top;\n",
       "    }\n",
       "\n",
       "    .dataframe thead th {\n",
       "        text-align: right;\n",
       "    }\n",
       "</style>\n",
       "<table border=\"1\" class=\"dataframe\">\n",
       "  <thead>\n",
       "    <tr style=\"text-align: right;\">\n",
       "      <th></th>\n",
       "      <th>rating_id</th>\n",
       "      <th>book_id</th>\n",
       "      <th>username</th>\n",
       "      <th>rating</th>\n",
       "    </tr>\n",
       "  </thead>\n",
       "  <tbody>\n",
       "    <tr>\n",
       "      <th>0</th>\n",
       "      <td>1</td>\n",
       "      <td>1</td>\n",
       "      <td>ryanfranco</td>\n",
       "      <td>4</td>\n",
       "    </tr>\n",
       "    <tr>\n",
       "      <th>1</th>\n",
       "      <td>2</td>\n",
       "      <td>1</td>\n",
       "      <td>grantpatricia</td>\n",
       "      <td>2</td>\n",
       "    </tr>\n",
       "    <tr>\n",
       "      <th>2</th>\n",
       "      <td>3</td>\n",
       "      <td>1</td>\n",
       "      <td>brandtandrea</td>\n",
       "      <td>5</td>\n",
       "    </tr>\n",
       "    <tr>\n",
       "      <th>3</th>\n",
       "      <td>4</td>\n",
       "      <td>2</td>\n",
       "      <td>lorichen</td>\n",
       "      <td>3</td>\n",
       "    </tr>\n",
       "    <tr>\n",
       "      <th>4</th>\n",
       "      <td>5</td>\n",
       "      <td>2</td>\n",
       "      <td>mariokeller</td>\n",
       "      <td>2</td>\n",
       "    </tr>\n",
       "  </tbody>\n",
       "</table>\n",
       "</div>"
      ],
      "text/plain": [
       "   rating_id  book_id       username  rating\n",
       "0          1        1     ryanfranco       4\n",
       "1          2        1  grantpatricia       2\n",
       "2          3        1   brandtandrea       5\n",
       "3          4        2       lorichen       3\n",
       "4          5        2    mariokeller       2"
      ]
     },
     "metadata": {},
     "output_type": "display_data"
    },
    {
     "data": {
      "text/html": [
       "<div>\n",
       "<style scoped>\n",
       "    .dataframe tbody tr th:only-of-type {\n",
       "        vertical-align: middle;\n",
       "    }\n",
       "\n",
       "    .dataframe tbody tr th {\n",
       "        vertical-align: top;\n",
       "    }\n",
       "\n",
       "    .dataframe thead th {\n",
       "        text-align: right;\n",
       "    }\n",
       "</style>\n",
       "<table border=\"1\" class=\"dataframe\">\n",
       "  <thead>\n",
       "    <tr style=\"text-align: right;\">\n",
       "      <th></th>\n",
       "      <th>review_id</th>\n",
       "      <th>book_id</th>\n",
       "      <th>username</th>\n",
       "      <th>text</th>\n",
       "    </tr>\n",
       "  </thead>\n",
       "  <tbody>\n",
       "    <tr>\n",
       "      <th>0</th>\n",
       "      <td>1</td>\n",
       "      <td>1</td>\n",
       "      <td>brandtandrea</td>\n",
       "      <td>Mention society tell send professor analysis. ...</td>\n",
       "    </tr>\n",
       "    <tr>\n",
       "      <th>1</th>\n",
       "      <td>2</td>\n",
       "      <td>1</td>\n",
       "      <td>ryanfranco</td>\n",
       "      <td>Foot glass pretty audience hit themselves. Amo...</td>\n",
       "    </tr>\n",
       "    <tr>\n",
       "      <th>2</th>\n",
       "      <td>3</td>\n",
       "      <td>2</td>\n",
       "      <td>lorichen</td>\n",
       "      <td>Listen treat keep worry. Miss husband tax but ...</td>\n",
       "    </tr>\n",
       "    <tr>\n",
       "      <th>3</th>\n",
       "      <td>4</td>\n",
       "      <td>3</td>\n",
       "      <td>johnsonamanda</td>\n",
       "      <td>Finally month interesting blue could nature cu...</td>\n",
       "    </tr>\n",
       "    <tr>\n",
       "      <th>4</th>\n",
       "      <td>5</td>\n",
       "      <td>3</td>\n",
       "      <td>scotttamara</td>\n",
       "      <td>Nation purpose heavy give wait song will. List...</td>\n",
       "    </tr>\n",
       "  </tbody>\n",
       "</table>\n",
       "</div>"
      ],
      "text/plain": [
       "   review_id  book_id       username  \\\n",
       "0          1        1   brandtandrea   \n",
       "1          2        1     ryanfranco   \n",
       "2          3        2       lorichen   \n",
       "3          4        3  johnsonamanda   \n",
       "4          5        3    scotttamara   \n",
       "\n",
       "                                                text  \n",
       "0  Mention society tell send professor analysis. ...  \n",
       "1  Foot glass pretty audience hit themselves. Amo...  \n",
       "2  Listen treat keep worry. Miss husband tax but ...  \n",
       "3  Finally month interesting blue could nature cu...  \n",
       "4  Nation purpose heavy give wait song will. List...  "
      ]
     },
     "metadata": {},
     "output_type": "display_data"
    }
   ],
   "source": [
    "for i in ['books', 'authors', 'publishers', 'ratings', 'reviews']:\n",
    "    query = ''' SELECT * FROM {}; \n",
    "    '''.format(i) \n",
    "\n",
    "    request = pd.io.sql.read_sql(query, con = engine) \n",
    "    display(request.head())"
   ]
  },
  {
   "cell_type": "markdown",
   "metadata": {},
   "source": [
    "Таблица **books** - cодержит данные о книгах:\n",
    "\n",
    "    * book_id — идентификатор книги;\n",
    "    * author_id — идентификатор автора;\n",
    "    * title — название книги;\n",
    "    * num_pages — количество страниц;\n",
    "    * publication_date — дата публикации книги;\n",
    "    * publisher_id — идентификатор издателя."
   ]
  },
  {
   "cell_type": "markdown",
   "metadata": {},
   "source": [
    "Таблица **authors** - cодержит данные об авторах:\n",
    "\n",
    "    * author_id — идентификатор автора;\n",
    "    * author — имя автора."
   ]
  },
  {
   "cell_type": "markdown",
   "metadata": {},
   "source": [
    "Таблица **publishers** - cодержит данные об издательствах:\n",
    "\n",
    "    * publisher_id — идентификатор издательства;\n",
    "    * publisher — название издательства;"
   ]
  },
  {
   "cell_type": "markdown",
   "metadata": {},
   "source": [
    "Таблица **ratings** - cодержит данные о пользовательских оценках книг:\n",
    "\n",
    "    * rating_id — идентификатор оценки;\n",
    "    * book_id — идентификатор книги;\n",
    "    * username — имя пользователя, оставившего оценку;\n",
    "    * rating — оценка книги."
   ]
  },
  {
   "cell_type": "markdown",
   "metadata": {},
   "source": [
    "Таблица **reviews** - cодержит данные о пользовательских обзорах:\n",
    "\n",
    "    * review_id — идентификатор обзора;\n",
    "    * book_id — идентификатор книги;\n",
    "    * username — имя автора обзора;\n",
    "    * text — текст обзора."
   ]
  },
  {
   "cell_type": "markdown",
   "metadata": {},
   "source": []
  },
  {
   "cell_type": "markdown",
   "metadata": {},
   "source": [
    "# 1я задача"
   ]
  },
  {
   "cell_type": "code",
   "execution_count": 5,
   "metadata": {},
   "outputs": [
    {
     "data": {
      "text/html": [
       "<div>\n",
       "<style scoped>\n",
       "    .dataframe tbody tr th:only-of-type {\n",
       "        vertical-align: middle;\n",
       "    }\n",
       "\n",
       "    .dataframe tbody tr th {\n",
       "        vertical-align: top;\n",
       "    }\n",
       "\n",
       "    .dataframe thead th {\n",
       "        text-align: right;\n",
       "    }\n",
       "</style>\n",
       "<table border=\"1\" class=\"dataframe\">\n",
       "  <thead>\n",
       "    <tr style=\"text-align: right;\">\n",
       "      <th></th>\n",
       "      <th>count</th>\n",
       "    </tr>\n",
       "  </thead>\n",
       "  <tbody>\n",
       "    <tr>\n",
       "      <th>0</th>\n",
       "      <td>819</td>\n",
       "    </tr>\n",
       "  </tbody>\n",
       "</table>\n",
       "</div>"
      ],
      "text/plain": [
       "   count\n",
       "0    819"
      ]
     },
     "execution_count": 5,
     "metadata": {},
     "output_type": "execute_result"
    }
   ],
   "source": [
    "query = '''\n",
    "SELECT COUNT(book_id)\n",
    "FROM books\n",
    "WHERE publication_date > DATE('2000-01-01');\n",
    "''' \n",
    "pd.io.sql.read_sql(query, con = engine)"
   ]
  },
  {
   "cell_type": "markdown",
   "metadata": {},
   "source": [
    "819 книг вышло после 2020-01-01"
   ]
  },
  {
   "cell_type": "markdown",
   "metadata": {},
   "source": [
    "# 2я задача"
   ]
  },
  {
   "cell_type": "code",
   "execution_count": 10,
   "metadata": {},
   "outputs": [
    {
     "data": {
      "text/html": [
       "<div>\n",
       "<style scoped>\n",
       "    .dataframe tbody tr th:only-of-type {\n",
       "        vertical-align: middle;\n",
       "    }\n",
       "\n",
       "    .dataframe tbody tr th {\n",
       "        vertical-align: top;\n",
       "    }\n",
       "\n",
       "    .dataframe thead th {\n",
       "        text-align: right;\n",
       "    }\n",
       "</style>\n",
       "<table border=\"1\" class=\"dataframe\">\n",
       "  <thead>\n",
       "    <tr style=\"text-align: right;\">\n",
       "      <th></th>\n",
       "      <th>title</th>\n",
       "      <th>book_id</th>\n",
       "      <th>review_cnt</th>\n",
       "      <th>rating_avg</th>\n",
       "    </tr>\n",
       "  </thead>\n",
       "  <tbody>\n",
       "    <tr>\n",
       "      <th>0</th>\n",
       "      <td>The Natural Way to Draw</td>\n",
       "      <td>808</td>\n",
       "      <td>NaN</td>\n",
       "      <td>3.000000</td>\n",
       "    </tr>\n",
       "    <tr>\n",
       "      <th>1</th>\n",
       "      <td>Disney's Beauty and the Beast (A Little Golden...</td>\n",
       "      <td>191</td>\n",
       "      <td>NaN</td>\n",
       "      <td>4.000000</td>\n",
       "    </tr>\n",
       "    <tr>\n",
       "      <th>2</th>\n",
       "      <td>Essential Tales and Poems</td>\n",
       "      <td>221</td>\n",
       "      <td>NaN</td>\n",
       "      <td>4.000000</td>\n",
       "    </tr>\n",
       "    <tr>\n",
       "      <th>3</th>\n",
       "      <td>Anne Rice's The Vampire Lestat: A Graphic Novel</td>\n",
       "      <td>83</td>\n",
       "      <td>NaN</td>\n",
       "      <td>3.666667</td>\n",
       "    </tr>\n",
       "    <tr>\n",
       "      <th>4</th>\n",
       "      <td>Leonardo's Notebooks</td>\n",
       "      <td>387</td>\n",
       "      <td>NaN</td>\n",
       "      <td>4.000000</td>\n",
       "    </tr>\n",
       "    <tr>\n",
       "      <th>...</th>\n",
       "      <td>...</td>\n",
       "      <td>...</td>\n",
       "      <td>...</td>\n",
       "      <td>...</td>\n",
       "    </tr>\n",
       "    <tr>\n",
       "      <th>995</th>\n",
       "      <td>Stone of Farewell (Memory  Sorrow  and Thorn  #2)</td>\n",
       "      <td>599</td>\n",
       "      <td>1.0</td>\n",
       "      <td>5.000000</td>\n",
       "    </tr>\n",
       "    <tr>\n",
       "      <th>996</th>\n",
       "      <td>Debt of Honor (Jack Ryan  #7)</td>\n",
       "      <td>187</td>\n",
       "      <td>1.0</td>\n",
       "      <td>3.000000</td>\n",
       "    </tr>\n",
       "    <tr>\n",
       "      <th>997</th>\n",
       "      <td>Color: A Natural History of the Palette</td>\n",
       "      <td>156</td>\n",
       "      <td>1.0</td>\n",
       "      <td>4.333333</td>\n",
       "    </tr>\n",
       "    <tr>\n",
       "      <th>998</th>\n",
       "      <td>Winter Prey (Lucas Davenport  #5)</td>\n",
       "      <td>984</td>\n",
       "      <td>1.0</td>\n",
       "      <td>4.500000</td>\n",
       "    </tr>\n",
       "    <tr>\n",
       "      <th>999</th>\n",
       "      <td>The Iliad/The Odyssey</td>\n",
       "      <td>760</td>\n",
       "      <td>1.0</td>\n",
       "      <td>4.000000</td>\n",
       "    </tr>\n",
       "  </tbody>\n",
       "</table>\n",
       "<p>1000 rows × 4 columns</p>\n",
       "</div>"
      ],
      "text/plain": [
       "                                                 title  book_id  review_cnt  \\\n",
       "0                              The Natural Way to Draw      808         NaN   \n",
       "1    Disney's Beauty and the Beast (A Little Golden...      191         NaN   \n",
       "2                            Essential Tales and Poems      221         NaN   \n",
       "3      Anne Rice's The Vampire Lestat: A Graphic Novel       83         NaN   \n",
       "4                                 Leonardo's Notebooks      387         NaN   \n",
       "..                                                 ...      ...         ...   \n",
       "995  Stone of Farewell (Memory  Sorrow  and Thorn  #2)      599         1.0   \n",
       "996                      Debt of Honor (Jack Ryan  #7)      187         1.0   \n",
       "997            Color: A Natural History of the Palette      156         1.0   \n",
       "998                  Winter Prey (Lucas Davenport  #5)      984         1.0   \n",
       "999                              The Iliad/The Odyssey      760         1.0   \n",
       "\n",
       "     rating_avg  \n",
       "0      3.000000  \n",
       "1      4.000000  \n",
       "2      4.000000  \n",
       "3      3.666667  \n",
       "4      4.000000  \n",
       "..          ...  \n",
       "995    5.000000  \n",
       "996    3.000000  \n",
       "997    4.333333  \n",
       "998    4.500000  \n",
       "999    4.000000  \n",
       "\n",
       "[1000 rows x 4 columns]"
      ]
     },
     "execution_count": 10,
     "metadata": {},
     "output_type": "execute_result"
    }
   ],
   "source": [
    "query = '''\n",
    "SELECT b.title,\n",
    "       b.book_id,\n",
    "    t2.review_cnt AS review_cnt,\n",
    "    t1.rating_avg AS rating_avg\n",
    "FROM books AS b \n",
    "LEFT JOIN (SELECT book_id,\n",
    "                  AVG(rating) AS rating_avg\n",
    "           FROM ratings\n",
    "           GROUP BY book_id\n",
    "                ) AS t1 ON t1.book_id = b.book_id\n",
    "LEFT JOIN (SELECT book_id,\n",
    "                  COUNT(review_id) AS review_cnt\n",
    "          FROM reviews\n",
    "          GROUP BY book_id\n",
    "                ) AS t2 ON t2.book_id = b.book_id\n",
    "ORDER BY review_cnt DESC;\n",
    "'''                \n",
    "pd.io.sql.read_sql(query, con = engine)\n",
    "\n",
    "\n"
   ]
  },
  {
   "cell_type": "markdown",
   "metadata": {},
   "source": [
    "Для каждой книги посчитали количество обзоров и средний рейтинг."
   ]
  },
  {
   "cell_type": "markdown",
   "metadata": {},
   "source": [
    "# 3я задача"
   ]
  },
  {
   "cell_type": "code",
   "execution_count": 7,
   "metadata": {},
   "outputs": [
    {
     "data": {
      "text/html": [
       "<div>\n",
       "<style scoped>\n",
       "    .dataframe tbody tr th:only-of-type {\n",
       "        vertical-align: middle;\n",
       "    }\n",
       "\n",
       "    .dataframe tbody tr th {\n",
       "        vertical-align: top;\n",
       "    }\n",
       "\n",
       "    .dataframe thead th {\n",
       "        text-align: right;\n",
       "    }\n",
       "</style>\n",
       "<table border=\"1\" class=\"dataframe\">\n",
       "  <thead>\n",
       "    <tr style=\"text-align: right;\">\n",
       "      <th></th>\n",
       "      <th>publisher</th>\n",
       "    </tr>\n",
       "  </thead>\n",
       "  <tbody>\n",
       "    <tr>\n",
       "      <th>0</th>\n",
       "      <td>Penguin Books</td>\n",
       "    </tr>\n",
       "  </tbody>\n",
       "</table>\n",
       "</div>"
      ],
      "text/plain": [
       "       publisher\n",
       "0  Penguin Books"
      ]
     },
     "execution_count": 7,
     "metadata": {},
     "output_type": "execute_result"
    }
   ],
   "source": [
    "query = '''\n",
    "SELECT publisher\n",
    "FROM publishers\n",
    "WHERE publisher_id = \n",
    "     (SELECT publisher_id\n",
    "     FROM books \n",
    "     WHERE num_pages > 50\n",
    "     GROUP BY publisher_id\n",
    "     ORDER BY COUNT(book_id) DESC\n",
    "     LIMIT 1);\n",
    "''' \n",
    "pd.io.sql.read_sql(query, con = engine)"
   ]
  },
  {
   "cell_type": "markdown",
   "metadata": {},
   "source": [
    "Определили издательство - Penguin Books, которое выпустило наибольшее число книг толще 50 страниц (исключили брошюры)."
   ]
  },
  {
   "cell_type": "markdown",
   "metadata": {},
   "source": [
    "# 4я задача"
   ]
  },
  {
   "cell_type": "code",
   "execution_count": 8,
   "metadata": {},
   "outputs": [
    {
     "data": {
      "text/html": [
       "<div>\n",
       "<style scoped>\n",
       "    .dataframe tbody tr th:only-of-type {\n",
       "        vertical-align: middle;\n",
       "    }\n",
       "\n",
       "    .dataframe tbody tr th {\n",
       "        vertical-align: top;\n",
       "    }\n",
       "\n",
       "    .dataframe thead th {\n",
       "        text-align: right;\n",
       "    }\n",
       "</style>\n",
       "<table border=\"1\" class=\"dataframe\">\n",
       "  <thead>\n",
       "    <tr style=\"text-align: right;\">\n",
       "      <th></th>\n",
       "      <th>author</th>\n",
       "      <th>rating_avg</th>\n",
       "    </tr>\n",
       "  </thead>\n",
       "  <tbody>\n",
       "    <tr>\n",
       "      <th>0</th>\n",
       "      <td>J.K. Rowling/Mary GrandPré</td>\n",
       "      <td>4.287097</td>\n",
       "    </tr>\n",
       "  </tbody>\n",
       "</table>\n",
       "</div>"
      ],
      "text/plain": [
       "                       author  rating_avg\n",
       "0  J.K. Rowling/Mary GrandPré    4.287097"
      ]
     },
     "execution_count": 8,
     "metadata": {},
     "output_type": "execute_result"
    }
   ],
   "source": [
    "query = '''\n",
    "SELECT a.author,\n",
    "       AVG(ra.rating) as rating_avg\n",
    "FROM authors AS a\n",
    "LEFT JOIN books AS b ON b.author_id=a.author_id\n",
    "LEFT JOIN ratings AS ra ON ra.book_id=b.book_id\n",
    "WHERE b.book_id IN (SELECT  book_id\n",
    "                            FROM ratings\n",
    "                            GROUP BY book_id\n",
    "                            HAVING COUNT(rating) > 50)\n",
    "GROUP BY a.author\n",
    "ORDER BY AVG(ra.rating) DESC\n",
    "LIMIT 1;\n",
    "'''\n",
    "\n",
    "pd.io.sql.read_sql(query, con = engine) "
   ]
  },
  {
   "cell_type": "markdown",
   "metadata": {},
   "source": [
    "Автор с самой высокой средней оценкой книг — Дж.Роулинг, учитывались только книги с 50 и более оценками."
   ]
  },
  {
   "cell_type": "markdown",
   "metadata": {},
   "source": [
    "# 5я задача"
   ]
  },
  {
   "cell_type": "code",
   "execution_count": 9,
   "metadata": {},
   "outputs": [
    {
     "data": {
      "text/html": [
       "<div>\n",
       "<style scoped>\n",
       "    .dataframe tbody tr th:only-of-type {\n",
       "        vertical-align: middle;\n",
       "    }\n",
       "\n",
       "    .dataframe tbody tr th {\n",
       "        vertical-align: top;\n",
       "    }\n",
       "\n",
       "    .dataframe thead th {\n",
       "        text-align: right;\n",
       "    }\n",
       "</style>\n",
       "<table border=\"1\" class=\"dataframe\">\n",
       "  <thead>\n",
       "    <tr style=\"text-align: right;\">\n",
       "      <th></th>\n",
       "      <th>avg</th>\n",
       "    </tr>\n",
       "  </thead>\n",
       "  <tbody>\n",
       "    <tr>\n",
       "      <th>0</th>\n",
       "      <td>24.333333</td>\n",
       "    </tr>\n",
       "  </tbody>\n",
       "</table>\n",
       "</div>"
      ],
      "text/plain": [
       "         avg\n",
       "0  24.333333"
      ]
     },
     "execution_count": 9,
     "metadata": {},
     "output_type": "execute_result"
    }
   ],
   "source": [
    "query = '''\n",
    "WITH t AS  (SELECT username,\n",
    "           COUNT(review_id) AS review_cnt\n",
    "           FROM reviews\n",
    "           WHERE username IN (SELECT username\n",
    "                              FROM ratings\n",
    "                              GROUP BY username\n",
    "                              HAVING COUNT(rating) > 50)\n",
    "           GROUP BY username)\n",
    "    \n",
    "SELECT AVG(review_cnt)\n",
    "FROM t\n",
    "'''\n",
    "\n",
    "pd.io.sql.read_sql(query, con = engine) "
   ]
  },
  {
   "cell_type": "markdown",
   "metadata": {},
   "source": [
    "Посчитали среднее количество обзоров  - 24.33 - от пользователей, которые поставили больше 50 оценок."
   ]
  },
  {
   "cell_type": "markdown",
   "metadata": {},
   "source": [
    "# Вывод\n",
    "\n",
    "База данных довольно объемна: содержит 819 книг, выпущенных после 2020-01-01. Всего книг в базе -1000. Есть довольно активные пользователи приложения, которые оставляют отзывы и пишут обзоры. Ну и, конечно, есть книги самого популярного автора столетия -Джоан Роулинг.\n",
    "\n",
    "База живая, объемная, но для успешных будущих продаж должна постоянно пополняться новыми книгами и стимулировать читателей оставлять отзывы и обзоры на прочитанные книги."
   ]
  },
  {
   "cell_type": "code",
   "execution_count": null,
   "metadata": {},
   "outputs": [],
   "source": []
  }
 ],
 "metadata": {
  "ExecuteTimeLog": [
   {
    "duration": 8741,
    "start_time": "2023-02-26T16:03:42.564Z"
   },
   {
    "duration": 67,
    "start_time": "2023-02-26T16:20:02.253Z"
   },
   {
    "duration": 2,
    "start_time": "2023-02-26T16:20:10.286Z"
   },
   {
    "duration": 3,
    "start_time": "2023-02-26T16:20:11.994Z"
   },
   {
    "duration": 3,
    "start_time": "2023-02-26T16:20:13.053Z"
   },
   {
    "duration": 8,
    "start_time": "2023-02-26T16:20:14.310Z"
   },
   {
    "duration": 502,
    "start_time": "2023-02-26T16:20:24.153Z"
   },
   {
    "duration": 3,
    "start_time": "2023-02-26T16:20:24.657Z"
   },
   {
    "duration": 8340,
    "start_time": "2023-02-26T16:20:24.661Z"
   },
   {
    "duration": 65,
    "start_time": "2023-02-26T16:20:33.002Z"
   },
   {
    "duration": 3,
    "start_time": "2023-02-26T16:43:44.779Z"
   },
   {
    "duration": 340,
    "start_time": "2023-02-26T16:43:47.997Z"
   },
   {
    "duration": 3,
    "start_time": "2023-02-26T16:44:00.603Z"
   },
   {
    "duration": 107,
    "start_time": "2023-02-26T16:44:04.317Z"
   },
   {
    "duration": 2,
    "start_time": "2023-02-26T16:44:39.671Z"
   },
   {
    "duration": 153,
    "start_time": "2023-02-26T16:44:40.852Z"
   },
   {
    "duration": 3,
    "start_time": "2023-02-26T16:45:14.584Z"
   },
   {
    "duration": 2,
    "start_time": "2023-02-26T16:45:16.786Z"
   },
   {
    "duration": 74,
    "start_time": "2023-02-26T16:45:17.706Z"
   },
   {
    "duration": 2,
    "start_time": "2023-02-26T16:45:29.730Z"
   },
   {
    "duration": 77,
    "start_time": "2023-02-26T16:45:31.282Z"
   },
   {
    "duration": 3,
    "start_time": "2023-02-26T16:46:23.835Z"
   },
   {
    "duration": 73,
    "start_time": "2023-02-26T16:46:27.084Z"
   },
   {
    "duration": 2,
    "start_time": "2023-02-26T16:46:45.420Z"
   },
   {
    "duration": 71,
    "start_time": "2023-02-26T16:46:47.091Z"
   },
   {
    "duration": 3,
    "start_time": "2023-02-26T16:49:14.124Z"
   },
   {
    "duration": 72,
    "start_time": "2023-02-26T16:49:15.125Z"
   },
   {
    "duration": 73,
    "start_time": "2023-02-26T16:50:35.509Z"
   },
   {
    "duration": 70,
    "start_time": "2023-02-26T16:50:37.987Z"
   },
   {
    "duration": 8,
    "start_time": "2023-02-26T16:52:07.480Z"
   },
   {
    "duration": 72,
    "start_time": "2023-02-26T16:52:37.838Z"
   },
   {
    "duration": 73,
    "start_time": "2023-02-26T16:52:56.924Z"
   },
   {
    "duration": 72,
    "start_time": "2023-02-26T16:53:13.141Z"
   },
   {
    "duration": 150,
    "start_time": "2023-02-26T17:06:59.707Z"
   },
   {
    "duration": 180,
    "start_time": "2023-02-26T17:14:31.712Z"
   },
   {
    "duration": 68,
    "start_time": "2023-02-26T17:14:43.681Z"
   },
   {
    "duration": 155,
    "start_time": "2023-02-26T17:22:52.922Z"
   },
   {
    "duration": 177,
    "start_time": "2023-02-26T17:24:06.437Z"
   },
   {
    "duration": 169,
    "start_time": "2023-02-26T17:25:47.998Z"
   },
   {
    "duration": 194,
    "start_time": "2023-02-26T17:26:34.638Z"
   },
   {
    "duration": 155,
    "start_time": "2023-02-26T17:27:43.334Z"
   },
   {
    "duration": 390,
    "start_time": "2023-02-26T17:37:38.086Z"
   },
   {
    "duration": 471,
    "start_time": "2023-02-26T17:37:51.842Z"
   },
   {
    "duration": 3,
    "start_time": "2023-02-26T17:37:52.315Z"
   },
   {
    "duration": 7856,
    "start_time": "2023-02-26T17:37:52.320Z"
   },
   {
    "duration": 555,
    "start_time": "2023-02-26T17:38:00.178Z"
   },
   {
    "duration": 80,
    "start_time": "2023-02-26T17:38:00.735Z"
   },
   {
    "duration": 73,
    "start_time": "2023-02-26T17:38:00.817Z"
   },
   {
    "duration": 72,
    "start_time": "2023-02-26T17:38:00.891Z"
   },
   {
    "duration": 73,
    "start_time": "2023-02-26T17:38:00.965Z"
   },
   {
    "duration": 72,
    "start_time": "2023-02-26T17:38:01.039Z"
   },
   {
    "duration": 73,
    "start_time": "2023-02-26T17:38:01.114Z"
   },
   {
    "duration": 250,
    "start_time": "2023-02-26T17:38:01.189Z"
   },
   {
    "duration": 119,
    "start_time": "2023-02-26T17:38:43.257Z"
   },
   {
    "duration": 411,
    "start_time": "2023-02-26T17:39:12.341Z"
   },
   {
    "duration": 524,
    "start_time": "2023-02-26T17:39:54.463Z"
   },
   {
    "duration": 3,
    "start_time": "2023-02-26T17:39:54.989Z"
   },
   {
    "duration": 9027,
    "start_time": "2023-02-26T17:39:54.994Z"
   },
   {
    "duration": 618,
    "start_time": "2023-02-26T17:40:04.023Z"
   },
   {
    "duration": 70,
    "start_time": "2023-02-26T17:40:04.643Z"
   },
   {
    "duration": 221,
    "start_time": "2023-02-26T17:40:04.715Z"
   },
   {
    "duration": 155,
    "start_time": "2023-02-26T17:46:12.164Z"
   },
   {
    "duration": 197,
    "start_time": "2023-02-26T17:46:27.172Z"
   },
   {
    "duration": 84,
    "start_time": "2023-02-26T17:48:36.902Z"
   },
   {
    "duration": 165,
    "start_time": "2023-02-26T17:50:44.973Z"
   },
   {
    "duration": 156,
    "start_time": "2023-02-26T17:57:04.702Z"
   },
   {
    "duration": 146,
    "start_time": "2023-02-26T17:57:57.576Z"
   },
   {
    "duration": 97,
    "start_time": "2023-02-26T17:58:59.764Z"
   },
   {
    "duration": 220,
    "start_time": "2023-02-26T18:05:28.704Z"
   },
   {
    "duration": 147,
    "start_time": "2023-02-26T18:09:07.832Z"
   },
   {
    "duration": 161,
    "start_time": "2023-02-26T18:09:36.369Z"
   },
   {
    "duration": 204,
    "start_time": "2023-02-26T18:10:09.167Z"
   },
   {
    "duration": 71,
    "start_time": "2023-02-26T18:10:58.188Z"
   },
   {
    "duration": 159,
    "start_time": "2023-02-26T18:13:41.002Z"
   },
   {
    "duration": 70,
    "start_time": "2023-02-26T18:13:52.347Z"
   },
   {
    "duration": 70,
    "start_time": "2023-02-26T18:14:43.563Z"
   },
   {
    "duration": 88,
    "start_time": "2023-02-26T18:16:33.442Z"
   },
   {
    "duration": 72,
    "start_time": "2023-02-26T18:17:58.797Z"
   },
   {
    "duration": 69,
    "start_time": "2023-02-26T18:19:24.812Z"
   },
   {
    "duration": 591,
    "start_time": "2023-02-26T18:19:35.476Z"
   },
   {
    "duration": 4,
    "start_time": "2023-02-26T18:19:36.072Z"
   },
   {
    "duration": 10340,
    "start_time": "2023-02-26T18:19:36.078Z"
   },
   {
    "duration": 615,
    "start_time": "2023-02-26T18:19:46.420Z"
   },
   {
    "duration": 70,
    "start_time": "2023-02-26T18:19:47.037Z"
   },
   {
    "duration": 83,
    "start_time": "2023-02-26T18:19:47.109Z"
   },
   {
    "duration": 72,
    "start_time": "2023-02-26T18:19:47.194Z"
   },
   {
    "duration": 69,
    "start_time": "2023-02-26T18:19:47.268Z"
   },
   {
    "duration": 70,
    "start_time": "2023-02-26T18:22:33.397Z"
   },
   {
    "duration": 72,
    "start_time": "2023-02-26T18:24:25.702Z"
   },
   {
    "duration": 74,
    "start_time": "2023-02-26T18:25:13.353Z"
   },
   {
    "duration": 73,
    "start_time": "2023-02-26T18:29:50.778Z"
   },
   {
    "duration": 457,
    "start_time": "2023-02-26T23:13:56.583Z"
   },
   {
    "duration": 4,
    "start_time": "2023-02-26T23:13:57.041Z"
   },
   {
    "duration": 8770,
    "start_time": "2023-02-26T23:13:57.047Z"
   },
   {
    "duration": 153,
    "start_time": "2023-02-26T23:14:05.818Z"
   },
   {
    "duration": 10,
    "start_time": "2023-02-26T23:14:05.974Z"
   },
   {
    "duration": 23,
    "start_time": "2023-02-26T23:14:05.986Z"
   },
   {
    "duration": 16,
    "start_time": "2023-02-26T23:14:06.011Z"
   },
   {
    "duration": 18,
    "start_time": "2023-02-26T23:14:06.028Z"
   },
   {
    "duration": 11,
    "start_time": "2023-02-26T23:14:06.048Z"
   },
   {
    "duration": 44,
    "start_time": "2023-02-27T06:40:07.831Z"
   },
   {
    "duration": 533,
    "start_time": "2023-02-27T06:40:16.222Z"
   },
   {
    "duration": 3,
    "start_time": "2023-02-27T06:40:16.757Z"
   },
   {
    "duration": 7397,
    "start_time": "2023-02-27T06:40:16.761Z"
   },
   {
    "duration": 111,
    "start_time": "2023-02-27T06:40:24.160Z"
   },
   {
    "duration": 9,
    "start_time": "2023-02-27T06:40:24.273Z"
   },
   {
    "duration": 146,
    "start_time": "2023-02-27T06:40:24.284Z"
   },
   {
    "duration": 0,
    "start_time": "2023-02-27T06:40:24.432Z"
   },
   {
    "duration": 0,
    "start_time": "2023-02-27T06:40:24.433Z"
   },
   {
    "duration": 0,
    "start_time": "2023-02-27T06:40:24.434Z"
   },
   {
    "duration": 33,
    "start_time": "2023-02-27T06:41:40.811Z"
   },
   {
    "duration": 31,
    "start_time": "2023-02-27T06:41:48.719Z"
   },
   {
    "duration": 46,
    "start_time": "2023-02-27T06:47:07.748Z"
   },
   {
    "duration": 78,
    "start_time": "2023-02-27T06:47:31.003Z"
   },
   {
    "duration": 21,
    "start_time": "2023-02-27T06:48:00.925Z"
   },
   {
    "duration": 20,
    "start_time": "2023-02-27T06:50:04.606Z"
   },
   {
    "duration": 23,
    "start_time": "2023-02-27T06:50:25.701Z"
   },
   {
    "duration": 548,
    "start_time": "2023-02-27T06:52:18.033Z"
   },
   {
    "duration": 4,
    "start_time": "2023-02-27T06:52:18.583Z"
   },
   {
    "duration": 5575,
    "start_time": "2023-02-27T06:52:18.589Z"
   },
   {
    "duration": 114,
    "start_time": "2023-02-27T06:52:24.166Z"
   },
   {
    "duration": 9,
    "start_time": "2023-02-27T06:52:24.281Z"
   },
   {
    "duration": 26,
    "start_time": "2023-02-27T06:52:24.292Z"
   },
   {
    "duration": 18,
    "start_time": "2023-02-27T06:52:24.327Z"
   },
   {
    "duration": 16,
    "start_time": "2023-02-27T06:52:24.347Z"
   },
   {
    "duration": 17,
    "start_time": "2023-02-27T06:52:24.365Z"
   },
   {
    "duration": 22,
    "start_time": "2023-02-27T06:56:36.711Z"
   }
  ],
  "kernelspec": {
   "display_name": "Python 3 (ipykernel)",
   "language": "python",
   "name": "python3"
  },
  "language_info": {
   "codemirror_mode": {
    "name": "ipython",
    "version": 3
   },
   "file_extension": ".py",
   "mimetype": "text/x-python",
   "name": "python",
   "nbconvert_exporter": "python",
   "pygments_lexer": "ipython3",
   "version": "3.9.12"
  },
  "toc": {
   "base_numbering": 1,
   "nav_menu": {},
   "number_sections": true,
   "sideBar": true,
   "skip_h1_title": true,
   "title_cell": "Table of Contents",
   "title_sidebar": "Contents",
   "toc_cell": false,
   "toc_position": {
    "height": "calc(100% - 180px)",
    "left": "10px",
    "top": "150px",
    "width": "311.278px"
   },
   "toc_section_display": true,
   "toc_window_display": true
  }
 },
 "nbformat": 4,
 "nbformat_minor": 2
}
