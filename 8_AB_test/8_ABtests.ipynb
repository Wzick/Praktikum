{
 "cells": [
  {
   "cell_type": "markdown",
   "metadata": {},
   "source": [
    "# Анализ результатов A/B теста крупного интернет магазина"
   ]
  },
  {
   "cell_type": "markdown",
   "metadata": {},
   "source": [
    "Проведем анализ результатов А/В тестов крупного интернет-магазина. \n",
    "\n",
    "Отобран список из 9ти гипотез для увеличения выручки.\n",
    "Задача: приоритизировать гипотезы, провести анализ результатов А/В теста.\n"
   ]
  },
  {
   "cell_type": "code",
   "execution_count": 1,
   "metadata": {},
   "outputs": [],
   "source": [
    "import pandas as pd\n",
    "import numpy as np\n",
    "import matplotlib.pyplot as plt\n",
    "import scipy.stats as stats\n",
    "import datetime as dt\n",
    "import seaborn as sns"
   ]
  },
  {
   "cell_type": "code",
   "execution_count": 2,
   "metadata": {},
   "outputs": [
    {
     "data": {
      "text/html": [
       "<div>\n",
       "<style scoped>\n",
       "    .dataframe tbody tr th:only-of-type {\n",
       "        vertical-align: middle;\n",
       "    }\n",
       "\n",
       "    .dataframe tbody tr th {\n",
       "        vertical-align: top;\n",
       "    }\n",
       "\n",
       "    .dataframe thead th {\n",
       "        text-align: right;\n",
       "    }\n",
       "</style>\n",
       "<table border=\"1\" class=\"dataframe\">\n",
       "  <thead>\n",
       "    <tr style=\"text-align: right;\">\n",
       "      <th></th>\n",
       "      <th>Hypothesis</th>\n",
       "      <th>Reach</th>\n",
       "      <th>Impact</th>\n",
       "      <th>Confidence</th>\n",
       "      <th>Efforts</th>\n",
       "    </tr>\n",
       "  </thead>\n",
       "  <tbody>\n",
       "    <tr>\n",
       "      <th>0</th>\n",
       "      <td>Добавить два новых канала привлечения трафика,...</td>\n",
       "      <td>3</td>\n",
       "      <td>10</td>\n",
       "      <td>8</td>\n",
       "      <td>6</td>\n",
       "    </tr>\n",
       "    <tr>\n",
       "      <th>1</th>\n",
       "      <td>Запустить собственную службу доставки, что сок...</td>\n",
       "      <td>2</td>\n",
       "      <td>5</td>\n",
       "      <td>4</td>\n",
       "      <td>10</td>\n",
       "    </tr>\n",
       "    <tr>\n",
       "      <th>2</th>\n",
       "      <td>Добавить блоки рекомендаций товаров на сайт ин...</td>\n",
       "      <td>8</td>\n",
       "      <td>3</td>\n",
       "      <td>7</td>\n",
       "      <td>3</td>\n",
       "    </tr>\n",
       "    <tr>\n",
       "      <th>3</th>\n",
       "      <td>Изменить структура категорий, что увеличит кон...</td>\n",
       "      <td>8</td>\n",
       "      <td>3</td>\n",
       "      <td>3</td>\n",
       "      <td>8</td>\n",
       "    </tr>\n",
       "    <tr>\n",
       "      <th>4</th>\n",
       "      <td>Изменить цвет фона главной страницы, чтобы уве...</td>\n",
       "      <td>3</td>\n",
       "      <td>1</td>\n",
       "      <td>1</td>\n",
       "      <td>1</td>\n",
       "    </tr>\n",
       "    <tr>\n",
       "      <th>5</th>\n",
       "      <td>Добавить страницу отзывов клиентов о магазине,...</td>\n",
       "      <td>3</td>\n",
       "      <td>2</td>\n",
       "      <td>2</td>\n",
       "      <td>3</td>\n",
       "    </tr>\n",
       "    <tr>\n",
       "      <th>6</th>\n",
       "      <td>Показать на главной странице баннеры с актуаль...</td>\n",
       "      <td>5</td>\n",
       "      <td>3</td>\n",
       "      <td>8</td>\n",
       "      <td>3</td>\n",
       "    </tr>\n",
       "    <tr>\n",
       "      <th>7</th>\n",
       "      <td>Добавить форму подписки на все основные страни...</td>\n",
       "      <td>10</td>\n",
       "      <td>7</td>\n",
       "      <td>8</td>\n",
       "      <td>5</td>\n",
       "    </tr>\n",
       "    <tr>\n",
       "      <th>8</th>\n",
       "      <td>Запустить акцию, дающую скидку на товар в день...</td>\n",
       "      <td>1</td>\n",
       "      <td>9</td>\n",
       "      <td>9</td>\n",
       "      <td>5</td>\n",
       "    </tr>\n",
       "  </tbody>\n",
       "</table>\n",
       "</div>"
      ],
      "text/plain": [
       "                                          Hypothesis  Reach  Impact  \\\n",
       "0  Добавить два новых канала привлечения трафика,...      3      10   \n",
       "1  Запустить собственную службу доставки, что сок...      2       5   \n",
       "2  Добавить блоки рекомендаций товаров на сайт ин...      8       3   \n",
       "3  Изменить структура категорий, что увеличит кон...      8       3   \n",
       "4  Изменить цвет фона главной страницы, чтобы уве...      3       1   \n",
       "5  Добавить страницу отзывов клиентов о магазине,...      3       2   \n",
       "6  Показать на главной странице баннеры с актуаль...      5       3   \n",
       "7  Добавить форму подписки на все основные страни...     10       7   \n",
       "8  Запустить акцию, дающую скидку на товар в день...      1       9   \n",
       "\n",
       "   Confidence  Efforts  \n",
       "0           8        6  \n",
       "1           4       10  \n",
       "2           7        3  \n",
       "3           3        8  \n",
       "4           1        1  \n",
       "5           2        3  \n",
       "6           8        3  \n",
       "7           8        5  \n",
       "8           9        5  "
      ]
     },
     "metadata": {},
     "output_type": "display_data"
    }
   ],
   "source": [
    "\n",
    "data = pd.read_csv('//datasets/hypothesis.csv', sep=',')\n",
    "display(data)\n"
   ]
  },
  {
   "cell_type": "code",
   "execution_count": 3,
   "metadata": {},
   "outputs": [
    {
     "data": {
      "text/html": [
       "<div>\n",
       "<style scoped>\n",
       "    .dataframe tbody tr th:only-of-type {\n",
       "        vertical-align: middle;\n",
       "    }\n",
       "\n",
       "    .dataframe tbody tr th {\n",
       "        vertical-align: top;\n",
       "    }\n",
       "\n",
       "    .dataframe thead th {\n",
       "        text-align: right;\n",
       "    }\n",
       "</style>\n",
       "<table border=\"1\" class=\"dataframe\">\n",
       "  <thead>\n",
       "    <tr style=\"text-align: right;\">\n",
       "      <th></th>\n",
       "      <th>hypothesis</th>\n",
       "      <th>reach</th>\n",
       "      <th>impact</th>\n",
       "      <th>confidence</th>\n",
       "      <th>efforts</th>\n",
       "    </tr>\n",
       "  </thead>\n",
       "  <tbody>\n",
       "    <tr>\n",
       "      <th>0</th>\n",
       "      <td>Добавить два новых канала привлечения трафика,...</td>\n",
       "      <td>3</td>\n",
       "      <td>10</td>\n",
       "      <td>8</td>\n",
       "      <td>6</td>\n",
       "    </tr>\n",
       "    <tr>\n",
       "      <th>1</th>\n",
       "      <td>Запустить собственную службу доставки, что сок...</td>\n",
       "      <td>2</td>\n",
       "      <td>5</td>\n",
       "      <td>4</td>\n",
       "      <td>10</td>\n",
       "    </tr>\n",
       "    <tr>\n",
       "      <th>2</th>\n",
       "      <td>Добавить блоки рекомендаций товаров на сайт ин...</td>\n",
       "      <td>8</td>\n",
       "      <td>3</td>\n",
       "      <td>7</td>\n",
       "      <td>3</td>\n",
       "    </tr>\n",
       "    <tr>\n",
       "      <th>3</th>\n",
       "      <td>Изменить структура категорий, что увеличит кон...</td>\n",
       "      <td>8</td>\n",
       "      <td>3</td>\n",
       "      <td>3</td>\n",
       "      <td>8</td>\n",
       "    </tr>\n",
       "    <tr>\n",
       "      <th>4</th>\n",
       "      <td>Изменить цвет фона главной страницы, чтобы уве...</td>\n",
       "      <td>3</td>\n",
       "      <td>1</td>\n",
       "      <td>1</td>\n",
       "      <td>1</td>\n",
       "    </tr>\n",
       "    <tr>\n",
       "      <th>5</th>\n",
       "      <td>Добавить страницу отзывов клиентов о магазине,...</td>\n",
       "      <td>3</td>\n",
       "      <td>2</td>\n",
       "      <td>2</td>\n",
       "      <td>3</td>\n",
       "    </tr>\n",
       "    <tr>\n",
       "      <th>6</th>\n",
       "      <td>Показать на главной странице баннеры с актуаль...</td>\n",
       "      <td>5</td>\n",
       "      <td>3</td>\n",
       "      <td>8</td>\n",
       "      <td>3</td>\n",
       "    </tr>\n",
       "    <tr>\n",
       "      <th>7</th>\n",
       "      <td>Добавить форму подписки на все основные страни...</td>\n",
       "      <td>10</td>\n",
       "      <td>7</td>\n",
       "      <td>8</td>\n",
       "      <td>5</td>\n",
       "    </tr>\n",
       "    <tr>\n",
       "      <th>8</th>\n",
       "      <td>Запустить акцию, дающую скидку на товар в день...</td>\n",
       "      <td>1</td>\n",
       "      <td>9</td>\n",
       "      <td>9</td>\n",
       "      <td>5</td>\n",
       "    </tr>\n",
       "  </tbody>\n",
       "</table>\n",
       "</div>"
      ],
      "text/plain": [
       "                                          hypothesis  reach  impact  \\\n",
       "0  Добавить два новых канала привлечения трафика,...      3      10   \n",
       "1  Запустить собственную службу доставки, что сок...      2       5   \n",
       "2  Добавить блоки рекомендаций товаров на сайт ин...      8       3   \n",
       "3  Изменить структура категорий, что увеличит кон...      8       3   \n",
       "4  Изменить цвет фона главной страницы, чтобы уве...      3       1   \n",
       "5  Добавить страницу отзывов клиентов о магазине,...      3       2   \n",
       "6  Показать на главной странице баннеры с актуаль...      5       3   \n",
       "7  Добавить форму подписки на все основные страни...     10       7   \n",
       "8  Запустить акцию, дающую скидку на товар в день...      1       9   \n",
       "\n",
       "   confidence  efforts  \n",
       "0           8        6  \n",
       "1           4       10  \n",
       "2           7        3  \n",
       "3           3        8  \n",
       "4           1        1  \n",
       "5           2        3  \n",
       "6           8        3  \n",
       "7           8        5  \n",
       "8           9        5  "
      ]
     },
     "metadata": {},
     "output_type": "display_data"
    }
   ],
   "source": [
    "data.columns = map(str.lower, data.columns) # заменили название столбцов на нижний регистр для удобства\n",
    "display(data)"
   ]
  },
  {
   "cell_type": "markdown",
   "metadata": {},
   "source": [
    "## Приоритизация гипотез\n"
   ]
  },
  {
   "cell_type": "markdown",
   "metadata": {},
   "source": [
    "### Посчитаем  ICE - (impact, confidence, effort / ease «влияние, уверенность, усилия / простота») для гипотез. \n"
   ]
  },
  {
   "cell_type": "code",
   "execution_count": 4,
   "metadata": {},
   "outputs": [
    {
     "data": {
      "text/html": [
       "<div>\n",
       "<style scoped>\n",
       "    .dataframe tbody tr th:only-of-type {\n",
       "        vertical-align: middle;\n",
       "    }\n",
       "\n",
       "    .dataframe tbody tr th {\n",
       "        vertical-align: top;\n",
       "    }\n",
       "\n",
       "    .dataframe thead th {\n",
       "        text-align: right;\n",
       "    }\n",
       "</style>\n",
       "<table border=\"1\" class=\"dataframe\">\n",
       "  <thead>\n",
       "    <tr style=\"text-align: right;\">\n",
       "      <th></th>\n",
       "      <th>hypothesis</th>\n",
       "      <th>ICE</th>\n",
       "    </tr>\n",
       "  </thead>\n",
       "  <tbody>\n",
       "    <tr>\n",
       "      <th>8</th>\n",
       "      <td>Запустить акцию, дающую скидку на товар в день...</td>\n",
       "      <td>16.200000</td>\n",
       "    </tr>\n",
       "    <tr>\n",
       "      <th>0</th>\n",
       "      <td>Добавить два новых канала привлечения трафика,...</td>\n",
       "      <td>13.333333</td>\n",
       "    </tr>\n",
       "    <tr>\n",
       "      <th>7</th>\n",
       "      <td>Добавить форму подписки на все основные страни...</td>\n",
       "      <td>11.200000</td>\n",
       "    </tr>\n",
       "    <tr>\n",
       "      <th>6</th>\n",
       "      <td>Показать на главной странице баннеры с актуаль...</td>\n",
       "      <td>8.000000</td>\n",
       "    </tr>\n",
       "    <tr>\n",
       "      <th>2</th>\n",
       "      <td>Добавить блоки рекомендаций товаров на сайт ин...</td>\n",
       "      <td>7.000000</td>\n",
       "    </tr>\n",
       "    <tr>\n",
       "      <th>1</th>\n",
       "      <td>Запустить собственную службу доставки, что сок...</td>\n",
       "      <td>2.000000</td>\n",
       "    </tr>\n",
       "    <tr>\n",
       "      <th>5</th>\n",
       "      <td>Добавить страницу отзывов клиентов о магазине,...</td>\n",
       "      <td>1.333333</td>\n",
       "    </tr>\n",
       "    <tr>\n",
       "      <th>3</th>\n",
       "      <td>Изменить структура категорий, что увеличит кон...</td>\n",
       "      <td>1.125000</td>\n",
       "    </tr>\n",
       "    <tr>\n",
       "      <th>4</th>\n",
       "      <td>Изменить цвет фона главной страницы, чтобы уве...</td>\n",
       "      <td>1.000000</td>\n",
       "    </tr>\n",
       "  </tbody>\n",
       "</table>\n",
       "</div>"
      ],
      "text/plain": [
       "                                          hypothesis        ICE\n",
       "8  Запустить акцию, дающую скидку на товар в день...  16.200000\n",
       "0  Добавить два новых канала привлечения трафика,...  13.333333\n",
       "7  Добавить форму подписки на все основные страни...  11.200000\n",
       "6  Показать на главной странице баннеры с актуаль...   8.000000\n",
       "2  Добавить блоки рекомендаций товаров на сайт ин...   7.000000\n",
       "1  Запустить собственную службу доставки, что сок...   2.000000\n",
       "5  Добавить страницу отзывов клиентов о магазине,...   1.333333\n",
       "3  Изменить структура категорий, что увеличит кон...   1.125000\n",
       "4  Изменить цвет фона главной страницы, чтобы уве...   1.000000"
      ]
     },
     "metadata": {},
     "output_type": "display_data"
    }
   ],
   "source": [
    "data['ICE']=data['impact']*data['confidence']/data['efforts'] # ICE=impact*confidence|effort\n",
    "\n",
    "display(data[['hypothesis', 'ICE']].sort_values(by='ICE', ascending=False))"
   ]
  },
  {
   "cell_type": "markdown",
   "metadata": {},
   "source": [
    "Наиболее приоритетная - 8я гипотеза по способу приоритизации ICE. 0я и 7я следующие по приоритету."
   ]
  },
  {
   "cell_type": "markdown",
   "metadata": {},
   "source": [
    "### Посчитаем RICE\n",
    "(Reach — это охват\n",
    "Impact — влияние\n",
    "Confidence — уверенность в вашей оценке охвата, влияния и трудозатрат\n",
    "Effort — трудозатраты)"
   ]
  },
  {
   "cell_type": "code",
   "execution_count": 5,
   "metadata": {},
   "outputs": [
    {
     "data": {
      "text/html": [
       "<div>\n",
       "<style scoped>\n",
       "    .dataframe tbody tr th:only-of-type {\n",
       "        vertical-align: middle;\n",
       "    }\n",
       "\n",
       "    .dataframe tbody tr th {\n",
       "        vertical-align: top;\n",
       "    }\n",
       "\n",
       "    .dataframe thead th {\n",
       "        text-align: right;\n",
       "    }\n",
       "</style>\n",
       "<table border=\"1\" class=\"dataframe\">\n",
       "  <thead>\n",
       "    <tr style=\"text-align: right;\">\n",
       "      <th></th>\n",
       "      <th>hypothesis</th>\n",
       "      <th>RICE</th>\n",
       "    </tr>\n",
       "  </thead>\n",
       "  <tbody>\n",
       "    <tr>\n",
       "      <th>7</th>\n",
       "      <td>Добавить форму подписки на все основные страни...</td>\n",
       "      <td>112.0</td>\n",
       "    </tr>\n",
       "    <tr>\n",
       "      <th>2</th>\n",
       "      <td>Добавить блоки рекомендаций товаров на сайт ин...</td>\n",
       "      <td>56.0</td>\n",
       "    </tr>\n",
       "    <tr>\n",
       "      <th>0</th>\n",
       "      <td>Добавить два новых канала привлечения трафика,...</td>\n",
       "      <td>40.0</td>\n",
       "    </tr>\n",
       "    <tr>\n",
       "      <th>6</th>\n",
       "      <td>Показать на главной странице баннеры с актуаль...</td>\n",
       "      <td>40.0</td>\n",
       "    </tr>\n",
       "    <tr>\n",
       "      <th>8</th>\n",
       "      <td>Запустить акцию, дающую скидку на товар в день...</td>\n",
       "      <td>16.2</td>\n",
       "    </tr>\n",
       "    <tr>\n",
       "      <th>3</th>\n",
       "      <td>Изменить структура категорий, что увеличит кон...</td>\n",
       "      <td>9.0</td>\n",
       "    </tr>\n",
       "    <tr>\n",
       "      <th>1</th>\n",
       "      <td>Запустить собственную службу доставки, что сок...</td>\n",
       "      <td>4.0</td>\n",
       "    </tr>\n",
       "    <tr>\n",
       "      <th>5</th>\n",
       "      <td>Добавить страницу отзывов клиентов о магазине,...</td>\n",
       "      <td>4.0</td>\n",
       "    </tr>\n",
       "    <tr>\n",
       "      <th>4</th>\n",
       "      <td>Изменить цвет фона главной страницы, чтобы уве...</td>\n",
       "      <td>3.0</td>\n",
       "    </tr>\n",
       "  </tbody>\n",
       "</table>\n",
       "</div>"
      ],
      "text/plain": [
       "                                          hypothesis   RICE\n",
       "7  Добавить форму подписки на все основные страни...  112.0\n",
       "2  Добавить блоки рекомендаций товаров на сайт ин...   56.0\n",
       "0  Добавить два новых канала привлечения трафика,...   40.0\n",
       "6  Показать на главной странице баннеры с актуаль...   40.0\n",
       "8  Запустить акцию, дающую скидку на товар в день...   16.2\n",
       "3  Изменить структура категорий, что увеличит кон...    9.0\n",
       "1  Запустить собственную службу доставки, что сок...    4.0\n",
       "5  Добавить страницу отзывов клиентов о магазине,...    4.0\n",
       "4  Изменить цвет фона главной страницы, чтобы уве...    3.0"
      ]
     },
     "metadata": {},
     "output_type": "display_data"
    }
   ],
   "source": [
    "data['RICE']=data['reach']*data['impact']*data['confidence']/data['efforts'] # RICE = reach*impact*confidence/effort\n",
    "\n",
    "display(data[['hypothesis', 'RICE']].sort_values(by='RICE', ascending=False))"
   ]
  },
  {
   "cell_type": "markdown",
   "metadata": {},
   "source": [
    "По способу приоритезации RICE (R от англ. reach, «охват») наиболее приоритетной оказвается 7я гипотеза, а 8я перемещается в середину приоритетов. 2я и 0я  - следующие по приоритету RICE."
   ]
  },
  {
   "cell_type": "code",
   "execution_count": 6,
   "metadata": {},
   "outputs": [
    {
     "data": {
      "text/html": [
       "<div>\n",
       "<style scoped>\n",
       "    .dataframe tbody tr th:only-of-type {\n",
       "        vertical-align: middle;\n",
       "    }\n",
       "\n",
       "    .dataframe tbody tr th {\n",
       "        vertical-align: top;\n",
       "    }\n",
       "\n",
       "    .dataframe thead th {\n",
       "        text-align: right;\n",
       "    }\n",
       "</style>\n",
       "<table border=\"1\" class=\"dataframe\">\n",
       "  <thead>\n",
       "    <tr style=\"text-align: right;\">\n",
       "      <th></th>\n",
       "      <th>hypothesis</th>\n",
       "      <th>reach</th>\n",
       "      <th>impact</th>\n",
       "      <th>confidence</th>\n",
       "      <th>efforts</th>\n",
       "      <th>ICE</th>\n",
       "      <th>RICE</th>\n",
       "    </tr>\n",
       "  </thead>\n",
       "  <tbody>\n",
       "    <tr>\n",
       "      <th>7</th>\n",
       "      <td>Добавить форму подписки на все основные страни...</td>\n",
       "      <td>10</td>\n",
       "      <td>7</td>\n",
       "      <td>8</td>\n",
       "      <td>5</td>\n",
       "      <td>11.200000</td>\n",
       "      <td>112.0</td>\n",
       "    </tr>\n",
       "    <tr>\n",
       "      <th>2</th>\n",
       "      <td>Добавить блоки рекомендаций товаров на сайт ин...</td>\n",
       "      <td>8</td>\n",
       "      <td>3</td>\n",
       "      <td>7</td>\n",
       "      <td>3</td>\n",
       "      <td>7.000000</td>\n",
       "      <td>56.0</td>\n",
       "    </tr>\n",
       "    <tr>\n",
       "      <th>0</th>\n",
       "      <td>Добавить два новых канала привлечения трафика,...</td>\n",
       "      <td>3</td>\n",
       "      <td>10</td>\n",
       "      <td>8</td>\n",
       "      <td>6</td>\n",
       "      <td>13.333333</td>\n",
       "      <td>40.0</td>\n",
       "    </tr>\n",
       "    <tr>\n",
       "      <th>6</th>\n",
       "      <td>Показать на главной странице баннеры с актуаль...</td>\n",
       "      <td>5</td>\n",
       "      <td>3</td>\n",
       "      <td>8</td>\n",
       "      <td>3</td>\n",
       "      <td>8.000000</td>\n",
       "      <td>40.0</td>\n",
       "    </tr>\n",
       "    <tr>\n",
       "      <th>8</th>\n",
       "      <td>Запустить акцию, дающую скидку на товар в день...</td>\n",
       "      <td>1</td>\n",
       "      <td>9</td>\n",
       "      <td>9</td>\n",
       "      <td>5</td>\n",
       "      <td>16.200000</td>\n",
       "      <td>16.2</td>\n",
       "    </tr>\n",
       "    <tr>\n",
       "      <th>3</th>\n",
       "      <td>Изменить структура категорий, что увеличит кон...</td>\n",
       "      <td>8</td>\n",
       "      <td>3</td>\n",
       "      <td>3</td>\n",
       "      <td>8</td>\n",
       "      <td>1.125000</td>\n",
       "      <td>9.0</td>\n",
       "    </tr>\n",
       "    <tr>\n",
       "      <th>1</th>\n",
       "      <td>Запустить собственную службу доставки, что сок...</td>\n",
       "      <td>2</td>\n",
       "      <td>5</td>\n",
       "      <td>4</td>\n",
       "      <td>10</td>\n",
       "      <td>2.000000</td>\n",
       "      <td>4.0</td>\n",
       "    </tr>\n",
       "    <tr>\n",
       "      <th>5</th>\n",
       "      <td>Добавить страницу отзывов клиентов о магазине,...</td>\n",
       "      <td>3</td>\n",
       "      <td>2</td>\n",
       "      <td>2</td>\n",
       "      <td>3</td>\n",
       "      <td>1.333333</td>\n",
       "      <td>4.0</td>\n",
       "    </tr>\n",
       "    <tr>\n",
       "      <th>4</th>\n",
       "      <td>Изменить цвет фона главной страницы, чтобы уве...</td>\n",
       "      <td>3</td>\n",
       "      <td>1</td>\n",
       "      <td>1</td>\n",
       "      <td>1</td>\n",
       "      <td>1.000000</td>\n",
       "      <td>3.0</td>\n",
       "    </tr>\n",
       "  </tbody>\n",
       "</table>\n",
       "</div>"
      ],
      "text/plain": [
       "                                          hypothesis  reach  impact  \\\n",
       "7  Добавить форму подписки на все основные страни...     10       7   \n",
       "2  Добавить блоки рекомендаций товаров на сайт ин...      8       3   \n",
       "0  Добавить два новых канала привлечения трафика,...      3      10   \n",
       "6  Показать на главной странице баннеры с актуаль...      5       3   \n",
       "8  Запустить акцию, дающую скидку на товар в день...      1       9   \n",
       "3  Изменить структура категорий, что увеличит кон...      8       3   \n",
       "1  Запустить собственную службу доставки, что сок...      2       5   \n",
       "5  Добавить страницу отзывов клиентов о магазине,...      3       2   \n",
       "4  Изменить цвет фона главной страницы, чтобы уве...      3       1   \n",
       "\n",
       "   confidence  efforts        ICE   RICE  \n",
       "7           8        5  11.200000  112.0  \n",
       "2           7        3   7.000000   56.0  \n",
       "0           8        6  13.333333   40.0  \n",
       "6           8        3   8.000000   40.0  \n",
       "8           9        5  16.200000   16.2  \n",
       "3           3        8   1.125000    9.0  \n",
       "1           4       10   2.000000    4.0  \n",
       "5           2        3   1.333333    4.0  \n",
       "4           1        1   1.000000    3.0  "
      ]
     },
     "metadata": {},
     "output_type": "display_data"
    }
   ],
   "source": [
    "display(data.sort_values(by='RICE', ascending=False))"
   ]
  },
  {
   "cell_type": "markdown",
   "metadata": {},
   "source": [
    "### Вывод"
   ]
  },
  {
   "cell_type": "markdown",
   "metadata": {},
   "source": [
    "Reach - количество пользователей(людей) увидят изменения или на какое количество людей повлияют новинки. В 7й гипотезе (\"Добавить форму подписки на все основные страницы, чтобы собрать базу клиентов для email-рассылок\") параметр reach наибольший из возможных - 10, и он существенно влияет на расчет по методу RICE. Это говорит о том, что изменения, которые описаны в 7й гипотезе повлияют на всех покупателей интернет-магазина. Метод ICE более субъективный, оценка Impact - влияние - показывает, насколько ваша идея положительно повлияет на ключевой показатель, который вы пытаетесь улучшить. В данном контексте предлагаю в первую очередь проверить гипотезы под номерами: 7, 2 и 0. А далее на основе вновь полученных данных переназначить оценки."
   ]
  },
  {
   "cell_type": "markdown",
   "metadata": {},
   "source": [
    "## Анализ A/B-теста"
   ]
  },
  {
   "cell_type": "code",
   "execution_count": 7,
   "metadata": {},
   "outputs": [
    {
     "data": {
      "text/html": [
       "<div>\n",
       "<style scoped>\n",
       "    .dataframe tbody tr th:only-of-type {\n",
       "        vertical-align: middle;\n",
       "    }\n",
       "\n",
       "    .dataframe tbody tr th {\n",
       "        vertical-align: top;\n",
       "    }\n",
       "\n",
       "    .dataframe thead th {\n",
       "        text-align: right;\n",
       "    }\n",
       "</style>\n",
       "<table border=\"1\" class=\"dataframe\">\n",
       "  <thead>\n",
       "    <tr style=\"text-align: right;\">\n",
       "      <th></th>\n",
       "      <th>transactionId</th>\n",
       "      <th>visitorId</th>\n",
       "      <th>date</th>\n",
       "      <th>revenue</th>\n",
       "      <th>group</th>\n",
       "    </tr>\n",
       "  </thead>\n",
       "  <tbody>\n",
       "    <tr>\n",
       "      <th>0</th>\n",
       "      <td>3667963787</td>\n",
       "      <td>3312258926</td>\n",
       "      <td>2019-08-15</td>\n",
       "      <td>1650</td>\n",
       "      <td>B</td>\n",
       "    </tr>\n",
       "    <tr>\n",
       "      <th>1</th>\n",
       "      <td>2804400009</td>\n",
       "      <td>3642806036</td>\n",
       "      <td>2019-08-15</td>\n",
       "      <td>730</td>\n",
       "      <td>B</td>\n",
       "    </tr>\n",
       "    <tr>\n",
       "      <th>2</th>\n",
       "      <td>2961555356</td>\n",
       "      <td>4069496402</td>\n",
       "      <td>2019-08-15</td>\n",
       "      <td>400</td>\n",
       "      <td>A</td>\n",
       "    </tr>\n",
       "    <tr>\n",
       "      <th>3</th>\n",
       "      <td>3797467345</td>\n",
       "      <td>1196621759</td>\n",
       "      <td>2019-08-15</td>\n",
       "      <td>9759</td>\n",
       "      <td>B</td>\n",
       "    </tr>\n",
       "    <tr>\n",
       "      <th>4</th>\n",
       "      <td>2282983706</td>\n",
       "      <td>2322279887</td>\n",
       "      <td>2019-08-15</td>\n",
       "      <td>2308</td>\n",
       "      <td>B</td>\n",
       "    </tr>\n",
       "    <tr>\n",
       "      <th>5</th>\n",
       "      <td>182168103</td>\n",
       "      <td>935554773</td>\n",
       "      <td>2019-08-15</td>\n",
       "      <td>2210</td>\n",
       "      <td>B</td>\n",
       "    </tr>\n",
       "    <tr>\n",
       "      <th>6</th>\n",
       "      <td>398296753</td>\n",
       "      <td>2900797465</td>\n",
       "      <td>2019-08-15</td>\n",
       "      <td>1860</td>\n",
       "      <td>B</td>\n",
       "    </tr>\n",
       "    <tr>\n",
       "      <th>7</th>\n",
       "      <td>2626614568</td>\n",
       "      <td>78758296</td>\n",
       "      <td>2019-08-15</td>\n",
       "      <td>1044</td>\n",
       "      <td>A</td>\n",
       "    </tr>\n",
       "    <tr>\n",
       "      <th>8</th>\n",
       "      <td>1576988021</td>\n",
       "      <td>295230930</td>\n",
       "      <td>2019-08-15</td>\n",
       "      <td>13710</td>\n",
       "      <td>A</td>\n",
       "    </tr>\n",
       "    <tr>\n",
       "      <th>9</th>\n",
       "      <td>1506739906</td>\n",
       "      <td>1882260405</td>\n",
       "      <td>2019-08-15</td>\n",
       "      <td>1855</td>\n",
       "      <td>B</td>\n",
       "    </tr>\n",
       "  </tbody>\n",
       "</table>\n",
       "</div>"
      ],
      "text/plain": [
       "   transactionId   visitorId       date  revenue group\n",
       "0     3667963787  3312258926 2019-08-15     1650     B\n",
       "1     2804400009  3642806036 2019-08-15      730     B\n",
       "2     2961555356  4069496402 2019-08-15      400     A\n",
       "3     3797467345  1196621759 2019-08-15     9759     B\n",
       "4     2282983706  2322279887 2019-08-15     2308     B\n",
       "5      182168103   935554773 2019-08-15     2210     B\n",
       "6      398296753  2900797465 2019-08-15     1860     B\n",
       "7     2626614568    78758296 2019-08-15     1044     A\n",
       "8     1576988021   295230930 2019-08-15    13710     A\n",
       "9     1506739906  1882260405 2019-08-15     1855     B"
      ]
     },
     "metadata": {},
     "output_type": "display_data"
    },
    {
     "name": "stdout",
     "output_type": "stream",
     "text": [
      "<class 'pandas.core.frame.DataFrame'>\n",
      "RangeIndex: 1197 entries, 0 to 1196\n",
      "Data columns (total 5 columns):\n",
      " #   Column         Non-Null Count  Dtype         \n",
      "---  ------         --------------  -----         \n",
      " 0   transactionId  1197 non-null   int64         \n",
      " 1   visitorId      1197 non-null   int64         \n",
      " 2   date           1197 non-null   datetime64[ns]\n",
      " 3   revenue        1197 non-null   int64         \n",
      " 4   group          1197 non-null   object        \n",
      "dtypes: datetime64[ns](1), int64(3), object(1)\n",
      "memory usage: 46.9+ KB\n"
     ]
    },
    {
     "data": {
      "text/plain": [
       "None"
      ]
     },
     "metadata": {},
     "output_type": "display_data"
    }
   ],
   "source": [
    "orders = pd.read_csv('///datasets/orders.csv', sep=',')\n",
    "orders['date'] = orders['date'].map(lambda x: dt.datetime.strptime(x, '%Y-%m-%d')) \n",
    "display(orders.head(10))\n",
    "display(orders.info())"
   ]
  },
  {
   "cell_type": "markdown",
   "metadata": {},
   "source": [
    "Пропущенных значений нет в таблице заказов. Поле 'date' сразу приведем к нужному типу - date в формате: ГГГГ-ММ-ДД"
   ]
  },
  {
   "cell_type": "code",
   "execution_count": 8,
   "metadata": {},
   "outputs": [
    {
     "data": {
      "text/html": [
       "<div>\n",
       "<style scoped>\n",
       "    .dataframe tbody tr th:only-of-type {\n",
       "        vertical-align: middle;\n",
       "    }\n",
       "\n",
       "    .dataframe tbody tr th {\n",
       "        vertical-align: top;\n",
       "    }\n",
       "\n",
       "    .dataframe thead th {\n",
       "        text-align: right;\n",
       "    }\n",
       "</style>\n",
       "<table border=\"1\" class=\"dataframe\">\n",
       "  <thead>\n",
       "    <tr style=\"text-align: right;\">\n",
       "      <th></th>\n",
       "      <th>date</th>\n",
       "      <th>group</th>\n",
       "      <th>visitors</th>\n",
       "    </tr>\n",
       "  </thead>\n",
       "  <tbody>\n",
       "    <tr>\n",
       "      <th>0</th>\n",
       "      <td>2019-08-01</td>\n",
       "      <td>A</td>\n",
       "      <td>719</td>\n",
       "    </tr>\n",
       "    <tr>\n",
       "      <th>1</th>\n",
       "      <td>2019-08-02</td>\n",
       "      <td>A</td>\n",
       "      <td>619</td>\n",
       "    </tr>\n",
       "    <tr>\n",
       "      <th>2</th>\n",
       "      <td>2019-08-03</td>\n",
       "      <td>A</td>\n",
       "      <td>507</td>\n",
       "    </tr>\n",
       "    <tr>\n",
       "      <th>3</th>\n",
       "      <td>2019-08-04</td>\n",
       "      <td>A</td>\n",
       "      <td>717</td>\n",
       "    </tr>\n",
       "    <tr>\n",
       "      <th>4</th>\n",
       "      <td>2019-08-05</td>\n",
       "      <td>A</td>\n",
       "      <td>756</td>\n",
       "    </tr>\n",
       "    <tr>\n",
       "      <th>5</th>\n",
       "      <td>2019-08-06</td>\n",
       "      <td>A</td>\n",
       "      <td>667</td>\n",
       "    </tr>\n",
       "    <tr>\n",
       "      <th>6</th>\n",
       "      <td>2019-08-07</td>\n",
       "      <td>A</td>\n",
       "      <td>644</td>\n",
       "    </tr>\n",
       "    <tr>\n",
       "      <th>7</th>\n",
       "      <td>2019-08-08</td>\n",
       "      <td>A</td>\n",
       "      <td>610</td>\n",
       "    </tr>\n",
       "    <tr>\n",
       "      <th>8</th>\n",
       "      <td>2019-08-09</td>\n",
       "      <td>A</td>\n",
       "      <td>617</td>\n",
       "    </tr>\n",
       "    <tr>\n",
       "      <th>9</th>\n",
       "      <td>2019-08-10</td>\n",
       "      <td>A</td>\n",
       "      <td>406</td>\n",
       "    </tr>\n",
       "  </tbody>\n",
       "</table>\n",
       "</div>"
      ],
      "text/plain": [
       "        date group  visitors\n",
       "0 2019-08-01     A       719\n",
       "1 2019-08-02     A       619\n",
       "2 2019-08-03     A       507\n",
       "3 2019-08-04     A       717\n",
       "4 2019-08-05     A       756\n",
       "5 2019-08-06     A       667\n",
       "6 2019-08-07     A       644\n",
       "7 2019-08-08     A       610\n",
       "8 2019-08-09     A       617\n",
       "9 2019-08-10     A       406"
      ]
     },
     "metadata": {},
     "output_type": "display_data"
    },
    {
     "name": "stdout",
     "output_type": "stream",
     "text": [
      "<class 'pandas.core.frame.DataFrame'>\n",
      "RangeIndex: 62 entries, 0 to 61\n",
      "Data columns (total 3 columns):\n",
      " #   Column    Non-Null Count  Dtype         \n",
      "---  ------    --------------  -----         \n",
      " 0   date      62 non-null     datetime64[ns]\n",
      " 1   group     62 non-null     object        \n",
      " 2   visitors  62 non-null     int64         \n",
      "dtypes: datetime64[ns](1), int64(1), object(1)\n",
      "memory usage: 1.6+ KB\n"
     ]
    },
    {
     "data": {
      "text/plain": [
       "None"
      ]
     },
     "metadata": {},
     "output_type": "display_data"
    }
   ],
   "source": [
    "visitors = pd.read_csv('////datasets/visitors.csv', sep=',')\n",
    "visitors['date'] = visitors['date'].map(lambda x: dt.datetime.strptime(x, '%Y-%m-%d'))\n",
    "\n",
    "display(visitors.head(10))\n",
    "display(visitors.info())"
   ]
  },
  {
   "cell_type": "markdown",
   "metadata": {},
   "source": [
    "Пропущенных значений нет в таблице посетителей. Поле 'date' сразу приведем к нужному типу - date"
   ]
  },
  {
   "cell_type": "code",
   "execution_count": 9,
   "metadata": {},
   "outputs": [
    {
     "data": {
      "text/plain": [
       "'Кол-во дубликатов в таблице заказов:'"
      ]
     },
     "metadata": {},
     "output_type": "display_data"
    },
    {
     "data": {
      "text/plain": [
       "0"
      ]
     },
     "metadata": {},
     "output_type": "display_data"
    },
    {
     "data": {
      "text/plain": [
       "'Кол-во дубликатов в таблице пользователей:'"
      ]
     },
     "metadata": {},
     "output_type": "display_data"
    },
    {
     "data": {
      "text/plain": [
       "0"
      ]
     },
     "metadata": {},
     "output_type": "display_data"
    }
   ],
   "source": [
    "# посчитаем дубликаты в таблицах\n",
    "display(\"Кол-во дубликатов в таблице заказов:\",orders.duplicated().sum())\n",
    "display(\"Кол-во дубликатов в таблице пользователей:\",visitors.duplicated().sum())"
   ]
  },
  {
   "cell_type": "markdown",
   "metadata": {},
   "source": [
    "Явных дубликатов нет в обеих таблицах нет. Проверим распределение по группам в таблице посетителей."
   ]
  },
  {
   "cell_type": "code",
   "execution_count": 10,
   "metadata": {},
   "outputs": [
    {
     "data": {
      "text/plain": [
       "B    31\n",
       "A    31\n",
       "Name: group, dtype: int64"
      ]
     },
     "execution_count": 10,
     "metadata": {},
     "output_type": "execute_result"
    }
   ],
   "source": [
    "visitors['group'].value_counts()"
   ]
  },
  {
   "cell_type": "markdown",
   "metadata": {},
   "source": [
    "Распределение по группам равномерное. Проверим нет ли данных, присутствующих в обеих группах."
   ]
  },
  {
   "cell_type": "code",
   "execution_count": 11,
   "metadata": {},
   "outputs": [
    {
     "data": {
      "text/plain": [
       "58"
      ]
     },
     "execution_count": 11,
     "metadata": {},
     "output_type": "execute_result"
    }
   ],
   "source": [
    "len(np.intersect1d(orders.query('group == \"A\"')['visitorId'].unique(), orders.query('group == \"B\"')['visitorId'].unique()))"
   ]
  },
  {
   "cell_type": "code",
   "execution_count": 12,
   "metadata": {},
   "outputs": [
    {
     "data": {
      "text/plain": [
       "'всего заказов:'"
      ]
     },
     "metadata": {},
     "output_type": "display_data"
    },
    {
     "data": {
      "text/plain": [
       "1197"
      ]
     },
     "metadata": {},
     "output_type": "display_data"
    }
   ],
   "source": [
    "display(\"всего заказов:\",len(orders['visitorId']))"
   ]
  },
  {
   "cell_type": "markdown",
   "metadata": {},
   "source": [
    "58 значений, которые попали в обе группы. Посмотрим какой эти процент общего числа заказов.\n"
   ]
  },
  {
   "cell_type": "code",
   "execution_count": 13,
   "metadata": {},
   "outputs": [
    {
     "data": {
      "text/plain": [
       "0.04845446950710108"
      ]
     },
     "metadata": {},
     "output_type": "display_data"
    }
   ],
   "source": [
    "display(len(np.intersect1d(orders.query('group == \"A\"')['visitorId'].unique(), orders.query('group == \"B\"')['visitorId'].unique()))/len(orders['visitorId']))"
   ]
  },
  {
   "cell_type": "markdown",
   "metadata": {},
   "source": [
    "5% значений, которые присутствуют в обеих группах. Это допустимая погрешность."
   ]
  },
  {
   "cell_type": "code",
   "execution_count": 14,
   "metadata": {},
   "outputs": [
    {
     "name": "stdout",
     "output_type": "stream",
     "text": [
      "ORDERS_DATE count                    1197\n",
      "unique                     31\n",
      "top       2019-08-05 00:00:00\n",
      "freq                       48\n",
      "first     2019-08-01 00:00:00\n",
      "last      2019-08-31 00:00:00\n",
      "Name: date, dtype: object\n",
      "VISITORS_DATE count                      62\n",
      "unique                     31\n",
      "top       2019-08-27 00:00:00\n",
      "freq                        2\n",
      "first     2019-08-01 00:00:00\n",
      "last      2019-08-31 00:00:00\n",
      "Name: date, dtype: object\n"
     ]
    },
    {
     "name": "stderr",
     "output_type": "stream",
     "text": [
      "/tmp/ipykernel_136/2719014281.py:1: FutureWarning: Treating datetime data as categorical rather than numeric in `.describe` is deprecated and will be removed in a future version of pandas. Specify `datetime_is_numeric=True` to silence this warning and adopt the future behavior now.\n",
      "  print(\"ORDERS_DATE\", orders[\"date\"].describe())\n",
      "/tmp/ipykernel_136/2719014281.py:2: FutureWarning: Treating datetime data as categorical rather than numeric in `.describe` is deprecated and will be removed in a future version of pandas. Specify `datetime_is_numeric=True` to silence this warning and adopt the future behavior now.\n",
      "  print(\"VISITORS_DATE\", visitors[\"date\"].describe())\n"
     ]
    }
   ],
   "source": [
    "print(\"ORDERS_DATE\", orders[\"date\"].describe())\n",
    "print(\"VISITORS_DATE\", visitors[\"date\"].describe())\n"
   ]
  },
  {
   "cell_type": "markdown",
   "metadata": {},
   "source": [
    "Даты начала и окончания сбора данных в обеих таблицах совпадают."
   ]
  },
  {
   "cell_type": "markdown",
   "metadata": {},
   "source": [
    "Таким образом, проверили:\n",
    "    * дубликатов в данных нет,\n",
    "    * пропусков в данных нет,\n",
    "    * групп, участвующих в тесте 2: А и В, где количество пользователей распределено равномерно.\n",
    "    * данные представлены в правильных типах(даты изменены на тип date), даты начала и окончания тестов в обеих таблицах совпадают.\n",
    "    * есть пересекающиеся данные в обеих группах, но мы их удалять не стали, так как их число менее 5%. В дальнейшем необходимо обратить на это внимание."
   ]
  },
  {
   "cell_type": "code",
   "execution_count": 15,
   "metadata": {},
   "outputs": [],
   "source": [
    "# создаем массив уникальных пар значений дат и групп теста\n",
    "datesGroups = orders[['date','group']].drop_duplicates() "
   ]
  },
  {
   "cell_type": "code",
   "execution_count": 16,
   "metadata": {},
   "outputs": [],
   "source": [
    "# получаем агрегированные кумулятивные по дням данные о заказах \n",
    "ordersAggregated = datesGroups.apply(lambda x: orders[np.logical_and(orders['date'] <= x['date'], orders['group'] == x['group'])]\\\n",
    ".agg({'date' : 'max', 'group' : 'max', 'transactionId' : 'nunique', 'visitorId' : 'nunique', 'revenue' : 'sum'}), axis=1).sort_values(by=['date','group'])\n",
    "\n",
    "# получаем агрегированные кумулятивные по дням данные о посетителях интернет-магазина \n",
    "visitorsAggregated = datesGroups.apply(lambda x: visitors[np.logical_and(visitors['date'] <= x['date'], visitors['group'] == x['group'])].agg({'date' : 'max', 'group' : 'max', 'visitors' : 'sum'}), axis=1).sort_values(by=['date','group'])"
   ]
  },
  {
   "cell_type": "code",
   "execution_count": 17,
   "metadata": {},
   "outputs": [
    {
     "data": {
      "text/html": [
       "<div>\n",
       "<style scoped>\n",
       "    .dataframe tbody tr th:only-of-type {\n",
       "        vertical-align: middle;\n",
       "    }\n",
       "\n",
       "    .dataframe tbody tr th {\n",
       "        vertical-align: top;\n",
       "    }\n",
       "\n",
       "    .dataframe thead th {\n",
       "        text-align: right;\n",
       "    }\n",
       "</style>\n",
       "<table border=\"1\" class=\"dataframe\">\n",
       "  <thead>\n",
       "    <tr style=\"text-align: right;\">\n",
       "      <th></th>\n",
       "      <th>date</th>\n",
       "      <th>group</th>\n",
       "      <th>orders</th>\n",
       "      <th>buyers</th>\n",
       "      <th>revenue</th>\n",
       "      <th>visitors</th>\n",
       "    </tr>\n",
       "  </thead>\n",
       "  <tbody>\n",
       "    <tr>\n",
       "      <th>0</th>\n",
       "      <td>2019-08-01</td>\n",
       "      <td>A</td>\n",
       "      <td>24</td>\n",
       "      <td>20</td>\n",
       "      <td>148579</td>\n",
       "      <td>719</td>\n",
       "    </tr>\n",
       "    <tr>\n",
       "      <th>1</th>\n",
       "      <td>2019-08-01</td>\n",
       "      <td>B</td>\n",
       "      <td>21</td>\n",
       "      <td>20</td>\n",
       "      <td>101217</td>\n",
       "      <td>713</td>\n",
       "    </tr>\n",
       "    <tr>\n",
       "      <th>2</th>\n",
       "      <td>2019-08-02</td>\n",
       "      <td>A</td>\n",
       "      <td>44</td>\n",
       "      <td>38</td>\n",
       "      <td>242401</td>\n",
       "      <td>1338</td>\n",
       "    </tr>\n",
       "    <tr>\n",
       "      <th>3</th>\n",
       "      <td>2019-08-02</td>\n",
       "      <td>B</td>\n",
       "      <td>45</td>\n",
       "      <td>43</td>\n",
       "      <td>266748</td>\n",
       "      <td>1294</td>\n",
       "    </tr>\n",
       "    <tr>\n",
       "      <th>4</th>\n",
       "      <td>2019-08-03</td>\n",
       "      <td>A</td>\n",
       "      <td>68</td>\n",
       "      <td>62</td>\n",
       "      <td>354874</td>\n",
       "      <td>1845</td>\n",
       "    </tr>\n",
       "    <tr>\n",
       "      <th>5</th>\n",
       "      <td>2019-08-03</td>\n",
       "      <td>B</td>\n",
       "      <td>61</td>\n",
       "      <td>59</td>\n",
       "      <td>380996</td>\n",
       "      <td>1803</td>\n",
       "    </tr>\n",
       "    <tr>\n",
       "      <th>6</th>\n",
       "      <td>2019-08-04</td>\n",
       "      <td>A</td>\n",
       "      <td>84</td>\n",
       "      <td>77</td>\n",
       "      <td>425699</td>\n",
       "      <td>2562</td>\n",
       "    </tr>\n",
       "    <tr>\n",
       "      <th>7</th>\n",
       "      <td>2019-08-04</td>\n",
       "      <td>B</td>\n",
       "      <td>78</td>\n",
       "      <td>75</td>\n",
       "      <td>489567</td>\n",
       "      <td>2573</td>\n",
       "    </tr>\n",
       "    <tr>\n",
       "      <th>8</th>\n",
       "      <td>2019-08-05</td>\n",
       "      <td>A</td>\n",
       "      <td>109</td>\n",
       "      <td>100</td>\n",
       "      <td>549917</td>\n",
       "      <td>3318</td>\n",
       "    </tr>\n",
       "    <tr>\n",
       "      <th>9</th>\n",
       "      <td>2019-08-05</td>\n",
       "      <td>B</td>\n",
       "      <td>101</td>\n",
       "      <td>98</td>\n",
       "      <td>581995</td>\n",
       "      <td>3280</td>\n",
       "    </tr>\n",
       "  </tbody>\n",
       "</table>\n",
       "</div>"
      ],
      "text/plain": [
       "        date group  orders  buyers  revenue  visitors\n",
       "0 2019-08-01     A      24      20   148579       719\n",
       "1 2019-08-01     B      21      20   101217       713\n",
       "2 2019-08-02     A      44      38   242401      1338\n",
       "3 2019-08-02     B      45      43   266748      1294\n",
       "4 2019-08-03     A      68      62   354874      1845\n",
       "5 2019-08-03     B      61      59   380996      1803\n",
       "6 2019-08-04     A      84      77   425699      2562\n",
       "7 2019-08-04     B      78      75   489567      2573\n",
       "8 2019-08-05     A     109     100   549917      3318\n",
       "9 2019-08-05     B     101      98   581995      3280"
      ]
     },
     "metadata": {},
     "output_type": "display_data"
    }
   ],
   "source": [
    "# объединяем кумулятивные данные в одной таблице и присваиваем ее столбцам понятные названия\n",
    "cumulativeData = ordersAggregated.merge(visitorsAggregated, left_on=['date', 'group'], right_on=['date', 'group'])\n",
    "cumulativeData.columns = ['date', 'group', 'orders', 'buyers', 'revenue', 'visitors']\n",
    "\n",
    "display(cumulativeData.head(10)) "
   ]
  },
  {
   "cell_type": "markdown",
   "metadata": {},
   "source": [
    "### Построим графики кумулятивных метрик"
   ]
  },
  {
   "cell_type": "markdown",
   "metadata": {},
   "source": [
    "#### Построим график кумулятивной выручки по группам"
   ]
  },
  {
   "cell_type": "code",
   "execution_count": 18,
   "metadata": {},
   "outputs": [
    {
     "data": {
      "image/png": "[encoded data removed]",
      "text/plain": [
       "<Figure size 720x432 with 1 Axes>"
      ]
     },
     "metadata": {
      "needs_background": "light"
     },
     "output_type": "display_data"
    }
   ],
   "source": [
    "# датафрейм с кумулятивным количеством заказов и кумулятивной выручкой по дням в группе А\n",
    "cumulativeRevenueA = cumulativeData[cumulativeData['group']=='A'][['date','revenue', 'orders']]\n",
    "\n",
    "# датафрейм с кумулятивным количеством заказов и кумулятивной выручкой по дням в группе B\n",
    "cumulativeRevenueB = cumulativeData[cumulativeData['group']=='B'][['date','revenue', 'orders']]\n",
    "\n",
    "fig = plt.figure(figsize=[10,6])\n",
    "plt.title('График кумулятивной выручки по группам')\n",
    "plt.xticks(rotation=45)\n",
    "plt.grid(b=True)\n",
    "# Строим график выручки группы А\n",
    "plt.plot(cumulativeRevenueA['date'], cumulativeRevenueA['revenue'], label='A')\n",
    "\n",
    "# Строим график выручки группы B\n",
    "plt.plot(cumulativeRevenueB['date'], cumulativeRevenueB['revenue'], label='B')\n",
    "\n",
    "plt.legend() \n",
    "plt.show()"
   ]
  },
  {
   "cell_type": "markdown",
   "metadata": {},
   "source": [
    "Выручка почти равномерно увеличивается в течение всего теста. Хороший знак.\n",
    "Однако график выручки группы В в точке 2019-08-18 резко растет. Это может сигнализировать о всплеске числа заказов, либо о появлении очень дорогих заказов в выборке. "
   ]
  },
  {
   "cell_type": "markdown",
   "metadata": {},
   "source": [
    "#### Построим график кумулятивного среднего чека по группам. "
   ]
  },
  {
   "cell_type": "code",
   "execution_count": 19,
   "metadata": {},
   "outputs": [
    {
     "data": {
      "text/plain": [
       "<matplotlib.legend.Legend at 0x7f14942171f0>"
      ]
     },
     "execution_count": 19,
     "metadata": {},
     "output_type": "execute_result"
    },
    {
     "data": {
      "image/png": "[encoded data removed]",
      "text/plain": [
       "<Figure size 720x432 with 1 Axes>"
      ]
     },
     "metadata": {
      "needs_background": "light"
     },
     "output_type": "display_data"
    }
   ],
   "source": [
    "fig = plt.figure(figsize=[10,6])\n",
    "plt.title('График кумулятивного среднего чека по группам')\n",
    "plt.xticks(rotation=45)\n",
    "plt.grid(b=True)\n",
    "plt.plot(cumulativeRevenueA['date'], cumulativeRevenueA['revenue']/cumulativeRevenueA['orders'], label='A')\n",
    "plt.plot(cumulativeRevenueB['date'], cumulativeRevenueB['revenue']/cumulativeRevenueB['orders'], label='B')\n",
    "\n",
    "\n",
    "plt.legend() "
   ]
  },
  {
   "cell_type": "markdown",
   "metadata": {},
   "source": [
    "Кумулятивное значение среднего чека по группам колеблется. Особенно заметен резкий скачок у группы В. \n",
    "Возможно, в группу B в районе 2019-08-18 попали крупные заказы (резкий всплеск на графике). Тогда ей нужно больше данных, чтобы прийти к реальному среднему чеку и установиться на его уровне. И в группе А есть резкий рост в начале теста. Но сказать, что средний чек установился, пока невозможно. Принимать решения по данной метрике рано и требуется анализ выбросов, которые сильно влияют на данные."
   ]
  },
  {
   "cell_type": "markdown",
   "metadata": {},
   "source": [
    "#### Построим график относительного изменения кумулятивного среднего чека группы B к группе A."
   ]
  },
  {
   "cell_type": "code",
   "execution_count": 20,
   "metadata": {},
   "outputs": [
    {
     "data": {
      "text/plain": [
       "<matplotlib.lines.Line2D at 0x7f14941ed910>"
      ]
     },
     "execution_count": 20,
     "metadata": {},
     "output_type": "execute_result"
    },
    {
     "data": {
      "image/png": "[encoded data removed]",
      "text/plain": [
       "<Figure size 720x432 with 1 Axes>"
      ]
     },
     "metadata": {
      "needs_background": "light"
     },
     "output_type": "display_data"
    }
   ],
   "source": [
    "# собираем данные в одном датафрейме\n",
    "mergedCumulativeRevenue = cumulativeRevenueA.merge(cumulativeRevenueB, left_on='date', right_on='date', how='left', suffixes=['A', 'B'])\n",
    "\n",
    "fig = plt.figure(figsize=[10,6])\n",
    "plt.title('График относительного изменения кумулятивного среднего чека группы B к группе A')\n",
    "plt.xticks(rotation=45)\n",
    "plt.grid(b=True)\n",
    "# cтроим отношение средних чеков\n",
    "plt.plot(mergedCumulativeRevenue['date'], (mergedCumulativeRevenue['revenueB']/mergedCumulativeRevenue['ordersB'])/(mergedCumulativeRevenue['revenueA']/mergedCumulativeRevenue['ordersA'])-1)\n",
    "\n",
    "# добавляем ось X\n",
    "plt.axhline(y=0, color='black', linestyle='--') "
   ]
  },
  {
   "cell_type": "markdown",
   "metadata": {},
   "source": [
    "Результаты теста значительно меняются в разные даты, в том числе 2019-08-18 также есть всплеск. Похоже, что именно в эти даты совершены аномальные заказы."
   ]
  },
  {
   "cell_type": "markdown",
   "metadata": {},
   "source": [
    "#### Построим график кумулятивного среднего количества заказов на посетителя по группам"
   ]
  },
  {
   "cell_type": "code",
   "execution_count": 21,
   "metadata": {},
   "outputs": [],
   "source": [
    "# считаем кумулятивную отношение среднего количества заказов на посетителя\n",
    "cumulativeData['conversion'] = cumulativeData['orders']/cumulativeData['visitors']\n",
    "\n",
    "# отделяем данные по группе A\n",
    "cumulativeDataA = cumulativeData[cumulativeData['group']=='A']\n",
    "\n",
    "# отделяем данные по группе B\n",
    "cumulativeDataB = cumulativeData[cumulativeData['group']=='B']"
   ]
  },
  {
   "cell_type": "code",
   "execution_count": 22,
   "metadata": {},
   "outputs": [
    {
     "data": {
      "text/plain": [
       "<matplotlib.legend.Legend at 0x7f1494181a90>"
      ]
     },
     "execution_count": 22,
     "metadata": {},
     "output_type": "execute_result"
    },
    {
     "data": {
      "image/png": "[encoded data removed]",
      "text/plain": [
       "<Figure size 720x432 with 1 Axes>"
      ]
     },
     "metadata": {
      "needs_background": "light"
     },
     "output_type": "display_data"
    }
   ],
   "source": [
    "# строим графики\n",
    "fig = plt.figure(figsize=[10,6])\n",
    "plt.title('График кумулятивного среднего количества заказов на посетителя по группам')\n",
    "plt.xticks(rotation=45)\n",
    "plt.grid(b=True)\n",
    "plt.plot(cumulativeDataA['date'], cumulativeDataA['conversion'], label='A')\n",
    "plt.plot(cumulativeDataB['date'], cumulativeDataB['conversion'], label='B')\n",
    "plt.legend()\n"
   ]
  },
  {
   "cell_type": "markdown",
   "metadata": {},
   "source": [
    "У обоих групп в первые дни резкие скачки, а потом падение. Но в группе В падение существеннее, чем в А. Говорить о стабилизации около какого-то значения для обеих групп пока рано - скачки кумулятивного среднего количества заказов на посетителя продолжаются."
   ]
  },
  {
   "cell_type": "markdown",
   "metadata": {},
   "source": [
    "#### Построим график относительного изменения кумулятивного среднего количества заказов на посетителя группы B к группе A"
   ]
  },
  {
   "cell_type": "code",
   "execution_count": 23,
   "metadata": {},
   "outputs": [
    {
     "data": {
      "image/png": "[encoded data removed]",
      "text/plain": [
       "<Figure size 720x432 with 1 Axes>"
      ]
     },
     "metadata": {
      "needs_background": "light"
     },
     "output_type": "display_data"
    }
   ],
   "source": [
    "mergedCumulativeConversions = cumulativeDataA[['date','conversion']].merge(cumulativeDataB[['date','conversion']], left_on='date', right_on='date', how='left', suffixes=['A', 'B'])\n",
    "\n",
    "fig = plt.figure(figsize=[10,6])\n",
    "plt.title('График относительного изменения кумулятивного среднего количества заказов на посетителя группы B к группе A')\n",
    "plt.xticks(rotation=45)\n",
    "plt.grid(b=True)\n",
    "plt.plot(mergedCumulativeConversions['date'], mergedCumulativeConversions['conversionB']/mergedCumulativeConversions['conversionA']-1)\n",
    "\n",
    "plt.axhline(y=0, color='black', linestyle='--')\n",
    "plt.axhline(y=-0.1, color='grey', linestyle='--')\n",
    "plt.show()"
   ]
  },
  {
   "cell_type": "markdown",
   "metadata": {},
   "source": [
    "В начале теста группа B выигрывала у группы A, достигая до 20% прироста, далее резкое падение, но затем группа B стабильно и постепенно растёт с небольшими колебаниями. В целом отношение конверсии ещё не установилось, и сейчас делать какие-либо выводы по тесту нельзя."
   ]
  },
  {
   "cell_type": "markdown",
   "metadata": {},
   "source": [
    "#### Построим точечный график количества заказов по пользователям."
   ]
  },
  {
   "cell_type": "code",
   "execution_count": 24,
   "metadata": {},
   "outputs": [
    {
     "name": "stdout",
     "output_type": "stream",
     "text": [
      "       visitorId  orders\n",
      "1023  4256040402      11\n",
      "591   2458001652      11\n",
      "569   2378935119       9\n",
      "487   2038680547       8\n",
      "44     199603092       5\n",
      "744   3062433592       5\n",
      "55     237748145       5\n",
      "917   3803269165       5\n",
      "299   1230306981       5\n",
      "897   3717692402       5\n"
     ]
    }
   ],
   "source": [
    "ordersByUsers = orders.drop(['group', 'revenue', 'date'], axis=1).groupby('visitorId', as_index=False).agg({'transactionId' : pd.Series.nunique})\n",
    "# Подсчитаем количество заказов по пользователям\n",
    "ordersByUsers.columns = ['visitorId','orders']\n",
    "\n",
    "print(ordersByUsers.sort_values(by='orders',ascending=False).head(10))"
   ]
  },
  {
   "cell_type": "code",
   "execution_count": 25,
   "metadata": {
    "scrolled": true
   },
   "outputs": [
    {
     "data": {
      "image/png": "[encoded data removed]",
      "text/plain": [
       "<Figure size 720x432 with 1 Axes>"
      ]
     },
     "metadata": {
      "needs_background": "light"
     },
     "output_type": "display_data"
    }
   ],
   "source": [
    "x_values = pd.Series(range(0,len(ordersByUsers)))\n",
    "\n",
    "fig = plt.figure(figsize=[10,6])\n",
    "plt.title('Количество заказов по пользователям')\n",
    "plt.scatter(x_values, ordersByUsers['orders'])\n",
    "plt.show()"
   ]
  },
  {
   "cell_type": "markdown",
   "metadata": {},
   "source": [
    "В основном заказывают 1 раз, но пользователей с 2мя заказами тоже значимое количество, но 3-4 заказа делает достаточно пользователей. А вот пользователей с количеством заказов больше 4 - мало. "
   ]
  },
  {
   "cell_type": "markdown",
   "metadata": {},
   "source": [
    "### Проведем анализ аномалий и выбросов"
   ]
  },
  {
   "cell_type": "markdown",
   "metadata": {},
   "source": [
    "#### Посчитаем 95-й и 99-й перцентили количества заказов на пользователя."
   ]
  },
  {
   "cell_type": "markdown",
   "metadata": {},
   "source": [
    "Точная доля пользователей с большим количеством заказов не ясна. Непонятно, считать их аномалиями или нет. Принято отсеивать от 1% до 5% наблюдений с крайними значениями. Посчитаем выборочные перцентили количества заказов на одного пользователя, чтобы принять решение по аномальным значениям."
   ]
  },
  {
   "cell_type": "code",
   "execution_count": 26,
   "metadata": {},
   "outputs": [
    {
     "data": {
      "text/plain": [
       "array([1., 2., 4.])"
      ]
     },
     "metadata": {},
     "output_type": "display_data"
    }
   ],
   "source": [
    "# Метод np.percentile('column', [percentile1, percentile2, percentile3]) находит перцентили.\n",
    "display(np.percentile(ordersByUsers['orders'], [90, 95, 99])) "
   ]
  },
  {
   "cell_type": "markdown",
   "metadata": {},
   "source": [
    "Менее 5% пользователей заказывают более 2х раз. Возьмем число заказов - 2 ,  как верхнюю границу и отсеем аномальные значения."
   ]
  },
  {
   "cell_type": "code",
   "execution_count": 27,
   "metadata": {},
   "outputs": [
    {
     "name": "stdout",
     "output_type": "stream",
     "text": [
      "2\n"
     ]
    }
   ],
   "source": [
    "ob=int(np.percentile(ordersByUsers['orders'], [95])) # граница количества аномальных заказов\n",
    "print(ob)"
   ]
  },
  {
   "cell_type": "markdown",
   "metadata": {},
   "source": [
    "#### Построим точечный график стоимостей заказов"
   ]
  },
  {
   "cell_type": "code",
   "execution_count": 28,
   "metadata": {
    "scrolled": true
   },
   "outputs": [
    {
     "data": {
      "text/plain": [
       "<matplotlib.collections.PathCollection at 0x7f149403b070>"
      ]
     },
     "execution_count": 28,
     "metadata": {},
     "output_type": "execute_result"
    },
    {
     "data": {
      "image/png": "[encoded data removed]",
      "text/plain": [
       "<Figure size 720x360 with 1 Axes>"
      ]
     },
     "metadata": {
      "needs_background": "light"
     },
     "output_type": "display_data"
    }
   ],
   "source": [
    "x_values = pd.Series(range(0,len(orders['revenue'])))\n",
    "\n",
    "fig = plt.figure(figsize=[10,5])\n",
    "plt.title('Стоимость заказов')\n",
    "\n",
    "plt.scatter(x_values, orders['revenue'])"
   ]
  },
  {
   "cell_type": "markdown",
   "metadata": {},
   "source": [
    "Большинство заказов стоимостью около 10000. Но также наблюдаем аномальные выбросы. Есть даже заказ стоимостью более 1.2 миллиона. Его стоимость существенно влияет на результаты исследований. "
   ]
  },
  {
   "cell_type": "code",
   "execution_count": 29,
   "metadata": {},
   "outputs": [
    {
     "data": {
      "image/png": "[encoded data removed]",
      "text/plain": [
       "<Figure size 1440x720 with 1 Axes>"
      ]
     },
     "metadata": {
      "needs_background": "light"
     },
     "output_type": "display_data"
    }
   ],
   "source": [
    "orders_mean = orders.query('revenue<200000')\n",
    "\n",
    "x_values = pd.Series(range(0,orders_mean['revenue'].count()))\n",
    "plt.figure(figsize=(20, 10))\n",
    "sns.scatterplot(x=x_values, y=\"revenue\", hue=\"group\", data=orders_mean)\n",
    "plt.title('Точечный график стоимостей заказов');\n"
   ]
  },
  {
   "cell_type": "markdown",
   "metadata": {},
   "source": [
    "Чтобы отфильтровать аномальные значения, вновь посчитаем перцентили."
   ]
  },
  {
   "cell_type": "markdown",
   "metadata": {},
   "source": [
    "#### Посчитаем 95-й и 99-й перцентили стоимости заказов"
   ]
  },
  {
   "cell_type": "code",
   "execution_count": 30,
   "metadata": {},
   "outputs": [
    {
     "name": "stdout",
     "output_type": "stream",
     "text": [
      "[18168.  28000.  58233.2]\n"
     ]
    }
   ],
   "source": [
    "print(np.percentile(orders['revenue'], [90, 95, 99])) "
   ]
  },
  {
   "cell_type": "code",
   "execution_count": 31,
   "metadata": {},
   "outputs": [],
   "source": [
    "rb=int(np.percentile(orders['revenue'], [95])) # граница аномальных значений стоимости заказа"
   ]
  },
  {
   "cell_type": "markdown",
   "metadata": {},
   "source": [
    "Менее 5% заказов были дороже 28 000. И менее 1% заказов дороже 58233. Возьмем 28000 за границу отсечения аномальных значений. "
   ]
  },
  {
   "cell_type": "markdown",
   "metadata": {},
   "source": [
    "### Сформулируем гипотезы и посмотрим на статистические значимости различий метрик"
   ]
  },
  {
   "cell_type": "markdown",
   "metadata": {},
   "source": [
    "#### Посчитаем статистическую значимость различий в среднем количестве заказов на посетителя между группами по «сырым» данным"
   ]
  },
  {
   "cell_type": "markdown",
   "metadata": {},
   "source": [
    "Посчитаем статистическую значимость различий в среднем количестве заказов на посетителя между группами по «сырым» данным — без удаления аномальных пользователей.\n",
    "Сформулируем гипотезы. \n",
    "H0 - Нулевая: различий в среднем количестве заказов на посетителя между группами нет. \n",
    "H1 - Альтернативная: различия в среднем между группами есть.\n",
    "\n"
   ]
  },
  {
   "cell_type": "code",
   "execution_count": 32,
   "metadata": {},
   "outputs": [
    {
     "data": {
      "text/html": [
       "<div>\n",
       "<style scoped>\n",
       "    .dataframe tbody tr th:only-of-type {\n",
       "        vertical-align: middle;\n",
       "    }\n",
       "\n",
       "    .dataframe tbody tr th {\n",
       "        vertical-align: top;\n",
       "    }\n",
       "\n",
       "    .dataframe thead th {\n",
       "        text-align: right;\n",
       "    }\n",
       "</style>\n",
       "<table border=\"1\" class=\"dataframe\">\n",
       "  <thead>\n",
       "    <tr style=\"text-align: right;\">\n",
       "      <th></th>\n",
       "      <th>date</th>\n",
       "      <th>ordersPerDateA</th>\n",
       "      <th>revenuePerDateA</th>\n",
       "      <th>ordersPerDateB</th>\n",
       "      <th>revenuePerDateB</th>\n",
       "      <th>ordersCummulativeA</th>\n",
       "      <th>revenueCummulativeA</th>\n",
       "      <th>ordersCummulativeB</th>\n",
       "      <th>revenueCummulativeB</th>\n",
       "      <th>visitorsPerDateA</th>\n",
       "      <th>visitorsPerDateB</th>\n",
       "      <th>visitorsCummulativeA</th>\n",
       "      <th>visitorsCummulativeB</th>\n",
       "    </tr>\n",
       "  </thead>\n",
       "  <tbody>\n",
       "    <tr>\n",
       "      <th>0</th>\n",
       "      <td>2019-08-01</td>\n",
       "      <td>24</td>\n",
       "      <td>148579</td>\n",
       "      <td>21</td>\n",
       "      <td>101217</td>\n",
       "      <td>24</td>\n",
       "      <td>148579</td>\n",
       "      <td>21</td>\n",
       "      <td>101217</td>\n",
       "      <td>719</td>\n",
       "      <td>713</td>\n",
       "      <td>719</td>\n",
       "      <td>713</td>\n",
       "    </tr>\n",
       "    <tr>\n",
       "      <th>1</th>\n",
       "      <td>2019-08-02</td>\n",
       "      <td>20</td>\n",
       "      <td>93822</td>\n",
       "      <td>24</td>\n",
       "      <td>165531</td>\n",
       "      <td>44</td>\n",
       "      <td>242401</td>\n",
       "      <td>45</td>\n",
       "      <td>266748</td>\n",
       "      <td>619</td>\n",
       "      <td>581</td>\n",
       "      <td>1338</td>\n",
       "      <td>1294</td>\n",
       "    </tr>\n",
       "    <tr>\n",
       "      <th>2</th>\n",
       "      <td>2019-08-03</td>\n",
       "      <td>24</td>\n",
       "      <td>112473</td>\n",
       "      <td>16</td>\n",
       "      <td>114248</td>\n",
       "      <td>68</td>\n",
       "      <td>354874</td>\n",
       "      <td>61</td>\n",
       "      <td>380996</td>\n",
       "      <td>507</td>\n",
       "      <td>509</td>\n",
       "      <td>1845</td>\n",
       "      <td>1803</td>\n",
       "    </tr>\n",
       "    <tr>\n",
       "      <th>3</th>\n",
       "      <td>2019-08-04</td>\n",
       "      <td>16</td>\n",
       "      <td>70825</td>\n",
       "      <td>17</td>\n",
       "      <td>108571</td>\n",
       "      <td>84</td>\n",
       "      <td>425699</td>\n",
       "      <td>78</td>\n",
       "      <td>489567</td>\n",
       "      <td>717</td>\n",
       "      <td>770</td>\n",
       "      <td>2562</td>\n",
       "      <td>2573</td>\n",
       "    </tr>\n",
       "    <tr>\n",
       "      <th>4</th>\n",
       "      <td>2019-08-05</td>\n",
       "      <td>25</td>\n",
       "      <td>124218</td>\n",
       "      <td>23</td>\n",
       "      <td>92428</td>\n",
       "      <td>109</td>\n",
       "      <td>549917</td>\n",
       "      <td>101</td>\n",
       "      <td>581995</td>\n",
       "      <td>756</td>\n",
       "      <td>707</td>\n",
       "      <td>3318</td>\n",
       "      <td>3280</td>\n",
       "    </tr>\n",
       "  </tbody>\n",
       "</table>\n",
       "</div>"
      ],
      "text/plain": [
       "        date  ordersPerDateA  revenuePerDateA  ordersPerDateB  \\\n",
       "0 2019-08-01              24           148579              21   \n",
       "1 2019-08-02              20            93822              24   \n",
       "2 2019-08-03              24           112473              16   \n",
       "3 2019-08-04              16            70825              17   \n",
       "4 2019-08-05              25           124218              23   \n",
       "\n",
       "   revenuePerDateB  ordersCummulativeA  revenueCummulativeA  \\\n",
       "0           101217                  24               148579   \n",
       "1           165531                  44               242401   \n",
       "2           114248                  68               354874   \n",
       "3           108571                  84               425699   \n",
       "4            92428                 109               549917   \n",
       "\n",
       "   ordersCummulativeB  revenueCummulativeB  visitorsPerDateA  \\\n",
       "0                  21               101217               719   \n",
       "1                  45               266748               619   \n",
       "2                  61               380996               507   \n",
       "3                  78               489567               717   \n",
       "4                 101               581995               756   \n",
       "\n",
       "   visitorsPerDateB  visitorsCummulativeA  visitorsCummulativeB  \n",
       "0               713                   719                   713  \n",
       "1               581                  1338                  1294  \n",
       "2               509                  1845                  1803  \n",
       "3               770                  2562                  2573  \n",
       "4               707                  3318                  3280  "
      ]
     },
     "metadata": {},
     "output_type": "display_data"
    }
   ],
   "source": [
    "# Считаем количество пользователей до выбранной даты включительно в группах A и B;\n",
    "\n",
    "visitorsADaily = visitors[visitors['group']=='A'][['date', 'visitors']]\n",
    "visitorsADaily.columns = ['date', 'visitorsPerDateA']\n",
    "\n",
    "visitorsACummulative = visitorsADaily.apply(lambda x: visitorsADaily[visitorsADaily['date'] <= x['date']].agg({'date' : 'max', 'visitorsPerDateA' : 'sum'}), axis=1)\n",
    "visitorsACummulative.columns = ['date', 'visitorsCummulativeA']\n",
    "\n",
    "visitorsBDaily = visitors[visitors['group']=='B'][['date', 'visitors']]\n",
    "visitorsBDaily.columns = ['date', 'visitorsPerDateB']\n",
    "\n",
    "visitorsBCummulative = visitorsBDaily.apply(lambda x: visitorsBDaily[visitorsBDaily['date'] <= x['date']].agg({'date' : 'max', 'visitorsPerDateB' : 'sum'}), axis=1)\n",
    "visitorsBCummulative.columns = ['date', 'visitorsCummulativeB']\n",
    "\n",
    "# Считаем суммарное число заказов до выбранной даты включительно в группах A и B\n",
    "ordersADaily = orders[orders['group']=='A'][['date', 'transactionId', 'visitorId', 'revenue']]\\\n",
    "    .groupby('date', as_index=False)\\\n",
    "    .agg({'transactionId' : pd.Series.nunique, 'revenue' : 'sum'})\n",
    "ordersADaily.columns = ['date', 'ordersPerDateA', 'revenuePerDateA']\n",
    "\n",
    "ordersACummulative = ordersADaily.apply(\n",
    "    lambda x: \\\n",
    "        ordersADaily[ordersADaily['date'] <= x['date']]\\\n",
    "            .agg({\n",
    "                'date' : 'max',\n",
    "                'ordersPerDateA' : 'sum',\n",
    "                'revenuePerDateA' : 'sum'}), axis=1).sort_values(by=['date'])\n",
    "ordersACummulative.columns = ['date', 'ordersCummulativeA', 'revenueCummulativeA']\n",
    "\n",
    "ordersBDaily = orders[orders['group']=='B'][['date', 'transactionId', 'visitorId', 'revenue']]\\\n",
    "    .groupby('date', as_index=False)\\\n",
    "    .agg({'transactionId' : pd.Series.nunique, 'revenue' : 'sum'})\n",
    "ordersBDaily.columns = ['date', 'ordersPerDateB', 'revenuePerDateB']\n",
    "\n",
    "ordersBCummulative = ordersBDaily.apply(\n",
    "    lambda x: \\\n",
    "        ordersBDaily[ordersBDaily['date'] <= x['date']]\\\n",
    "            .agg({\n",
    "                'date' : 'max',\n",
    "                'ordersPerDateB' : 'sum',\n",
    "                'revenuePerDateB' : 'sum'}), axis=1).sort_values(by=['date'])\n",
    "ordersBCummulative.columns = ['date', 'ordersCummulativeB', 'revenueCummulativeB']\n",
    "\n",
    "\n",
    "# Получаем таблицу с количеством заказов, выручкой в день, количество заказов и выручка до выбранной даты(включительно)\n",
    "# Количество пользователей до выбранной даты \n",
    "data = ordersADaily.merge(ordersBDaily, left_on='date', right_on='date', how='left')\\\n",
    "    .merge(ordersACummulative, left_on='date', right_on='date', how='left')\\\n",
    "    .merge(ordersBCummulative, left_on='date', right_on='date', how='left')\\\n",
    "    .merge(visitorsADaily, left_on='date', right_on='date', how='left')\\\n",
    "    .merge(visitorsBDaily, left_on='date', right_on='date', how='left')\\\n",
    "    .merge(visitorsACummulative, left_on='date', right_on='date', how='left')\\\n",
    "    .merge(visitorsBCummulative, left_on='date', right_on='date', how='left')\n",
    "\n",
    "display(data.head(5))"
   ]
  },
  {
   "cell_type": "markdown",
   "metadata": {},
   "source": [
    "Создадим переменные ordersByUsersA и ordersByUsersB со столбцами ['transactionId', 'visitorId']. В них для пользователей, которые заказывали хотя бы 1 раз, укажем число совершённых заказов.\n",
    "\n",
    "\n",
    "Объявим переменные sampleA и sampleB, в которых пользователям из разных групп будет соответствовать количество заказов. \n",
    "Тем, кто ничего не заказал, будут соответствовать нули. \n",
    "Это нужно, чтобы подготовить выборки к проверке критерием Манна-Уитни.\n",
    "\n",
    "Переменная sampleA должна состоять из двух частей:\n",
    "Список с количеством заказов для каждого из пользователей: ordersByUsersA['orders'].\n",
    "Нули для пользователей, которые ничего не заказывали. \n",
    "Их количество равно разнице между суммой посетителей и количеством записей о заказах: \n",
    "data['visitorsPerDateA'].sum() - len(ordersByUsersA['orders']). \n",
    "Создадим объект pd.Series нужной длины."
   ]
  },
  {
   "cell_type": "code",
   "execution_count": 33,
   "metadata": {},
   "outputs": [],
   "source": [
    "ordersByUsersA = orders[orders['group']=='A'].groupby('visitorId', as_index=False).agg({'transactionId' : pd.Series.nunique})\n",
    "ordersByUsersA.columns = ['userId', 'orders']\n",
    "\n",
    "ordersByUsersB = orders[orders['group']=='B'].groupby('visitorId', as_index=False).agg({'transactionId' : pd.Series.nunique})\n",
    "ordersByUsersB.columns = ['userId', 'orders']\n",
    "\n",
    "sampleA = pd.concat([ordersByUsersA['orders'],pd.Series(0, index=np.arange(data['visitorsPerDateA'].sum() - len(ordersByUsersA['orders'])), name='orders')],axis=0)\n",
    "sampleB = pd.concat([ordersByUsersB['orders'],pd.Series(0, index=np.arange(data['visitorsPerDateB'].sum() - len(ordersByUsersB['orders'])), name='orders')],axis=0)\n"
   ]
  },
  {
   "cell_type": "code",
   "execution_count": 34,
   "metadata": {},
   "outputs": [
    {
     "name": "stdout",
     "output_type": "stream",
     "text": [
      "p-value: 0.017\n",
      "Относительный прирост среднего числа заказов группы B: 0.138\n"
     ]
    }
   ],
   "source": [
    "print(\"p-value: \"\"{0:.3f}\".format(stats.mannwhitneyu(sampleA, sampleB)[1]))\n",
    "\n",
    "print(\"Относительный прирост среднего числа заказов группы B: \"\"{0:.3f}\".format(sampleB.mean()/sampleA.mean()-1))"
   ]
  },
  {
   "cell_type": "markdown",
   "metadata": {},
   "source": [
    "Первое число — p-value = 0.017 меньше 0.05 (5%). Значит, нулевую гипотезу о том, что статистически значимых различий в среднем числе заказов на посетителя между группами нет, отвергаем. \n",
    "Как мы видим, среднее число заказов группы В действительно больше, практически на 14%, чем у группы А. Статистическая значимость присутствует.\n",
    "\n"
   ]
  },
  {
   "cell_type": "markdown",
   "metadata": {},
   "source": [
    "#### Посчитаем статистическую значимость различий в среднем чеке заказа между группами по «сырым» данным."
   ]
  },
  {
   "cell_type": "markdown",
   "metadata": {},
   "source": [
    "Чтобы рассчитать статистическую значимость различий в среднем чеке между сегментами, передадим критерию mannwhitneyu() данные о выручке с заказов и найдём относительные различия в среднем чеке между группами.\n",
    "Н0- нулевая гипотеза: Средний чек заказов для групп A и В совпадает\n",
    "Н1- альтернативная: Средний чек заказов для групп A и В различаются"
   ]
  },
  {
   "cell_type": "code",
   "execution_count": 35,
   "metadata": {},
   "outputs": [
    {
     "name": "stdout",
     "output_type": "stream",
     "text": [
      "p-value: 0.729\n",
      "Относительный прирост среднего чека группы B: 0.259\n"
     ]
    }
   ],
   "source": [
    "print(\"p-value: \"\"{0:.3f}\".format(stats.mannwhitneyu(orders[orders['group']=='A']['revenue'], orders[orders['group']=='B']['revenue'])[1]))\n",
    "print(\"Относительный прирост среднего чека группы B: \"\"{0:.3f}\".format(orders[orders['group']=='B']['revenue'].mean()/orders[orders['group']=='A']['revenue'].mean()-1))"
   ]
  },
  {
   "cell_type": "markdown",
   "metadata": {},
   "source": [
    "P-value значительно больше 0.05. Значит, нельзя отвегнуть нулевую гипотезу: в среднем чеке заказа между группами различий нет.\n",
    "\n",
    "Впрочем, средний чек группы B почти на 26% выше среднего чека группы A."
   ]
  },
  {
   "cell_type": "markdown",
   "metadata": {},
   "source": [
    "#### Посчитаем статистическую значимость различий в среднем количестве заказов на посетителя между группами по «очищенным» данным. "
   ]
  },
  {
   "cell_type": "markdown",
   "metadata": {},
   "source": [
    "За аномальных пользователей были приняты те, кто совершил от 3 заказов или совершил заказ дороже \n",
    "28000 рублей. Так мы уберём 5% пользователей с наибольшим числом заказов и с дорогими заказами.\n",
    "\n",
    "Сделаем срезы пользователей с числом заказов больше 2 — usersWithManyOrders и пользователей, совершивших заказы дороже 28000 — usersWithExpensiveOrders. Объединим их в таблице abnormalUsers. Узнаем, сколько всего аномальных пользователей методом shape()"
   ]
  },
  {
   "cell_type": "code",
   "execution_count": 36,
   "metadata": {},
   "outputs": [
    {
     "data": {
      "text/plain": [
       "1099    148427295\n",
       "18      199603092\n",
       "928     204675465\n",
       "23      237748145\n",
       "37      249864742\n",
       "dtype: int64"
      ]
     },
     "metadata": {},
     "output_type": "display_data"
    },
    {
     "data": {
      "text/plain": [
       "'Всего аномальных пользователей: (74,)'"
      ]
     },
     "metadata": {},
     "output_type": "display_data"
    }
   ],
   "source": [
    "usersWithManyOrders = pd.concat([ordersByUsersA[ordersByUsersA['orders'] > ob]['userId'], ordersByUsersB[ordersByUsersB['orders'] > ob]['userId']], axis = 0)\n",
    "usersWithExpensiveOrders = orders[orders['revenue'] > rb]['visitorId']\n",
    "abnormalUsers = pd.concat([usersWithManyOrders, usersWithExpensiveOrders], axis = 0).drop_duplicates().sort_values()\n",
    "display(abnormalUsers.head(5))\n",
    "display(\"Всего аномальных пользователей: {}\".format(abnormalUsers.shape))"
   ]
  },
  {
   "cell_type": "markdown",
   "metadata": {},
   "source": [
    "Всего 74 аномальных пользователя. Узнаем, как их действия повлияли на результаты теста. Посчитаем статистическую значимость различий в конверсии между группами теста по очищенным данным. \n",
    "\n",
    "Воспользуемся критерием Манна-Уитни для разности двух долей. Сформулируем гипотезы:\n",
    "\n",
    "H0 - нулевая гипотеза: различий в среднем количестве заказов на посетителя между группами нет\n",
    "\n",
    "H1 - альтернативная: различия в среднем количестве заказов на посетителя между группами есть.\n",
    "\n",
    "Сначала подготовим выборки количества заказов по пользователям по группам теста."
   ]
  },
  {
   "cell_type": "code",
   "execution_count": 37,
   "metadata": {},
   "outputs": [],
   "source": [
    "sampleAFiltered = pd.concat([ordersByUsersA[np.logical_not(ordersByUsersA['userId'].isin(abnormalUsers))]['orders'],pd.Series(0, index=np.arange(data['visitorsPerDateA'].sum() - len(ordersByUsersA['orders'])),name='orders')],axis=0)\n",
    "sampleBFiltered = pd.concat([ordersByUsersB[np.logical_not(ordersByUsersB['userId'].isin(abnormalUsers))]['orders'],pd.Series(0, index=np.arange(data['visitorsPerDateB'].sum() - len(ordersByUsersB['orders'])),name='orders')],axis=0)"
   ]
  },
  {
   "cell_type": "code",
   "execution_count": 38,
   "metadata": {},
   "outputs": [
    {
     "name": "stdout",
     "output_type": "stream",
     "text": [
      "p-value: 0.013\n",
      "Относительный прирост среднего числа заказов группы B по очищенным данным: 0.173\n"
     ]
    }
   ],
   "source": [
    "print(\"p-value: \"\"{0:.3f}\".format(stats.mannwhitneyu(sampleAFiltered, sampleBFiltered)[1]))\n",
    "print(\"Относительный прирост среднего числа заказов группы B по очищенным данным: \"\"{0:.3f}\".format(sampleBFiltered.mean()/sampleAFiltered.mean()-1))"
   ]
  },
  {
   "cell_type": "markdown",
   "metadata": {},
   "source": [
    "Было по \"сырым данным\": 0.017 и 0.138. Первое число еще уменьшилось — p-value = 0.013 меньше 0.05 (5%). Значит, нулевую гипотезу о том, что статистически значимых различий в среднем числе заказов на посетителя между группами нет, отвергаем.  Как мы видим,  среднего количества заказов на посетителя по группам группы В действительно больше и при очищенных данных, практически на 17%. При сырых данных прирост был почти 14%, то есть почти на 3% увеличился прирост числа заказов группы В по очищенным данным. Статистическая значимость присутствует."
   ]
  },
  {
   "cell_type": "markdown",
   "metadata": {},
   "source": [
    "#### Посчитаем статистическую значимость различий в среднем чеке заказа между группами по «очищенным» данным. "
   ]
  },
  {
   "cell_type": "markdown",
   "metadata": {},
   "source": [
    "Воспользуемся критерием Манна-Уитни для разности двух долей. Сформулируем гипотезы:\n",
    "\n",
    "H0 - нулевая гипотеза: Средний чек заказов для групп A и В совпадает\n",
    "\n",
    "H1 - альтернативная: Средний чек заказов для групп A и В различаются"
   ]
  },
  {
   "cell_type": "code",
   "execution_count": 39,
   "metadata": {},
   "outputs": [
    {
     "name": "stdout",
     "output_type": "stream",
     "text": [
      "p-value: 0.738\n",
      "Относительный прирост среднего чека группы B по очищенным данным: -0.020\n"
     ]
    }
   ],
   "source": [
    "print(\"p-value: \"\"{0:.3f}\".format(stats.mannwhitneyu(\n",
    "    orders[np.logical_and(\n",
    "        orders['group']=='A',\n",
    "        np.logical_not(orders['visitorId'].isin(abnormalUsers)))]['revenue'],\n",
    "    orders[np.logical_and(\n",
    "        orders['group']=='B',\n",
    "        np.logical_not(orders['visitorId'].isin(abnormalUsers)))]['revenue'])[1]))\n",
    "\n",
    "print(\"Относительный прирост среднего чека группы B по очищенным данным: \"\"{0:.3f}\".format(\n",
    "    orders[np.logical_and(orders['group']=='B',np.logical_not(orders['visitorId'].isin(abnormalUsers)))]['revenue'].mean()/\n",
    "    orders[np.logical_and(\n",
    "        orders['group']=='A',\n",
    "        np.logical_not(orders['visitorId'].isin(abnormalUsers)))]['revenue'].mean() - 1))"
   ]
  },
  {
   "cell_type": "markdown",
   "metadata": {},
   "source": [
    "Было на \"сырых данных\" - 0.729 и 0.259. P-value практически не изменился, а разница между сегментами сильно изменилась. Очищенные данные показывают, что средний чек группы B уступает группе A на 2%, в то время как на сырых данных чек группы B был на 26% больше.\n",
    "\n",
    "И на это явно повлиял наш \"миллионный\" чек, который отсутствует в очищенных данных. Получается убрали аномальный заказ и средние чеки групп А иВ практически сравнялись."
   ]
  },
  {
   "cell_type": "markdown",
   "metadata": {},
   "source": [
    "## Вывод по А/В тесту"
   ]
  },
  {
   "cell_type": "markdown",
   "metadata": {},
   "source": [
    "Мы видим данные по среднему чеку еще не \"устаканились\". Если нам важен этот показатель, то тест следует продолжнить. Если нас больше интересует только  среднее количества заказов на посетителя по группам, то тест можно прекращать, гипотеза об увеличении этой метрики на 17 % подтвердилась. Предположу, что нам важны оба показателя, следовательно тест следует продолжить. С другой стононы у нас P-value среднего чека значительно больше 0.05. Значит, причин отвергать нулевую гипотезу и считать, что в среднем чеке есть различия, нет. Тем более, что при очищенных данных, которые не учитывают единичные случаи аномально больших заказов, видно, что средние чеки примерно равны.\n",
    "\n",
    "**Вывод:**\n",
    "\n",
    "* Есть статистически значимое различие по конверсии между группами как по сырым данным, так и после очистки от аномалий.\n",
    "* Как по сырым, так и по очищенным данным нет статистически значимого различия по среднему чеку между группами.\n",
    "* График различия среднего количества заказов на посетителя по группам сообщает, что результаты группы B лучше группы A: имеют тенденцию к росту и практически зафиксировались. И есть статистически значимое различие среднего количества заказов на посетителя по группам и относительный прирост среднего количества заказов на посетителя группы B около 17%.\n",
    "* График различия среднего чека колеблется. Сделать из этого графика определённые выводы нельзя.\n",
    "\n",
    "* Кроме этого, в процессе работы с данными было выяснено, что некоторые пользователи могли видеть как одну версию сайта, так и другую, что нарушает один из основных принцип работы A/B-теста - один пользователь видит только одну версию на всём протяжении теста.\n",
    "\n",
    "В связи с этим, рекомендую проверить корректность метода показа пользователям различных версии сайта и поправить его, чтобы одному и тому же пользователю показывалась только та версия сайта, которую он увидел при первом визите (версия той группы теста, куда он входит).\n",
    "\n",
    "**Решение: На основании результатов, можно остановить тест и зафиксировать победу группы B.**"
   ]
  }
 ],
 "metadata": {
  "ExecuteTimeLog": [
   {
    "duration": 432,
    "start_time": "2022-12-13T09:06:55.897Z"
   },
   {
    "duration": 83,
    "start_time": "2022-12-13T09:07:32.479Z"
   },
   {
    "duration": 1174,
    "start_time": "2022-12-13T09:12:12.178Z"
   },
   {
    "duration": 8,
    "start_time": "2022-12-13T09:13:41.984Z"
   },
   {
    "duration": 9,
    "start_time": "2022-12-13T09:14:32.013Z"
   },
   {
    "duration": 12,
    "start_time": "2022-12-13T09:14:38.690Z"
   },
   {
    "duration": 14,
    "start_time": "2022-12-13T09:16:14.425Z"
   },
   {
    "duration": 43,
    "start_time": "2022-12-13T09:35:11.649Z"
   },
   {
    "duration": 7,
    "start_time": "2022-12-13T09:35:16.498Z"
   },
   {
    "duration": 15,
    "start_time": "2022-12-13T09:35:22.018Z"
   },
   {
    "duration": 11,
    "start_time": "2022-12-13T09:35:27.267Z"
   },
   {
    "duration": 9,
    "start_time": "2022-12-13T09:35:32.433Z"
   },
   {
    "duration": 8,
    "start_time": "2022-12-13T09:36:00.168Z"
   },
   {
    "duration": 10,
    "start_time": "2022-12-13T09:36:10.970Z"
   },
   {
    "duration": 1563,
    "start_time": "2022-12-14T14:40:42.123Z"
   },
   {
    "duration": 100,
    "start_time": "2022-12-14T14:40:43.689Z"
   },
   {
    "duration": 9,
    "start_time": "2022-12-14T14:40:44.685Z"
   },
   {
    "duration": 4,
    "start_time": "2022-12-14T14:41:10.057Z"
   },
   {
    "duration": 35,
    "start_time": "2022-12-14T14:41:10.342Z"
   },
   {
    "duration": 9,
    "start_time": "2022-12-14T14:41:10.734Z"
   },
   {
    "duration": 14,
    "start_time": "2022-12-14T14:41:13.832Z"
   },
   {
    "duration": 16,
    "start_time": "2022-12-14T14:41:20.470Z"
   },
   {
    "duration": 15,
    "start_time": "2022-12-14T14:41:32.471Z"
   },
   {
    "duration": 112,
    "start_time": "2022-12-14T14:53:05.163Z"
   },
   {
    "duration": 92,
    "start_time": "2022-12-14T14:54:00.931Z"
   },
   {
    "duration": 485,
    "start_time": "2022-12-14T15:13:08.012Z"
   },
   {
    "duration": 3,
    "start_time": "2022-12-14T15:13:57.485Z"
   },
   {
    "duration": 36,
    "start_time": "2022-12-14T15:13:58.941Z"
   },
   {
    "duration": 14,
    "start_time": "2022-12-14T15:13:59.662Z"
   },
   {
    "duration": 16,
    "start_time": "2022-12-14T15:14:01.447Z"
   },
   {
    "duration": 11,
    "start_time": "2022-12-14T15:14:03.114Z"
   },
   {
    "duration": 12,
    "start_time": "2022-12-14T15:14:04.368Z"
   },
   {
    "duration": 79,
    "start_time": "2022-12-14T15:14:07.201Z"
   },
   {
    "duration": 366,
    "start_time": "2022-12-14T15:14:44.070Z"
   },
   {
    "duration": 54,
    "start_time": "2022-12-14T15:15:54.954Z"
   },
   {
    "duration": 8,
    "start_time": "2022-12-14T15:16:36.161Z"
   },
   {
    "duration": 216,
    "start_time": "2022-12-14T15:19:02.262Z"
   },
   {
    "duration": 13,
    "start_time": "2022-12-14T15:21:24.129Z"
   },
   {
    "duration": 308,
    "start_time": "2022-12-14T15:22:04.697Z"
   },
   {
    "duration": 14,
    "start_time": "2022-12-14T15:22:07.216Z"
   },
   {
    "duration": 292,
    "start_time": "2022-12-14T15:24:33.213Z"
   },
   {
    "duration": 241,
    "start_time": "2022-12-14T15:25:41.101Z"
   },
   {
    "duration": 274,
    "start_time": "2022-12-14T15:25:50.452Z"
   },
   {
    "duration": 296,
    "start_time": "2022-12-14T15:26:09.483Z"
   },
   {
    "duration": 240,
    "start_time": "2022-12-14T15:31:23.836Z"
   },
   {
    "duration": 287,
    "start_time": "2022-12-14T15:32:00.405Z"
   },
   {
    "duration": 278,
    "start_time": "2022-12-14T15:32:14.094Z"
   },
   {
    "duration": 263,
    "start_time": "2022-12-14T15:32:42.470Z"
   },
   {
    "duration": 362,
    "start_time": "2022-12-14T15:33:53.302Z"
   },
   {
    "duration": 263,
    "start_time": "2022-12-14T15:38:47.656Z"
   },
   {
    "duration": 238,
    "start_time": "2022-12-14T15:40:14.015Z"
   },
   {
    "duration": 382,
    "start_time": "2022-12-14T15:40:48.640Z"
   },
   {
    "duration": 342,
    "start_time": "2022-12-14T15:41:05.896Z"
   },
   {
    "duration": 259,
    "start_time": "2022-12-14T15:41:22.304Z"
   },
   {
    "duration": 427,
    "start_time": "2022-12-14T15:47:54.242Z"
   },
   {
    "duration": 1271,
    "start_time": "2022-12-15T15:42:38.963Z"
   },
   {
    "duration": 106,
    "start_time": "2022-12-15T15:42:40.236Z"
   },
   {
    "duration": 9,
    "start_time": "2022-12-15T15:42:40.344Z"
   },
   {
    "duration": 34,
    "start_time": "2022-12-15T15:42:40.354Z"
   },
   {
    "duration": 15,
    "start_time": "2022-12-15T15:42:40.390Z"
   },
   {
    "duration": 30,
    "start_time": "2022-12-15T15:42:40.407Z"
   },
   {
    "duration": 158,
    "start_time": "2022-12-15T15:42:40.439Z"
   },
   {
    "duration": 85,
    "start_time": "2022-12-15T15:42:40.599Z"
   },
   {
    "duration": 5,
    "start_time": "2022-12-15T15:42:40.686Z"
   },
   {
    "duration": 295,
    "start_time": "2022-12-15T15:42:40.693Z"
   },
   {
    "duration": 13,
    "start_time": "2022-12-15T15:42:40.990Z"
   },
   {
    "duration": 304,
    "start_time": "2022-12-15T15:42:41.005Z"
   },
   {
    "duration": 213,
    "start_time": "2022-12-15T15:42:41.311Z"
   },
   {
    "duration": 383,
    "start_time": "2022-12-15T15:42:41.526Z"
   },
   {
    "duration": 6,
    "start_time": "2022-12-15T15:49:43.324Z"
   },
   {
    "duration": 149,
    "start_time": "2022-12-15T15:49:51.921Z"
   },
   {
    "duration": 172,
    "start_time": "2022-12-15T15:51:25.026Z"
   },
   {
    "duration": 277,
    "start_time": "2022-12-15T15:52:13.870Z"
   },
   {
    "duration": 278,
    "start_time": "2022-12-15T15:58:00.524Z"
   },
   {
    "duration": 320,
    "start_time": "2022-12-15T15:58:30.993Z"
   },
   {
    "duration": 392,
    "start_time": "2022-12-15T15:58:59.112Z"
   },
   {
    "duration": 304,
    "start_time": "2022-12-15T15:59:22.589Z"
   },
   {
    "duration": 338,
    "start_time": "2022-12-15T15:59:39.989Z"
   },
   {
    "duration": 116,
    "start_time": "2022-12-15T16:07:03.845Z"
   },
   {
    "duration": 137,
    "start_time": "2022-12-15T16:08:42.065Z"
   },
   {
    "duration": 117,
    "start_time": "2022-12-15T16:10:10.967Z"
   },
   {
    "duration": 121,
    "start_time": "2022-12-15T16:11:48.570Z"
   },
   {
    "duration": 120,
    "start_time": "2022-12-15T16:12:07.354Z"
   },
   {
    "duration": 4,
    "start_time": "2022-12-15T16:19:18.877Z"
   },
   {
    "duration": 5,
    "start_time": "2022-12-15T16:22:33.064Z"
   },
   {
    "duration": 138,
    "start_time": "2022-12-15T16:28:14.383Z"
   },
   {
    "duration": 138,
    "start_time": "2022-12-15T16:29:15.824Z"
   },
   {
    "duration": 154,
    "start_time": "2022-12-15T16:29:41.647Z"
   },
   {
    "duration": 142,
    "start_time": "2022-12-15T16:32:39.187Z"
   },
   {
    "duration": 14,
    "start_time": "2022-12-15T16:35:12.995Z"
   },
   {
    "duration": 1127,
    "start_time": "2022-12-15T16:35:58.771Z"
   },
   {
    "duration": 38,
    "start_time": "2022-12-15T16:35:59.900Z"
   },
   {
    "duration": 9,
    "start_time": "2022-12-15T16:35:59.940Z"
   },
   {
    "duration": 18,
    "start_time": "2022-12-15T16:35:59.953Z"
   },
   {
    "duration": 10,
    "start_time": "2022-12-15T16:35:59.973Z"
   },
   {
    "duration": 15,
    "start_time": "2022-12-15T16:35:59.985Z"
   },
   {
    "duration": 75,
    "start_time": "2022-12-15T16:36:00.001Z"
   },
   {
    "duration": 30,
    "start_time": "2022-12-15T16:36:00.077Z"
   },
   {
    "duration": 6,
    "start_time": "2022-12-15T16:36:00.109Z"
   },
   {
    "duration": 294,
    "start_time": "2022-12-15T16:36:00.117Z"
   },
   {
    "duration": 13,
    "start_time": "2022-12-15T16:36:00.412Z"
   },
   {
    "duration": 315,
    "start_time": "2022-12-15T16:36:00.427Z"
   },
   {
    "duration": 237,
    "start_time": "2022-12-15T16:36:00.743Z"
   },
   {
    "duration": 339,
    "start_time": "2022-12-15T16:36:00.983Z"
   },
   {
    "duration": 6,
    "start_time": "2022-12-15T16:36:01.324Z"
   },
   {
    "duration": 297,
    "start_time": "2022-12-15T16:36:01.332Z"
   },
   {
    "duration": 359,
    "start_time": "2022-12-15T16:36:01.631Z"
   },
   {
    "duration": 148,
    "start_time": "2022-12-15T16:36:01.992Z"
   },
   {
    "duration": 141,
    "start_time": "2022-12-15T16:36:02.142Z"
   },
   {
    "duration": 5,
    "start_time": "2022-12-15T16:36:02.285Z"
   },
   {
    "duration": 203,
    "start_time": "2022-12-15T16:36:02.291Z"
   },
   {
    "duration": 203,
    "start_time": "2022-12-15T16:36:02.496Z"
   },
   {
    "duration": 137,
    "start_time": "2022-12-15T16:36:20.465Z"
   },
   {
    "duration": 261,
    "start_time": "2022-12-15T16:36:40.299Z"
   },
   {
    "duration": 270,
    "start_time": "2022-12-15T16:36:52.979Z"
   },
   {
    "duration": 288,
    "start_time": "2022-12-15T16:37:09.202Z"
   },
   {
    "duration": 166,
    "start_time": "2022-12-15T16:38:02.683Z"
   },
   {
    "duration": 1177,
    "start_time": "2022-12-15T16:41:19.032Z"
   },
   {
    "duration": 5,
    "start_time": "2022-12-15T16:41:51.641Z"
   },
   {
    "duration": 1275,
    "start_time": "2022-12-16T14:13:21.851Z"
   },
   {
    "duration": 102,
    "start_time": "2022-12-16T14:13:23.128Z"
   },
   {
    "duration": 8,
    "start_time": "2022-12-16T14:13:23.231Z"
   },
   {
    "duration": 13,
    "start_time": "2022-12-16T14:13:23.240Z"
   },
   {
    "duration": 11,
    "start_time": "2022-12-16T14:13:23.255Z"
   },
   {
    "duration": 12,
    "start_time": "2022-12-16T14:13:23.268Z"
   },
   {
    "duration": 109,
    "start_time": "2022-12-16T14:13:23.282Z"
   },
   {
    "duration": 85,
    "start_time": "2022-12-16T14:13:23.393Z"
   },
   {
    "duration": 6,
    "start_time": "2022-12-16T14:13:23.480Z"
   },
   {
    "duration": 263,
    "start_time": "2022-12-16T14:13:23.488Z"
   },
   {
    "duration": 14,
    "start_time": "2022-12-16T14:13:23.753Z"
   },
   {
    "duration": 295,
    "start_time": "2022-12-16T14:13:23.769Z"
   },
   {
    "duration": 222,
    "start_time": "2022-12-16T14:13:24.066Z"
   },
   {
    "duration": 370,
    "start_time": "2022-12-16T14:13:24.291Z"
   },
   {
    "duration": 6,
    "start_time": "2022-12-16T14:13:24.663Z"
   },
   {
    "duration": 239,
    "start_time": "2022-12-16T14:13:24.670Z"
   },
   {
    "duration": 316,
    "start_time": "2022-12-16T14:13:24.911Z"
   },
   {
    "duration": 126,
    "start_time": "2022-12-16T14:13:25.229Z"
   },
   {
    "duration": 136,
    "start_time": "2022-12-16T14:13:25.357Z"
   },
   {
    "duration": 11,
    "start_time": "2022-12-16T14:13:25.494Z"
   },
   {
    "duration": 140,
    "start_time": "2022-12-16T14:13:25.507Z"
   },
   {
    "duration": 380,
    "start_time": "2022-12-16T14:13:25.649Z"
   },
   {
    "duration": 4,
    "start_time": "2022-12-16T14:13:26.031Z"
   },
   {
    "duration": 137,
    "start_time": "2022-12-16T14:31:06.474Z"
   },
   {
    "duration": 217,
    "start_time": "2022-12-16T14:36:00.038Z"
   },
   {
    "duration": 106,
    "start_time": "2022-12-16T14:39:39.991Z"
   },
   {
    "duration": 124,
    "start_time": "2022-12-16T14:40:09.007Z"
   },
   {
    "duration": 32,
    "start_time": "2022-12-16T14:40:13.198Z"
   },
   {
    "duration": 12,
    "start_time": "2022-12-16T14:49:55.078Z"
   },
   {
    "duration": 11,
    "start_time": "2022-12-16T15:04:47.853Z"
   },
   {
    "duration": 7,
    "start_time": "2022-12-16T15:10:52.520Z"
   },
   {
    "duration": 22,
    "start_time": "2022-12-16T15:11:07.976Z"
   },
   {
    "duration": 14,
    "start_time": "2022-12-16T15:21:22.269Z"
   },
   {
    "duration": 1112,
    "start_time": "2022-12-16T15:42:29.667Z"
   },
   {
    "duration": 37,
    "start_time": "2022-12-16T15:42:30.782Z"
   },
   {
    "duration": 12,
    "start_time": "2022-12-16T15:42:30.821Z"
   },
   {
    "duration": 47,
    "start_time": "2022-12-16T15:42:30.835Z"
   },
   {
    "duration": 13,
    "start_time": "2022-12-16T15:42:30.884Z"
   },
   {
    "duration": 35,
    "start_time": "2022-12-16T15:42:30.899Z"
   },
   {
    "duration": 79,
    "start_time": "2022-12-16T15:42:30.935Z"
   },
   {
    "duration": 31,
    "start_time": "2022-12-16T15:42:31.016Z"
   },
   {
    "duration": 5,
    "start_time": "2022-12-16T15:42:31.049Z"
   },
   {
    "duration": 282,
    "start_time": "2022-12-16T15:42:31.056Z"
   },
   {
    "duration": 13,
    "start_time": "2022-12-16T15:42:31.339Z"
   },
   {
    "duration": 320,
    "start_time": "2022-12-16T15:42:31.353Z"
   },
   {
    "duration": 212,
    "start_time": "2022-12-16T15:42:31.674Z"
   },
   {
    "duration": 358,
    "start_time": "2022-12-16T15:42:31.890Z"
   },
   {
    "duration": 5,
    "start_time": "2022-12-16T15:42:32.249Z"
   },
   {
    "duration": 229,
    "start_time": "2022-12-16T15:42:32.256Z"
   },
   {
    "duration": 329,
    "start_time": "2022-12-16T15:42:32.486Z"
   },
   {
    "duration": 130,
    "start_time": "2022-12-16T15:42:32.816Z"
   },
   {
    "duration": 125,
    "start_time": "2022-12-16T15:42:32.948Z"
   },
   {
    "duration": 5,
    "start_time": "2022-12-16T15:42:33.075Z"
   },
   {
    "duration": 160,
    "start_time": "2022-12-16T15:42:33.081Z"
   },
   {
    "duration": 366,
    "start_time": "2022-12-16T15:42:33.243Z"
   },
   {
    "duration": 4,
    "start_time": "2022-12-16T15:42:33.611Z"
   },
   {
    "duration": 229,
    "start_time": "2022-12-16T15:42:33.617Z"
   },
   {
    "duration": 143,
    "start_time": "2022-12-16T15:42:33.847Z"
   },
   {
    "duration": 32,
    "start_time": "2022-12-16T15:42:33.991Z"
   },
   {
    "duration": 10,
    "start_time": "2022-12-16T15:42:34.025Z"
   },
   {
    "duration": 10,
    "start_time": "2022-12-16T15:42:34.036Z"
   },
   {
    "duration": 7,
    "start_time": "2022-12-16T15:42:34.048Z"
   },
   {
    "duration": 51,
    "start_time": "2022-12-16T15:42:34.056Z"
   },
   {
    "duration": 12,
    "start_time": "2022-12-16T15:42:34.109Z"
   },
   {
    "duration": 1101,
    "start_time": "2022-12-16T16:12:07.289Z"
   },
   {
    "duration": 39,
    "start_time": "2022-12-16T16:12:08.392Z"
   },
   {
    "duration": 7,
    "start_time": "2022-12-16T16:12:08.438Z"
   },
   {
    "duration": 18,
    "start_time": "2022-12-16T16:12:08.447Z"
   },
   {
    "duration": 10,
    "start_time": "2022-12-16T16:12:08.467Z"
   },
   {
    "duration": 12,
    "start_time": "2022-12-16T16:12:08.479Z"
   },
   {
    "duration": 73,
    "start_time": "2022-12-16T16:12:08.493Z"
   },
   {
    "duration": 29,
    "start_time": "2022-12-16T16:12:08.567Z"
   },
   {
    "duration": 5,
    "start_time": "2022-12-16T16:12:08.597Z"
   },
   {
    "duration": 265,
    "start_time": "2022-12-16T16:12:08.603Z"
   },
   {
    "duration": 11,
    "start_time": "2022-12-16T16:12:08.870Z"
   },
   {
    "duration": 282,
    "start_time": "2022-12-16T16:12:08.882Z"
   },
   {
    "duration": 201,
    "start_time": "2022-12-16T16:12:09.166Z"
   },
   {
    "duration": 287,
    "start_time": "2022-12-16T16:12:09.369Z"
   },
   {
    "duration": 5,
    "start_time": "2022-12-16T16:12:09.658Z"
   },
   {
    "duration": 229,
    "start_time": "2022-12-16T16:12:09.664Z"
   },
   {
    "duration": 351,
    "start_time": "2022-12-16T16:12:09.894Z"
   },
   {
    "duration": 133,
    "start_time": "2022-12-16T16:12:10.247Z"
   },
   {
    "duration": 126,
    "start_time": "2022-12-16T16:12:10.382Z"
   },
   {
    "duration": 4,
    "start_time": "2022-12-16T16:12:10.510Z"
   },
   {
    "duration": 183,
    "start_time": "2022-12-16T16:12:10.516Z"
   },
   {
    "duration": 368,
    "start_time": "2022-12-16T16:12:10.701Z"
   },
   {
    "duration": 5,
    "start_time": "2022-12-16T16:12:11.071Z"
   },
   {
    "duration": 263,
    "start_time": "2022-12-16T16:12:11.078Z"
   },
   {
    "duration": 132,
    "start_time": "2022-12-16T16:12:11.343Z"
   },
   {
    "duration": 20,
    "start_time": "2022-12-16T16:12:11.476Z"
   },
   {
    "duration": 53,
    "start_time": "2022-12-16T16:12:11.497Z"
   },
   {
    "duration": 81,
    "start_time": "2022-12-16T16:12:11.553Z"
   },
   {
    "duration": 77,
    "start_time": "2022-12-16T16:12:11.636Z"
   },
   {
    "duration": 66,
    "start_time": "2022-12-16T16:12:11.715Z"
   },
   {
    "duration": 36,
    "start_time": "2022-12-16T16:12:11.783Z"
   },
   {
    "duration": 1257,
    "start_time": "2022-12-19T07:38:38.080Z"
   },
   {
    "duration": 92,
    "start_time": "2022-12-19T07:38:39.339Z"
   },
   {
    "duration": 7,
    "start_time": "2022-12-19T07:38:39.432Z"
   },
   {
    "duration": 14,
    "start_time": "2022-12-19T07:38:39.441Z"
   },
   {
    "duration": 10,
    "start_time": "2022-12-19T07:38:39.457Z"
   },
   {
    "duration": 21,
    "start_time": "2022-12-19T07:38:39.468Z"
   },
   {
    "duration": 117,
    "start_time": "2022-12-19T07:38:39.491Z"
   },
   {
    "duration": 85,
    "start_time": "2022-12-19T07:38:39.609Z"
   },
   {
    "duration": 6,
    "start_time": "2022-12-19T07:38:39.696Z"
   },
   {
    "duration": 9,
    "start_time": "2022-12-19T07:38:39.705Z"
   },
   {
    "duration": 263,
    "start_time": "2022-12-19T07:38:39.715Z"
   },
   {
    "duration": 13,
    "start_time": "2022-12-19T07:38:39.980Z"
   },
   {
    "duration": 273,
    "start_time": "2022-12-19T07:38:39.994Z"
   },
   {
    "duration": 203,
    "start_time": "2022-12-19T07:38:40.269Z"
   },
   {
    "duration": 349,
    "start_time": "2022-12-19T07:38:40.474Z"
   },
   {
    "duration": 6,
    "start_time": "2022-12-19T07:38:40.825Z"
   },
   {
    "duration": 248,
    "start_time": "2022-12-19T07:38:40.833Z"
   },
   {
    "duration": 288,
    "start_time": "2022-12-19T07:38:41.083Z"
   },
   {
    "duration": 138,
    "start_time": "2022-12-19T07:38:41.373Z"
   },
   {
    "duration": 135,
    "start_time": "2022-12-19T07:38:41.513Z"
   },
   {
    "duration": 5,
    "start_time": "2022-12-19T07:38:41.649Z"
   },
   {
    "duration": 149,
    "start_time": "2022-12-19T07:38:41.656Z"
   },
   {
    "duration": 389,
    "start_time": "2022-12-19T07:38:41.806Z"
   },
   {
    "duration": 4,
    "start_time": "2022-12-19T07:38:42.198Z"
   },
   {
    "duration": 224,
    "start_time": "2022-12-19T07:38:42.204Z"
   },
   {
    "duration": 211,
    "start_time": "2022-12-19T07:38:42.431Z"
   },
   {
    "duration": 37,
    "start_time": "2022-12-19T07:38:42.645Z"
   },
   {
    "duration": 11,
    "start_time": "2022-12-19T07:38:42.685Z"
   },
   {
    "duration": 30,
    "start_time": "2022-12-19T07:38:42.698Z"
   },
   {
    "duration": 38,
    "start_time": "2022-12-19T07:38:42.730Z"
   },
   {
    "duration": 45,
    "start_time": "2022-12-19T07:38:42.770Z"
   },
   {
    "duration": 20,
    "start_time": "2022-12-19T07:38:42.816Z"
   },
   {
    "duration": 10,
    "start_time": "2022-12-19T07:40:35.621Z"
   },
   {
    "duration": 5,
    "start_time": "2022-12-19T07:52:00.664Z"
   },
   {
    "duration": 1235,
    "start_time": "2022-12-19T07:56:02.579Z"
   },
   {
    "duration": 1159,
    "start_time": "2022-12-19T07:56:21.900Z"
   },
   {
    "duration": 13,
    "start_time": "2022-12-19T07:56:52.421Z"
   },
   {
    "duration": 1372,
    "start_time": "2022-12-19T08:00:03.934Z"
   },
   {
    "duration": 5,
    "start_time": "2022-12-19T08:00:13.663Z"
   },
   {
    "duration": 6,
    "start_time": "2022-12-19T08:01:19.529Z"
   },
   {
    "duration": 9,
    "start_time": "2022-12-19T08:01:39.391Z"
   },
   {
    "duration": 13,
    "start_time": "2022-12-19T08:02:52.032Z"
   },
   {
    "duration": 71,
    "start_time": "2022-12-19T08:05:10.930Z"
   },
   {
    "duration": 6,
    "start_time": "2022-12-19T08:05:23.953Z"
   },
   {
    "duration": 9,
    "start_time": "2022-12-19T08:06:15.579Z"
   },
   {
    "duration": 13,
    "start_time": "2022-12-19T08:10:50.276Z"
   },
   {
    "duration": 12,
    "start_time": "2022-12-19T08:11:32.268Z"
   },
   {
    "duration": 9,
    "start_time": "2022-12-19T08:11:51.709Z"
   },
   {
    "duration": 10,
    "start_time": "2022-12-19T08:12:45.038Z"
   },
   {
    "duration": 74,
    "start_time": "2022-12-19T08:20:53.027Z"
   },
   {
    "duration": 73,
    "start_time": "2022-12-19T08:21:04.298Z"
   },
   {
    "duration": 73,
    "start_time": "2022-12-19T08:21:16.484Z"
   },
   {
    "duration": 74,
    "start_time": "2022-12-19T08:22:10.820Z"
   },
   {
    "duration": 71,
    "start_time": "2022-12-19T08:23:45.485Z"
   },
   {
    "duration": 75,
    "start_time": "2022-12-19T08:23:52.808Z"
   },
   {
    "duration": 31,
    "start_time": "2022-12-19T08:31:54.058Z"
   },
   {
    "duration": 32,
    "start_time": "2022-12-19T08:32:01.066Z"
   },
   {
    "duration": 22,
    "start_time": "2022-12-19T08:37:10.359Z"
   },
   {
    "duration": 10,
    "start_time": "2022-12-19T08:40:34.694Z"
   },
   {
    "duration": 3,
    "start_time": "2022-12-19T08:42:33.697Z"
   },
   {
    "duration": 9,
    "start_time": "2022-12-19T08:42:48.912Z"
   },
   {
    "duration": 4,
    "start_time": "2022-12-19T08:43:03.064Z"
   },
   {
    "duration": 3,
    "start_time": "2022-12-19T08:45:40.178Z"
   },
   {
    "duration": 10,
    "start_time": "2022-12-19T08:46:15.523Z"
   },
   {
    "duration": 1140,
    "start_time": "2022-12-19T08:47:15.916Z"
   },
   {
    "duration": 38,
    "start_time": "2022-12-19T08:47:17.058Z"
   },
   {
    "duration": 8,
    "start_time": "2022-12-19T08:47:17.097Z"
   },
   {
    "duration": 14,
    "start_time": "2022-12-19T08:47:17.106Z"
   },
   {
    "duration": 10,
    "start_time": "2022-12-19T08:47:17.122Z"
   },
   {
    "duration": 11,
    "start_time": "2022-12-19T08:47:17.133Z"
   },
   {
    "duration": 65,
    "start_time": "2022-12-19T08:47:17.146Z"
   },
   {
    "duration": 29,
    "start_time": "2022-12-19T08:47:17.213Z"
   },
   {
    "duration": 10,
    "start_time": "2022-12-19T08:47:17.244Z"
   },
   {
    "duration": 8,
    "start_time": "2022-12-19T08:47:17.255Z"
   },
   {
    "duration": 12,
    "start_time": "2022-12-19T08:47:17.265Z"
   },
   {
    "duration": 6,
    "start_time": "2022-12-19T08:47:17.278Z"
   },
   {
    "duration": 9,
    "start_time": "2022-12-19T08:47:17.285Z"
   },
   {
    "duration": 12,
    "start_time": "2022-12-19T08:47:17.297Z"
   },
   {
    "duration": 5,
    "start_time": "2022-12-19T08:47:17.311Z"
   },
   {
    "duration": 296,
    "start_time": "2022-12-19T08:47:17.317Z"
   },
   {
    "duration": 12,
    "start_time": "2022-12-19T08:47:17.615Z"
   },
   {
    "duration": 288,
    "start_time": "2022-12-19T08:47:17.629Z"
   },
   {
    "duration": 224,
    "start_time": "2022-12-19T08:47:17.919Z"
   },
   {
    "duration": 327,
    "start_time": "2022-12-19T08:47:18.145Z"
   },
   {
    "duration": 6,
    "start_time": "2022-12-19T08:47:18.473Z"
   },
   {
    "duration": 240,
    "start_time": "2022-12-19T08:47:18.481Z"
   },
   {
    "duration": 360,
    "start_time": "2022-12-19T08:47:18.723Z"
   },
   {
    "duration": 154,
    "start_time": "2022-12-19T08:47:19.085Z"
   },
   {
    "duration": 132,
    "start_time": "2022-12-19T08:47:19.240Z"
   },
   {
    "duration": 5,
    "start_time": "2022-12-19T08:47:19.374Z"
   },
   {
    "duration": 16,
    "start_time": "2022-12-19T08:47:19.380Z"
   },
   {
    "duration": 142,
    "start_time": "2022-12-19T08:47:19.397Z"
   },
   {
    "duration": 394,
    "start_time": "2022-12-19T08:47:19.541Z"
   },
   {
    "duration": 5,
    "start_time": "2022-12-19T08:47:19.936Z"
   },
   {
    "duration": 14,
    "start_time": "2022-12-19T08:47:19.943Z"
   },
   {
    "duration": 236,
    "start_time": "2022-12-19T08:47:19.959Z"
   },
   {
    "duration": 173,
    "start_time": "2022-12-19T08:47:20.196Z"
   },
   {
    "duration": 21,
    "start_time": "2022-12-19T08:47:20.371Z"
   },
   {
    "duration": 11,
    "start_time": "2022-12-19T08:47:20.394Z"
   },
   {
    "duration": 125,
    "start_time": "2022-12-19T08:47:20.407Z"
   },
   {
    "duration": 0,
    "start_time": "2022-12-19T08:47:20.533Z"
   },
   {
    "duration": 0,
    "start_time": "2022-12-19T08:47:20.535Z"
   },
   {
    "duration": 0,
    "start_time": "2022-12-19T08:47:20.536Z"
   },
   {
    "duration": 17,
    "start_time": "2022-12-19T08:48:38.954Z"
   },
   {
    "duration": 11,
    "start_time": "2022-12-19T08:48:55.298Z"
   },
   {
    "duration": 13,
    "start_time": "2022-12-19T08:49:03.866Z"
   },
   {
    "duration": 12,
    "start_time": "2022-12-19T08:49:15.640Z"
   },
   {
    "duration": 16,
    "start_time": "2022-12-19T08:49:52.720Z"
   },
   {
    "duration": 15,
    "start_time": "2022-12-19T08:50:05.129Z"
   },
   {
    "duration": 5,
    "start_time": "2022-12-19T08:50:47.898Z"
   },
   {
    "duration": 12,
    "start_time": "2022-12-19T08:52:02.319Z"
   },
   {
    "duration": 5,
    "start_time": "2022-12-19T08:53:08.713Z"
   },
   {
    "duration": 4,
    "start_time": "2022-12-19T08:53:55.062Z"
   },
   {
    "duration": 4,
    "start_time": "2022-12-19T08:54:19.606Z"
   },
   {
    "duration": 11,
    "start_time": "2022-12-19T08:54:38.518Z"
   },
   {
    "duration": 18,
    "start_time": "2022-12-19T08:55:57.430Z"
   },
   {
    "duration": 4,
    "start_time": "2022-12-19T08:56:09.013Z"
   },
   {
    "duration": 10,
    "start_time": "2022-12-19T08:56:18.934Z"
   },
   {
    "duration": 8,
    "start_time": "2022-12-19T08:57:52.925Z"
   },
   {
    "duration": 20,
    "start_time": "2022-12-19T08:57:53.869Z"
   },
   {
    "duration": 20,
    "start_time": "2022-12-19T08:58:43.981Z"
   },
   {
    "duration": 18,
    "start_time": "2022-12-19T09:02:30.509Z"
   },
   {
    "duration": 15,
    "start_time": "2022-12-19T09:03:15.189Z"
   },
   {
    "duration": 88,
    "start_time": "2022-12-19T09:09:05.622Z"
   },
   {
    "duration": 1086,
    "start_time": "2022-12-19T09:13:34.612Z"
   },
   {
    "duration": 36,
    "start_time": "2022-12-19T09:13:35.700Z"
   },
   {
    "duration": 8,
    "start_time": "2022-12-19T09:13:35.738Z"
   },
   {
    "duration": 49,
    "start_time": "2022-12-19T09:13:35.748Z"
   },
   {
    "duration": 23,
    "start_time": "2022-12-19T09:13:35.799Z"
   },
   {
    "duration": 26,
    "start_time": "2022-12-19T09:13:35.824Z"
   },
   {
    "duration": 91,
    "start_time": "2022-12-19T09:13:35.851Z"
   },
   {
    "duration": 34,
    "start_time": "2022-12-19T09:13:35.944Z"
   },
   {
    "duration": 10,
    "start_time": "2022-12-19T09:13:35.980Z"
   },
   {
    "duration": 20,
    "start_time": "2022-12-19T09:13:35.992Z"
   },
   {
    "duration": 22,
    "start_time": "2022-12-19T09:13:36.013Z"
   },
   {
    "duration": 63,
    "start_time": "2022-12-19T09:13:36.036Z"
   },
   {
    "duration": 35,
    "start_time": "2022-12-19T09:13:36.100Z"
   },
   {
    "duration": 42,
    "start_time": "2022-12-19T09:13:36.138Z"
   },
   {
    "duration": 23,
    "start_time": "2022-12-19T09:13:36.182Z"
   },
   {
    "duration": 297,
    "start_time": "2022-12-19T09:13:36.207Z"
   },
   {
    "duration": 13,
    "start_time": "2022-12-19T09:13:36.505Z"
   },
   {
    "duration": 322,
    "start_time": "2022-12-19T09:13:36.519Z"
   },
   {
    "duration": 227,
    "start_time": "2022-12-19T09:13:36.843Z"
   },
   {
    "duration": 311,
    "start_time": "2022-12-19T09:13:37.072Z"
   },
   {
    "duration": 5,
    "start_time": "2022-12-19T09:13:37.385Z"
   },
   {
    "duration": 237,
    "start_time": "2022-12-19T09:13:37.392Z"
   },
   {
    "duration": 348,
    "start_time": "2022-12-19T09:13:37.639Z"
   },
   {
    "duration": 149,
    "start_time": "2022-12-19T09:13:37.989Z"
   },
   {
    "duration": 137,
    "start_time": "2022-12-19T09:13:38.139Z"
   },
   {
    "duration": 5,
    "start_time": "2022-12-19T09:13:38.277Z"
   },
   {
    "duration": 23,
    "start_time": "2022-12-19T09:13:38.284Z"
   },
   {
    "duration": 164,
    "start_time": "2022-12-19T09:13:38.309Z"
   },
   {
    "duration": 384,
    "start_time": "2022-12-19T09:13:38.475Z"
   },
   {
    "duration": 13,
    "start_time": "2022-12-19T09:13:38.862Z"
   },
   {
    "duration": 18,
    "start_time": "2022-12-19T09:13:38.877Z"
   },
   {
    "duration": 232,
    "start_time": "2022-12-19T09:13:38.897Z"
   },
   {
    "duration": 147,
    "start_time": "2022-12-19T09:13:39.131Z"
   },
   {
    "duration": 20,
    "start_time": "2022-12-19T09:13:39.280Z"
   },
   {
    "duration": 10,
    "start_time": "2022-12-19T09:13:39.302Z"
   },
   {
    "duration": 9,
    "start_time": "2022-12-19T09:13:39.313Z"
   },
   {
    "duration": 34,
    "start_time": "2022-12-19T09:13:39.324Z"
   },
   {
    "duration": 25,
    "start_time": "2022-12-19T09:13:39.360Z"
   },
   {
    "duration": 14,
    "start_time": "2022-12-19T09:13:39.386Z"
   }
  ],
  "kernelspec": {
   "display_name": "Python 3 (ipykernel)",
   "language": "python",
   "name": "python3"
  },
  "language_info": {
   "codemirror_mode": {
    "name": "ipython",
    "version": 3
   },
   "file_extension": ".py",
   "mimetype": "text/x-python",
   "name": "python",
   "nbconvert_exporter": "python",
   "pygments_lexer": "ipython3",
   "version": "3.11.1"
  },
  "toc": {
   "base_numbering": 1,
   "nav_menu": {},
   "number_sections": false,
   "sideBar": true,
   "skip_h1_title": false,
   "title_cell": "Table of Contents",
   "title_sidebar": "Contents",
   "toc_cell": false,
   "toc_position": {
    "height": "calc(100% - 180px)",
    "left": "10px",
    "top": "150px",
    "width": "290.482px"
   },
   "toc_section_display": true,
   "toc_window_display": true
  }
 },
 "nbformat": 4,
 "nbformat_minor": 2
}
