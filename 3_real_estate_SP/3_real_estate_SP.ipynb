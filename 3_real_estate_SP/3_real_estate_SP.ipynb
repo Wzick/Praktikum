{
 "cells": [
  {
   "cell_type": "markdown",
   "metadata": {},
   "source": [
    "# Исследование объявлений о продаже квартир\n",
    "\n",
    "В вашем распоряжении данные сервиса Яндекс.Недвижимость — архив объявлений о продаже квартир в Санкт-Петербурге и соседних населённых пунктов за несколько лет. Нужно научиться определять рыночную стоимость объектов недвижимости. Ваша задача — установить параметры. Это позволит построить автоматизированную систему: она отследит аномалии и мошенническую деятельность. \n",
    "\n",
    "По каждой квартире на продажу доступны два вида данных. Первые вписаны пользователем, вторые — получены автоматически на основе картографических данных. Например, расстояние до центра, аэропорта, ближайшего парка и водоёма. "
   ]
  },
  {
   "cell_type": "markdown",
   "metadata": {},
   "source": [
    "### Откройте файл с данными и изучите общую информацию. "
   ]
  },
  {
   "cell_type": "code",
   "execution_count": 1,
   "metadata": {},
   "outputs": [],
   "source": [
    "import pandas as pd\n",
    "import seaborn as sns\n",
    "import numpy as np\n",
    "import matplotlib.pyplot as plt"
   ]
  },
  {
   "cell_type": "code",
   "execution_count": 2,
   "metadata": {},
   "outputs": [
    {
     "data": {
      "text/html": [
       "<div>\n",
       "<style scoped>\n",
       "    .dataframe tbody tr th:only-of-type {\n",
       "        vertical-align: middle;\n",
       "    }\n",
       "\n",
       "    .dataframe tbody tr th {\n",
       "        vertical-align: top;\n",
       "    }\n",
       "\n",
       "    .dataframe thead th {\n",
       "        text-align: right;\n",
       "    }\n",
       "</style>\n",
       "<table border=\"1\" class=\"dataframe\">\n",
       "  <thead>\n",
       "    <tr style=\"text-align: right;\">\n",
       "      <th></th>\n",
       "      <th>total_images</th>\n",
       "      <th>last_price</th>\n",
       "      <th>total_area</th>\n",
       "      <th>first_day_exposition</th>\n",
       "      <th>rooms</th>\n",
       "      <th>ceiling_height</th>\n",
       "      <th>floors_total</th>\n",
       "      <th>living_area</th>\n",
       "      <th>floor</th>\n",
       "      <th>is_apartment</th>\n",
       "      <th>...</th>\n",
       "      <th>kitchen_area</th>\n",
       "      <th>balcony</th>\n",
       "      <th>locality_name</th>\n",
       "      <th>airports_nearest</th>\n",
       "      <th>cityCenters_nearest</th>\n",
       "      <th>parks_around3000</th>\n",
       "      <th>parks_nearest</th>\n",
       "      <th>ponds_around3000</th>\n",
       "      <th>ponds_nearest</th>\n",
       "      <th>days_exposition</th>\n",
       "    </tr>\n",
       "  </thead>\n",
       "  <tbody>\n",
       "    <tr>\n",
       "      <th>0</th>\n",
       "      <td>20</td>\n",
       "      <td>13000000.0</td>\n",
       "      <td>108.0</td>\n",
       "      <td>2019-03-07T00:00:00</td>\n",
       "      <td>3</td>\n",
       "      <td>2.70</td>\n",
       "      <td>16.0</td>\n",
       "      <td>51.0</td>\n",
       "      <td>8</td>\n",
       "      <td>NaN</td>\n",
       "      <td>...</td>\n",
       "      <td>25.0</td>\n",
       "      <td>NaN</td>\n",
       "      <td>Санкт-Петербург</td>\n",
       "      <td>18863.0</td>\n",
       "      <td>16028.0</td>\n",
       "      <td>1.0</td>\n",
       "      <td>482.0</td>\n",
       "      <td>2.0</td>\n",
       "      <td>755.0</td>\n",
       "      <td>NaN</td>\n",
       "    </tr>\n",
       "    <tr>\n",
       "      <th>1</th>\n",
       "      <td>7</td>\n",
       "      <td>3350000.0</td>\n",
       "      <td>40.4</td>\n",
       "      <td>2018-12-04T00:00:00</td>\n",
       "      <td>1</td>\n",
       "      <td>NaN</td>\n",
       "      <td>11.0</td>\n",
       "      <td>18.6</td>\n",
       "      <td>1</td>\n",
       "      <td>NaN</td>\n",
       "      <td>...</td>\n",
       "      <td>11.0</td>\n",
       "      <td>2.0</td>\n",
       "      <td>посёлок Шушары</td>\n",
       "      <td>12817.0</td>\n",
       "      <td>18603.0</td>\n",
       "      <td>0.0</td>\n",
       "      <td>NaN</td>\n",
       "      <td>0.0</td>\n",
       "      <td>NaN</td>\n",
       "      <td>81.0</td>\n",
       "    </tr>\n",
       "    <tr>\n",
       "      <th>2</th>\n",
       "      <td>10</td>\n",
       "      <td>5196000.0</td>\n",
       "      <td>56.0</td>\n",
       "      <td>2015-08-20T00:00:00</td>\n",
       "      <td>2</td>\n",
       "      <td>NaN</td>\n",
       "      <td>5.0</td>\n",
       "      <td>34.3</td>\n",
       "      <td>4</td>\n",
       "      <td>NaN</td>\n",
       "      <td>...</td>\n",
       "      <td>8.3</td>\n",
       "      <td>0.0</td>\n",
       "      <td>Санкт-Петербург</td>\n",
       "      <td>21741.0</td>\n",
       "      <td>13933.0</td>\n",
       "      <td>1.0</td>\n",
       "      <td>90.0</td>\n",
       "      <td>2.0</td>\n",
       "      <td>574.0</td>\n",
       "      <td>558.0</td>\n",
       "    </tr>\n",
       "    <tr>\n",
       "      <th>3</th>\n",
       "      <td>0</td>\n",
       "      <td>64900000.0</td>\n",
       "      <td>159.0</td>\n",
       "      <td>2015-07-24T00:00:00</td>\n",
       "      <td>3</td>\n",
       "      <td>NaN</td>\n",
       "      <td>14.0</td>\n",
       "      <td>NaN</td>\n",
       "      <td>9</td>\n",
       "      <td>NaN</td>\n",
       "      <td>...</td>\n",
       "      <td>NaN</td>\n",
       "      <td>0.0</td>\n",
       "      <td>Санкт-Петербург</td>\n",
       "      <td>28098.0</td>\n",
       "      <td>6800.0</td>\n",
       "      <td>2.0</td>\n",
       "      <td>84.0</td>\n",
       "      <td>3.0</td>\n",
       "      <td>234.0</td>\n",
       "      <td>424.0</td>\n",
       "    </tr>\n",
       "    <tr>\n",
       "      <th>4</th>\n",
       "      <td>2</td>\n",
       "      <td>10000000.0</td>\n",
       "      <td>100.0</td>\n",
       "      <td>2018-06-19T00:00:00</td>\n",
       "      <td>2</td>\n",
       "      <td>3.03</td>\n",
       "      <td>14.0</td>\n",
       "      <td>32.0</td>\n",
       "      <td>13</td>\n",
       "      <td>NaN</td>\n",
       "      <td>...</td>\n",
       "      <td>41.0</td>\n",
       "      <td>NaN</td>\n",
       "      <td>Санкт-Петербург</td>\n",
       "      <td>31856.0</td>\n",
       "      <td>8098.0</td>\n",
       "      <td>2.0</td>\n",
       "      <td>112.0</td>\n",
       "      <td>1.0</td>\n",
       "      <td>48.0</td>\n",
       "      <td>121.0</td>\n",
       "    </tr>\n",
       "  </tbody>\n",
       "</table>\n",
       "<p>5 rows × 22 columns</p>\n",
       "</div>"
      ],
      "text/plain": [
       "   total_images  last_price  total_area first_day_exposition  rooms  \\\n",
       "0            20  13000000.0       108.0  2019-03-07T00:00:00      3   \n",
       "1             7   3350000.0        40.4  2018-12-04T00:00:00      1   \n",
       "2            10   5196000.0        56.0  2015-08-20T00:00:00      2   \n",
       "3             0  64900000.0       159.0  2015-07-24T00:00:00      3   \n",
       "4             2  10000000.0       100.0  2018-06-19T00:00:00      2   \n",
       "\n",
       "   ceiling_height  floors_total  living_area  floor is_apartment  ...  \\\n",
       "0            2.70          16.0         51.0      8          NaN  ...   \n",
       "1             NaN          11.0         18.6      1          NaN  ...   \n",
       "2             NaN           5.0         34.3      4          NaN  ...   \n",
       "3             NaN          14.0          NaN      9          NaN  ...   \n",
       "4            3.03          14.0         32.0     13          NaN  ...   \n",
       "\n",
       "   kitchen_area  balcony    locality_name  airports_nearest  \\\n",
       "0          25.0      NaN  Санкт-Петербург           18863.0   \n",
       "1          11.0      2.0   посёлок Шушары           12817.0   \n",
       "2           8.3      0.0  Санкт-Петербург           21741.0   \n",
       "3           NaN      0.0  Санкт-Петербург           28098.0   \n",
       "4          41.0      NaN  Санкт-Петербург           31856.0   \n",
       "\n",
       "  cityCenters_nearest  parks_around3000  parks_nearest  ponds_around3000  \\\n",
       "0             16028.0               1.0          482.0               2.0   \n",
       "1             18603.0               0.0            NaN               0.0   \n",
       "2             13933.0               1.0           90.0               2.0   \n",
       "3              6800.0               2.0           84.0               3.0   \n",
       "4              8098.0               2.0          112.0               1.0   \n",
       "\n",
       "   ponds_nearest  days_exposition  \n",
       "0          755.0              NaN  \n",
       "1            NaN             81.0  \n",
       "2          574.0            558.0  \n",
       "3          234.0            424.0  \n",
       "4           48.0            121.0  \n",
       "\n",
       "[5 rows x 22 columns]"
      ]
     },
     "metadata": {},
     "output_type": "display_data"
    },
    {
     "name": "stdout",
     "output_type": "stream",
     "text": [
      "<class 'pandas.core.frame.DataFrame'>\n",
      "RangeIndex: 23699 entries, 0 to 23698\n",
      "Data columns (total 22 columns):\n",
      " #   Column                Non-Null Count  Dtype  \n",
      "---  ------                --------------  -----  \n",
      " 0   total_images          23699 non-null  int64  \n",
      " 1   last_price            23699 non-null  float64\n",
      " 2   total_area            23699 non-null  float64\n",
      " 3   first_day_exposition  23699 non-null  object \n",
      " 4   rooms                 23699 non-null  int64  \n",
      " 5   ceiling_height        14504 non-null  float64\n",
      " 6   floors_total          23613 non-null  float64\n",
      " 7   living_area           21796 non-null  float64\n",
      " 8   floor                 23699 non-null  int64  \n",
      " 9   is_apartment          2775 non-null   object \n",
      " 10  studio                23699 non-null  bool   \n",
      " 11  open_plan             23699 non-null  bool   \n",
      " 12  kitchen_area          21421 non-null  float64\n",
      " 13  balcony               12180 non-null  float64\n",
      " 14  locality_name         23650 non-null  object \n",
      " 15  airports_nearest      18157 non-null  float64\n",
      " 16  cityCenters_nearest   18180 non-null  float64\n",
      " 17  parks_around3000      18181 non-null  float64\n",
      " 18  parks_nearest         8079 non-null   float64\n",
      " 19  ponds_around3000      18181 non-null  float64\n",
      " 20  ponds_nearest         9110 non-null   float64\n",
      " 21  days_exposition       20518 non-null  float64\n",
      "dtypes: bool(2), float64(14), int64(3), object(3)\n",
      "memory usage: 3.7+ MB\n"
     ]
    },
    {
     "data": {
      "image/png": "[encoded data removed]",
      "text/plain": [
       "<Figure size 1080x1440 with 20 Axes>"
      ]
     },
     "metadata": {
      "needs_background": "light"
     },
     "output_type": "display_data"
    }
   ],
   "source": [
    "data = pd.read_csv('/datasets/real_estate_data.csv',sep='\\t',decimal='.')\n",
    "\n",
    "display(data.head())\n",
    "data.info()\n",
    "\n",
    "data.hist(figsize=(15, 20));"
   ]
  },
  {
   "cell_type": "markdown",
   "metadata": {},
   "source": [
    "22 столбца: total_images - кол-во фотографий объекта, \n",
    "            last_price - последняя цена\n",
    "            total_area - площадь квартиры\n",
    "            first_day_exposition - дата публикации объявления\n",
    "            rooms - кол-во комнат\n",
    "            ceiling_height - высота потолка\n",
    "            floors_total - всего этажей в доме\n",
    "            living_area - жилая площадь\n",
    "            floor - этаж\n",
    "            is_apartment - апарты или квартира\n",
    "            studio - квартира\\студия\n",
    "            open_plan - свободная планировка\n",
    "            kitchen_area - площадь кухни \n",
    "            balcony - количество балконов\n",
    "            locality_name - название населенного пункта\n",
    "            airports_nearest - расстояние до блитжайшего аэропорта\n",
    "            cityCenters_nearest - расстояние до центра города\n",
    "            parks_around3000 - число парков в пределах 3000 м \n",
    "            parks_nearest - расстояние до ближайшего парка\n",
    "            ponds_around3000 - число водоемов в пределах 3000 м\n",
    "            ponds_nearest - расстояние до ближайшего водоема\n",
    "            days_exposition - сколько дней опубликовано объявление\n",
    "            \n",
    "Строк 23699. \n",
    "            есть строки с пропущенными данными:\n",
    "            5   ceiling_height        14504 non-null  float64\n",
    "            6   floors_total          23613 non-null  float64\n",
    "            7   living_area           21796 non-null  float64\n",
    "            9   is_apartment          2775 non-null   object \n",
    "            12  kitchen_area          21421 non-null  float64\n",
    "            13  balcony               12180 non-null  float64\n",
    "            14  locality_name         23650 non-null  object \n",
    "            15  airports_nearest      18157 non-null  float64\n",
    "            16  cityCenters_nearest   18180 non-null  float64\n",
    "            17  parks_around3000      18181 non-null  float64\n",
    "            18  parks_nearest         8079 non-null   float64\n",
    "            19  ponds_around3000      18181 non-null  float64\n",
    "            20  ponds_nearest         9110 non-null   float64\n",
    "            21  days_exposition       20518 non-null  float64\n",
    "            \n",
    "есть строки с неправильным типом данных, которые надо поменять\n",
    "first_day_exposition — дата публикации object - date\n",
    "floors_total - всего этажей в доме -  float64 - int\n",
    "is_apartment - апартаменты\\квартира - object  - bool  \n",
    "balcony - количество балконов - float64 - int\n",
    "parks_around3000, ponds_around3000 - число парков/водоемов в пределах 3000 м- float64 - int\n",
    "days_exposition - сколько дней опубликовано объявление - float64 - int\n",
    "\n",
    "\n",
    "            \n"
   ]
  },
  {
   "cell_type": "markdown",
   "metadata": {},
   "source": [
    "### Предобработка данных"
   ]
  },
  {
   "cell_type": "code",
   "execution_count": 3,
   "metadata": {},
   "outputs": [
    {
     "name": "stdout",
     "output_type": "stream",
     "text": [
      "Пропущено 0.2% locality_name\n"
     ]
    }
   ],
   "source": [
    "# функция, получающая на вход название столбца, и возвращающая число пропущенных значений\n",
    "def print_null(column):\n",
    "    return print('Пропущено {:.1%}'. format(data[column].isna().value_counts()[1] / len(data), 2), column)\n",
    "print_null('locality_name')\n",
    "data.dropna(subset=['locality_name'],inplace=True)\n",
    "#Удаляем пропуски в locality_name - название населенного пункта/их всего 49 штук, т.е. 0.2% от данных.\n"
   ]
  },
  {
   "cell_type": "markdown",
   "metadata": {},
   "source": [
    "Удалили пропуски в locality_name - название населенного пункта/их всего 49 штук, т.е. 0.2% от данных."
   ]
  },
  {
   "cell_type": "code",
   "execution_count": 4,
   "metadata": {},
   "outputs": [],
   "source": [
    "data['first_day_exposition'] = pd.to_datetime(data['first_day_exposition'],format='%Y.%m.%dT%H:%M:%S')\n",
    "#переводим в формат даты"
   ]
  },
  {
   "cell_type": "markdown",
   "metadata": {},
   "source": [
    "перевели first_day_exposition в формат даты"
   ]
  },
  {
   "cell_type": "code",
   "execution_count": 5,
   "metadata": {},
   "outputs": [],
   "source": [
    "#print(data['locality_name'].unique()) \n",
    "\n",
    "duplicates = ['посёлок', 'поселок городского типа', 'городской посёлок', 'посёлок городского типа', 'городской поселок', 'коттеджный посёлок', 'коттеджный поселок']\n",
    "name = 'поселок' # правильное имя\n",
    "data['locality_name'] = data['locality_name'].astype(str)\n",
    "def replace_wrong_values(wrong_values, correct_value):\n",
    "    for wrong_value in wrong_values: # перебираем неправильные имена\n",
    "        data['locality_name'] = data['locality_name'].apply(lambda x: x.replace(wrong_value, correct_value))\n",
    "\n",
    "replace_wrong_values(duplicates, name)\n",
    "#print(data['locality_name'].unique()) "
   ]
  },
  {
   "cell_type": "markdown",
   "metadata": {},
   "source": [
    "поменяли названия: посёлок, поселок городского типа, городской посёлок, посёлок городского типа, городской поселок, коттеджный посёлок, коттеджный поселок - поселок"
   ]
  },
  {
   "cell_type": "code",
   "execution_count": 6,
   "metadata": {},
   "outputs": [
    {
     "name": "stdout",
     "output_type": "stream",
     "text": [
      "Пропущено 48.7% balcony\n"
     ]
    }
   ],
   "source": [
    "#обработаем число балконов. предположим, что если пропущено значение, то значит нет балкона\n",
    "print_null('balcony') #48.7% пропусков, нельзя игнорировать, заменим на 0\n",
    "data['balcony'].fillna(0, inplace=True)\n",
    "data['balcony'] = data['balcony'].astype(int)"
   ]
  },
  {
   "cell_type": "markdown",
   "metadata": {},
   "source": [
    "обработаем число балконов. предположим, что если пропущено значение, то значит нет балкона и приведем число балконов к целому "
   ]
  },
  {
   "cell_type": "code",
   "execution_count": 7,
   "metadata": {},
   "outputs": [
    {
     "name": "stdout",
     "output_type": "stream",
     "text": [
      "Пропущено 0.4% floors_total\n"
     ]
    }
   ],
   "source": [
    "#обработаем пропуски в общей этажности домов\n",
    "print_null('floors_total') # 0.4% пропусков. удалим эти строки\n",
    "data.dropna(subset=['floors_total'], inplace=True)\n",
    "data['floors_total'] = data['floors_total'].astype(int)"
   ]
  },
  {
   "cell_type": "markdown",
   "metadata": {},
   "source": [
    "обработаем пропуски в общей этажности домов и приведем этажность к целому типу"
   ]
  },
  {
   "cell_type": "code",
   "execution_count": 8,
   "metadata": {},
   "outputs": [
    {
     "name": "stdout",
     "output_type": "stream",
     "text": [
      "Пропущено 23.3% parks_around3000\n"
     ]
    }
   ],
   "source": [
    "\n",
    "print_null('parks_around3000')\n",
    "data['parks_around3000'] = data['parks_around3000'].fillna(0).astype(int)"
   ]
  },
  {
   "cell_type": "markdown",
   "metadata": {},
   "source": [
    "Приводим в целочисленный тип количество парков. Заменяем пропущенные значения на 0 \n",
    "берем гипотезу, что если пропущено, значит нет."
   ]
  },
  {
   "cell_type": "code",
   "execution_count": 9,
   "metadata": {},
   "outputs": [
    {
     "name": "stdout",
     "output_type": "stream",
     "text": [
      "Пропущено 23.3% ponds_around3000\n"
     ]
    }
   ],
   "source": [
    "\n",
    "print_null('ponds_around3000')\n",
    "data['ponds_around3000'] = data['ponds_around3000'].fillna(0).astype(int)"
   ]
  },
  {
   "cell_type": "markdown",
   "metadata": {},
   "source": [
    "Приводим в целочисленный тип количество водоемов. Заменяем пропущенные значения на 0\n",
    "берем гипотезу, что если пропущено, значит нет."
   ]
  },
  {
   "cell_type": "code",
   "execution_count": 10,
   "metadata": {},
   "outputs": [
    {
     "name": "stdout",
     "output_type": "stream",
     "text": [
      "Пропущено 38.5% ceiling_height\n"
     ]
    }
   ],
   "source": [
    "print_null('ceiling_height')\n",
    "\n",
    "median_height=data.groupby('floors_total')['ceiling_height'].transform('median')\n",
    "data['ceiling_height'].fillna(median_height,inplace=True)\n",
    "\n",
    "median_height=data.groupby('locality_name')['ceiling_height'].transform('median')\n",
    "data['ceiling_height'].fillna(median_height,inplace=True)"
   ]
  },
  {
   "cell_type": "markdown",
   "metadata": {},
   "source": [
    "заменим на медианную высоту потолка для домов такой же этажности, затем, оставшиеся пропуски заполним медианой по населенному пункту."
   ]
  },
  {
   "cell_type": "code",
   "execution_count": 11,
   "metadata": {},
   "outputs": [
    {
     "name": "stdout",
     "output_type": "stream",
     "text": [
      "Пропущено 88.3% is_apartment\n"
     ]
    }
   ],
   "source": [
    "print_null('is_apartment')\n",
    "data['is_apartment']=data['is_apartment'].fillna(False) "
   ]
  },
  {
   "cell_type": "markdown",
   "metadata": {},
   "source": [
    "если пропущено значение в is_apartment, значит точно не апартамент, а квартира."
   ]
  },
  {
   "cell_type": "code",
   "execution_count": 12,
   "metadata": {},
   "outputs": [
    {
     "name": "stdout",
     "output_type": "stream",
     "text": [
      "Пропущено 7.9% living_area\n"
     ]
    }
   ],
   "source": [
    "print_null('living_area')\n",
    "k_living = data['living_area'].median() / data['total_area'].median()\n",
    "data['living_area'].fillna(k_living * data['total_area'], inplace=True)"
   ]
  },
  {
   "cell_type": "markdown",
   "metadata": {},
   "source": [
    "Заменяем пустые значения жилой площади, используя коэффициент: отношение медианы жилой площади к медиане общей площади."
   ]
  },
  {
   "cell_type": "code",
   "execution_count": 13,
   "metadata": {},
   "outputs": [
    {
     "name": "stdout",
     "output_type": "stream",
     "text": [
      "Пропущено 9.4% kitchen_area\n"
     ]
    }
   ],
   "source": [
    "# Заменяем пустые значения площади кухни\n",
    "print_null('kitchen_area')\n",
    "k_kitchen = data['kitchen_area'].median() / data['total_area'].median()\n",
    "data['kitchen_area'].fillna(k_kitchen * data['total_area'], inplace=True)"
   ]
  },
  {
   "cell_type": "markdown",
   "metadata": {},
   "source": [
    "Заменяем пустые значения площади кухни, используя коэффициент: отношение медианы площади кухни к медиане общей площади."
   ]
  },
  {
   "cell_type": "code",
   "execution_count": 14,
   "metadata": {},
   "outputs": [
    {
     "data": {
      "text/plain": [
       "1     8004\n",
       "2     7897\n",
       "3     5779\n",
       "4     1172\n",
       "5      325\n",
       "0      194\n",
       "6      104\n",
       "7       59\n",
       "8       12\n",
       "9        8\n",
       "10       3\n",
       "11       2\n",
       "14       2\n",
       "19       1\n",
       "16       1\n",
       "12       1\n",
       "15       1\n",
       "Name: rooms, dtype: int64"
      ]
     },
     "metadata": {},
     "output_type": "display_data"
    },
    {
     "data": {
      "text/plain": [
       "count    23515.000000\n",
       "mean         2.070636\n",
       "std          1.078324\n",
       "min          0.000000\n",
       "25%          1.000000\n",
       "50%          2.000000\n",
       "75%          3.000000\n",
       "max         19.000000\n",
       "Name: rooms, dtype: float64"
      ]
     },
     "metadata": {},
     "output_type": "display_data"
    },
    {
     "data": {
      "text/html": [
       "<div>\n",
       "<style scoped>\n",
       "    .dataframe tbody tr th:only-of-type {\n",
       "        vertical-align: middle;\n",
       "    }\n",
       "\n",
       "    .dataframe tbody tr th {\n",
       "        vertical-align: top;\n",
       "    }\n",
       "\n",
       "    .dataframe thead th {\n",
       "        text-align: right;\n",
       "    }\n",
       "</style>\n",
       "<table border=\"1\" class=\"dataframe\">\n",
       "  <thead>\n",
       "    <tr style=\"text-align: right;\">\n",
       "      <th></th>\n",
       "      <th>count</th>\n",
       "      <th>median</th>\n",
       "    </tr>\n",
       "    <tr>\n",
       "      <th>is_apartment</th>\n",
       "      <th></th>\n",
       "      <th></th>\n",
       "    </tr>\n",
       "  </thead>\n",
       "  <tbody>\n",
       "    <tr>\n",
       "      <th>False</th>\n",
       "      <td>23515</td>\n",
       "      <td>2</td>\n",
       "    </tr>\n",
       "    <tr>\n",
       "      <th>True</th>\n",
       "      <td>50</td>\n",
       "      <td>2</td>\n",
       "    </tr>\n",
       "  </tbody>\n",
       "</table>\n",
       "</div>"
      ],
      "text/plain": [
       "              count  median\n",
       "is_apartment               \n",
       "False         23515       2\n",
       "True             50       2"
      ]
     },
     "execution_count": 14,
     "metadata": {},
     "output_type": "execute_result"
    }
   ],
   "source": [
    "display(data['rooms'].value_counts())\n",
    "display(data.query('is_apartment == False')['rooms'].describe())\n",
    "\n",
    "apart = data.pivot_table(index='is_apartment',values='rooms',aggfunc=('count','median'))\n",
    "apart.sort_values(by='count',ascending=False)"
   ]
  },
  {
   "cell_type": "markdown",
   "metadata": {},
   "source": [
    "Есть значение - 0 комнат. Избавимся от этого парадокса."
   ]
  },
  {
   "cell_type": "code",
   "execution_count": 15,
   "metadata": {},
   "outputs": [
    {
     "data": {
      "text/plain": [
       "count    194.000000\n",
       "mean      29.321701\n",
       "std       26.051030\n",
       "min       15.500000\n",
       "25%       24.062500\n",
       "50%       26.075000\n",
       "75%       28.375000\n",
       "max      371.000000\n",
       "Name: total_area, dtype: float64"
      ]
     },
     "metadata": {},
     "output_type": "display_data"
    },
    {
     "name": "stdout",
     "output_type": "stream",
     "text": [
      "1 комнатная квартира: count    8004.000000\n",
      "mean       37.636569\n",
      "std         9.212029\n",
      "min        12.000000\n",
      "25%        32.500000\n",
      "50%        36.600000\n",
      "75%        41.000000\n",
      "max       494.100000\n",
      "Name: total_area, dtype: float64\n",
      "2 комнатная квартира: count    7897.000000\n",
      "mean       55.821274\n",
      "std        13.191905\n",
      "min        20.000000\n",
      "25%        46.000000\n",
      "50%        53.000000\n",
      "75%        62.000000\n",
      "max       196.000000\n",
      "Name: total_area, dtype: float64\n",
      "3 комнатная квартира: count    5779.000000\n",
      "mean       77.706740\n",
      "std        23.266035\n",
      "min        40.100000\n",
      "25%        62.000000\n",
      "50%        72.800000\n",
      "75%        86.800000\n",
      "max       363.100000\n",
      "Name: total_area, dtype: float64\n",
      "4 комнатная квартира: count    1172.000000\n",
      "mean      107.521459\n",
      "std        44.336448\n",
      "min        42.000000\n",
      "25%        77.775000\n",
      "50%        99.300000\n",
      "75%       125.325000\n",
      "max       500.000000\n",
      "Name: total_area, dtype: float64\n",
      "5 комнатная квартира: count    325.000000\n",
      "mean     161.517200\n",
      "std       69.416385\n",
      "min       40.000000\n",
      "25%      117.300000\n",
      "50%      146.000000\n",
      "75%      184.000000\n",
      "max      507.000000\n",
      "Name: total_area, dtype: float64\n",
      "6 комнатная квартира: count    104.000000\n",
      "mean     202.571635\n",
      "std       77.459741\n",
      "min       87.000000\n",
      "25%      152.150000\n",
      "50%      186.150000\n",
      "75%      236.250000\n",
      "max      500.000000\n",
      "Name: total_area, dtype: float64\n",
      "7 комнатная квартира: count     59.000000\n",
      "mean     265.325424\n",
      "std      130.124168\n",
      "min      100.600000\n",
      "25%      181.700000\n",
      "50%      214.000000\n",
      "75%      347.300000\n",
      "max      631.200000\n",
      "Name: total_area, dtype: float64\n",
      "8 комнатная квартира: count     12.000000\n",
      "mean     259.233333\n",
      "std       69.903171\n",
      "min      150.000000\n",
      "25%      224.325000\n",
      "50%      235.700000\n",
      "75%      323.975000\n",
      "max      373.100000\n",
      "Name: total_area, dtype: float64\n",
      "9 комнатная квартира: count      8.00000\n",
      "mean     305.97500\n",
      "std       64.22876\n",
      "min      235.00000\n",
      "25%      249.97500\n",
      "50%      300.95000\n",
      "75%      334.25000\n",
      "max      400.00000\n",
      "Name: total_area, dtype: float64\n",
      "10 комнатная квартира: count      3.000000\n",
      "mean     259.566667\n",
      "std       38.635519\n",
      "min      216.100000\n",
      "25%      244.350000\n",
      "50%      272.600000\n",
      "75%      281.300000\n",
      "max      290.000000\n",
      "Name: total_area, dtype: float64\n",
      "11 комнатная квартира: count      2.000000\n",
      "mean     188.900000\n",
      "std        7.353911\n",
      "min      183.700000\n",
      "25%      186.300000\n",
      "50%      188.900000\n",
      "75%      191.500000\n",
      "max      194.100000\n",
      "Name: total_area, dtype: float64\n",
      "12 комнатная квартира: count      1.0\n",
      "mean     900.0\n",
      "std        NaN\n",
      "min      900.0\n",
      "25%      900.0\n",
      "50%      900.0\n",
      "75%      900.0\n",
      "max      900.0\n",
      "Name: total_area, dtype: float64\n",
      "13 комнатная квартира: count    0.0\n",
      "mean     NaN\n",
      "std      NaN\n",
      "min      NaN\n",
      "25%      NaN\n",
      "50%      NaN\n",
      "75%      NaN\n",
      "max      NaN\n",
      "Name: total_area, dtype: float64\n",
      "14 комнатная квартира: count      2.000000\n",
      "mean     304.200000\n",
      "std       83.155757\n",
      "min      245.400000\n",
      "25%      274.800000\n",
      "50%      304.200000\n",
      "75%      333.600000\n",
      "max      363.000000\n",
      "Name: total_area, dtype: float64\n",
      "15 комнатная квартира: count      1.0\n",
      "mean     590.0\n",
      "std        NaN\n",
      "min      590.0\n",
      "25%      590.0\n",
      "50%      590.0\n",
      "75%      590.0\n",
      "max      590.0\n",
      "Name: total_area, dtype: float64\n",
      "16 комнатная квартира: count      1.0\n",
      "mean     270.0\n",
      "std        NaN\n",
      "min      270.0\n",
      "25%      270.0\n",
      "50%      270.0\n",
      "75%      270.0\n",
      "max      270.0\n",
      "Name: total_area, dtype: float64\n",
      "17 комнатная квартира: count    0.0\n",
      "mean     NaN\n",
      "std      NaN\n",
      "min      NaN\n",
      "25%      NaN\n",
      "50%      NaN\n",
      "75%      NaN\n",
      "max      NaN\n",
      "Name: total_area, dtype: float64\n",
      "18 комнатная квартира: count    0.0\n",
      "mean     NaN\n",
      "std      NaN\n",
      "min      NaN\n",
      "25%      NaN\n",
      "50%      NaN\n",
      "75%      NaN\n",
      "max      NaN\n",
      "Name: total_area, dtype: float64\n"
     ]
    }
   ],
   "source": [
    "display(data.query('rooms == 0')['total_area'].describe())\n",
    "for room in range(1,19):\n",
    "    print(f'{room} комнатная квартира:',data.query('rooms == @room')['total_area'].describe())\n"
   ]
  },
  {
   "cell_type": "markdown",
   "metadata": {},
   "source": [
    "квартиру 371 кв.м. без определенного количества комнат уберем. 1 объект на статистику не повлияет, а определить количество комнат при таком метраже невозможно"
   ]
  },
  {
   "cell_type": "code",
   "execution_count": 16,
   "metadata": {},
   "outputs": [
    {
     "data": {
      "text/plain": [
       "count    193.000000\n",
       "mean      27.551347\n",
       "std        8.426054\n",
       "min       15.500000\n",
       "25%       24.050000\n",
       "50%       26.050000\n",
       "75%       28.300000\n",
       "max       98.400000\n",
       "Name: total_area, dtype: float64"
      ]
     },
     "metadata": {},
     "output_type": "display_data"
    }
   ],
   "source": [
    "data.drop(data.loc[(data['rooms']==0) & (data['total_area']==371)].index,inplace=True, axis=0)\n",
    "data.reset_index(inplace=True, drop=True)\n",
    "display(data.query('rooms == 0')['total_area'].describe())\n"
   ]
  },
  {
   "cell_type": "markdown",
   "metadata": {},
   "source": [
    "75% квартир с 0 комнат имеют площадь менее 28.375 кв.м.\n",
    "при этом площадь большинства 1-комнатных квартир от 32 до 41кв.м\n",
    "2-комнатых от 46 до 62 кв.м\n",
    "3-комнатных от 62 до 86 кв.м.\n",
    "4-комнатных от 77.78 до 125 кв.м.\n",
    "5-комнатных от 117 до 174\n",
    "при этом с 0 комнат максимум 98.4 осталось\n",
    "тогда заполним 0 по такому правилу:\n",
    "1 - комната, если общая площадь квартиры до 46 кв.м\n",
    "2- комнаты, если общая площадь от 46 до 62 кв.м\n",
    "3-комнатные, если общая площадь от 62 до 78 кв.м\n",
    "4- комнатные больше 78 кв.м."
   ]
  },
  {
   "cell_type": "code",
   "execution_count": 17,
   "metadata": {},
   "outputs": [],
   "source": [
    "data.loc[(data['rooms']==0) & (data['total_area']<46), 'rooms'] = 1\n",
    "data.loc[(data['rooms']==0) & (data['total_area']>=46) & (data['total_area']<62), 'rooms'] = 2\n",
    "data.loc[(data['rooms']==0) & (data['total_area']>=62) & (data['total_area']<78), 'rooms'] = 3\n",
    "data.loc[(data['rooms']==0) & (data['total_area']>=78), 'rooms'] = 4"
   ]
  },
  {
   "cell_type": "markdown",
   "metadata": {},
   "source": [
    "Проверим данные в других важных столбцах, начнем с цены за объект"
   ]
  },
  {
   "cell_type": "code",
   "execution_count": 18,
   "metadata": {},
   "outputs": [
    {
     "data": {
      "text/plain": [
       "count    2.356400e+04\n",
       "mean     6.537323e+06\n",
       "std      1.090308e+07\n",
       "min      1.219000e+04\n",
       "25%      3.400000e+06\n",
       "50%      4.646000e+06\n",
       "75%      6.790000e+06\n",
       "max      7.630000e+08\n",
       "Name: last_price, dtype: float64"
      ]
     },
     "metadata": {},
     "output_type": "display_data"
    },
    {
     "data": {
      "image/png": "[encoded data removed]",
      "text/plain": [
       "<Figure size 720x360 with 1 Axes>"
      ]
     },
     "metadata": {
      "needs_background": "light"
     },
     "output_type": "display_data"
    },
    {
     "data": {
      "image/png": "[encoded data removed]",
      "text/plain": [
       "<Figure size 1008x360 with 1 Axes>"
      ]
     },
     "metadata": {
      "needs_background": "light"
     },
     "output_type": "display_data"
    },
    {
     "data": {
      "image/png": "[encoded data removed]",
      "text/plain": [
       "<Figure size 1008x360 with 1 Axes>"
      ]
     },
     "metadata": {
      "needs_background": "light"
     },
     "output_type": "display_data"
    },
    {
     "data": {
      "image/png": "[encoded data removed]",
      "text/plain": [
       "<Figure size 1008x360 with 1 Axes>"
      ]
     },
     "metadata": {
      "needs_background": "light"
     },
     "output_type": "display_data"
    }
   ],
   "source": [
    "display(data['last_price'].describe())\n",
    "data['last_price'].hist(figsize=(10,5), bins=50);\n",
    "data.hist('last_price', bins=100, figsize=(14,5), range=(0, 4000000));\n",
    "data.hist('last_price', bins=100, figsize=(14,5), range=(4000001, 50000000));\n",
    "data.hist('last_price', bins=100, figsize=(14,5), range=(50000001, 800000000));"
   ]
  },
  {
   "cell_type": "markdown",
   "metadata": {},
   "source": [
    "Минимальная цена 12 190 руб. это явно ошибка, уберем значения менее 300 тысяч.\n",
    "есть и очень большие 763 млн рублей. но в Санкт-Петербурге вполне могут быть объекты с такой стоимостью."
   ]
  },
  {
   "cell_type": "code",
   "execution_count": 19,
   "metadata": {},
   "outputs": [],
   "source": [
    "data.drop(data.loc[(data['last_price']<300000)].index,inplace=True, axis=0)\n",
    "data.reset_index(inplace=True, drop=True)"
   ]
  },
  {
   "cell_type": "code",
   "execution_count": 20,
   "metadata": {},
   "outputs": [
    {
     "data": {
      "text/plain": [
       "count    23563.000000\n",
       "mean         2.735703\n",
       "std          0.997026\n",
       "min          1.000000\n",
       "25%          2.550000\n",
       "50%          2.650000\n",
       "75%          2.750000\n",
       "max        100.000000\n",
       "Name: ceiling_height, dtype: float64"
      ]
     },
     "metadata": {},
     "output_type": "display_data"
    },
    {
     "data": {
      "image/png": "[encoded data removed]",
      "text/plain": [
       "<Figure size 1080x360 with 1 Axes>"
      ]
     },
     "metadata": {
      "needs_background": "light"
     },
     "output_type": "display_data"
    },
    {
     "data": {
      "image/png": "[encoded data removed]",
      "text/plain": [
       "<Figure size 1080x360 with 1 Axes>"
      ]
     },
     "metadata": {
      "needs_background": "light"
     },
     "output_type": "display_data"
    },
    {
     "data": {
      "image/png": "[encoded data removed]",
      "text/plain": [
       "<Figure size 1080x360 with 1 Axes>"
      ]
     },
     "metadata": {
      "needs_background": "light"
     },
     "output_type": "display_data"
    }
   ],
   "source": [
    "display(data['ceiling_height'].describe())\n",
    "data['ceiling_height'].hist(figsize=(15,5), bins=50, range=(0,6));\n",
    "plt.show()\n",
    "data['ceiling_height'].hist(figsize=(15,5), bins=50, range=(6.1,19.9));\n",
    "plt.show()\n",
    "data['ceiling_height'].hist(figsize=(15,5), bins=50, range=(20,100));\n",
    "plt.show()"
   ]
  },
  {
   "cell_type": "markdown",
   "metadata": {},
   "source": [
    "Минимально потолок 1 м - это явно ошибка, но не понятно какого происхождения(опечатка, неправильный ввод и т.п.). Только игнорировать такие данные.\n",
    "Обычные потолки в диапозоне от 2.5 до 3.5 м, но в двухуровненвых квартирах они могут быть и до 6 м. \n",
    "Потолков от 6 до 20 м не очень много - это явные ошибки, уберем их.\n",
    "потолки с двузначным значением - возьмем гипотезу, что это ошибка ввода - пропустили запятую. разделим эти значения на 10. \n",
    "кроме потолка в 100м - просто уберем его.\n",
    "Менее 2 м - это тоже не похоже на квартиры, удалим квартиры с потолками менее 1.9 м\n",
    "\n"
   ]
  },
  {
   "cell_type": "code",
   "execution_count": 21,
   "metadata": {},
   "outputs": [
    {
     "data": {
      "text/plain": [
       "count    23552.000000\n",
       "mean         2.707557\n",
       "std          0.235076\n",
       "min          2.000000\n",
       "25%          2.550000\n",
       "50%          2.650000\n",
       "75%          2.750000\n",
       "max          6.000000\n",
       "Name: ceiling_height, dtype: float64"
      ]
     },
     "metadata": {},
     "output_type": "display_data"
    },
    {
     "name": "stdout",
     "output_type": "stream",
     "text": [
      "0.9937972066331913\n"
     ]
    }
   ],
   "source": [
    "data = data.drop(data[(data['ceiling_height'] == 100)].index)\n",
    "data.loc[(data['ceiling_height']>10) & (data['ceiling_height']<100), 'ceiling_height'] = data['ceiling_height']/10\n",
    "data = data.drop(data[(data['ceiling_height'] < 1.9)].index)\n",
    "data = data.drop(data[(data['ceiling_height'] < 20) & (data['ceiling_height'] > 6)].index)\n",
    "\n",
    "display(data['ceiling_height'].describe())\n",
    "print(23552/23699)"
   ]
  },
  {
   "cell_type": "markdown",
   "metadata": {},
   "source": [
    "Убрали строк менее 1 %. \n",
    "продолжаем. Посмотрим на общую площадь"
   ]
  },
  {
   "cell_type": "code",
   "execution_count": 22,
   "metadata": {},
   "outputs": [
    {
     "data": {
      "image/png": "[encoded data removed]",
      "text/plain": [
       "<Figure size 432x288 with 1 Axes>"
      ]
     },
     "metadata": {
      "needs_background": "light"
     },
     "output_type": "display_data"
    },
    {
     "data": {
      "text/plain": [
       "count    23552.000000\n",
       "mean        60.313908\n",
       "std         35.605884\n",
       "min         12.000000\n",
       "25%         40.000000\n",
       "50%         52.000000\n",
       "75%         69.700000\n",
       "max        900.000000\n",
       "Name: total_area, dtype: float64"
      ]
     },
     "metadata": {},
     "output_type": "display_data"
    }
   ],
   "source": [
    "plt.hist(data['total_area'], bins=50, range=(10,200))\n",
    "plt.title('Площадь квартир')\n",
    "plt.xlabel('Общая площадь, кв.м')\n",
    "plt.ylabel('Количество продаваемых квартир')\n",
    "plt.show()\n",
    "display(data['total_area'].describe())"
   ]
  },
  {
   "cell_type": "markdown",
   "metadata": {},
   "source": [
    "Вполне себе адекватные значения. с минимальной квартирой от 12 кв.м до максимальной 900 кв.м. Гистограмма показывает, что распределение очень похоже на жизненные ситуации, когда большинство квартир сосредоточено в диапозоне от 30 до 70 кв.м, с присутствием эксклюзивных вариантов."
   ]
  },
  {
   "cell_type": "markdown",
   "metadata": {},
   "source": [
    "проверим есть ли значения, когда общая площадь меньше жилой или кухня больше общей площади."
   ]
  },
  {
   "cell_type": "code",
   "execution_count": 23,
   "metadata": {},
   "outputs": [
    {
     "data": {
      "text/html": [
       "<div>\n",
       "<style scoped>\n",
       "    .dataframe tbody tr th:only-of-type {\n",
       "        vertical-align: middle;\n",
       "    }\n",
       "\n",
       "    .dataframe tbody tr th {\n",
       "        vertical-align: top;\n",
       "    }\n",
       "\n",
       "    .dataframe thead th {\n",
       "        text-align: right;\n",
       "    }\n",
       "</style>\n",
       "<table border=\"1\" class=\"dataframe\">\n",
       "  <thead>\n",
       "    <tr style=\"text-align: right;\">\n",
       "      <th></th>\n",
       "      <th>total_images</th>\n",
       "      <th>last_price</th>\n",
       "      <th>total_area</th>\n",
       "      <th>first_day_exposition</th>\n",
       "      <th>rooms</th>\n",
       "      <th>ceiling_height</th>\n",
       "      <th>floors_total</th>\n",
       "      <th>living_area</th>\n",
       "      <th>floor</th>\n",
       "      <th>is_apartment</th>\n",
       "      <th>...</th>\n",
       "      <th>kitchen_area</th>\n",
       "      <th>balcony</th>\n",
       "      <th>locality_name</th>\n",
       "      <th>airports_nearest</th>\n",
       "      <th>cityCenters_nearest</th>\n",
       "      <th>parks_around3000</th>\n",
       "      <th>parks_nearest</th>\n",
       "      <th>ponds_around3000</th>\n",
       "      <th>ponds_nearest</th>\n",
       "      <th>days_exposition</th>\n",
       "    </tr>\n",
       "  </thead>\n",
       "  <tbody>\n",
       "  </tbody>\n",
       "</table>\n",
       "<p>0 rows × 22 columns</p>\n",
       "</div>"
      ],
      "text/plain": [
       "Empty DataFrame\n",
       "Columns: [total_images, last_price, total_area, first_day_exposition, rooms, ceiling_height, floors_total, living_area, floor, is_apartment, studio, open_plan, kitchen_area, balcony, locality_name, airports_nearest, cityCenters_nearest, parks_around3000, parks_nearest, ponds_around3000, ponds_nearest, days_exposition]\n",
       "Index: []\n",
       "\n",
       "[0 rows x 22 columns]"
      ]
     },
     "metadata": {},
     "output_type": "display_data"
    },
    {
     "data": {
      "text/html": [
       "<div>\n",
       "<style scoped>\n",
       "    .dataframe tbody tr th:only-of-type {\n",
       "        vertical-align: middle;\n",
       "    }\n",
       "\n",
       "    .dataframe tbody tr th {\n",
       "        vertical-align: top;\n",
       "    }\n",
       "\n",
       "    .dataframe thead th {\n",
       "        text-align: right;\n",
       "    }\n",
       "</style>\n",
       "<table border=\"1\" class=\"dataframe\">\n",
       "  <thead>\n",
       "    <tr style=\"text-align: right;\">\n",
       "      <th></th>\n",
       "      <th>total_images</th>\n",
       "      <th>last_price</th>\n",
       "      <th>total_area</th>\n",
       "      <th>first_day_exposition</th>\n",
       "      <th>rooms</th>\n",
       "      <th>ceiling_height</th>\n",
       "      <th>floors_total</th>\n",
       "      <th>living_area</th>\n",
       "      <th>floor</th>\n",
       "      <th>is_apartment</th>\n",
       "      <th>...</th>\n",
       "      <th>kitchen_area</th>\n",
       "      <th>balcony</th>\n",
       "      <th>locality_name</th>\n",
       "      <th>airports_nearest</th>\n",
       "      <th>cityCenters_nearest</th>\n",
       "      <th>parks_around3000</th>\n",
       "      <th>parks_nearest</th>\n",
       "      <th>ponds_around3000</th>\n",
       "      <th>ponds_nearest</th>\n",
       "      <th>days_exposition</th>\n",
       "    </tr>\n",
       "  </thead>\n",
       "  <tbody>\n",
       "  </tbody>\n",
       "</table>\n",
       "<p>0 rows × 22 columns</p>\n",
       "</div>"
      ],
      "text/plain": [
       "Empty DataFrame\n",
       "Columns: [total_images, last_price, total_area, first_day_exposition, rooms, ceiling_height, floors_total, living_area, floor, is_apartment, studio, open_plan, kitchen_area, balcony, locality_name, airports_nearest, cityCenters_nearest, parks_around3000, parks_nearest, ponds_around3000, ponds_nearest, days_exposition]\n",
       "Index: []\n",
       "\n",
       "[0 rows x 22 columns]"
      ]
     },
     "metadata": {},
     "output_type": "display_data"
    }
   ],
   "source": [
    "display(data.query('total_area < living_area')) \n",
    "display(data.query('total_area < kitchen_area')) "
   ]
  },
  {
   "cell_type": "markdown",
   "metadata": {},
   "source": [
    "Таких аномалий нет."
   ]
  },
  {
   "cell_type": "code",
   "execution_count": 24,
   "metadata": {},
   "outputs": [
    {
     "name": "stdout",
     "output_type": "stream",
     "text": [
      "Пропущено 13.5% days_exposition\n",
      "<class 'pandas.core.frame.DataFrame'>\n",
      "Int64Index: 23552 entries, 0 to 23562\n",
      "Data columns (total 22 columns):\n",
      " #   Column                Non-Null Count  Dtype         \n",
      "---  ------                --------------  -----         \n",
      " 0   total_images          23552 non-null  int64         \n",
      " 1   last_price            23552 non-null  float64       \n",
      " 2   total_area            23552 non-null  float64       \n",
      " 3   first_day_exposition  23552 non-null  datetime64[ns]\n",
      " 4   rooms                 23552 non-null  int64         \n",
      " 5   ceiling_height        23552 non-null  float64       \n",
      " 6   floors_total          23552 non-null  int64         \n",
      " 7   living_area           23552 non-null  float64       \n",
      " 8   floor                 23552 non-null  int64         \n",
      " 9   is_apartment          23552 non-null  bool          \n",
      " 10  studio                23552 non-null  bool          \n",
      " 11  open_plan             23552 non-null  bool          \n",
      " 12  kitchen_area          23552 non-null  float64       \n",
      " 13  balcony               23552 non-null  int64         \n",
      " 14  locality_name         23552 non-null  object        \n",
      " 15  airports_nearest      18030 non-null  float64       \n",
      " 16  cityCenters_nearest   18053 non-null  float64       \n",
      " 17  parks_around3000      23552 non-null  int64         \n",
      " 18  parks_nearest         8024 non-null   float64       \n",
      " 19  ponds_around3000      23552 non-null  int64         \n",
      " 20  ponds_nearest         9029 non-null   float64       \n",
      " 21  days_exposition       23552 non-null  int64         \n",
      "dtypes: bool(3), datetime64[ns](1), float64(9), int64(8), object(1)\n",
      "memory usage: 3.7+ MB\n"
     ]
    }
   ],
   "source": [
    "# обработаем время публикации объявлений, почти 13,5% пропусков. скорее всего это просто не проданные квартиры и еще не сняты с публикации\n",
    "print_null('days_exposition')\n",
    "# средним значением по району или по кол-ву комнат не вижу смысла заменять, так как на срок продажи влияет слишком много факторов и в сумме все эти факторы\n",
    "# поставим маркер 9999. так как для анализа других показателей(типа, ср.цена кв.м) 13,5% данных это существенно.\n",
    "# и поменяем на целый тип\n",
    "data['days_exposition'] = data['days_exposition'].fillna(9999).astype(int)\n",
    "\n",
    "#data.isnull().sum()\n",
    "data.info()"
   ]
  },
  {
   "cell_type": "markdown",
   "metadata": {},
   "source": [
    "Обработаем время публикации объявлений, почти 13,5% пропусков. скорее всего это просто не проданные квартиры и еще не сняты с публикации. \n",
    "Средним значением по району или по кол-ву комнат не вижу смысла заменять, так как на срок продажи влияет слишком много факторов,ну и в сумме все эти факторы влияют.\n",
    "**Поставим маркер 9999. так как для анализа других показателей(типа, ср.цена кв.м) 13,5% данных это существенно.**\n",
    "и поменяем на целый тип"
   ]
  },
  {
   "cell_type": "markdown",
   "metadata": {},
   "source": [
    "### Посчитайте и добавьте в таблицу новые столбцы"
   ]
  },
  {
   "cell_type": "code",
   "execution_count": 27,
   "metadata": {},
   "outputs": [],
   "source": [
    "# цена одного квадратного метра\n",
    "data['price_m'] = data['last_price']/data['total_area']"
   ]
  },
  {
   "cell_type": "code",
   "execution_count": 28,
   "metadata": {},
   "outputs": [],
   "source": [
    "# день недели публикации объявления (0 — понедельник, 1 — вторник и так далее);\n",
    "data['weekday'] = data['first_day_exposition'].dt.weekday"
   ]
  },
  {
   "cell_type": "code",
   "execution_count": 29,
   "metadata": {},
   "outputs": [],
   "source": [
    "# месяц публикации объявления;\n",
    "data['month'] = data['first_day_exposition'].dt.month"
   ]
  },
  {
   "cell_type": "code",
   "execution_count": 30,
   "metadata": {},
   "outputs": [],
   "source": [
    "# год публикации объявления;\n",
    "data['year'] = data['first_day_exposition'].dt.year"
   ]
  },
  {
   "cell_type": "code",
   "execution_count": 31,
   "metadata": {},
   "outputs": [],
   "source": [
    "# тип этажа квартиры (значения — «‎первый», «последний», «другой»);\n",
    "\n",
    "data.loc[data['floor'] == 1, 'floor_category'] = 'первый'\n",
    "data.loc[data['floor'] == data['floors_total'], 'floor_category'] = 'последний'\n",
    "data.loc[data['floor_category'].isna(), 'floor_category'] = 'другой'"
   ]
  },
  {
   "cell_type": "code",
   "execution_count": 32,
   "metadata": {},
   "outputs": [
    {
     "name": "stdout",
     "output_type": "stream",
     "text": [
      "   total_images  last_price  total_area first_day_exposition  rooms  \\\n",
      "0            20  13000000.0       108.0           2019-03-07      3   \n",
      "1             7   3350000.0        40.4           2018-12-04      1   \n",
      "2            10   5196000.0        56.0           2015-08-20      2   \n",
      "3             0  64900000.0       159.0           2015-07-24      3   \n",
      "4             2  10000000.0       100.0           2018-06-19      2   \n",
      "\n",
      "   ceiling_height  floors_total  living_area  floor  is_apartment  ...  \\\n",
      "0            2.70            16    51.000000      8         False  ...   \n",
      "1            2.75            11    18.600000      1         False  ...   \n",
      "2            2.55             5    34.300000      4         False  ...   \n",
      "3            2.60            14    91.730769      9         False  ...   \n",
      "4            3.03            14    32.000000     13         False  ...   \n",
      "\n",
      "   parks_nearest  ponds_around3000  ponds_nearest  days_exposition  \\\n",
      "0          482.0                 2          755.0             9999   \n",
      "1            NaN                 0            NaN               81   \n",
      "2           90.0                 2          574.0              558   \n",
      "3           84.0                 3          234.0              424   \n",
      "4          112.0                 1           48.0              121   \n",
      "\n",
      "         price_m  weekday  month  year  floor_category  cityCenters_nearest_km  \n",
      "0  120370.370370        3      3  2019          другой                  16.028  \n",
      "1   82920.792079        1     12  2018          первый                  18.603  \n",
      "2   92785.714286        3      8  2015          другой                  13.933  \n",
      "3  408176.100629        4      7  2015          другой                   6.800  \n",
      "4  100000.000000        1      6  2018          другой                   8.098  \n",
      "\n",
      "[5 rows x 28 columns]\n"
     ]
    }
   ],
   "source": [
    "# расстояние до центра города в километрах (переведите из м в км и округлим до целых значений).\n",
    "data['cityCenters_nearest_km'] = data['cityCenters_nearest'] / 1000\n",
    "data['cityCenters_nearest_km'] = data['cityCenters_nearest_km'].astype(int, errors='ignore')\n",
    "print(data.head())"
   ]
  },
  {
   "cell_type": "markdown",
   "metadata": {},
   "source": [
    "### Проведите исследовательский анализ данных"
   ]
  },
  {
   "cell_type": "code",
   "execution_count": 33,
   "metadata": {},
   "outputs": [
    {
     "data": {
      "image/png": "[encoded data removed]",
      "text/plain": [
       "<Figure size 432x288 with 1 Axes>"
      ]
     },
     "metadata": {
      "needs_background": "light"
     },
     "output_type": "display_data"
    },
    {
     "data": {
      "text/plain": [
       "'максимальная Площадь квартиры'"
      ]
     },
     "metadata": {},
     "output_type": "display_data"
    },
    {
     "data": {
      "text/plain": [
       "900.0"
      ]
     },
     "metadata": {},
     "output_type": "display_data"
    },
    {
     "data": {
      "text/plain": [
       "'наименьшая Площадь квартиры'"
      ]
     },
     "metadata": {},
     "output_type": "display_data"
    },
    {
     "data": {
      "text/plain": [
       "12.0"
      ]
     },
     "metadata": {},
     "output_type": "display_data"
    },
    {
     "data": {
      "text/plain": [
       "'средняя Площадь квартир'"
      ]
     },
     "metadata": {},
     "output_type": "display_data"
    },
    {
     "data": {
      "text/plain": [
       "52.0"
      ]
     },
     "metadata": {},
     "output_type": "display_data"
    }
   ],
   "source": [
    "# Работаем с общей площадью\n",
    "plt.hist(data['total_area'], bins=50, range=(10,200))\n",
    "plt.title('Площадь квартир')\n",
    "plt.xlabel('Общая площадь, кв.м')\n",
    "plt.ylabel('Количество продаваемых квартир')\n",
    "plt.show()\n",
    "display('максимальная Площадь квартиры', data['total_area'].max(), 'наименьшая Площадь квартиры', data['total_area'].min(), 'средняя Площадь квартир', data['total_area'].median())"
   ]
  },
  {
   "cell_type": "markdown",
   "metadata": {},
   "source": [
    "больше всего продается небольших квартир от 30 до 50 кв.м. Максимальная площадь квартиры - 900.0 кв.м, наименьшая площадь квартиры 12.0 кв.м, средняя площадь квартир 52.0 кв.м. Современная жизнь ведет к появлению микро-квартир в крупных городах.\n"
   ]
  },
  {
   "cell_type": "code",
   "execution_count": 34,
   "metadata": {},
   "outputs": [
    {
     "data": {
      "image/png": "[encoded data removed]",
      "text/plain": [
       "<Figure size 432x288 with 1 Axes>"
      ]
     },
     "metadata": {
      "needs_background": "light"
     },
     "output_type": "display_data"
    },
    {
     "name": "stdout",
     "output_type": "stream",
     "text": [
      "максимальная жилая площадь 409.7 наименьшая жилая площадь 2.0 средняя жилая площадь 30.0\n"
     ]
    }
   ],
   "source": [
    "# Работаем с жилая площадью\n",
    "plt.hist(data['living_area'], bins=100, range=(10,200))\n",
    "plt.title('жилая площадь квартир')\n",
    "plt.xlabel('жилая площадь, кв.м')\n",
    "plt.ylabel('Количество продаваемых квартир')\n",
    "plt.show()\n",
    "print('максимальная жилая площадь', data['living_area'].max(), 'наименьшая жилая площадь', data['living_area'].min(), 'средняя жилая площадь', data['living_area'].median())"
   ]
  },
  {
   "cell_type": "markdown",
   "metadata": {},
   "source": [
    "всплески на графике, по всей видимости, соответствуют типу квартир по количеству комнат. \n",
    "большая часть квартир - это квартиры с жилой площадью от 15 до 20 кв.м. и от 26 до 30 кв.м\n",
    "максимальная жилая площадь 409.7 кв.м, наименьшая жилая площадь 2.0 кв.м, средняя жилая площадь 30.0 кв.м. Надеюсь, что 2 кв.м жилой площади это ошибка, а не существующая квартира."
   ]
  },
  {
   "cell_type": "code",
   "execution_count": 35,
   "metadata": {},
   "outputs": [
    {
     "data": {
      "image/png": "[encoded data removed]",
      "text/plain": [
       "<Figure size 432x288 with 1 Axes>"
      ]
     },
     "metadata": {
      "needs_background": "light"
     },
     "output_type": "display_data"
    },
    {
     "name": "stdout",
     "output_type": "stream",
     "text": [
      "наибольшая кухня 112.0 наименьшая кухня 1.3 средняя кухня 9.0\n"
     ]
    }
   ],
   "source": [
    "# Работаем с площадью кухни\n",
    "plt.hist(data['kitchen_area'], bins=20)\n",
    "plt.title('кухня')\n",
    "plt.xlabel('площадь кухни, кв.м')\n",
    "plt.ylabel('Количество продаваемых квартир')\n",
    "plt.show()\n",
    "\n",
    "print('наибольшая кухня', data['kitchen_area'].max(), 'наименьшая кухня', data['kitchen_area'].min(), 'средняя кухня', data['kitchen_area'].median())"
   ]
  },
  {
   "cell_type": "markdown",
   "metadata": {},
   "source": [
    "больше всего продается квартир с кухнями от 8 до 15 кв.м. Наибольшая кухня 112.0, наименьшая кухня 1.3, средняя кухня 9.0"
   ]
  },
  {
   "cell_type": "code",
   "execution_count": 36,
   "metadata": {},
   "outputs": [
    {
     "data": {
      "image/png": "[encoded data removed]",
      "text/plain": [
       "<Figure size 432x288 with 1 Axes>"
      ]
     },
     "metadata": {
      "needs_background": "light"
     },
     "output_type": "display_data"
    },
    {
     "name": "stdout",
     "output_type": "stream",
     "text": [
      "максимальная цена 763000000.0 наименьшая цена 430000.0 средняя цена 4642000.0\n"
     ]
    }
   ],
   "source": [
    "# Работаем с ценой объекта\n",
    "plt.hist(data['last_price']/1000000, bins=100, range=(0,30))\n",
    "plt.title('цена квартир')\n",
    "plt.xlabel('цена квартиры, млн руб.')\n",
    "plt.ylabel('Количество продаваемых квартир')\n",
    "plt.show()\n",
    "print('максимальная цена', data['last_price'].max(), 'наименьшая цена', data['last_price'].min(), 'средняя цена', data['last_price'].median())"
   ]
  },
  {
   "cell_type": "markdown",
   "metadata": {},
   "source": [
    "Больше всего квартир продается по цене 3-4 млн рублей. Самая дорогая квартира стоила 763 млн, средняя цена 4,64 млн рубл. а цена в 12 190 - скорее всего статистическая ошибка."
   ]
  },
  {
   "cell_type": "code",
   "execution_count": 37,
   "metadata": {},
   "outputs": [
    {
     "data": {
      "image/png": "[encoded data removed]",
      "text/plain": [
       "<Figure size 432x288 with 1 Axes>"
      ]
     },
     "metadata": {
      "needs_background": "light"
     },
     "output_type": "display_data"
    }
   ],
   "source": [
    "# Работаем с количеством комнат\n",
    "plt.hist(data['rooms'], bins = data['rooms'].max(), range=(0,7))\n",
    "plt.title('количество комнат в квартире')\n",
    "plt.xlabel('кол-во комнат, млн руб.')\n",
    "plt.ylabel('Количество продаваемых квартир')\n",
    "plt.show()"
   ]
  },
  {
   "cell_type": "markdown",
   "metadata": {},
   "source": [
    "больше всего продается 1-комнатных и 2-хкомнатных квартир."
   ]
  },
  {
   "cell_type": "code",
   "execution_count": 38,
   "metadata": {},
   "outputs": [
    {
     "data": {
      "image/png": "[encoded data removed]",
      "text/plain": [
       "<Figure size 432x288 with 1 Axes>"
      ]
     },
     "metadata": {
      "needs_background": "light"
     },
     "output_type": "display_data"
    },
    {
     "name": "stdout",
     "output_type": "stream",
     "text": [
      "максимальная высота потолков 6.0 наименьшая высота потолков 2.0 средняя высота потолков 2.65\n"
     ]
    }
   ],
   "source": [
    "# Работаем с высотой потолков\n",
    "plt.hist(data['ceiling_height'], bins=50,  range=(2.3,5))\n",
    "plt.title('высота потолков')\n",
    "plt.xlabel('высота потолков, м')\n",
    "plt.ylabel('Количество продаваемых квартир')\n",
    "plt.show()\n",
    "print('максимальная высота потолков', data['ceiling_height'].max(), 'наименьшая высота потолков', data['ceiling_height'].min(), 'средняя высота потолков', data['ceiling_height'].median())"
   ]
  },
  {
   "cell_type": "markdown",
   "metadata": {},
   "source": [
    "самая распространенная высота потолков 2.5-2.7 м. "
   ]
  },
  {
   "cell_type": "code",
   "execution_count": 39,
   "metadata": {},
   "outputs": [
    {
     "data": {
      "image/png": "[encoded data removed]",
      "text/plain": [
       "<Figure size 432x288 with 1 Axes>"
      ]
     },
     "metadata": {
      "needs_background": "light"
     },
     "output_type": "display_data"
    },
    {
     "name": "stdout",
     "output_type": "stream",
     "text": [
      "самый высокий этаж 33 средний этаж 4.0\n"
     ]
    }
   ],
   "source": [
    "# Этаж квартиры\n",
    "plt.hist(data['floor'], bins=50,  range=(0,60))\n",
    "plt.title('этаж')\n",
    "plt.xlabel('этаж')\n",
    "plt.ylabel('Количество продаваемых квартир')\n",
    "plt.show()\n",
    "print('самый высокий этаж', data['floor'].max(), 'средний этаж', data['floor'].median())"
   ]
  },
  {
   "cell_type": "markdown",
   "metadata": {},
   "source": [
    "самый высокий этаж 33, средний этаж 4.0."
   ]
  },
  {
   "cell_type": "code",
   "execution_count": 40,
   "metadata": {},
   "outputs": [
    {
     "data": {
      "image/png": "[encoded data removed]",
      "text/plain": [
       "<Figure size 432x288 with 1 Axes>"
      ]
     },
     "metadata": {
      "needs_background": "light"
     },
     "output_type": "display_data"
    }
   ],
   "source": [
    "# Тип этажа квартиры\n",
    "plt.hist(data['floor_category'], bins=50,  range=(0,3))\n",
    "plt.title('тип этажа')\n",
    "plt.xlabel('этаж')\n",
    "plt.ylabel('Количество продаваемых квартир')\n",
    "plt.show()"
   ]
  },
  {
   "cell_type": "markdown",
   "metadata": {},
   "source": [
    "Чаще всего продаеются квартиры с типом \"другой\", то есть не первый и не последний."
   ]
  },
  {
   "cell_type": "code",
   "execution_count": 41,
   "metadata": {},
   "outputs": [
    {
     "data": {
      "image/png": "[encoded data removed]",
      "text/plain": [
       "<Figure size 432x288 with 1 Axes>"
      ]
     },
     "metadata": {
      "needs_background": "light"
     },
     "output_type": "display_data"
    }
   ],
   "source": [
    "# Всего этажей в доме\n",
    "plt.hist(data['floors_total'], bins=50,  range=(0,60))\n",
    "plt.title('этажность дома')\n",
    "plt.xlabel('этаж')\n",
    "plt.ylabel('Количество продаваемых квартир')\n",
    "plt.show()\n"
   ]
  },
  {
   "cell_type": "markdown",
   "metadata": {},
   "source": [
    "Чаще всего продаются квартиры в 4-хэтажных домах."
   ]
  },
  {
   "cell_type": "code",
   "execution_count": 42,
   "metadata": {},
   "outputs": [
    {
     "data": {
      "image/png": "[encoded data removed]",
      "text/plain": [
       "<Figure size 432x288 with 1 Axes>"
      ]
     },
     "metadata": {
      "needs_background": "light"
     },
     "output_type": "display_data"
    }
   ],
   "source": [
    "#расстояние до центра города в метрах\n",
    "plt.hist(data['cityCenters_nearest'], bins=50,  range=(0,50000))\n",
    "plt.title('расстояние до центра города')\n",
    "plt.xlabel('расстояние до центра')\n",
    "plt.ylabel('Количество продаваемых квартир')\n",
    "plt.show()\n"
   ]
  },
  {
   "cell_type": "markdown",
   "metadata": {},
   "source": [
    "Наибольшее количество квартир находится в 14-16 000 м от центра города"
   ]
  },
  {
   "cell_type": "code",
   "execution_count": 43,
   "metadata": {},
   "outputs": [
    {
     "data": {
      "image/png": "[encoded data removed]",
      "text/plain": [
       "<Figure size 432x288 with 1 Axes>"
      ]
     },
     "metadata": {
      "needs_background": "light"
     },
     "output_type": "display_data"
    }
   ],
   "source": [
    "#расстояние до аэропорта\n",
    "plt.hist(data['airports_nearest'], bins=50,  range=(0,50000))\n",
    "plt.title('расстояние до аэропорта')\n",
    "plt.xlabel('расстояние до аэропорта')\n",
    "plt.ylabel('Количество продаваемых квартир')\n",
    "plt.show()\n"
   ]
  },
  {
   "cell_type": "markdown",
   "metadata": {},
   "source": [
    "чаще всего квартиры находятся на расстоянии от 10 000 до 38 000 м от ближайшего аэропорта.\n",
    "скорее всего такой выброс по среднему из-за того, чтобы было очень много пропусков этих данных и мы их заполнили медианой"
   ]
  },
  {
   "cell_type": "code",
   "execution_count": 44,
   "metadata": {},
   "outputs": [
    {
     "data": {
      "image/png": "[encoded data removed]",
      "text/plain": [
       "<Figure size 432x288 with 1 Axes>"
      ]
     },
     "metadata": {
      "needs_background": "light"
     },
     "output_type": "display_data"
    }
   ],
   "source": [
    "#расстояние до ближайшего парка\n",
    "plt.hist(data.query('parks_nearest != 9999')['parks_nearest'], bins=50,  range=(0,2000))\n",
    "plt.title('расстояние до ближайшего парка')\n",
    "plt.xlabel('расстояние')\n",
    "plt.ylabel('Количество продаваемых квартир')\n",
    "plt.show()"
   ]
  },
  {
   "cell_type": "markdown",
   "metadata": {},
   "source": [
    "расстояние до ближайшего парка от 150 до 650 м наиболее частое."
   ]
  },
  {
   "cell_type": "code",
   "execution_count": 45,
   "metadata": {},
   "outputs": [
    {
     "data": {
      "image/png": "[encoded data removed]",
      "text/plain": [
       "<Figure size 432x288 with 1 Axes>"
      ]
     },
     "metadata": {
      "needs_background": "light"
     },
     "output_type": "display_data"
    },
    {
     "data": {
      "image/png": "[encoded data removed]",
      "text/plain": [
       "<Figure size 432x288 with 1 Axes>"
      ]
     },
     "metadata": {
      "needs_background": "light"
     },
     "output_type": "display_data"
    }
   ],
   "source": [
    "#день и месяц публикации объявления\n",
    "plt.hist(data['weekday'], bins=50,  range=(0,6))\n",
    "plt.title('день публикации объявления')\n",
    "plt.xlabel('день')\n",
    "plt.ylabel('Количество продаваемых квартир')\n",
    "plt.show()\n",
    "plt.hist(data['month'], bins=50,  range=(0,12))\n",
    "plt.title('месяц публикации объявления')\n",
    "plt.xlabel('месяц')\n",
    "plt.ylabel('Количество продаваемых квартир')\n",
    "plt.show()"
   ]
  },
  {
   "cell_type": "markdown",
   "metadata": {},
   "source": [
    "в выходные меньше всего публикуется объявлений, а также в месяцы с большим количеством праздников: декабрь, январь и май."
   ]
  },
  {
   "cell_type": "code",
   "execution_count": 46,
   "metadata": {},
   "outputs": [],
   "source": [
    "# Сколько дней было размещено объявление\n",
    "data1 = data.query('days_exposition != 9999')"
   ]
  },
  {
   "cell_type": "markdown",
   "metadata": {},
   "source": [
    "Убрали из анализа объявления с маркером 9999 - это те квартиры, которые еще не проданы"
   ]
  },
  {
   "cell_type": "code",
   "execution_count": 47,
   "metadata": {},
   "outputs": [
    {
     "data": {
      "image/png": "[encoded data removed]",
      "text/plain": [
       "<Figure size 432x288 with 1 Axes>"
      ]
     },
     "metadata": {
      "needs_background": "light"
     },
     "output_type": "display_data"
    },
    {
     "data": {
      "image/png": "[encoded data removed]",
      "text/plain": [
       "<Figure size 432x288 with 1 Axes>"
      ]
     },
     "metadata": {
      "needs_background": "light"
     },
     "output_type": "display_data"
    },
    {
     "data": {
      "text/plain": [
       "count    20381.000000\n",
       "mean       180.758893\n",
       "std        219.762914\n",
       "min          1.000000\n",
       "25%         45.000000\n",
       "50%         95.000000\n",
       "75%        231.000000\n",
       "max       1580.000000\n",
       "Name: days_exposition, dtype: float64"
      ]
     },
     "execution_count": 47,
     "metadata": {},
     "output_type": "execute_result"
    }
   ],
   "source": [
    "plt.hist(data1['days_exposition'], bins=100, range=(0,500))\n",
    "plt.title('срок публикации объявления')\n",
    "plt.xlabel('дни публикации')\n",
    "plt.ylabel('Количество продаваемых квартир')\n",
    "plt.show()\n",
    "plt.hist(data1['days_exposition'], bins=50, range=(0,100))\n",
    "plt.show()\n",
    "data1['days_exposition'].describe()"
   ]
  },
  {
   "cell_type": "markdown",
   "metadata": {},
   "source": [
    "Среднее время продажи 180 дней, а медианной 95. есть рекордно-короткий срок продажи в 1 день, а максимальный в 1580 дней. Вполне, можем считать быстрой продажей - за срок менее 45 дней, а слишком долгими - свыше 231 дня."
   ]
  },
  {
   "cell_type": "code",
   "execution_count": 48,
   "metadata": {},
   "outputs": [
    {
     "data": {
      "image/png": "[encoded data removed]",
      "text/plain": [
       "<Figure size 360x360 with 1 Axes>"
      ]
     },
     "metadata": {
      "needs_background": "light"
     },
     "output_type": "display_data"
    },
    {
     "name": "stdout",
     "output_type": "stream",
     "text": [
      "Корреляция цены и площади: \n",
      "             last_price  total_area\n",
      "last_price    1.000000    0.720817\n",
      "total_area    0.720817    1.000000 \n",
      "\n"
     ]
    }
   ],
   "source": [
    "## Выясним какие факторы(общая площадь, жилая площадь,площади кухни, количество комнат, \n",
    "# этажа, на котором расположена квартира (первый, последний, другой), \n",
    "# дата размещения (день недели, месяц, год)) больше всего влияют на стоимость объекта.\n",
    "\n",
    "# Зависимость цены от общей площади\n",
    "data.pivot_table(index='total_area', values='last_price').plot(grid=True, style='o', figsize=(5, 5))\n",
    "plt.title('зависимость цены от общей площади')\n",
    "plt.show()\n",
    "print('Корреляция цены и площади:','\\n', data.pivot_table(index='floor', values=['total_area', 'last_price']).corr(),'\\n')"
   ]
  },
  {
   "cell_type": "markdown",
   "metadata": {},
   "source": [
    "Зависимость цены квартиры от площади ярко выражена и отлично прослеживается: чем больше площадь, тем больше цена квартиры. коэффициент корреляция высокий - 0.72."
   ]
  },
  {
   "cell_type": "code",
   "execution_count": 49,
   "metadata": {},
   "outputs": [
    {
     "data": {
      "image/png": "[encoded data removed]",
      "text/plain": [
       "<Figure size 360x360 with 1 Axes>"
      ]
     },
     "metadata": {
      "needs_background": "light"
     },
     "output_type": "display_data"
    },
    {
     "name": "stdout",
     "output_type": "stream",
     "text": [
      "Корреляция цены и площади: \n",
      "              last_price  living_area\n",
      "last_price     1.000000     0.620788\n",
      "living_area    0.620788     1.000000 \n",
      "\n"
     ]
    }
   ],
   "source": [
    "# зависимость цены от жилой площади\n",
    "data.pivot_table(index='living_area', values='last_price').plot(grid=True, style='o', figsize=(5, 5))\n",
    "plt.title('зависимость цены от жилой площади')\n",
    "plt.show()\n",
    "print('Корреляция цены и площади:','\\n', data.pivot_table(index='floor', values=['living_area', 'last_price']).corr(),'\\n')"
   ]
  },
  {
   "cell_type": "markdown",
   "metadata": {},
   "source": [
    "Корреляция высокая - 0.62, цены квартиры возрастает при увеличении жилой площади квартиры, но это и очевидно, что при увеличении общей площади квартиры, как правило, увеличивается и ее жилая площадь."
   ]
  },
  {
   "cell_type": "code",
   "execution_count": 50,
   "metadata": {},
   "outputs": [
    {
     "data": {
      "image/png": "[encoded data removed]",
      "text/plain": [
       "<Figure size 720x360 with 1 Axes>"
      ]
     },
     "metadata": {
      "needs_background": "light"
     },
     "output_type": "display_data"
    },
    {
     "name": "stdout",
     "output_type": "stream",
     "text": [
      "Корреляция цены и площади: \n",
      "               kitchen_area  last_price\n",
      "kitchen_area      1.000000    0.366128\n",
      "last_price        0.366128    1.000000 \n",
      "\n"
     ]
    }
   ],
   "source": [
    "# зависимость цены от площади кухни\n",
    "data.pivot_table(index='kitchen_area', values='last_price').plot(grid=True, style='o', figsize=(10, 5), alpha=0.5)\n",
    "plt.title('зависимость цены от площади кухни')\n",
    "plt.show()\n",
    "print('Корреляция цены и площади:','\\n', data.pivot_table(index='floor', values=['kitchen_area', 'last_price']).corr(),'\\n')"
   ]
  },
  {
   "cell_type": "markdown",
   "metadata": {},
   "source": [
    "небольшая зависимость есть, плотности в области самых распространенных площадей кухни говорит, что при увеличении площади кухни увеличивается и общая цена квартиры\n"
   ]
  },
  {
   "cell_type": "code",
   "execution_count": 51,
   "metadata": {},
   "outputs": [
    {
     "data": {
      "image/png": "[encoded data removed]",
      "text/plain": [
       "<Figure size 720x360 with 1 Axes>"
      ]
     },
     "metadata": {
      "needs_background": "light"
     },
     "output_type": "display_data"
    },
    {
     "name": "stdout",
     "output_type": "stream",
     "text": [
      "Корреляция цены и числа комнат: \n",
      "\n",
      "            last_price     rooms\n",
      "last_price    1.000000  0.441874\n",
      "rooms         0.441874  1.000000 \n",
      "\n"
     ]
    }
   ],
   "source": [
    "# Зависимость цены от числа комнат\n",
    "data.query('rooms > 0').pivot_table(index='rooms', values='last_price').plot(grid=True, style='o-', figsize=(10, 5))\n",
    "plt.title('зависимость цены от числа комнат')\n",
    "plt.show()\n",
    "\n",
    "print('Корреляция цены и числа комнат:','\\n')\n",
    "print(data.query('rooms > 0').pivot_table(index='floor', values=['rooms', 'last_price']).corr(),'\\n')"
   ]
  },
  {
   "cell_type": "markdown",
   "metadata": {},
   "source": [
    "Зависимость цены от количества комнат тоже есть, но не такая сильная, как зависимость от площади.\n",
    "По всей видимости, так как есть малокомнатные квартиры, но комнаты сами большие по площади, \n",
    "а встречаются и квартиры с большим количеством комнат, но с маленькой площадью этих комнат. \n",
    "Зависимость хорошо прослеживается вплоть до квартир с 7ью комнатами. Далее, зависимость не очевидна. \n",
    "по всей видимости, из-за не очень большого числа многокомнатных квартир и устоявшейся практики их продажи."
   ]
  },
  {
   "cell_type": "code",
   "execution_count": 52,
   "metadata": {},
   "outputs": [
    {
     "data": {
      "image/png": "[encoded data removed]",
      "text/plain": [
       "<Figure size 720x360 with 1 Axes>"
      ]
     },
     "metadata": {
      "needs_background": "light"
     },
     "output_type": "display_data"
    },
    {
     "data": {
      "image/png": "[encoded data removed]",
      "text/plain": [
       "<Figure size 720x360 with 1 Axes>"
      ]
     },
     "metadata": {
      "needs_background": "light"
     },
     "output_type": "display_data"
    },
    {
     "data": {
      "image/png": "[encoded data removed]",
      "text/plain": [
       "<Figure size 720x360 with 1 Axes>"
      ]
     },
     "metadata": {
      "needs_background": "light"
     },
     "output_type": "display_data"
    }
   ],
   "source": [
    "# Зависимость цены от даты размещения объекта на продажу\n",
    "for x in ['weekday', 'month', 'year']:\n",
    "    data.pivot_table(index=x, values='last_price').plot(grid=True, style='o-', figsize=(10, 5))\n",
    "    plt.show()"
   ]
  },
  {
   "cell_type": "markdown",
   "metadata": {},
   "source": [
    "Чаще всего публикуются более дорогие объекты в субботу. А воскресенье, наоборот, самые дешевые. Но это скорее всего связано с тем, что в воскресенье и публикуется наименьшее число объявлений.\n",
    "\n",
    "Самые дорогие объекты выставлялись на продажу в апреле, сентябре и декабре.\n",
    "\n",
    "цены на квартиры в 2014 году были гораздо выше, чем в последующие. и после минимальных цен в 2018, в 2019 опять прослеживается их подъем."
   ]
  },
  {
   "cell_type": "code",
   "execution_count": 53,
   "metadata": {},
   "outputs": [
    {
     "data": {
      "image/png": "[encoded data removed]",
      "text/plain": [
       "<Figure size 720x360 with 1 Axes>"
      ]
     },
     "metadata": {
      "needs_background": "light"
     },
     "output_type": "display_data"
    },
    {
     "name": "stdout",
     "output_type": "stream",
     "text": [
      "Корреляция цены и этажа: \n",
      "             last_price\n",
      "last_price         1.0 \n",
      "\n"
     ]
    }
   ],
   "source": [
    "# Зависимость цены от типа этажа\n",
    "data.pivot_table(index='floor_category', values='last_price').plot(grid=True, style='o-', figsize=(10, 5))\n",
    "plt.title('зависимость цены от типа этажа')\n",
    "plt.show()\n",
    "print('Корреляция цены и этажа:','\\n', data.pivot_table(index='floor', values=['floor_category', 'last_price']).corr(),'\\n')"
   ]
  },
  {
   "cell_type": "markdown",
   "metadata": {},
   "source": [
    "Первый этаж не сильно любят покупатели, он значительно дешевле остальных. последний чуть дороже \"других\" этажей\n"
   ]
  },
  {
   "cell_type": "code",
   "execution_count": 54,
   "metadata": {},
   "outputs": [
    {
     "data": {
      "text/html": [
       "<div>\n",
       "<style scoped>\n",
       "    .dataframe tbody tr th:only-of-type {\n",
       "        vertical-align: middle;\n",
       "    }\n",
       "\n",
       "    .dataframe tbody tr th {\n",
       "        vertical-align: top;\n",
       "    }\n",
       "\n",
       "    .dataframe thead th {\n",
       "        text-align: right;\n",
       "    }\n",
       "</style>\n",
       "<table border=\"1\" class=\"dataframe\">\n",
       "  <thead>\n",
       "    <tr style=\"text-align: right;\">\n",
       "      <th></th>\n",
       "      <th>count</th>\n",
       "      <th>median</th>\n",
       "    </tr>\n",
       "    <tr>\n",
       "      <th>locality_name</th>\n",
       "      <th></th>\n",
       "      <th></th>\n",
       "    </tr>\n",
       "  </thead>\n",
       "  <tbody>\n",
       "    <tr>\n",
       "      <th>Санкт-Петербург</th>\n",
       "      <td>15641</td>\n",
       "      <td>104770.266315</td>\n",
       "    </tr>\n",
       "    <tr>\n",
       "      <th>поселок Мурино</th>\n",
       "      <td>552</td>\n",
       "      <td>86059.293995</td>\n",
       "    </tr>\n",
       "    <tr>\n",
       "      <th>поселок Шушары</th>\n",
       "      <td>439</td>\n",
       "      <td>76829.268293</td>\n",
       "    </tr>\n",
       "    <tr>\n",
       "      <th>Всеволожск</th>\n",
       "      <td>398</td>\n",
       "      <td>65789.473684</td>\n",
       "    </tr>\n",
       "    <tr>\n",
       "      <th>Пушкин</th>\n",
       "      <td>369</td>\n",
       "      <td>100000.000000</td>\n",
       "    </tr>\n",
       "    <tr>\n",
       "      <th>Колпино</th>\n",
       "      <td>338</td>\n",
       "      <td>74723.748474</td>\n",
       "    </tr>\n",
       "    <tr>\n",
       "      <th>поселок Парголово</th>\n",
       "      <td>327</td>\n",
       "      <td>91642.857143</td>\n",
       "    </tr>\n",
       "    <tr>\n",
       "      <th>Гатчина</th>\n",
       "      <td>307</td>\n",
       "      <td>67796.610169</td>\n",
       "    </tr>\n",
       "    <tr>\n",
       "      <th>деревня Кудрово</th>\n",
       "      <td>299</td>\n",
       "      <td>91860.465116</td>\n",
       "    </tr>\n",
       "    <tr>\n",
       "      <th>Выборг</th>\n",
       "      <td>237</td>\n",
       "      <td>58158.319871</td>\n",
       "    </tr>\n",
       "  </tbody>\n",
       "</table>\n",
       "</div>"
      ],
      "text/plain": [
       "                   count         median\n",
       "locality_name                          \n",
       "Санкт-Петербург    15641  104770.266315\n",
       "поселок Мурино       552   86059.293995\n",
       "поселок Шушары       439   76829.268293\n",
       "Всеволожск           398   65789.473684\n",
       "Пушкин               369  100000.000000\n",
       "Колпино              338   74723.748474\n",
       "поселок Парголово    327   91642.857143\n",
       "Гатчина              307   67796.610169\n",
       "деревня Кудрово      299   91860.465116\n",
       "Выборг               237   58158.319871"
      ]
     },
     "execution_count": 54,
     "metadata": {},
     "output_type": "execute_result"
    }
   ],
   "source": [
    "# посчитаем среднюю цену квадратного метра в населенных пунктах с наибольшим числом объявлений\n",
    "\n",
    "locality10 = data.pivot_table(index='locality_name',values='price_m',aggfunc=('count','median'))\n",
    "locality10.sort_values(by='count',ascending=False).head(10)"
   ]
  },
  {
   "cell_type": "markdown",
   "metadata": {},
   "source": [
    "Самая высокая цена за квадратный метр в Санкт-Петербурге - 104 770 руб., самая низкая в отобранной десятке в Выборге - 58 158 руб. за кв.м."
   ]
  },
  {
   "cell_type": "code",
   "execution_count": 55,
   "metadata": {},
   "outputs": [
    {
     "data": {
      "image/png": "[encoded data removed]",
      "text/plain": [
       "<Figure size 720x360 with 1 Axes>"
      ]
     },
     "metadata": {
      "needs_background": "light"
     },
     "output_type": "display_data"
    },
    {
     "name": "stdout",
     "output_type": "stream",
     "text": [
      "Корреляция цены и числа комнат: \n",
      "\n",
      "                        cityCenters_nearest_km  cost_km\n",
      "cityCenters_nearest_km                 1.00000 -0.64724\n",
      "cost_km                               -0.64724  1.00000 \n",
      "\n"
     ]
    }
   ],
   "source": [
    "# Оценим стоимость объектов в Санкт-Петербурге в зависимости от расстояния от центра города cityCenters_nearest_km\n",
    "data['cost_km'] = data['last_price']/data['cityCenters_nearest_km']\n",
    "spb_region=data.query('locality_name==\"Санкт-Петербург\"')\n",
    "#print(spb_region.head())\n",
    "\n",
    "spb_region.pivot_table(index='cityCenters_nearest_km', values='cost_km').plot(grid=True, style='o', figsize=(10, 5))\n",
    "plt.title('зависимость цены от расстояния до центра')\n",
    "plt.show()\n",
    "print('Корреляция цены и числа комнат:','\\n')\n",
    "print(spb_region.query('cityCenters_nearest_km > 0').pivot_table(index='floor', values=['cityCenters_nearest_km', 'cost_km']).corr(),'\\n')"
   ]
  },
  {
   "cell_type": "markdown",
   "metadata": {},
   "source": [
    "Очевидно, что квартиры ближе к центру стоят дороже. Коэффициент корреляции - 0.65 подтверждает довольно сильную зависимость цены от удаленности от центра. Однако, после 6 км это уже не так ярковыраженно и понятно, что этот фактор становится не решающим для определения стоимости объекта."
   ]
  },
  {
   "cell_type": "markdown",
   "metadata": {},
   "source": [
    "### Общий вывод"
   ]
  },
  {
   "cell_type": "markdown",
   "metadata": {},
   "source": [
    "ОСновные факторы, влияющие на стоимость объекта недвижимости:\n",
    "    * общая площадь квартиры, а также ее жилая часть. Но количество комнат не сильно влияет на цену \n",
    "    объекта. Существуют дорогие квартиры с малым числом просторных комнат, но с большой общей площадью.\n",
    "    * размер кухни также оказывает влияние на стоимость.\n",
    "    * локация играет существенную роль в формировании цены квартиры: цены в Санкт-Петербурге дороже, чем в Выборге.\n",
    "    * а также влияет удаленность от центра в гор. Санкт-Петербурге при нахождении недвижимости в радиусе 8 км от центра города.\n",
    "    * первый этаж - снижает стоимость квариты.\n",
    "\n",
    "Самые ликвидные объекты: 1-2х-комнатные квартиры, с общей площадью до 50 кв.м, стоимостью до 4 млн, \n",
    "не на первом этаже в 4х-этажном доме.\n",
    "\n",
    "Чаще всего квартиры продаются за 95 дней, но есть и быстрые продажи. А также и очень долгие - более 231 дней.\n",
    "Экономический кризис 2014 года сильно повлиял на стоимость недвижимости - она сильно упала и снижалась вплоть до 2018 года.\n",
    "\n",
    "Активность продавцов по размещению новых объектов недвижимости зависит от дней недели - в выходные публикуется мало объявлений.\n",
    "А также снижается активность и в месяцы, когда много праздничных дней - люди заняты не продажами квартир, а праздниками.\n",
    "\n",
    "Но, как ни странно, квартиры опубликованные в субботу и в декабре, в среднем, продавались по более высоким ценам.\n",
    "    \n",
    "    "
   ]
  }
 ],
 "metadata": {
  "ExecuteTimeLog": [
   {
    "duration": 498,
    "start_time": "2022-09-20T08:37:16.032Z"
   },
   {
    "duration": 544,
    "start_time": "2022-09-20T08:38:41.083Z"
   },
   {
    "duration": 1555,
    "start_time": "2022-09-20T08:43:01.096Z"
   },
   {
    "duration": 98,
    "start_time": "2022-09-20T08:45:15.824Z"
   },
   {
    "duration": 85,
    "start_time": "2022-09-20T08:47:36.585Z"
   },
   {
    "duration": 680,
    "start_time": "2022-09-20T08:48:19.187Z"
   },
   {
    "duration": 727,
    "start_time": "2022-09-20T13:09:45.700Z"
   },
   {
    "duration": 91,
    "start_time": "2022-09-20T13:13:56.514Z"
   },
   {
    "duration": 591,
    "start_time": "2022-09-20T13:20:15.702Z"
   },
   {
    "duration": 206,
    "start_time": "2022-09-20T13:21:34.349Z"
   },
   {
    "duration": 34,
    "start_time": "2022-09-20T13:33:50.627Z"
   },
   {
    "duration": 100,
    "start_time": "2022-09-20T13:34:27.707Z"
   },
   {
    "duration": 111,
    "start_time": "2022-09-20T13:34:56.586Z"
   },
   {
    "duration": 109,
    "start_time": "2022-09-20T13:37:58.980Z"
   },
   {
    "duration": 120,
    "start_time": "2022-09-20T13:38:48.540Z"
   },
   {
    "duration": 120,
    "start_time": "2022-09-20T13:39:23.107Z"
   },
   {
    "duration": 112,
    "start_time": "2022-09-20T13:51:21.029Z"
   },
   {
    "duration": 13,
    "start_time": "2022-09-20T14:20:02.998Z"
   },
   {
    "duration": 30,
    "start_time": "2022-09-20T14:33:24.613Z"
   },
   {
    "duration": 31,
    "start_time": "2022-09-20T14:36:23.383Z"
   },
   {
    "duration": 31,
    "start_time": "2022-09-20T14:38:21.946Z"
   },
   {
    "duration": 20,
    "start_time": "2022-09-20T14:42:19.059Z"
   },
   {
    "duration": 1862,
    "start_time": "2022-09-20T14:46:17.331Z"
   },
   {
    "duration": 17,
    "start_time": "2022-09-20T14:52:42.180Z"
   },
   {
    "duration": 24,
    "start_time": "2022-09-20T15:04:00.429Z"
   },
   {
    "duration": 81,
    "start_time": "2022-09-20T15:05:59.677Z"
   },
   {
    "duration": 2301,
    "start_time": "2022-09-20T15:10:02.930Z"
   },
   {
    "duration": 17,
    "start_time": "2022-09-20T15:28:47.430Z"
   },
   {
    "duration": 2305,
    "start_time": "2022-09-20T15:34:30.050Z"
   },
   {
    "duration": 1761,
    "start_time": "2022-09-20T15:34:51.706Z"
   },
   {
    "duration": 1577,
    "start_time": "2022-09-20T15:34:54.680Z"
   },
   {
    "duration": 1910,
    "start_time": "2022-09-20T15:35:06.511Z"
   },
   {
    "duration": 20,
    "start_time": "2022-09-20T15:35:28.826Z"
   },
   {
    "duration": 1528,
    "start_time": "2022-09-20T15:36:45.154Z"
   },
   {
    "duration": 1081,
    "start_time": "2022-09-20T15:36:48.329Z"
   },
   {
    "duration": 1974,
    "start_time": "2022-09-20T15:36:55.609Z"
   },
   {
    "duration": 1917,
    "start_time": "2022-09-20T15:37:00.305Z"
   },
   {
    "duration": 1904,
    "start_time": "2022-09-20T15:38:05.412Z"
   },
   {
    "duration": 1816,
    "start_time": "2022-09-20T15:38:13.090Z"
   },
   {
    "duration": 19,
    "start_time": "2022-09-20T15:38:16.563Z"
   },
   {
    "duration": 1963,
    "start_time": "2022-09-20T15:39:26.234Z"
   },
   {
    "duration": 23,
    "start_time": "2022-09-20T15:39:31.594Z"
   },
   {
    "duration": 1964,
    "start_time": "2022-09-20T15:42:56.156Z"
   },
   {
    "duration": 43,
    "start_time": "2022-09-20T15:43:04.790Z"
   },
   {
    "duration": 1798,
    "start_time": "2022-09-20T15:43:26.444Z"
   },
   {
    "duration": 51,
    "start_time": "2022-09-20T15:43:30.828Z"
   },
   {
    "duration": 2135,
    "start_time": "2022-09-20T15:44:22.302Z"
   },
   {
    "duration": 39,
    "start_time": "2022-09-20T15:44:27.245Z"
   },
   {
    "duration": 1799,
    "start_time": "2022-09-20T15:55:49.313Z"
   },
   {
    "duration": 45,
    "start_time": "2022-09-20T15:55:55.979Z"
   },
   {
    "duration": 1906,
    "start_time": "2022-09-20T16:32:43.928Z"
   },
   {
    "duration": 59,
    "start_time": "2022-09-20T16:32:47.689Z"
   },
   {
    "duration": 2581,
    "start_time": "2022-09-20T16:36:10.681Z"
   },
   {
    "duration": 67,
    "start_time": "2022-09-20T16:36:16.597Z"
   },
   {
    "duration": 2238,
    "start_time": "2022-09-20T16:40:13.824Z"
   },
   {
    "duration": 2617,
    "start_time": "2022-09-20T16:40:59.599Z"
   },
   {
    "duration": 2630,
    "start_time": "2022-09-20T16:41:15.183Z"
   },
   {
    "duration": 2095,
    "start_time": "2022-09-20T16:50:19.299Z"
   },
   {
    "duration": 94,
    "start_time": "2022-09-20T16:50:27.380Z"
   },
   {
    "duration": 869,
    "start_time": "2022-09-20T16:51:49.190Z"
   },
   {
    "duration": 1997,
    "start_time": "2022-09-20T16:51:55.041Z"
   },
   {
    "duration": 68,
    "start_time": "2022-09-20T16:52:01.385Z"
   },
   {
    "duration": 2398,
    "start_time": "2022-09-20T17:01:21.281Z"
   },
   {
    "duration": 105,
    "start_time": "2022-09-20T17:01:28.838Z"
   },
   {
    "duration": 2377,
    "start_time": "2022-09-20T17:10:31.985Z"
   },
   {
    "duration": 76,
    "start_time": "2022-09-20T17:10:39.942Z"
   },
   {
    "duration": 2465,
    "start_time": "2022-09-20T17:13:02.403Z"
   },
   {
    "duration": 2449,
    "start_time": "2022-09-20T17:13:22.665Z"
   },
   {
    "duration": 2375,
    "start_time": "2022-09-20T17:13:45.536Z"
   },
   {
    "duration": 2615,
    "start_time": "2022-09-20T17:13:56.779Z"
   },
   {
    "duration": 71,
    "start_time": "2022-09-20T17:14:06.202Z"
   },
   {
    "duration": 2181,
    "start_time": "2022-09-20T17:15:10.140Z"
   },
   {
    "duration": 80,
    "start_time": "2022-09-20T17:15:20.586Z"
   },
   {
    "duration": 2164,
    "start_time": "2022-09-20T17:17:16.239Z"
   },
   {
    "duration": 73,
    "start_time": "2022-09-20T17:17:22.005Z"
   },
   {
    "duration": 2283,
    "start_time": "2022-09-20T17:20:30.301Z"
   },
   {
    "duration": 80,
    "start_time": "2022-09-20T17:20:37.484Z"
   },
   {
    "duration": 2366,
    "start_time": "2022-09-20T17:30:15.180Z"
   },
   {
    "duration": 87,
    "start_time": "2022-09-20T17:30:21.896Z"
   },
   {
    "duration": 2238,
    "start_time": "2022-09-20T17:30:49.244Z"
   },
   {
    "duration": 1716,
    "start_time": "2022-09-20T17:30:53.355Z"
   },
   {
    "duration": 3158,
    "start_time": "2022-09-20T17:31:01.044Z"
   },
   {
    "duration": 68,
    "start_time": "2022-09-20T17:31:08.435Z"
   },
   {
    "duration": 2283,
    "start_time": "2022-09-20T17:31:59.477Z"
   },
   {
    "duration": 84,
    "start_time": "2022-09-20T17:32:04.039Z"
   },
   {
    "duration": 3013,
    "start_time": "2022-09-21T09:49:33.999Z"
   },
   {
    "duration": 135,
    "start_time": "2022-09-21T09:50:15.687Z"
   },
   {
    "duration": 1492,
    "start_time": "2022-09-21T09:51:34.082Z"
   },
   {
    "duration": 1749,
    "start_time": "2022-09-21T09:51:43.001Z"
   },
   {
    "duration": 58,
    "start_time": "2022-09-21T09:51:49.258Z"
   },
   {
    "duration": 1804,
    "start_time": "2022-09-21T10:14:17.251Z"
   },
   {
    "duration": 68,
    "start_time": "2022-09-21T10:14:27.480Z"
   },
   {
    "duration": 1820,
    "start_time": "2022-09-21T10:25:48.357Z"
   },
   {
    "duration": 69,
    "start_time": "2022-09-21T10:25:55.404Z"
   },
   {
    "duration": 1893,
    "start_time": "2022-09-21T10:40:58.900Z"
   },
   {
    "duration": 2504,
    "start_time": "2022-09-21T10:41:05.342Z"
   },
   {
    "duration": 1856,
    "start_time": "2022-09-21T10:42:44.249Z"
   },
   {
    "duration": 933,
    "start_time": "2022-09-21T10:42:49.538Z"
   },
   {
    "duration": 1898,
    "start_time": "2022-09-21T10:43:31.625Z"
   },
   {
    "duration": 71,
    "start_time": "2022-09-21T10:43:40.346Z"
   },
   {
    "duration": 3738,
    "start_time": "2022-09-22T07:58:36.857Z"
   },
   {
    "duration": 147,
    "start_time": "2022-09-22T07:59:15.059Z"
   },
   {
    "duration": 2146,
    "start_time": "2022-09-22T07:59:52.369Z"
   },
   {
    "duration": 69,
    "start_time": "2022-09-22T08:00:06.594Z"
   },
   {
    "duration": 2206,
    "start_time": "2022-09-22T08:00:51.590Z"
   },
   {
    "duration": 72,
    "start_time": "2022-09-22T08:00:59.172Z"
   },
   {
    "duration": 2377,
    "start_time": "2022-09-22T08:06:01.551Z"
   },
   {
    "duration": 89,
    "start_time": "2022-09-22T08:06:10.300Z"
   },
   {
    "duration": 2590,
    "start_time": "2022-09-22T08:08:18.958Z"
   },
   {
    "duration": 79,
    "start_time": "2022-09-22T08:08:27.668Z"
   },
   {
    "duration": 2160,
    "start_time": "2022-09-22T08:28:56.521Z"
   },
   {
    "duration": 10,
    "start_time": "2022-09-22T08:29:03.465Z"
   },
   {
    "duration": 79,
    "start_time": "2022-09-22T08:29:37.087Z"
   },
   {
    "duration": 2414,
    "start_time": "2022-09-22T08:38:12.267Z"
   },
   {
    "duration": 81,
    "start_time": "2022-09-22T08:38:25.636Z"
   },
   {
    "duration": 2392,
    "start_time": "2022-09-22T08:40:25.900Z"
   },
   {
    "duration": 103,
    "start_time": "2022-09-22T08:40:33.887Z"
   },
   {
    "duration": 2780,
    "start_time": "2022-09-22T08:41:39.861Z"
   },
   {
    "duration": 104,
    "start_time": "2022-09-22T08:41:50.066Z"
   },
   {
    "duration": 2205,
    "start_time": "2022-09-22T08:47:30.886Z"
   },
   {
    "duration": 187,
    "start_time": "2022-09-22T08:47:41.192Z"
   },
   {
    "duration": 838,
    "start_time": "2022-09-22T08:47:57.752Z"
   },
   {
    "duration": 2616,
    "start_time": "2022-09-22T08:48:10.167Z"
   },
   {
    "duration": 91,
    "start_time": "2022-09-22T08:48:16.761Z"
   },
   {
    "duration": 2440,
    "start_time": "2022-09-22T08:51:07.441Z"
   },
   {
    "duration": 101,
    "start_time": "2022-09-22T08:51:14.689Z"
   },
   {
    "duration": 777,
    "start_time": "2022-09-22T08:51:32.251Z"
   },
   {
    "duration": 831,
    "start_time": "2022-09-22T08:52:04.775Z"
   },
   {
    "duration": 918,
    "start_time": "2022-09-22T08:52:15.544Z"
   },
   {
    "duration": 983,
    "start_time": "2022-09-22T08:53:06.111Z"
   },
   {
    "duration": 1453,
    "start_time": "2022-09-22T08:59:33.459Z"
   },
   {
    "duration": 2254,
    "start_time": "2022-09-22T08:59:41.100Z"
   },
   {
    "duration": 118,
    "start_time": "2022-09-22T08:59:47.241Z"
   },
   {
    "duration": 2546,
    "start_time": "2022-09-22T09:00:26.238Z"
   },
   {
    "duration": 1101,
    "start_time": "2022-09-22T09:00:32.516Z"
   },
   {
    "duration": 3071,
    "start_time": "2022-09-22T09:00:44.451Z"
   },
   {
    "duration": 2349,
    "start_time": "2022-09-22T09:01:37.558Z"
   },
   {
    "duration": 76,
    "start_time": "2022-09-22T09:01:44.417Z"
   },
   {
    "duration": 2131,
    "start_time": "2022-09-22T09:02:23.294Z"
   },
   {
    "duration": 569,
    "start_time": "2022-09-22T09:02:30.252Z"
   },
   {
    "duration": 2686,
    "start_time": "2022-09-22T09:06:48.567Z"
   },
   {
    "duration": 148,
    "start_time": "2022-09-22T09:06:55.911Z"
   },
   {
    "duration": 2524,
    "start_time": "2022-09-22T09:10:15.516Z"
   },
   {
    "duration": 137,
    "start_time": "2022-09-22T09:10:21.897Z"
   },
   {
    "duration": 2125,
    "start_time": "2022-09-22T09:23:44.596Z"
   },
   {
    "duration": 111,
    "start_time": "2022-09-22T09:23:50.825Z"
   },
   {
    "duration": 2224,
    "start_time": "2022-09-22T09:25:48.681Z"
   },
   {
    "duration": 118,
    "start_time": "2022-09-22T09:25:53.045Z"
   },
   {
    "duration": 2123,
    "start_time": "2022-09-22T09:27:22.978Z"
   },
   {
    "duration": 122,
    "start_time": "2022-09-22T09:27:30.325Z"
   },
   {
    "duration": 2639,
    "start_time": "2022-09-22T09:28:42.834Z"
   },
   {
    "duration": 123,
    "start_time": "2022-09-22T09:28:48.320Z"
   },
   {
    "duration": 2254,
    "start_time": "2022-09-22T09:32:07.609Z"
   },
   {
    "duration": 125,
    "start_time": "2022-09-22T09:32:14.927Z"
   },
   {
    "duration": 2272,
    "start_time": "2022-09-22T09:32:58.081Z"
   },
   {
    "duration": 128,
    "start_time": "2022-09-22T09:33:05.566Z"
   },
   {
    "duration": 2321,
    "start_time": "2022-09-22T09:33:36.016Z"
   },
   {
    "duration": 156,
    "start_time": "2022-09-22T09:33:39.486Z"
   },
   {
    "duration": 2646,
    "start_time": "2022-09-22T09:35:17.757Z"
   },
   {
    "duration": 150,
    "start_time": "2022-09-22T09:35:21.859Z"
   },
   {
    "duration": 2114,
    "start_time": "2022-09-22T09:40:15.699Z"
   },
   {
    "duration": 128,
    "start_time": "2022-09-22T09:40:21.746Z"
   },
   {
    "duration": 3238,
    "start_time": "2022-09-22T09:42:40.482Z"
   },
   {
    "duration": 136,
    "start_time": "2022-09-22T09:42:46.938Z"
   },
   {
    "duration": 2518,
    "start_time": "2022-09-22T09:43:17.442Z"
   },
   {
    "duration": 2166,
    "start_time": "2022-09-22T09:50:54.741Z"
   },
   {
    "duration": 2224,
    "start_time": "2022-09-22T09:51:46.725Z"
   },
   {
    "duration": 2300,
    "start_time": "2022-09-22T09:52:38.957Z"
   },
   {
    "duration": 149,
    "start_time": "2022-09-22T09:52:47.086Z"
   },
   {
    "duration": 2276,
    "start_time": "2022-09-22T09:53:22.821Z"
   },
   {
    "duration": 155,
    "start_time": "2022-09-22T09:53:29.420Z"
   },
   {
    "duration": 3270,
    "start_time": "2022-09-22T09:55:22.286Z"
   },
   {
    "duration": 162,
    "start_time": "2022-09-22T09:55:25.559Z"
   },
   {
    "duration": 2186,
    "start_time": "2022-09-22T09:55:49.074Z"
   },
   {
    "duration": 145,
    "start_time": "2022-09-22T09:55:51.262Z"
   },
   {
    "duration": 2317,
    "start_time": "2022-09-22T10:13:58.384Z"
   },
   {
    "duration": 186,
    "start_time": "2022-09-22T10:14:01.088Z"
   },
   {
    "duration": 31,
    "start_time": "2022-09-22T10:14:04.682Z"
   },
   {
    "duration": 2308,
    "start_time": "2022-09-22T10:15:57.822Z"
   },
   {
    "duration": 155,
    "start_time": "2022-09-22T10:16:03.233Z"
   },
   {
    "duration": 34,
    "start_time": "2022-09-22T10:16:09.491Z"
   },
   {
    "duration": 2194,
    "start_time": "2022-09-22T10:25:42.610Z"
   },
   {
    "duration": 159,
    "start_time": "2022-09-22T10:25:50.927Z"
   },
   {
    "duration": 2586,
    "start_time": "2022-09-22T10:27:02.074Z"
   },
   {
    "duration": 154,
    "start_time": "2022-09-22T10:27:07.973Z"
   },
   {
    "duration": 27,
    "start_time": "2022-09-22T10:27:13.970Z"
   },
   {
    "duration": 34,
    "start_time": "2022-09-22T10:27:36.467Z"
   },
   {
    "duration": 2199,
    "start_time": "2022-09-22T10:30:52.484Z"
   },
   {
    "duration": 166,
    "start_time": "2022-09-22T10:30:57.497Z"
   },
   {
    "duration": 37,
    "start_time": "2022-09-22T10:31:01.357Z"
   },
   {
    "duration": 74,
    "start_time": "2022-09-22T14:39:20.178Z"
   },
   {
    "duration": 3577,
    "start_time": "2022-09-22T14:53:58.212Z"
   },
   {
    "duration": 2015,
    "start_time": "2022-09-22T14:57:33.028Z"
   },
   {
    "duration": 124,
    "start_time": "2022-09-22T14:57:42.483Z"
   },
   {
    "duration": 21,
    "start_time": "2022-09-22T14:57:47.499Z"
   },
   {
    "duration": 200,
    "start_time": "2022-09-22T14:59:45.132Z"
   },
   {
    "duration": 293,
    "start_time": "2022-09-22T15:01:06.552Z"
   },
   {
    "duration": 195,
    "start_time": "2022-09-22T15:06:13.647Z"
   },
   {
    "duration": 214,
    "start_time": "2022-09-22T15:08:43.510Z"
   },
   {
    "duration": 196,
    "start_time": "2022-09-22T15:09:04.382Z"
   },
   {
    "duration": 160,
    "start_time": "2022-09-22T15:09:19.766Z"
   },
   {
    "duration": 270,
    "start_time": "2022-09-22T15:10:06.327Z"
   },
   {
    "duration": 193,
    "start_time": "2022-09-22T15:10:23.104Z"
   },
   {
    "duration": 266,
    "start_time": "2022-09-22T15:11:19.605Z"
   },
   {
    "duration": 454,
    "start_time": "2022-09-22T15:11:30.594Z"
   },
   {
    "duration": 419,
    "start_time": "2022-09-22T15:15:24.105Z"
   },
   {
    "duration": 455,
    "start_time": "2022-09-22T15:15:55.142Z"
   },
   {
    "duration": 430,
    "start_time": "2022-09-22T15:18:56.935Z"
   },
   {
    "duration": 433,
    "start_time": "2022-09-22T15:19:25.185Z"
   },
   {
    "duration": 243,
    "start_time": "2022-09-22T15:22:32.537Z"
   },
   {
    "duration": 217,
    "start_time": "2022-09-22T15:22:43.178Z"
   },
   {
    "duration": 148,
    "start_time": "2022-09-22T15:22:54.435Z"
   },
   {
    "duration": 137,
    "start_time": "2022-09-22T15:23:17.541Z"
   },
   {
    "duration": 156,
    "start_time": "2022-09-22T15:23:32.281Z"
   },
   {
    "duration": 187,
    "start_time": "2022-09-22T16:04:31.856Z"
   },
   {
    "duration": 152,
    "start_time": "2022-09-22T16:05:56.489Z"
   },
   {
    "duration": 155,
    "start_time": "2022-09-22T16:08:33.774Z"
   },
   {
    "duration": 249,
    "start_time": "2022-09-22T16:11:29.662Z"
   },
   {
    "duration": 155,
    "start_time": "2022-09-22T16:11:56.156Z"
   },
   {
    "duration": 2178,
    "start_time": "2022-09-22T16:13:27.250Z"
   },
   {
    "duration": 139,
    "start_time": "2022-09-22T16:13:44.588Z"
   },
   {
    "duration": 22,
    "start_time": "2022-09-22T16:14:04.396Z"
   },
   {
    "duration": 216,
    "start_time": "2022-09-22T16:14:11.588Z"
   },
   {
    "duration": 386,
    "start_time": "2022-09-22T16:14:16.194Z"
   },
   {
    "duration": 158,
    "start_time": "2022-09-22T16:14:24.493Z"
   },
   {
    "duration": 154,
    "start_time": "2022-09-22T16:14:27.828Z"
   },
   {
    "duration": 132,
    "start_time": "2022-09-22T16:38:06.206Z"
   },
   {
    "duration": 132,
    "start_time": "2022-09-22T16:38:35.933Z"
   },
   {
    "duration": 234,
    "start_time": "2022-09-22T16:40:30.853Z"
   },
   {
    "duration": 234,
    "start_time": "2022-09-22T16:40:39.043Z"
   },
   {
    "duration": 218,
    "start_time": "2022-09-22T16:40:58.617Z"
   },
   {
    "duration": 248,
    "start_time": "2022-09-22T16:41:13.409Z"
   },
   {
    "duration": 219,
    "start_time": "2022-09-22T16:41:27.804Z"
   },
   {
    "duration": 249,
    "start_time": "2022-09-22T16:41:37.017Z"
   },
   {
    "duration": 247,
    "start_time": "2022-09-22T16:41:55.488Z"
   },
   {
    "duration": 1057,
    "start_time": "2022-09-22T16:42:19.062Z"
   },
   {
    "duration": 283,
    "start_time": "2022-09-22T16:42:33.281Z"
   },
   {
    "duration": 938,
    "start_time": "2022-09-22T16:42:52.708Z"
   },
   {
    "duration": 225,
    "start_time": "2022-09-22T16:42:58.916Z"
   },
   {
    "duration": 205,
    "start_time": "2022-09-22T16:43:04.157Z"
   },
   {
    "duration": 218,
    "start_time": "2022-09-22T16:44:01.349Z"
   },
   {
    "duration": 168,
    "start_time": "2022-09-22T16:44:34.875Z"
   },
   {
    "duration": 259,
    "start_time": "2022-09-22T16:46:24.853Z"
   },
   {
    "duration": 277,
    "start_time": "2022-09-22T16:46:34.215Z"
   },
   {
    "duration": 310,
    "start_time": "2022-09-22T16:47:01.264Z"
   },
   {
    "duration": 498,
    "start_time": "2022-09-22T16:47:51.385Z"
   },
   {
    "duration": 278,
    "start_time": "2022-09-22T16:47:58.690Z"
   },
   {
    "duration": 273,
    "start_time": "2022-09-22T16:48:29.166Z"
   },
   {
    "duration": 76,
    "start_time": "2022-09-22T16:48:51.748Z"
   },
   {
    "duration": 208,
    "start_time": "2022-09-22T16:50:40.779Z"
   },
   {
    "duration": 220,
    "start_time": "2022-09-22T16:50:47.591Z"
   },
   {
    "duration": 229,
    "start_time": "2022-09-22T16:52:40.699Z"
   },
   {
    "duration": 202,
    "start_time": "2022-09-22T16:52:55.393Z"
   },
   {
    "duration": 201,
    "start_time": "2022-09-22T16:53:41.345Z"
   },
   {
    "duration": 249,
    "start_time": "2022-09-22T16:54:13.060Z"
   },
   {
    "duration": 424,
    "start_time": "2022-09-22T16:54:22.593Z"
   },
   {
    "duration": 173,
    "start_time": "2022-09-22T16:54:30.778Z"
   },
   {
    "duration": 128,
    "start_time": "2022-09-22T16:54:38.090Z"
   },
   {
    "duration": 121,
    "start_time": "2022-09-22T16:54:43.514Z"
   },
   {
    "duration": 192,
    "start_time": "2022-09-22T16:55:07.325Z"
   },
   {
    "duration": 200,
    "start_time": "2022-09-22T16:55:24.689Z"
   },
   {
    "duration": 170,
    "start_time": "2022-09-22T16:55:38.495Z"
   },
   {
    "duration": 178,
    "start_time": "2022-09-22T16:55:46.891Z"
   },
   {
    "duration": 72,
    "start_time": "2022-09-22T16:56:17.614Z"
   },
   {
    "duration": 198,
    "start_time": "2022-09-22T16:58:03.771Z"
   },
   {
    "duration": 220,
    "start_time": "2022-09-22T16:58:11.421Z"
   },
   {
    "duration": 297,
    "start_time": "2022-09-22T16:59:45.776Z"
   },
   {
    "duration": 265,
    "start_time": "2022-09-22T17:02:21.085Z"
   },
   {
    "duration": 372,
    "start_time": "2022-09-22T17:04:38.968Z"
   },
   {
    "duration": 179,
    "start_time": "2022-09-22T17:07:14.067Z"
   },
   {
    "duration": 189,
    "start_time": "2022-09-22T17:10:36.657Z"
   },
   {
    "duration": 190,
    "start_time": "2022-09-22T17:10:44.601Z"
   },
   {
    "duration": 107,
    "start_time": "2022-09-22T17:12:13.073Z"
   },
   {
    "duration": 189,
    "start_time": "2022-09-22T17:12:33.716Z"
   },
   {
    "duration": 168,
    "start_time": "2022-09-22T17:13:21.265Z"
   },
   {
    "duration": 181,
    "start_time": "2022-09-22T17:13:30.250Z"
   },
   {
    "duration": 179,
    "start_time": "2022-09-22T17:13:48.533Z"
   },
   {
    "duration": 70,
    "start_time": "2022-09-22T17:14:33.757Z"
   },
   {
    "duration": 213,
    "start_time": "2022-09-22T17:16:03.457Z"
   },
   {
    "duration": 190,
    "start_time": "2022-09-22T17:19:26.238Z"
   },
   {
    "duration": 206,
    "start_time": "2022-09-22T17:19:29.914Z"
   },
   {
    "duration": 228,
    "start_time": "2022-09-22T17:21:37.998Z"
   },
   {
    "duration": 406,
    "start_time": "2022-09-22T17:21:46.614Z"
   },
   {
    "duration": 264,
    "start_time": "2022-09-22T17:23:11.839Z"
   },
   {
    "duration": 213,
    "start_time": "2022-09-22T17:23:20.636Z"
   },
   {
    "duration": 200,
    "start_time": "2022-09-22T17:23:35.607Z"
   },
   {
    "duration": 211,
    "start_time": "2022-09-22T17:23:45.113Z"
   },
   {
    "duration": 189,
    "start_time": "2022-09-22T17:24:19.814Z"
   },
   {
    "duration": 205,
    "start_time": "2022-09-22T17:24:25.538Z"
   },
   {
    "duration": 756,
    "start_time": "2022-09-22T17:25:10.936Z"
   },
   {
    "duration": 198,
    "start_time": "2022-09-22T17:26:30.100Z"
   },
   {
    "duration": 198,
    "start_time": "2022-09-22T17:27:20.050Z"
   },
   {
    "duration": 182,
    "start_time": "2022-09-22T17:27:34.447Z"
   },
   {
    "duration": 70,
    "start_time": "2022-09-22T17:31:28.980Z"
   },
   {
    "duration": 198,
    "start_time": "2022-09-22T17:33:35.084Z"
   },
   {
    "duration": 187,
    "start_time": "2022-09-22T17:33:48.017Z"
   },
   {
    "duration": 383,
    "start_time": "2022-09-22T17:34:15.853Z"
   },
   {
    "duration": 200,
    "start_time": "2022-09-22T17:34:31.058Z"
   },
   {
    "duration": 204,
    "start_time": "2022-09-22T17:34:38.151Z"
   },
   {
    "duration": 188,
    "start_time": "2022-09-22T17:34:53.150Z"
   },
   {
    "duration": 201,
    "start_time": "2022-09-22T17:35:23.208Z"
   },
   {
    "duration": 96,
    "start_time": "2022-09-22T17:49:38.605Z"
   },
   {
    "duration": 477,
    "start_time": "2022-09-22T17:52:30.569Z"
   },
   {
    "duration": 471,
    "start_time": "2022-09-22T17:53:06.970Z"
   },
   {
    "duration": 380,
    "start_time": "2022-09-22T17:53:34.237Z"
   },
   {
    "duration": 441,
    "start_time": "2022-09-22T18:00:27.734Z"
   },
   {
    "duration": 260,
    "start_time": "2022-09-22T18:00:48.508Z"
   },
   {
    "duration": 277,
    "start_time": "2022-09-22T18:01:03.490Z"
   },
   {
    "duration": 279,
    "start_time": "2022-09-22T18:01:09.349Z"
   },
   {
    "duration": 268,
    "start_time": "2022-09-22T18:02:14.652Z"
   },
   {
    "duration": 263,
    "start_time": "2022-09-22T18:02:24.266Z"
   },
   {
    "duration": 248,
    "start_time": "2022-09-22T18:02:39.412Z"
   },
   {
    "duration": 537,
    "start_time": "2022-09-22T18:04:35.558Z"
   },
   {
    "duration": 351,
    "start_time": "2022-09-22T18:05:15.802Z"
   },
   {
    "duration": 365,
    "start_time": "2022-09-22T18:05:51.270Z"
   },
   {
    "duration": 399,
    "start_time": "2022-09-22T18:10:43.449Z"
   },
   {
    "duration": 402,
    "start_time": "2022-09-22T18:11:25.271Z"
   },
   {
    "duration": 575,
    "start_time": "2022-09-22T18:11:45.516Z"
   },
   {
    "duration": 3276,
    "start_time": "2022-09-23T08:33:27.948Z"
   },
   {
    "duration": 184,
    "start_time": "2022-09-23T08:33:33.829Z"
   },
   {
    "duration": 21,
    "start_time": "2022-09-23T08:33:40.662Z"
   },
   {
    "duration": 159,
    "start_time": "2022-09-23T08:33:49.597Z"
   },
   {
    "duration": 220,
    "start_time": "2022-09-23T08:33:53.715Z"
   },
   {
    "duration": 215,
    "start_time": "2022-09-23T08:33:57.358Z"
   },
   {
    "duration": 239,
    "start_time": "2022-09-23T08:33:59.811Z"
   },
   {
    "duration": 196,
    "start_time": "2022-09-23T08:34:01.310Z"
   },
   {
    "duration": 176,
    "start_time": "2022-09-23T08:34:03.565Z"
   },
   {
    "duration": 170,
    "start_time": "2022-09-23T08:34:05.311Z"
   },
   {
    "duration": 161,
    "start_time": "2022-09-23T08:34:07.719Z"
   },
   {
    "duration": 253,
    "start_time": "2022-09-23T08:34:10.732Z"
   },
   {
    "duration": 173,
    "start_time": "2022-09-23T08:34:13.662Z"
   },
   {
    "duration": 171,
    "start_time": "2022-09-23T08:34:16.086Z"
   },
   {
    "duration": 166,
    "start_time": "2022-09-23T08:34:21.327Z"
   },
   {
    "duration": 328,
    "start_time": "2022-09-23T08:34:23.839Z"
   },
   {
    "duration": 337,
    "start_time": "2022-09-23T08:34:32.196Z"
   },
   {
    "duration": 518,
    "start_time": "2022-09-23T08:36:12.835Z"
   },
   {
    "duration": 301,
    "start_time": "2022-09-23T08:38:46.845Z"
   },
   {
    "duration": 309,
    "start_time": "2022-09-23T08:40:35.502Z"
   },
   {
    "duration": 217,
    "start_time": "2022-09-23T08:43:07.267Z"
   },
   {
    "duration": 299,
    "start_time": "2022-09-23T08:44:43.924Z"
   },
   {
    "duration": 347,
    "start_time": "2022-09-23T08:45:31.168Z"
   },
   {
    "duration": 335,
    "start_time": "2022-09-23T08:46:22.295Z"
   },
   {
    "duration": 356,
    "start_time": "2022-09-23T08:47:03.492Z"
   },
   {
    "duration": 396,
    "start_time": "2022-09-23T08:47:34.243Z"
   },
   {
    "duration": 296,
    "start_time": "2022-09-23T08:47:44.127Z"
   },
   {
    "duration": 387,
    "start_time": "2022-09-23T08:48:06.689Z"
   },
   {
    "duration": 222,
    "start_time": "2022-09-23T08:49:34.445Z"
   },
   {
    "duration": 216,
    "start_time": "2022-09-23T08:49:50.060Z"
   },
   {
    "duration": 182,
    "start_time": "2022-09-23T08:50:52.738Z"
   },
   {
    "duration": 167,
    "start_time": "2022-09-23T08:52:18.840Z"
   },
   {
    "duration": 468,
    "start_time": "2022-09-23T08:53:21.035Z"
   },
   {
    "duration": 742,
    "start_time": "2022-09-23T08:53:26.042Z"
   },
   {
    "duration": 180,
    "start_time": "2022-09-23T08:53:34.551Z"
   },
   {
    "duration": 429,
    "start_time": "2022-09-23T09:00:55.996Z"
   },
   {
    "duration": 197,
    "start_time": "2022-09-23T09:01:39.017Z"
   },
   {
    "duration": 300,
    "start_time": "2022-09-23T09:02:03.077Z"
   },
   {
    "duration": 300,
    "start_time": "2022-09-23T09:02:22.939Z"
   },
   {
    "duration": 225,
    "start_time": "2022-09-23T09:02:52.451Z"
   },
   {
    "duration": 304,
    "start_time": "2022-09-23T09:08:32.184Z"
   },
   {
    "duration": 444,
    "start_time": "2022-09-23T09:39:32.253Z"
   },
   {
    "duration": 457,
    "start_time": "2022-09-23T09:41:38.357Z"
   },
   {
    "duration": 415,
    "start_time": "2022-09-23T09:43:23.721Z"
   },
   {
    "duration": 482,
    "start_time": "2022-09-23T09:45:41.502Z"
   },
   {
    "duration": 626,
    "start_time": "2022-09-23T09:46:22.900Z"
   },
   {
    "duration": 672,
    "start_time": "2022-09-23T09:51:30.930Z"
   },
   {
    "duration": 129,
    "start_time": "2022-09-23T09:57:03.552Z"
   },
   {
    "duration": 130,
    "start_time": "2022-09-23T09:57:08.740Z"
   },
   {
    "duration": 155,
    "start_time": "2022-09-23T10:03:54.746Z"
   },
   {
    "duration": 137,
    "start_time": "2022-09-23T10:04:20.050Z"
   },
   {
    "duration": 151,
    "start_time": "2022-09-23T10:04:35.757Z"
   },
   {
    "duration": 140,
    "start_time": "2022-09-23T10:06:49.612Z"
   },
   {
    "duration": 136,
    "start_time": "2022-09-23T10:08:39.078Z"
   },
   {
    "duration": 155,
    "start_time": "2022-09-23T10:10:55.680Z"
   },
   {
    "duration": 67,
    "start_time": "2022-09-23T10:13:22.305Z"
   },
   {
    "duration": 1145,
    "start_time": "2022-09-23T10:13:57.263Z"
   },
   {
    "duration": 153,
    "start_time": "2022-09-23T10:14:19.157Z"
   },
   {
    "duration": 154,
    "start_time": "2022-09-23T10:14:39.512Z"
   },
   {
    "duration": 179,
    "start_time": "2022-09-23T10:15:05.961Z"
   },
   {
    "duration": 254,
    "start_time": "2022-09-23T10:15:15.656Z"
   },
   {
    "duration": 139,
    "start_time": "2022-09-23T10:18:29.342Z"
   },
   {
    "duration": 156,
    "start_time": "2022-09-23T10:19:06.814Z"
   },
   {
    "duration": 158,
    "start_time": "2022-09-23T10:20:01.022Z"
   },
   {
    "duration": 158,
    "start_time": "2022-09-23T10:20:13.074Z"
   },
   {
    "duration": 120,
    "start_time": "2022-09-23T10:21:22.449Z"
   },
   {
    "duration": 115,
    "start_time": "2022-09-23T10:21:34.713Z"
   },
   {
    "duration": 150,
    "start_time": "2022-09-23T10:24:27.894Z"
   },
   {
    "duration": 149,
    "start_time": "2022-09-23T10:24:43.125Z"
   },
   {
    "duration": 141,
    "start_time": "2022-09-23T10:25:36.182Z"
   },
   {
    "duration": 152,
    "start_time": "2022-09-23T10:25:42.561Z"
   },
   {
    "duration": 144,
    "start_time": "2022-09-23T10:27:25.009Z"
   },
   {
    "duration": 150,
    "start_time": "2022-09-23T10:27:43.103Z"
   },
   {
    "duration": 131,
    "start_time": "2022-09-23T10:32:33.633Z"
   },
   {
    "duration": 152,
    "start_time": "2022-09-23T10:32:45.564Z"
   },
   {
    "duration": 158,
    "start_time": "2022-09-23T10:33:57.597Z"
   },
   {
    "duration": 12,
    "start_time": "2022-09-23T10:36:03.096Z"
   },
   {
    "duration": 3355,
    "start_time": "2022-09-25T07:53:05.633Z"
   },
   {
    "duration": 192,
    "start_time": "2022-09-25T07:53:48.341Z"
   },
   {
    "duration": 21,
    "start_time": "2022-09-25T07:53:54.461Z"
   },
   {
    "duration": 192,
    "start_time": "2022-09-25T07:53:59.732Z"
   },
   {
    "duration": 226,
    "start_time": "2022-09-25T07:54:06.261Z"
   },
   {
    "duration": 152,
    "start_time": "2022-09-25T07:54:12.925Z"
   },
   {
    "duration": 249,
    "start_time": "2022-09-25T07:54:23.941Z"
   },
   {
    "duration": 205,
    "start_time": "2022-09-25T07:54:27.028Z"
   },
   {
    "duration": 170,
    "start_time": "2022-09-25T07:54:30.222Z"
   },
   {
    "duration": 163,
    "start_time": "2022-09-25T07:54:35.804Z"
   },
   {
    "duration": 172,
    "start_time": "2022-09-25T07:54:39.902Z"
   },
   {
    "duration": 294,
    "start_time": "2022-09-25T07:54:42.838Z"
   },
   {
    "duration": 179,
    "start_time": "2022-09-25T07:54:46.251Z"
   },
   {
    "duration": 182,
    "start_time": "2022-09-25T07:54:49.446Z"
   },
   {
    "duration": 351,
    "start_time": "2022-09-25T07:54:55.380Z"
   },
   {
    "duration": 254,
    "start_time": "2022-09-25T07:55:06.998Z"
   },
   {
    "duration": 159,
    "start_time": "2022-09-25T08:03:59.988Z"
   },
   {
    "duration": 150,
    "start_time": "2022-09-25T08:04:21.816Z"
   },
   {
    "duration": 151,
    "start_time": "2022-09-25T08:04:26.581Z"
   },
   {
    "duration": 277,
    "start_time": "2022-09-25T08:07:35.514Z"
   },
   {
    "duration": 164,
    "start_time": "2022-09-25T08:07:52.898Z"
   },
   {
    "duration": 331,
    "start_time": "2022-09-25T08:13:13.230Z"
   },
   {
    "duration": 404,
    "start_time": "2022-09-25T08:13:25.159Z"
   },
   {
    "duration": 393,
    "start_time": "2022-09-25T08:13:34.992Z"
   },
   {
    "duration": 373,
    "start_time": "2022-09-25T08:13:49.833Z"
   },
   {
    "duration": 366,
    "start_time": "2022-09-25T08:13:59.015Z"
   },
   {
    "duration": 343,
    "start_time": "2022-09-25T08:14:07.663Z"
   },
   {
    "duration": 433,
    "start_time": "2022-09-25T08:14:26.428Z"
   },
   {
    "duration": 327,
    "start_time": "2022-09-25T08:14:37.051Z"
   },
   {
    "duration": 491,
    "start_time": "2022-09-25T08:18:52.207Z"
   },
   {
    "duration": 295,
    "start_time": "2022-09-25T08:20:10.865Z"
   },
   {
    "duration": 264,
    "start_time": "2022-09-25T08:20:56.332Z"
   },
   {
    "duration": 377,
    "start_time": "2022-09-25T08:24:25.953Z"
   },
   {
    "duration": 542,
    "start_time": "2022-09-25T08:28:21.198Z"
   },
   {
    "duration": 3767,
    "start_time": "2022-09-25T08:29:23.585Z"
   },
   {
    "duration": 2010,
    "start_time": "2022-09-25T08:36:25.670Z"
   },
   {
    "duration": 0,
    "start_time": "2022-09-25T08:36:29.451Z"
   },
   {
    "duration": 0,
    "start_time": "2022-09-25T08:36:29.453Z"
   },
   {
    "duration": 0,
    "start_time": "2022-09-25T08:36:29.466Z"
   },
   {
    "duration": 0,
    "start_time": "2022-09-25T08:36:29.471Z"
   },
   {
    "duration": 138,
    "start_time": "2022-09-25T08:36:34.598Z"
   },
   {
    "duration": 234,
    "start_time": "2022-09-25T08:36:39.726Z"
   },
   {
    "duration": 192,
    "start_time": "2022-09-25T08:36:43.822Z"
   },
   {
    "duration": 175,
    "start_time": "2022-09-25T08:36:48.022Z"
   },
   {
    "duration": 186,
    "start_time": "2022-09-25T08:36:52.534Z"
   },
   {
    "duration": 912,
    "start_time": "2022-09-25T08:36:57.470Z"
   },
   {
    "duration": 820,
    "start_time": "2022-09-25T08:37:01.655Z"
   },
   {
    "duration": 801,
    "start_time": "2022-09-25T08:37:16.717Z"
   },
   {
    "duration": 2060,
    "start_time": "2022-09-25T08:39:09.477Z"
   },
   {
    "duration": 112,
    "start_time": "2022-09-25T08:39:23.245Z"
   },
   {
    "duration": 25,
    "start_time": "2022-09-25T08:39:26.994Z"
   },
   {
    "duration": 183,
    "start_time": "2022-09-25T08:39:33.196Z"
   },
   {
    "duration": 257,
    "start_time": "2022-09-25T08:39:36.362Z"
   },
   {
    "duration": 147,
    "start_time": "2022-09-25T08:39:39.236Z"
   },
   {
    "duration": 282,
    "start_time": "2022-09-25T08:39:46.821Z"
   },
   {
    "duration": 197,
    "start_time": "2022-09-25T08:39:47.105Z"
   },
   {
    "duration": 187,
    "start_time": "2022-09-25T08:39:51.715Z"
   },
   {
    "duration": 188,
    "start_time": "2022-09-25T08:39:54.713Z"
   },
   {
    "duration": 157,
    "start_time": "2022-09-25T08:40:04.340Z"
   },
   {
    "duration": 198,
    "start_time": "2022-09-25T08:40:12.732Z"
   },
   {
    "duration": 169,
    "start_time": "2022-09-25T08:40:21.338Z"
   },
   {
    "duration": 190,
    "start_time": "2022-09-25T08:40:26.962Z"
   },
   {
    "duration": 181,
    "start_time": "2022-09-25T08:40:31.226Z"
   },
   {
    "duration": 353,
    "start_time": "2022-09-25T08:40:38.570Z"
   },
   {
    "duration": 3732,
    "start_time": "2022-09-25T13:21:18.185Z"
   },
   {
    "duration": 209,
    "start_time": "2022-09-25T13:21:33.256Z"
   },
   {
    "duration": 23,
    "start_time": "2022-09-25T13:21:37.733Z"
   },
   {
    "duration": 230,
    "start_time": "2022-09-25T13:21:42.744Z"
   },
   {
    "duration": 290,
    "start_time": "2022-09-25T13:22:00.387Z"
   },
   {
    "duration": 187,
    "start_time": "2022-09-25T13:22:06.313Z"
   },
   {
    "duration": 272,
    "start_time": "2022-09-25T13:22:10.286Z"
   },
   {
    "duration": 241,
    "start_time": "2022-09-25T13:22:14.592Z"
   },
   {
    "duration": 211,
    "start_time": "2022-09-25T13:22:18.705Z"
   },
   {
    "duration": 210,
    "start_time": "2022-09-25T13:22:22.399Z"
   },
   {
    "duration": 242,
    "start_time": "2022-09-25T13:22:26.561Z"
   },
   {
    "duration": 342,
    "start_time": "2022-09-25T13:22:32.233Z"
   },
   {
    "duration": 223,
    "start_time": "2022-09-25T13:22:39.045Z"
   },
   {
    "duration": 227,
    "start_time": "2022-09-25T13:22:42.356Z"
   },
   {
    "duration": 232,
    "start_time": "2022-09-25T13:22:45.721Z"
   },
   {
    "duration": 426,
    "start_time": "2022-09-25T13:22:48.889Z"
   },
   {
    "duration": 254,
    "start_time": "2022-09-25T13:22:53.081Z"
   },
   {
    "duration": 196,
    "start_time": "2022-09-25T13:22:56.777Z"
   },
   {
    "duration": 193,
    "start_time": "2022-09-25T13:23:04.688Z"
   },
   {
    "duration": 287,
    "start_time": "2022-09-25T13:23:15.914Z"
   },
   {
    "duration": 231,
    "start_time": "2022-09-25T13:23:26.633Z"
   },
   {
    "duration": 49153,
    "start_time": "2022-09-25T13:23:43.145Z"
   },
   {
    "duration": 114,
    "start_time": "2022-09-25T13:27:35.982Z"
   },
   {
    "duration": 13,
    "start_time": "2022-09-25T13:28:05.027Z"
   },
   {
    "duration": 12,
    "start_time": "2022-09-25T13:28:09.337Z"
   },
   {
    "duration": 628,
    "start_time": "2022-09-25T13:28:22.582Z"
   },
   {
    "duration": 11,
    "start_time": "2022-09-25T13:28:29.677Z"
   },
   {
    "duration": 87,
    "start_time": "2022-09-25T13:29:16.207Z"
   },
   {
    "duration": 0,
    "start_time": "2022-09-25T13:31:03.399Z"
   },
   {
    "duration": 0,
    "start_time": "2022-09-25T13:31:03.400Z"
   },
   {
    "duration": 0,
    "start_time": "2022-09-25T13:31:03.403Z"
   },
   {
    "duration": 0,
    "start_time": "2022-09-25T13:31:03.406Z"
   },
   {
    "duration": 174,
    "start_time": "2022-09-25T13:32:29.171Z"
   },
   {
    "duration": 2475,
    "start_time": "2022-09-25T13:39:23.043Z"
   },
   {
    "duration": 0,
    "start_time": "2022-09-25T13:40:34.682Z"
   },
   {
    "duration": 28258,
    "start_time": "2022-09-25T13:40:42.546Z"
   },
   {
    "duration": 15,
    "start_time": "2022-09-25T13:42:54.021Z"
   },
   {
    "duration": 15,
    "start_time": "2022-09-25T13:43:00.986Z"
   },
   {
    "duration": 17,
    "start_time": "2022-09-25T13:43:11.360Z"
   },
   {
    "duration": 11,
    "start_time": "2022-09-25T13:43:58.732Z"
   },
   {
    "duration": 15,
    "start_time": "2022-09-25T13:44:41.688Z"
   },
   {
    "duration": 27,
    "start_time": "2022-09-25T13:46:42.218Z"
   },
   {
    "duration": 15,
    "start_time": "2022-09-25T13:46:47.706Z"
   },
   {
    "duration": 181,
    "start_time": "2022-09-25T13:46:59.626Z"
   },
   {
    "duration": 17,
    "start_time": "2022-09-25T13:47:07.473Z"
   },
   {
    "duration": 87,
    "start_time": "2022-09-25T13:47:29.873Z"
   },
   {
    "duration": 120,
    "start_time": "2022-09-25T13:48:00.985Z"
   },
   {
    "duration": 154,
    "start_time": "2022-09-25T13:48:07.589Z"
   },
   {
    "duration": 14,
    "start_time": "2022-09-25T13:48:29.676Z"
   },
   {
    "duration": 106,
    "start_time": "2022-09-25T13:49:49.152Z"
   },
   {
    "duration": 13,
    "start_time": "2022-09-25T13:50:01.188Z"
   },
   {
    "duration": 18,
    "start_time": "2022-09-25T13:50:44.535Z"
   },
   {
    "duration": 21,
    "start_time": "2022-09-25T13:50:47.415Z"
   },
   {
    "duration": 16,
    "start_time": "2022-09-25T13:50:57.619Z"
   },
   {
    "duration": 2396,
    "start_time": "2022-09-25T13:51:19.085Z"
   },
   {
    "duration": 2215,
    "start_time": "2022-09-25T13:51:34.727Z"
   },
   {
    "duration": 127,
    "start_time": "2022-09-25T13:51:49.744Z"
   },
   {
    "duration": 22,
    "start_time": "2022-09-25T13:51:54.989Z"
   },
   {
    "duration": 226,
    "start_time": "2022-09-25T13:51:58.023Z"
   },
   {
    "duration": 271,
    "start_time": "2022-09-25T13:52:02.340Z"
   },
   {
    "duration": 372,
    "start_time": "2022-09-25T13:52:08.726Z"
   },
   {
    "duration": 285,
    "start_time": "2022-09-25T13:52:12.205Z"
   },
   {
    "duration": 222,
    "start_time": "2022-09-25T13:52:15.876Z"
   },
   {
    "duration": 187,
    "start_time": "2022-09-25T13:52:18.954Z"
   },
   {
    "duration": 214,
    "start_time": "2022-09-25T13:52:22.103Z"
   },
   {
    "duration": 186,
    "start_time": "2022-09-25T13:52:24.673Z"
   },
   {
    "duration": 208,
    "start_time": "2022-09-25T13:52:26.979Z"
   },
   {
    "duration": 215,
    "start_time": "2022-09-25T13:52:29.622Z"
   },
   {
    "duration": 189,
    "start_time": "2022-09-25T13:52:32.943Z"
   },
   {
    "duration": 210,
    "start_time": "2022-09-25T13:52:35.879Z"
   },
   {
    "duration": 399,
    "start_time": "2022-09-25T13:52:38.650Z"
   },
   {
    "duration": 291,
    "start_time": "2022-09-25T13:52:40.905Z"
   },
   {
    "duration": 156,
    "start_time": "2022-09-25T13:52:43.063Z"
   },
   {
    "duration": 173,
    "start_time": "2022-09-25T13:52:45.055Z"
   },
   {
    "duration": 163,
    "start_time": "2022-09-25T13:52:46.991Z"
   },
   {
    "duration": 175,
    "start_time": "2022-09-25T13:52:49.303Z"
   },
   {
    "duration": 444,
    "start_time": "2022-09-25T13:52:59.441Z"
   },
   {
    "duration": 189,
    "start_time": "2022-09-25T13:53:18.709Z"
   },
   {
    "duration": 193,
    "start_time": "2022-09-25T13:55:42.104Z"
   },
   {
    "duration": 491,
    "start_time": "2022-09-25T13:55:50.204Z"
   },
   {
    "duration": 25,
    "start_time": "2022-09-25T14:09:22.873Z"
   },
   {
    "duration": 23,
    "start_time": "2022-09-25T14:10:04.409Z"
   },
   {
    "duration": 18,
    "start_time": "2022-09-25T14:17:45.254Z"
   },
   {
    "duration": 76,
    "start_time": "2022-09-25T14:22:30.518Z"
   },
   {
    "duration": 28,
    "start_time": "2022-09-25T14:23:23.779Z"
   },
   {
    "duration": 181,
    "start_time": "2022-09-25T14:26:15.447Z"
   },
   {
    "duration": 179,
    "start_time": "2022-09-25T14:26:39.192Z"
   },
   {
    "duration": 77,
    "start_time": "2022-09-25T14:29:03.781Z"
   },
   {
    "duration": 5,
    "start_time": "2022-09-25T14:29:59.012Z"
   },
   {
    "duration": 209,
    "start_time": "2022-09-25T14:30:21.971Z"
   },
   {
    "duration": 197,
    "start_time": "2022-09-25T14:33:14.133Z"
   },
   {
    "duration": 3529,
    "start_time": "2022-09-25T20:37:51.280Z"
   },
   {
    "duration": 216,
    "start_time": "2022-09-25T20:37:54.811Z"
   },
   {
    "duration": 22,
    "start_time": "2022-09-25T20:37:55.029Z"
   },
   {
    "duration": 221,
    "start_time": "2022-09-25T20:37:55.053Z"
   },
   {
    "duration": 275,
    "start_time": "2022-09-25T20:37:55.276Z"
   },
   {
    "duration": 162,
    "start_time": "2022-09-25T20:37:55.552Z"
   },
   {
    "duration": 284,
    "start_time": "2022-09-25T20:37:55.716Z"
   },
   {
    "duration": 212,
    "start_time": "2022-09-25T20:37:56.002Z"
   },
   {
    "duration": 192,
    "start_time": "2022-09-25T20:37:56.216Z"
   },
   {
    "duration": 215,
    "start_time": "2022-09-25T20:37:56.409Z"
   },
   {
    "duration": 183,
    "start_time": "2022-09-25T20:37:56.625Z"
   },
   {
    "duration": 313,
    "start_time": "2022-09-25T20:37:56.810Z"
   },
   {
    "duration": 202,
    "start_time": "2022-09-25T20:37:57.124Z"
   },
   {
    "duration": 199,
    "start_time": "2022-09-25T20:37:57.328Z"
   },
   {
    "duration": 208,
    "start_time": "2022-09-25T20:37:57.528Z"
   },
   {
    "duration": 409,
    "start_time": "2022-09-25T20:37:57.738Z"
   },
   {
    "duration": 276,
    "start_time": "2022-09-25T20:37:58.149Z"
   },
   {
    "duration": 165,
    "start_time": "2022-09-25T20:37:58.427Z"
   },
   {
    "duration": 181,
    "start_time": "2022-09-25T20:37:58.593Z"
   },
   {
    "duration": 307,
    "start_time": "2022-09-25T20:37:58.775Z"
   },
   {
    "duration": 183,
    "start_time": "2022-09-25T20:37:59.088Z"
   },
   {
    "duration": 508,
    "start_time": "2022-09-25T20:37:59.273Z"
   },
   {
    "duration": 176,
    "start_time": "2022-09-25T20:37:59.783Z"
   },
   {
    "duration": 39,
    "start_time": "2022-09-25T20:37:59.961Z"
   },
   {
    "duration": 213,
    "start_time": "2022-09-25T20:38:00.002Z"
   },
   {
    "duration": 84,
    "start_time": "2022-09-25T20:38:00.217Z"
   },
   {
    "duration": 16,
    "start_time": "2022-09-25T20:40:53.195Z"
   },
   {
    "duration": 12,
    "start_time": "2022-09-25T20:42:08.488Z"
   },
   {
    "duration": 14,
    "start_time": "2022-09-25T20:56:01.154Z"
   },
   {
    "duration": 88,
    "start_time": "2022-09-25T20:56:04.325Z"
   },
   {
    "duration": 65,
    "start_time": "2022-09-26T09:06:49.126Z"
   },
   {
    "duration": 4145,
    "start_time": "2022-09-26T09:10:23.546Z"
   },
   {
    "duration": 45,
    "start_time": "2022-09-26T09:11:42.516Z"
   },
   {
    "duration": 14,
    "start_time": "2022-09-26T09:19:53.688Z"
   },
   {
    "duration": 9,
    "start_time": "2022-09-26T09:20:27.081Z"
   },
   {
    "duration": 36,
    "start_time": "2022-09-26T09:21:08.525Z"
   },
   {
    "duration": 8,
    "start_time": "2022-09-26T09:24:18.338Z"
   },
   {
    "duration": 11,
    "start_time": "2022-09-26T09:25:14.775Z"
   },
   {
    "duration": 8,
    "start_time": "2022-09-26T09:26:14.321Z"
   },
   {
    "duration": 8,
    "start_time": "2022-09-26T09:26:47.420Z"
   },
   {
    "duration": 12,
    "start_time": "2022-09-26T09:28:55.969Z"
   },
   {
    "duration": 9,
    "start_time": "2022-09-26T09:30:16.505Z"
   },
   {
    "duration": 8,
    "start_time": "2022-09-26T09:31:40.560Z"
   },
   {
    "duration": 8,
    "start_time": "2022-09-26T09:34:13.163Z"
   },
   {
    "duration": 112,
    "start_time": "2022-09-26T09:36:38.462Z"
   },
   {
    "duration": 52,
    "start_time": "2022-09-26T15:05:05.520Z"
   },
   {
    "duration": 3,
    "start_time": "2022-09-26T15:17:55.144Z"
   },
   {
    "duration": 2247,
    "start_time": "2022-09-26T15:18:02.644Z"
   },
   {
    "duration": 15,
    "start_time": "2022-09-26T15:18:06.287Z"
   },
   {
    "duration": 9,
    "start_time": "2022-09-26T15:18:09.935Z"
   },
   {
    "duration": 39,
    "start_time": "2022-09-26T15:18:16.080Z"
   },
   {
    "duration": 9,
    "start_time": "2022-09-26T15:18:20.519Z"
   },
   {
    "duration": 12,
    "start_time": "2022-09-26T15:18:23.839Z"
   },
   {
    "duration": 9,
    "start_time": "2022-09-26T15:18:27.829Z"
   },
   {
    "duration": 7,
    "start_time": "2022-09-26T15:18:34.831Z"
   },
   {
    "duration": 18,
    "start_time": "2022-09-26T15:18:39.743Z"
   },
   {
    "duration": 8,
    "start_time": "2022-09-26T15:18:54.522Z"
   },
   {
    "duration": 8,
    "start_time": "2022-09-26T15:19:00.871Z"
   },
   {
    "duration": 8,
    "start_time": "2022-09-26T15:19:07.765Z"
   },
   {
    "duration": 120,
    "start_time": "2022-09-26T15:19:11.489Z"
   },
   {
    "duration": 34,
    "start_time": "2022-09-26T15:20:06.207Z"
   },
   {
    "duration": 37,
    "start_time": "2022-09-26T15:20:39.906Z"
   },
   {
    "duration": 33,
    "start_time": "2022-09-26T15:21:51.868Z"
   },
   {
    "duration": 98,
    "start_time": "2022-09-26T15:26:58.147Z"
   },
   {
    "duration": 114,
    "start_time": "2022-09-26T15:30:40.514Z"
   },
   {
    "duration": 114,
    "start_time": "2022-09-26T15:32:27.280Z"
   },
   {
    "duration": 106,
    "start_time": "2022-09-26T15:41:44.583Z"
   },
   {
    "duration": 544,
    "start_time": "2022-09-26T15:43:50.523Z"
   },
   {
    "duration": 16,
    "start_time": "2022-09-26T15:44:15.473Z"
   },
   {
    "duration": 21,
    "start_time": "2022-09-26T15:45:39.412Z"
   },
   {
    "duration": 10,
    "start_time": "2022-09-26T15:46:38.221Z"
   },
   {
    "duration": 110,
    "start_time": "2022-09-26T15:47:41.103Z"
   },
   {
    "duration": 30,
    "start_time": "2022-09-26T15:47:54.343Z"
   },
   {
    "duration": 106,
    "start_time": "2022-09-26T15:48:01.367Z"
   },
   {
    "duration": 138,
    "start_time": "2022-09-26T15:48:38.925Z"
   },
   {
    "duration": 1210,
    "start_time": "2022-09-26T15:49:15.579Z"
   },
   {
    "duration": 2148,
    "start_time": "2022-09-26T15:49:16.791Z"
   },
   {
    "duration": 20,
    "start_time": "2022-09-26T15:49:18.942Z"
   },
   {
    "duration": 16,
    "start_time": "2022-09-26T15:49:18.964Z"
   },
   {
    "duration": 52,
    "start_time": "2022-09-26T15:49:18.982Z"
   },
   {
    "duration": 10,
    "start_time": "2022-09-26T15:49:19.037Z"
   },
   {
    "duration": 19,
    "start_time": "2022-09-26T15:49:19.049Z"
   },
   {
    "duration": 11,
    "start_time": "2022-09-26T15:49:19.070Z"
   },
   {
    "duration": 131,
    "start_time": "2022-09-26T15:49:19.083Z"
   },
   {
    "duration": 13,
    "start_time": "2022-09-26T15:49:19.220Z"
   },
   {
    "duration": 16,
    "start_time": "2022-09-26T15:49:19.235Z"
   },
   {
    "duration": 8,
    "start_time": "2022-09-26T15:49:19.253Z"
   },
   {
    "duration": 7,
    "start_time": "2022-09-26T15:49:19.263Z"
   },
   {
    "duration": 54,
    "start_time": "2022-09-26T15:49:19.272Z"
   },
   {
    "duration": 114,
    "start_time": "2022-09-26T15:49:19.328Z"
   },
   {
    "duration": 8,
    "start_time": "2022-09-26T15:49:19.444Z"
   },
   {
    "duration": 22,
    "start_time": "2022-09-26T15:49:19.454Z"
   },
   {
    "duration": 146,
    "start_time": "2022-09-26T15:49:19.478Z"
   },
   {
    "duration": 0,
    "start_time": "2022-09-26T15:49:19.626Z"
   },
   {
    "duration": 0,
    "start_time": "2022-09-26T15:49:19.627Z"
   },
   {
    "duration": 0,
    "start_time": "2022-09-26T15:49:19.628Z"
   },
   {
    "duration": 0,
    "start_time": "2022-09-26T15:49:19.629Z"
   },
   {
    "duration": 0,
    "start_time": "2022-09-26T15:49:19.630Z"
   },
   {
    "duration": 0,
    "start_time": "2022-09-26T15:49:19.631Z"
   },
   {
    "duration": 0,
    "start_time": "2022-09-26T15:49:19.632Z"
   },
   {
    "duration": 0,
    "start_time": "2022-09-26T15:49:19.634Z"
   },
   {
    "duration": 0,
    "start_time": "2022-09-26T15:49:19.635Z"
   },
   {
    "duration": 0,
    "start_time": "2022-09-26T15:49:19.636Z"
   },
   {
    "duration": 0,
    "start_time": "2022-09-26T15:49:19.637Z"
   },
   {
    "duration": 0,
    "start_time": "2022-09-26T15:49:19.638Z"
   },
   {
    "duration": 0,
    "start_time": "2022-09-26T15:49:19.639Z"
   },
   {
    "duration": 0,
    "start_time": "2022-09-26T15:49:19.640Z"
   },
   {
    "duration": 0,
    "start_time": "2022-09-26T15:49:19.641Z"
   },
   {
    "duration": 0,
    "start_time": "2022-09-26T15:49:19.642Z"
   },
   {
    "duration": 0,
    "start_time": "2022-09-26T15:49:19.643Z"
   },
   {
    "duration": 0,
    "start_time": "2022-09-26T15:49:19.644Z"
   },
   {
    "duration": 0,
    "start_time": "2022-09-26T15:49:19.645Z"
   },
   {
    "duration": 0,
    "start_time": "2022-09-26T15:49:19.646Z"
   },
   {
    "duration": 0,
    "start_time": "2022-09-26T15:49:19.648Z"
   },
   {
    "duration": 0,
    "start_time": "2022-09-26T15:49:19.648Z"
   },
   {
    "duration": 14,
    "start_time": "2022-09-26T15:50:39.105Z"
   },
   {
    "duration": 12,
    "start_time": "2022-09-26T15:51:26.471Z"
   },
   {
    "duration": 18,
    "start_time": "2022-09-26T15:57:56.860Z"
   },
   {
    "duration": 9,
    "start_time": "2022-09-26T16:08:08.612Z"
   },
   {
    "duration": 10,
    "start_time": "2022-09-26T16:09:00.514Z"
   },
   {
    "duration": 10,
    "start_time": "2022-09-26T16:16:39.188Z"
   },
   {
    "duration": 18,
    "start_time": "2022-09-26T16:18:26.736Z"
   },
   {
    "duration": 9,
    "start_time": "2022-09-26T16:19:14.519Z"
   },
   {
    "duration": 464,
    "start_time": "2022-09-26T16:22:33.731Z"
   },
   {
    "duration": 414,
    "start_time": "2022-09-26T16:23:54.422Z"
   },
   {
    "duration": 710,
    "start_time": "2022-09-26T16:24:18.310Z"
   },
   {
    "duration": 757,
    "start_time": "2022-09-26T16:24:39.983Z"
   },
   {
    "duration": 1895,
    "start_time": "2022-09-26T16:24:55.913Z"
   },
   {
    "duration": 659,
    "start_time": "2022-09-26T16:25:49.394Z"
   },
   {
    "duration": 831,
    "start_time": "2022-09-26T16:26:15.874Z"
   },
   {
    "duration": 534,
    "start_time": "2022-09-26T16:26:43.860Z"
   },
   {
    "duration": 1061,
    "start_time": "2022-09-26T16:27:28.825Z"
   },
   {
    "duration": 791,
    "start_time": "2022-09-26T16:27:53.011Z"
   },
   {
    "duration": 857,
    "start_time": "2022-09-26T16:28:31.318Z"
   },
   {
    "duration": 946,
    "start_time": "2022-09-26T16:32:15.476Z"
   },
   {
    "duration": 2097,
    "start_time": "2022-09-26T16:32:41.617Z"
   },
   {
    "duration": 1007,
    "start_time": "2022-09-26T16:32:52.744Z"
   },
   {
    "duration": 1133,
    "start_time": "2022-09-26T16:34:38.187Z"
   },
   {
    "duration": 1142,
    "start_time": "2022-09-26T16:36:02.247Z"
   },
   {
    "duration": 1031,
    "start_time": "2022-09-26T16:37:23.457Z"
   },
   {
    "duration": 97,
    "start_time": "2022-09-26T16:40:28.735Z"
   },
   {
    "duration": 9,
    "start_time": "2022-09-26T16:43:02.950Z"
   },
   {
    "duration": 206,
    "start_time": "2022-09-26T16:46:50.626Z"
   },
   {
    "duration": 128,
    "start_time": "2022-09-26T16:47:06.280Z"
   },
   {
    "duration": 383,
    "start_time": "2022-09-26T16:47:14.718Z"
   },
   {
    "duration": 179,
    "start_time": "2022-09-26T16:48:15.581Z"
   },
   {
    "duration": 194,
    "start_time": "2022-09-26T16:48:45.111Z"
   },
   {
    "duration": 224,
    "start_time": "2022-09-26T16:49:01.711Z"
   },
   {
    "duration": 200,
    "start_time": "2022-09-26T16:50:36.872Z"
   },
   {
    "duration": 372,
    "start_time": "2022-09-26T16:53:14.902Z"
   },
   {
    "duration": 396,
    "start_time": "2022-09-26T16:53:39.788Z"
   },
   {
    "duration": 515,
    "start_time": "2022-09-26T17:43:57.470Z"
   },
   {
    "duration": 922,
    "start_time": "2022-09-26T17:48:51.189Z"
   },
   {
    "duration": 205,
    "start_time": "2022-09-26T18:02:14.968Z"
   },
   {
    "duration": 472,
    "start_time": "2022-09-26T18:03:36.136Z"
   },
   {
    "duration": 720,
    "start_time": "2022-09-26T18:04:19.291Z"
   },
   {
    "duration": 617,
    "start_time": "2022-09-26T18:25:57.673Z"
   },
   {
    "duration": 20,
    "start_time": "2022-09-26T18:30:29.894Z"
   },
   {
    "duration": 658,
    "start_time": "2022-09-26T18:30:51.288Z"
   },
   {
    "duration": 826,
    "start_time": "2022-09-26T18:32:04.887Z"
   },
   {
    "duration": 240,
    "start_time": "2022-09-26T18:33:16.958Z"
   },
   {
    "duration": 309,
    "start_time": "2022-09-26T18:35:27.716Z"
   },
   {
    "duration": 27,
    "start_time": "2022-09-26T18:37:36.684Z"
   },
   {
    "duration": 103,
    "start_time": "2022-09-26T18:38:33.657Z"
   },
   {
    "duration": 30,
    "start_time": "2022-09-26T18:40:29.986Z"
   },
   {
    "duration": 89,
    "start_time": "2022-09-26T18:42:18.823Z"
   },
   {
    "duration": 95,
    "start_time": "2022-09-26T18:43:08.309Z"
   },
   {
    "duration": 110,
    "start_time": "2022-09-26T18:44:04.442Z"
   },
   {
    "duration": 94,
    "start_time": "2022-09-26T18:52:12.397Z"
   },
   {
    "duration": 97,
    "start_time": "2022-09-26T18:53:57.559Z"
   },
   {
    "duration": 95,
    "start_time": "2022-09-26T18:56:25.694Z"
   },
   {
    "duration": 100,
    "start_time": "2022-09-26T18:58:47.078Z"
   },
   {
    "duration": 26,
    "start_time": "2022-09-26T18:59:31.992Z"
   },
   {
    "duration": 940,
    "start_time": "2022-09-26T19:00:04.343Z"
   },
   {
    "duration": 40,
    "start_time": "2022-09-26T19:01:22.235Z"
   },
   {
    "duration": 37,
    "start_time": "2022-09-26T19:02:20.481Z"
   },
   {
    "duration": 45,
    "start_time": "2022-09-26T19:10:03.304Z"
   },
   {
    "duration": 28,
    "start_time": "2022-09-26T19:11:34.840Z"
   },
   {
    "duration": 29,
    "start_time": "2022-09-26T19:26:44.921Z"
   },
   {
    "duration": 215,
    "start_time": "2022-09-26T19:28:59.987Z"
   },
   {
    "duration": 213,
    "start_time": "2022-09-26T19:30:06.927Z"
   },
   {
    "duration": 780,
    "start_time": "2022-09-26T19:34:06.430Z"
   },
   {
    "duration": 203,
    "start_time": "2022-09-26T19:34:22.912Z"
   },
   {
    "duration": 903,
    "start_time": "2022-09-26T19:34:34.853Z"
   },
   {
    "duration": 1217,
    "start_time": "2022-09-26T19:34:57.957Z"
   },
   {
    "duration": 2291,
    "start_time": "2022-09-26T19:34:59.176Z"
   },
   {
    "duration": 16,
    "start_time": "2022-09-26T19:35:01.469Z"
   },
   {
    "duration": 20,
    "start_time": "2022-09-26T19:35:01.487Z"
   },
   {
    "duration": 43,
    "start_time": "2022-09-26T19:35:01.510Z"
   },
   {
    "duration": 9,
    "start_time": "2022-09-26T19:35:01.555Z"
   },
   {
    "duration": 122,
    "start_time": "2022-09-26T19:35:01.565Z"
   },
   {
    "duration": 7,
    "start_time": "2022-09-26T19:35:01.689Z"
   },
   {
    "duration": 25,
    "start_time": "2022-09-26T19:35:01.698Z"
   },
   {
    "duration": 14,
    "start_time": "2022-09-26T19:35:01.725Z"
   },
   {
    "duration": 23,
    "start_time": "2022-09-26T19:35:01.741Z"
   },
   {
    "duration": 17,
    "start_time": "2022-09-26T19:35:01.766Z"
   },
   {
    "duration": 10,
    "start_time": "2022-09-26T19:35:01.785Z"
   },
   {
    "duration": 55,
    "start_time": "2022-09-26T19:35:01.799Z"
   },
   {
    "duration": 145,
    "start_time": "2022-09-26T19:35:01.855Z"
   },
   {
    "duration": 17,
    "start_time": "2022-09-26T19:35:02.021Z"
   },
   {
    "duration": 22,
    "start_time": "2022-09-26T19:35:02.040Z"
   },
   {
    "duration": 1074,
    "start_time": "2022-09-26T19:35:02.064Z"
   },
   {
    "duration": 10,
    "start_time": "2022-09-26T19:35:03.140Z"
   },
   {
    "duration": 690,
    "start_time": "2022-09-26T19:35:03.151Z"
   },
   {
    "duration": 28,
    "start_time": "2022-09-26T19:35:03.843Z"
   },
   {
    "duration": 236,
    "start_time": "2022-09-26T19:35:03.873Z"
   },
   {
    "duration": 19,
    "start_time": "2022-09-26T19:35:04.121Z"
   },
   {
    "duration": 142,
    "start_time": "2022-09-26T19:35:04.142Z"
   },
   {
    "duration": 0,
    "start_time": "2022-09-26T19:35:04.286Z"
   },
   {
    "duration": 0,
    "start_time": "2022-09-26T19:35:04.288Z"
   },
   {
    "duration": 0,
    "start_time": "2022-09-26T19:35:04.289Z"
   },
   {
    "duration": 0,
    "start_time": "2022-09-26T19:35:04.290Z"
   },
   {
    "duration": 0,
    "start_time": "2022-09-26T19:35:04.291Z"
   },
   {
    "duration": 0,
    "start_time": "2022-09-26T19:35:04.292Z"
   },
   {
    "duration": 0,
    "start_time": "2022-09-26T19:35:04.293Z"
   },
   {
    "duration": 0,
    "start_time": "2022-09-26T19:35:04.295Z"
   },
   {
    "duration": 0,
    "start_time": "2022-09-26T19:35:04.296Z"
   },
   {
    "duration": 0,
    "start_time": "2022-09-26T19:35:04.297Z"
   },
   {
    "duration": 0,
    "start_time": "2022-09-26T19:35:04.298Z"
   },
   {
    "duration": 0,
    "start_time": "2022-09-26T19:35:04.321Z"
   },
   {
    "duration": 0,
    "start_time": "2022-09-26T19:35:04.323Z"
   },
   {
    "duration": 0,
    "start_time": "2022-09-26T19:35:04.324Z"
   },
   {
    "duration": 0,
    "start_time": "2022-09-26T19:35:04.325Z"
   },
   {
    "duration": 0,
    "start_time": "2022-09-26T19:35:04.327Z"
   },
   {
    "duration": 0,
    "start_time": "2022-09-26T19:35:04.328Z"
   },
   {
    "duration": 0,
    "start_time": "2022-09-26T19:35:04.330Z"
   },
   {
    "duration": 0,
    "start_time": "2022-09-26T19:35:04.331Z"
   },
   {
    "duration": 0,
    "start_time": "2022-09-26T19:35:04.332Z"
   },
   {
    "duration": 0,
    "start_time": "2022-09-26T19:35:04.333Z"
   },
   {
    "duration": 0,
    "start_time": "2022-09-26T19:35:04.335Z"
   },
   {
    "duration": 31,
    "start_time": "2022-09-26T19:36:01.080Z"
   },
   {
    "duration": 29,
    "start_time": "2022-09-26T19:37:49.400Z"
   },
   {
    "duration": 4489,
    "start_time": "2022-09-26T19:38:17.837Z"
   },
   {
    "duration": 31,
    "start_time": "2022-09-26T19:38:26.872Z"
   },
   {
    "duration": 1192,
    "start_time": "2022-09-26T19:41:39.752Z"
   },
   {
    "duration": 2365,
    "start_time": "2022-09-26T19:41:40.946Z"
   },
   {
    "duration": 25,
    "start_time": "2022-09-26T19:41:43.313Z"
   },
   {
    "duration": 22,
    "start_time": "2022-09-26T19:41:43.340Z"
   },
   {
    "duration": 46,
    "start_time": "2022-09-26T19:41:43.364Z"
   },
   {
    "duration": 9,
    "start_time": "2022-09-26T19:41:43.412Z"
   },
   {
    "duration": 141,
    "start_time": "2022-09-26T19:41:43.424Z"
   },
   {
    "duration": 7,
    "start_time": "2022-09-26T19:41:43.567Z"
   },
   {
    "duration": 22,
    "start_time": "2022-09-26T19:41:43.575Z"
   },
   {
    "duration": 28,
    "start_time": "2022-09-26T19:41:43.599Z"
   },
   {
    "duration": 12,
    "start_time": "2022-09-26T19:41:43.629Z"
   },
   {
    "duration": 30,
    "start_time": "2022-09-26T19:41:43.642Z"
   },
   {
    "duration": 20,
    "start_time": "2022-09-26T19:41:43.674Z"
   },
   {
    "duration": 43,
    "start_time": "2022-09-26T19:41:43.698Z"
   },
   {
    "duration": 164,
    "start_time": "2022-09-26T19:41:43.743Z"
   },
   {
    "duration": 29,
    "start_time": "2022-09-26T19:41:43.909Z"
   },
   {
    "duration": 13,
    "start_time": "2022-09-26T19:41:43.942Z"
   },
   {
    "duration": 1153,
    "start_time": "2022-09-26T19:41:43.958Z"
   },
   {
    "duration": 12,
    "start_time": "2022-09-26T19:41:45.114Z"
   },
   {
    "duration": 663,
    "start_time": "2022-09-26T19:41:45.128Z"
   },
   {
    "duration": 31,
    "start_time": "2022-09-26T19:41:45.792Z"
   },
   {
    "duration": 226,
    "start_time": "2022-09-26T19:41:45.828Z"
   },
   {
    "duration": 17,
    "start_time": "2022-09-26T19:41:46.056Z"
   },
   {
    "duration": 166,
    "start_time": "2022-09-26T19:41:46.075Z"
   },
   {
    "duration": 0,
    "start_time": "2022-09-26T19:41:46.243Z"
   },
   {
    "duration": 0,
    "start_time": "2022-09-26T19:41:46.244Z"
   },
   {
    "duration": 0,
    "start_time": "2022-09-26T19:41:46.246Z"
   },
   {
    "duration": 0,
    "start_time": "2022-09-26T19:41:46.247Z"
   },
   {
    "duration": 0,
    "start_time": "2022-09-26T19:41:46.248Z"
   },
   {
    "duration": 0,
    "start_time": "2022-09-26T19:41:46.249Z"
   },
   {
    "duration": 0,
    "start_time": "2022-09-26T19:41:46.250Z"
   },
   {
    "duration": 0,
    "start_time": "2022-09-26T19:41:46.252Z"
   },
   {
    "duration": 1,
    "start_time": "2022-09-26T19:41:46.252Z"
   },
   {
    "duration": 0,
    "start_time": "2022-09-26T19:41:46.255Z"
   },
   {
    "duration": 0,
    "start_time": "2022-09-26T19:41:46.256Z"
   },
   {
    "duration": 0,
    "start_time": "2022-09-26T19:41:46.258Z"
   },
   {
    "duration": 0,
    "start_time": "2022-09-26T19:41:46.260Z"
   },
   {
    "duration": 0,
    "start_time": "2022-09-26T19:41:46.261Z"
   },
   {
    "duration": 0,
    "start_time": "2022-09-26T19:41:46.263Z"
   },
   {
    "duration": 0,
    "start_time": "2022-09-26T19:41:46.264Z"
   },
   {
    "duration": 0,
    "start_time": "2022-09-26T19:41:46.265Z"
   },
   {
    "duration": 0,
    "start_time": "2022-09-26T19:41:46.266Z"
   },
   {
    "duration": 0,
    "start_time": "2022-09-26T19:41:46.268Z"
   },
   {
    "duration": 0,
    "start_time": "2022-09-26T19:41:46.269Z"
   },
   {
    "duration": 0,
    "start_time": "2022-09-26T19:41:46.270Z"
   },
   {
    "duration": 0,
    "start_time": "2022-09-26T19:41:46.272Z"
   },
   {
    "duration": 1081,
    "start_time": "2022-09-26T19:43:41.055Z"
   },
   {
    "duration": 3,
    "start_time": "2022-09-26T19:43:50.567Z"
   },
   {
    "duration": 2352,
    "start_time": "2022-09-26T19:43:53.820Z"
   },
   {
    "duration": 12,
    "start_time": "2022-09-26T19:44:01.788Z"
   },
   {
    "duration": 3,
    "start_time": "2022-09-26T19:44:32.563Z"
   },
   {
    "duration": 3,
    "start_time": "2022-09-26T19:44:36.529Z"
   },
   {
    "duration": 3,
    "start_time": "2022-09-26T19:47:05.430Z"
   },
   {
    "duration": 4,
    "start_time": "2022-09-26T19:47:09.140Z"
   },
   {
    "duration": 1214,
    "start_time": "2022-09-26T19:47:51.551Z"
   },
   {
    "duration": 2284,
    "start_time": "2022-09-26T19:47:52.767Z"
   },
   {
    "duration": 14,
    "start_time": "2022-09-26T19:47:55.053Z"
   },
   {
    "duration": 18,
    "start_time": "2022-09-26T19:47:55.069Z"
   },
   {
    "duration": 60,
    "start_time": "2022-09-26T19:47:55.090Z"
   },
   {
    "duration": 9,
    "start_time": "2022-09-26T19:47:55.152Z"
   },
   {
    "duration": 128,
    "start_time": "2022-09-26T19:47:55.162Z"
   },
   {
    "duration": 7,
    "start_time": "2022-09-26T19:47:55.292Z"
   },
   {
    "duration": 23,
    "start_time": "2022-09-26T19:47:55.301Z"
   },
   {
    "duration": 13,
    "start_time": "2022-09-26T19:47:55.327Z"
   },
   {
    "duration": 7,
    "start_time": "2022-09-26T19:47:55.342Z"
   },
   {
    "duration": 9,
    "start_time": "2022-09-26T19:47:55.351Z"
   },
   {
    "duration": 8,
    "start_time": "2022-09-26T19:47:55.362Z"
   },
   {
    "duration": 71,
    "start_time": "2022-09-26T19:47:55.374Z"
   },
   {
    "duration": 128,
    "start_time": "2022-09-26T19:47:55.447Z"
   },
   {
    "duration": 16,
    "start_time": "2022-09-26T19:47:55.576Z"
   },
   {
    "duration": 33,
    "start_time": "2022-09-26T19:47:55.593Z"
   },
   {
    "duration": 1044,
    "start_time": "2022-09-26T19:47:55.628Z"
   },
   {
    "duration": 9,
    "start_time": "2022-09-26T19:47:56.674Z"
   },
   {
    "duration": 641,
    "start_time": "2022-09-26T19:47:56.684Z"
   },
   {
    "duration": 26,
    "start_time": "2022-09-26T19:47:57.327Z"
   },
   {
    "duration": 217,
    "start_time": "2022-09-26T19:47:57.354Z"
   },
   {
    "duration": 18,
    "start_time": "2022-09-26T19:47:57.572Z"
   },
   {
    "duration": 142,
    "start_time": "2022-09-26T19:47:57.592Z"
   },
   {
    "duration": 0,
    "start_time": "2022-09-26T19:47:57.736Z"
   },
   {
    "duration": 0,
    "start_time": "2022-09-26T19:47:57.738Z"
   },
   {
    "duration": 0,
    "start_time": "2022-09-26T19:47:57.740Z"
   },
   {
    "duration": 0,
    "start_time": "2022-09-26T19:47:57.741Z"
   },
   {
    "duration": 0,
    "start_time": "2022-09-26T19:47:57.742Z"
   },
   {
    "duration": 0,
    "start_time": "2022-09-26T19:47:57.743Z"
   },
   {
    "duration": 0,
    "start_time": "2022-09-26T19:47:57.744Z"
   },
   {
    "duration": 0,
    "start_time": "2022-09-26T19:47:57.746Z"
   },
   {
    "duration": 0,
    "start_time": "2022-09-26T19:47:57.747Z"
   },
   {
    "duration": 0,
    "start_time": "2022-09-26T19:47:57.748Z"
   },
   {
    "duration": 0,
    "start_time": "2022-09-26T19:47:57.749Z"
   },
   {
    "duration": 0,
    "start_time": "2022-09-26T19:47:57.750Z"
   },
   {
    "duration": 0,
    "start_time": "2022-09-26T19:47:57.752Z"
   },
   {
    "duration": 0,
    "start_time": "2022-09-26T19:47:57.753Z"
   },
   {
    "duration": 0,
    "start_time": "2022-09-26T19:47:57.754Z"
   },
   {
    "duration": 0,
    "start_time": "2022-09-26T19:47:57.755Z"
   },
   {
    "duration": 0,
    "start_time": "2022-09-26T19:47:57.756Z"
   },
   {
    "duration": 0,
    "start_time": "2022-09-26T19:47:57.757Z"
   },
   {
    "duration": 0,
    "start_time": "2022-09-26T19:47:57.759Z"
   },
   {
    "duration": 0,
    "start_time": "2022-09-26T19:47:57.760Z"
   },
   {
    "duration": 0,
    "start_time": "2022-09-26T19:47:57.761Z"
   },
   {
    "duration": 0,
    "start_time": "2022-09-26T19:47:57.762Z"
   },
   {
    "duration": 33,
    "start_time": "2022-09-26T19:49:59.157Z"
   },
   {
    "duration": 34,
    "start_time": "2022-09-26T19:50:29.649Z"
   },
   {
    "duration": 30,
    "start_time": "2022-09-26T19:54:33.397Z"
   },
   {
    "duration": 29,
    "start_time": "2022-09-26T19:54:42.842Z"
   },
   {
    "duration": 9,
    "start_time": "2022-09-26T19:55:44.876Z"
   },
   {
    "duration": 6,
    "start_time": "2022-09-26T19:55:51.346Z"
   },
   {
    "duration": 8,
    "start_time": "2022-09-26T19:55:52.554Z"
   },
   {
    "duration": 18,
    "start_time": "2022-09-26T19:57:03.932Z"
   },
   {
    "duration": 24,
    "start_time": "2022-09-26T19:58:32.861Z"
   },
   {
    "duration": 10,
    "start_time": "2022-09-26T19:59:00.848Z"
   },
   {
    "duration": 275,
    "start_time": "2022-09-26T19:59:31.280Z"
   },
   {
    "duration": 395,
    "start_time": "2022-09-26T19:59:50.967Z"
   },
   {
    "duration": 173,
    "start_time": "2022-09-26T20:04:56.144Z"
   },
   {
    "duration": 207,
    "start_time": "2022-09-26T20:05:19.222Z"
   },
   {
    "duration": 194,
    "start_time": "2022-09-26T20:06:21.353Z"
   },
   {
    "duration": 186,
    "start_time": "2022-09-26T20:06:30.562Z"
   },
   {
    "duration": 214,
    "start_time": "2022-09-26T20:06:43.577Z"
   },
   {
    "duration": 200,
    "start_time": "2022-09-26T20:06:53.676Z"
   },
   {
    "duration": 210,
    "start_time": "2022-09-26T20:07:50.174Z"
   },
   {
    "duration": 365,
    "start_time": "2022-09-26T20:09:14.021Z"
   },
   {
    "duration": 641,
    "start_time": "2022-09-26T20:10:59.670Z"
   },
   {
    "duration": 282,
    "start_time": "2022-09-26T20:11:34.143Z"
   },
   {
    "duration": 672,
    "start_time": "2022-09-26T20:12:42.419Z"
   },
   {
    "duration": 483,
    "start_time": "2022-09-26T20:13:05.604Z"
   },
   {
    "duration": 159,
    "start_time": "2022-09-26T20:14:28.644Z"
   },
   {
    "duration": 301,
    "start_time": "2022-09-26T20:14:45.685Z"
   },
   {
    "duration": 237,
    "start_time": "2022-09-26T20:15:00.690Z"
   },
   {
    "duration": 199,
    "start_time": "2022-09-26T20:15:13.848Z"
   },
   {
    "duration": 521,
    "start_time": "2022-09-26T20:15:21.221Z"
   },
   {
    "duration": 210,
    "start_time": "2022-09-26T20:16:00.876Z"
   },
   {
    "duration": 24,
    "start_time": "2022-09-26T20:16:20.655Z"
   },
   {
    "duration": 234,
    "start_time": "2022-09-26T20:16:45.321Z"
   },
   {
    "duration": 323,
    "start_time": "2022-09-26T20:17:16.460Z"
   },
   {
    "duration": 56,
    "start_time": "2022-09-26T20:36:12.245Z"
   },
   {
    "duration": 39,
    "start_time": "2022-09-26T20:36:26.921Z"
   },
   {
    "duration": 12,
    "start_time": "2022-09-26T20:38:16.450Z"
   },
   {
    "duration": 18,
    "start_time": "2022-09-26T20:39:51.880Z"
   },
   {
    "duration": 18,
    "start_time": "2022-09-26T20:40:07.165Z"
   },
   {
    "duration": 19,
    "start_time": "2022-09-26T20:41:39.810Z"
   },
   {
    "duration": 17,
    "start_time": "2022-09-26T20:41:47.023Z"
   },
   {
    "duration": 10,
    "start_time": "2022-09-26T20:43:35.948Z"
   },
   {
    "duration": 10,
    "start_time": "2022-09-26T20:43:40.685Z"
   },
   {
    "duration": 17,
    "start_time": "2022-09-26T20:43:43.966Z"
   },
   {
    "duration": 16,
    "start_time": "2022-09-26T20:44:32.197Z"
   },
   {
    "duration": 9,
    "start_time": "2022-09-26T20:48:59.558Z"
   },
   {
    "duration": 1266,
    "start_time": "2022-09-26T21:03:17.954Z"
   },
   {
    "duration": 2376,
    "start_time": "2022-09-26T21:03:19.223Z"
   },
   {
    "duration": 14,
    "start_time": "2022-09-26T21:03:21.601Z"
   },
   {
    "duration": 12,
    "start_time": "2022-09-26T21:03:21.617Z"
   },
   {
    "duration": 56,
    "start_time": "2022-09-26T21:03:21.632Z"
   },
   {
    "duration": 8,
    "start_time": "2022-09-26T21:03:21.691Z"
   },
   {
    "duration": 130,
    "start_time": "2022-09-26T21:03:21.701Z"
   },
   {
    "duration": 13,
    "start_time": "2022-09-26T21:03:21.833Z"
   },
   {
    "duration": 21,
    "start_time": "2022-09-26T21:03:21.848Z"
   },
   {
    "duration": 13,
    "start_time": "2022-09-26T21:03:21.871Z"
   },
   {
    "duration": 9,
    "start_time": "2022-09-26T21:03:21.886Z"
   },
   {
    "duration": 30,
    "start_time": "2022-09-26T21:03:21.897Z"
   },
   {
    "duration": 23,
    "start_time": "2022-09-26T21:03:21.929Z"
   },
   {
    "duration": 37,
    "start_time": "2022-09-26T21:03:21.956Z"
   },
   {
    "duration": 154,
    "start_time": "2022-09-26T21:03:21.994Z"
   },
   {
    "duration": 16,
    "start_time": "2022-09-26T21:03:22.152Z"
   },
   {
    "duration": 11,
    "start_time": "2022-09-26T21:03:22.170Z"
   },
   {
    "duration": 1294,
    "start_time": "2022-09-26T21:03:22.183Z"
   },
   {
    "duration": 9,
    "start_time": "2022-09-26T21:03:23.479Z"
   },
   {
    "duration": 728,
    "start_time": "2022-09-26T21:03:23.490Z"
   },
   {
    "duration": 31,
    "start_time": "2022-09-26T21:03:24.221Z"
   },
   {
    "duration": 266,
    "start_time": "2022-09-26T21:03:24.254Z"
   },
   {
    "duration": 27,
    "start_time": "2022-09-26T21:03:24.522Z"
   },
   {
    "duration": 23,
    "start_time": "2022-09-26T21:03:24.552Z"
   },
   {
    "duration": 5,
    "start_time": "2022-09-26T21:03:24.578Z"
   },
   {
    "duration": 36,
    "start_time": "2022-09-26T21:03:24.586Z"
   },
   {
    "duration": 7,
    "start_time": "2022-09-26T21:03:24.624Z"
   },
   {
    "duration": 10,
    "start_time": "2022-09-26T21:03:24.634Z"
   },
   {
    "duration": 16,
    "start_time": "2022-09-26T21:03:24.646Z"
   },
   {
    "duration": 134,
    "start_time": "2022-09-26T21:03:24.664Z"
   },
   {
    "duration": 0,
    "start_time": "2022-09-26T21:03:24.801Z"
   },
   {
    "duration": 0,
    "start_time": "2022-09-26T21:03:24.803Z"
   },
   {
    "duration": 0,
    "start_time": "2022-09-26T21:03:24.804Z"
   },
   {
    "duration": 0,
    "start_time": "2022-09-26T21:03:24.806Z"
   },
   {
    "duration": 0,
    "start_time": "2022-09-26T21:03:24.807Z"
   },
   {
    "duration": 0,
    "start_time": "2022-09-26T21:03:24.809Z"
   },
   {
    "duration": 0,
    "start_time": "2022-09-26T21:03:24.822Z"
   },
   {
    "duration": 0,
    "start_time": "2022-09-26T21:03:24.826Z"
   },
   {
    "duration": 0,
    "start_time": "2022-09-26T21:03:24.827Z"
   },
   {
    "duration": 0,
    "start_time": "2022-09-26T21:03:24.828Z"
   },
   {
    "duration": 0,
    "start_time": "2022-09-26T21:03:24.830Z"
   },
   {
    "duration": 0,
    "start_time": "2022-09-26T21:03:24.833Z"
   },
   {
    "duration": 0,
    "start_time": "2022-09-26T21:03:24.835Z"
   },
   {
    "duration": 0,
    "start_time": "2022-09-26T21:03:24.836Z"
   },
   {
    "duration": 0,
    "start_time": "2022-09-26T21:03:24.838Z"
   },
   {
    "duration": 0,
    "start_time": "2022-09-26T21:03:24.839Z"
   },
   {
    "duration": 0,
    "start_time": "2022-09-26T21:03:24.840Z"
   },
   {
    "duration": 0,
    "start_time": "2022-09-26T21:03:24.841Z"
   },
   {
    "duration": 0,
    "start_time": "2022-09-26T21:03:24.843Z"
   },
   {
    "duration": 0,
    "start_time": "2022-09-26T21:03:24.844Z"
   },
   {
    "duration": 0,
    "start_time": "2022-09-26T21:03:24.848Z"
   },
   {
    "duration": 0,
    "start_time": "2022-09-26T21:03:24.849Z"
   },
   {
    "duration": 0,
    "start_time": "2022-09-26T21:03:24.850Z"
   },
   {
    "duration": 17,
    "start_time": "2022-09-26T21:08:32.112Z"
   },
   {
    "duration": 1189,
    "start_time": "2022-09-26T21:09:13.985Z"
   },
   {
    "duration": 2215,
    "start_time": "2022-09-26T21:09:15.176Z"
   },
   {
    "duration": 15,
    "start_time": "2022-09-26T21:09:17.393Z"
   },
   {
    "duration": 30,
    "start_time": "2022-09-26T21:09:17.410Z"
   },
   {
    "duration": 58,
    "start_time": "2022-09-26T21:09:17.442Z"
   },
   {
    "duration": 8,
    "start_time": "2022-09-26T21:09:17.502Z"
   },
   {
    "duration": 30,
    "start_time": "2022-09-26T21:09:17.511Z"
   },
   {
    "duration": 14,
    "start_time": "2022-09-26T21:09:17.543Z"
   },
   {
    "duration": 109,
    "start_time": "2022-09-26T21:09:17.559Z"
   },
   {
    "duration": 19,
    "start_time": "2022-09-26T21:09:17.671Z"
   },
   {
    "duration": 15,
    "start_time": "2022-09-26T21:09:17.692Z"
   },
   {
    "duration": 23,
    "start_time": "2022-09-26T21:09:17.709Z"
   },
   {
    "duration": 25,
    "start_time": "2022-09-26T21:09:17.734Z"
   },
   {
    "duration": 34,
    "start_time": "2022-09-26T21:09:17.760Z"
   },
   {
    "duration": 106,
    "start_time": "2022-09-26T21:09:17.795Z"
   },
   {
    "duration": 28,
    "start_time": "2022-09-26T21:09:17.903Z"
   },
   {
    "duration": 11,
    "start_time": "2022-09-26T21:09:17.932Z"
   },
   {
    "duration": 1116,
    "start_time": "2022-09-26T21:09:17.944Z"
   },
   {
    "duration": 10,
    "start_time": "2022-09-26T21:09:19.062Z"
   },
   {
    "duration": 633,
    "start_time": "2022-09-26T21:09:19.074Z"
   },
   {
    "duration": 30,
    "start_time": "2022-09-26T21:09:19.709Z"
   },
   {
    "duration": 225,
    "start_time": "2022-09-26T21:09:19.741Z"
   },
   {
    "duration": 19,
    "start_time": "2022-09-26T21:09:19.968Z"
   },
   {
    "duration": 34,
    "start_time": "2022-09-26T21:09:19.988Z"
   },
   {
    "duration": 6,
    "start_time": "2022-09-26T21:09:20.023Z"
   },
   {
    "duration": 16,
    "start_time": "2022-09-26T21:09:20.031Z"
   },
   {
    "duration": 7,
    "start_time": "2022-09-26T21:09:20.049Z"
   },
   {
    "duration": 9,
    "start_time": "2022-09-26T21:09:20.060Z"
   },
   {
    "duration": 12,
    "start_time": "2022-09-26T21:09:20.071Z"
   },
   {
    "duration": 44,
    "start_time": "2022-09-26T21:09:20.085Z"
   },
   {
    "duration": 221,
    "start_time": "2022-09-26T21:09:20.130Z"
   },
   {
    "duration": 394,
    "start_time": "2022-09-26T21:09:20.353Z"
   },
   {
    "duration": 171,
    "start_time": "2022-09-26T21:09:20.749Z"
   },
   {
    "duration": 299,
    "start_time": "2022-09-26T21:09:20.922Z"
   },
   {
    "duration": 200,
    "start_time": "2022-09-26T21:09:21.223Z"
   },
   {
    "duration": 198,
    "start_time": "2022-09-26T21:09:21.424Z"
   },
   {
    "duration": 217,
    "start_time": "2022-09-26T21:09:21.624Z"
   },
   {
    "duration": 192,
    "start_time": "2022-09-26T21:09:21.843Z"
   },
   {
    "duration": 211,
    "start_time": "2022-09-26T21:09:22.037Z"
   },
   {
    "duration": 212,
    "start_time": "2022-09-26T21:09:22.250Z"
   },
   {
    "duration": 337,
    "start_time": "2022-09-26T21:09:22.465Z"
   },
   {
    "duration": 225,
    "start_time": "2022-09-26T21:09:22.804Z"
   },
   {
    "duration": 412,
    "start_time": "2022-09-26T21:09:23.031Z"
   },
   {
    "duration": 9,
    "start_time": "2022-09-26T21:09:23.444Z"
   },
   {
    "duration": 460,
    "start_time": "2022-09-26T21:09:23.455Z"
   },
   {
    "duration": 168,
    "start_time": "2022-09-26T21:09:23.917Z"
   },
   {
    "duration": 192,
    "start_time": "2022-09-26T21:09:24.087Z"
   },
   {
    "duration": 202,
    "start_time": "2022-09-26T21:09:24.281Z"
   },
   {
    "duration": 210,
    "start_time": "2022-09-26T21:09:24.486Z"
   },
   {
    "duration": 632,
    "start_time": "2022-09-26T21:09:24.698Z"
   },
   {
    "duration": 175,
    "start_time": "2022-09-26T21:09:25.333Z"
   },
   {
    "duration": 31,
    "start_time": "2022-09-26T21:09:25.510Z"
   },
   {
    "duration": 229,
    "start_time": "2022-09-26T21:09:25.543Z"
   },
   {
    "duration": 257,
    "start_time": "2022-09-26T21:10:51.192Z"
   },
   {
    "duration": 279,
    "start_time": "2022-09-26T21:11:01.753Z"
   },
   {
    "duration": 1819,
    "start_time": "2022-09-27T03:08:20.489Z"
   },
   {
    "duration": 3997,
    "start_time": "2022-09-27T03:08:22.309Z"
   },
   {
    "duration": 69,
    "start_time": "2022-09-27T03:08:26.308Z"
   },
   {
    "duration": 17,
    "start_time": "2022-09-27T03:08:26.378Z"
   },
   {
    "duration": 86,
    "start_time": "2022-09-27T03:08:26.397Z"
   },
   {
    "duration": 9,
    "start_time": "2022-09-27T03:08:26.485Z"
   },
   {
    "duration": 208,
    "start_time": "2022-09-27T03:08:26.496Z"
   },
   {
    "duration": 8,
    "start_time": "2022-09-27T03:08:26.706Z"
   },
   {
    "duration": 63,
    "start_time": "2022-09-27T03:08:26.716Z"
   },
   {
    "duration": 21,
    "start_time": "2022-09-27T03:08:26.781Z"
   },
   {
    "duration": 11,
    "start_time": "2022-09-27T03:08:26.804Z"
   },
   {
    "duration": 9,
    "start_time": "2022-09-27T03:08:26.876Z"
   },
   {
    "duration": 7,
    "start_time": "2022-09-27T03:08:26.887Z"
   },
   {
    "duration": 101,
    "start_time": "2022-09-27T03:08:26.897Z"
   },
   {
    "duration": 279,
    "start_time": "2022-09-27T03:08:27.001Z"
   },
   {
    "duration": 15,
    "start_time": "2022-09-27T03:08:27.282Z"
   },
   {
    "duration": 17,
    "start_time": "2022-09-27T03:08:27.299Z"
   },
   {
    "duration": 1881,
    "start_time": "2022-09-27T03:08:27.317Z"
   },
   {
    "duration": 7,
    "start_time": "2022-09-27T03:08:29.200Z"
   },
   {
    "duration": 1112,
    "start_time": "2022-09-27T03:08:29.208Z"
   },
   {
    "duration": 22,
    "start_time": "2022-09-27T03:08:30.376Z"
   },
   {
    "duration": 419,
    "start_time": "2022-09-27T03:08:30.400Z"
   },
   {
    "duration": 19,
    "start_time": "2022-09-27T03:08:30.876Z"
   },
   {
    "duration": 92,
    "start_time": "2022-09-27T03:08:30.896Z"
   },
   {
    "duration": 5,
    "start_time": "2022-09-27T03:08:30.989Z"
   },
   {
    "duration": 20,
    "start_time": "2022-09-27T03:08:30.996Z"
   },
   {
    "duration": 59,
    "start_time": "2022-09-27T03:08:31.018Z"
   },
   {
    "duration": 26,
    "start_time": "2022-09-27T03:08:31.079Z"
   },
   {
    "duration": 74,
    "start_time": "2022-09-27T03:08:31.106Z"
   },
   {
    "duration": 15,
    "start_time": "2022-09-27T03:08:31.182Z"
   },
   {
    "duration": 415,
    "start_time": "2022-09-27T03:08:31.199Z"
   },
   {
    "duration": 792,
    "start_time": "2022-09-27T03:08:31.616Z"
   },
   {
    "duration": 368,
    "start_time": "2022-09-27T03:08:32.410Z"
   },
   {
    "duration": 504,
    "start_time": "2022-09-27T03:08:32.780Z"
   },
   {
    "duration": 430,
    "start_time": "2022-09-27T03:08:33.286Z"
   },
   {
    "duration": 566,
    "start_time": "2022-09-27T03:08:33.718Z"
   },
   {
    "duration": 599,
    "start_time": "2022-09-27T03:08:34.286Z"
   },
   {
    "duration": 494,
    "start_time": "2022-09-27T03:08:34.887Z"
   },
   {
    "duration": 406,
    "start_time": "2022-09-27T03:08:35.383Z"
   },
   {
    "duration": 330,
    "start_time": "2022-09-27T03:08:35.792Z"
   },
   {
    "duration": 912,
    "start_time": "2022-09-27T03:08:36.176Z"
   },
   {
    "duration": 608,
    "start_time": "2022-09-27T03:08:37.090Z"
   },
   {
    "duration": 1082,
    "start_time": "2022-09-27T03:08:37.700Z"
   },
   {
    "duration": 8,
    "start_time": "2022-09-27T03:08:38.783Z"
   },
   {
    "duration": 1195,
    "start_time": "2022-09-27T03:08:38.793Z"
   },
   {
    "duration": 409,
    "start_time": "2022-09-27T03:08:39.990Z"
   },
   {
    "duration": 498,
    "start_time": "2022-09-27T03:08:40.401Z"
   },
   {
    "duration": 685,
    "start_time": "2022-09-27T03:08:40.901Z"
   },
   {
    "duration": 505,
    "start_time": "2022-09-27T03:08:41.587Z"
   },
   {
    "duration": 1597,
    "start_time": "2022-09-27T03:08:42.094Z"
   },
   {
    "duration": 703,
    "start_time": "2022-09-27T03:08:43.692Z"
   },
   {
    "duration": 92,
    "start_time": "2022-09-27T03:08:44.397Z"
   },
   {
    "duration": 599,
    "start_time": "2022-09-27T03:08:44.491Z"
   },
   {
    "duration": 14,
    "start_time": "2022-09-27T03:10:40.578Z"
   },
   {
    "duration": 85,
    "start_time": "2022-09-27T03:10:46.760Z"
   },
   {
    "duration": 48,
    "start_time": "2022-09-27T13:49:12.302Z"
   },
   {
    "duration": 1282,
    "start_time": "2022-09-27T13:49:22.727Z"
   },
   {
    "duration": 2137,
    "start_time": "2022-09-27T13:49:24.011Z"
   },
   {
    "duration": 14,
    "start_time": "2022-09-27T13:49:26.150Z"
   },
   {
    "duration": 9,
    "start_time": "2022-09-27T13:49:26.166Z"
   },
   {
    "duration": 42,
    "start_time": "2022-09-27T13:49:26.177Z"
   },
   {
    "duration": 8,
    "start_time": "2022-09-27T13:49:26.220Z"
   },
   {
    "duration": 23,
    "start_time": "2022-09-27T13:49:26.229Z"
   },
   {
    "duration": 8,
    "start_time": "2022-09-27T13:49:26.254Z"
   },
   {
    "duration": 84,
    "start_time": "2022-09-27T13:49:26.263Z"
   },
   {
    "duration": 13,
    "start_time": "2022-09-27T13:49:26.350Z"
   },
   {
    "duration": 8,
    "start_time": "2022-09-27T13:49:26.364Z"
   },
   {
    "duration": 37,
    "start_time": "2022-09-27T13:49:26.373Z"
   },
   {
    "duration": 8,
    "start_time": "2022-09-27T13:49:26.411Z"
   },
   {
    "duration": 37,
    "start_time": "2022-09-27T13:49:26.421Z"
   },
   {
    "duration": 154,
    "start_time": "2022-09-27T13:49:26.460Z"
   },
   {
    "duration": 17,
    "start_time": "2022-09-27T13:49:26.616Z"
   },
   {
    "duration": 10,
    "start_time": "2022-09-27T13:49:26.635Z"
   },
   {
    "duration": 912,
    "start_time": "2022-09-27T13:49:26.647Z"
   },
   {
    "duration": 7,
    "start_time": "2022-09-27T13:49:27.561Z"
   },
   {
    "duration": 525,
    "start_time": "2022-09-27T13:49:27.569Z"
   },
   {
    "duration": 28,
    "start_time": "2022-09-27T13:49:28.096Z"
   },
   {
    "duration": 188,
    "start_time": "2022-09-27T13:49:28.125Z"
   },
   {
    "duration": 34,
    "start_time": "2022-09-27T13:49:28.314Z"
   },
   {
    "duration": 15,
    "start_time": "2022-09-27T13:49:28.349Z"
   },
   {
    "duration": 12,
    "start_time": "2022-09-27T13:49:28.365Z"
   },
   {
    "duration": 11,
    "start_time": "2022-09-27T13:49:28.378Z"
   },
   {
    "duration": 4,
    "start_time": "2022-09-27T13:49:28.409Z"
   },
   {
    "duration": 17,
    "start_time": "2022-09-27T13:49:28.417Z"
   },
   {
    "duration": 12,
    "start_time": "2022-09-27T13:49:28.435Z"
   },
   {
    "duration": 30,
    "start_time": "2022-09-27T13:49:28.448Z"
   },
   {
    "duration": 166,
    "start_time": "2022-09-27T13:49:28.480Z"
   },
   {
    "duration": 312,
    "start_time": "2022-09-27T13:49:28.648Z"
   },
   {
    "duration": 154,
    "start_time": "2022-09-27T13:49:28.962Z"
   },
   {
    "duration": 245,
    "start_time": "2022-09-27T13:49:29.117Z"
   },
   {
    "duration": 156,
    "start_time": "2022-09-27T13:49:29.364Z"
   },
   {
    "duration": 169,
    "start_time": "2022-09-27T13:49:29.522Z"
   },
   {
    "duration": 182,
    "start_time": "2022-09-27T13:49:29.693Z"
   },
   {
    "duration": 169,
    "start_time": "2022-09-27T13:49:29.877Z"
   },
   {
    "duration": 174,
    "start_time": "2022-09-27T13:49:30.047Z"
   },
   {
    "duration": 180,
    "start_time": "2022-09-27T13:49:30.223Z"
   },
   {
    "duration": 254,
    "start_time": "2022-09-27T13:49:30.408Z"
   },
   {
    "duration": 187,
    "start_time": "2022-09-27T13:49:30.664Z"
   },
   {
    "duration": 358,
    "start_time": "2022-09-27T13:49:30.852Z"
   },
   {
    "duration": 8,
    "start_time": "2022-09-27T13:49:31.211Z"
   },
   {
    "duration": 395,
    "start_time": "2022-09-27T13:49:31.221Z"
   },
   {
    "duration": 145,
    "start_time": "2022-09-27T13:49:31.618Z"
   },
   {
    "duration": 157,
    "start_time": "2022-09-27T13:49:31.765Z"
   },
   {
    "duration": 160,
    "start_time": "2022-09-27T13:49:31.923Z"
   },
   {
    "duration": 175,
    "start_time": "2022-09-27T13:49:32.085Z"
   },
   {
    "duration": 520,
    "start_time": "2022-09-27T13:49:32.262Z"
   },
   {
    "duration": 171,
    "start_time": "2022-09-27T13:49:32.785Z"
   },
   {
    "duration": 19,
    "start_time": "2022-09-27T13:49:32.958Z"
   },
   {
    "duration": 198,
    "start_time": "2022-09-27T13:49:32.978Z"
   },
   {
    "duration": 1177,
    "start_time": "2022-09-28T15:27:05.984Z"
   },
   {
    "duration": 1959,
    "start_time": "2022-09-28T15:27:07.163Z"
   },
   {
    "duration": 19,
    "start_time": "2022-09-28T15:27:09.124Z"
   },
   {
    "duration": 16,
    "start_time": "2022-09-28T15:27:09.145Z"
   },
   {
    "duration": 42,
    "start_time": "2022-09-28T15:27:09.163Z"
   },
   {
    "duration": 7,
    "start_time": "2022-09-28T15:27:09.207Z"
   },
   {
    "duration": 23,
    "start_time": "2022-09-28T15:27:09.216Z"
   },
   {
    "duration": 6,
    "start_time": "2022-09-28T15:27:09.240Z"
   },
   {
    "duration": 100,
    "start_time": "2022-09-28T15:27:09.247Z"
   },
   {
    "duration": 14,
    "start_time": "2022-09-28T15:27:09.349Z"
   },
   {
    "duration": 15,
    "start_time": "2022-09-28T15:27:09.364Z"
   },
   {
    "duration": 9,
    "start_time": "2022-09-28T15:27:09.381Z"
   },
   {
    "duration": 8,
    "start_time": "2022-09-28T15:27:09.392Z"
   },
   {
    "duration": 52,
    "start_time": "2022-09-28T15:27:09.402Z"
   },
   {
    "duration": 117,
    "start_time": "2022-09-28T15:27:09.456Z"
   },
   {
    "duration": 14,
    "start_time": "2022-09-28T15:27:09.575Z"
   },
   {
    "duration": 9,
    "start_time": "2022-09-28T15:27:09.590Z"
   },
   {
    "duration": 991,
    "start_time": "2022-09-28T15:27:09.600Z"
   },
   {
    "duration": 8,
    "start_time": "2022-09-28T15:27:10.593Z"
   },
   {
    "duration": 567,
    "start_time": "2022-09-28T15:27:10.602Z"
   },
   {
    "duration": 23,
    "start_time": "2022-09-28T15:27:11.170Z"
   },
   {
    "duration": 204,
    "start_time": "2022-09-28T15:27:11.195Z"
   },
   {
    "duration": 38,
    "start_time": "2022-09-28T15:27:11.401Z"
   },
   {
    "duration": 15,
    "start_time": "2022-09-28T15:27:11.441Z"
   },
   {
    "duration": 4,
    "start_time": "2022-09-28T15:27:11.457Z"
   },
   {
    "duration": 9,
    "start_time": "2022-09-28T15:27:11.462Z"
   },
   {
    "duration": 10,
    "start_time": "2022-09-28T15:27:11.473Z"
   },
   {
    "duration": 23,
    "start_time": "2022-09-28T15:27:11.487Z"
   },
   {
    "duration": 23,
    "start_time": "2022-09-28T15:27:11.512Z"
   },
   {
    "duration": 24,
    "start_time": "2022-09-28T15:27:11.537Z"
   },
   {
    "duration": 216,
    "start_time": "2022-09-28T15:27:11.563Z"
   },
   {
    "duration": 356,
    "start_time": "2022-09-28T15:27:11.782Z"
   },
   {
    "duration": 164,
    "start_time": "2022-09-28T15:27:12.140Z"
   },
   {
    "duration": 255,
    "start_time": "2022-09-28T15:27:12.306Z"
   },
   {
    "duration": 158,
    "start_time": "2022-09-28T15:27:12.563Z"
   },
   {
    "duration": 177,
    "start_time": "2022-09-28T15:27:12.723Z"
   },
   {
    "duration": 215,
    "start_time": "2022-09-28T15:27:12.902Z"
   },
   {
    "duration": 182,
    "start_time": "2022-09-28T15:27:13.119Z"
   },
   {
    "duration": 181,
    "start_time": "2022-09-28T15:27:13.303Z"
   },
   {
    "duration": 194,
    "start_time": "2022-09-28T15:27:13.486Z"
   },
   {
    "duration": 272,
    "start_time": "2022-09-28T15:27:13.681Z"
   },
   {
    "duration": 195,
    "start_time": "2022-09-28T15:27:13.955Z"
   },
   {
    "duration": 363,
    "start_time": "2022-09-28T15:27:14.152Z"
   },
   {
    "duration": 21,
    "start_time": "2022-09-28T15:27:14.517Z"
   },
   {
    "duration": 382,
    "start_time": "2022-09-28T15:27:14.539Z"
   },
   {
    "duration": 150,
    "start_time": "2022-09-28T15:27:14.923Z"
   },
   {
    "duration": 165,
    "start_time": "2022-09-28T15:27:15.075Z"
   },
   {
    "duration": 167,
    "start_time": "2022-09-28T15:27:15.241Z"
   },
   {
    "duration": 176,
    "start_time": "2022-09-28T15:27:15.409Z"
   },
   {
    "duration": 553,
    "start_time": "2022-09-28T15:27:15.587Z"
   },
   {
    "duration": 201,
    "start_time": "2022-09-28T15:27:16.141Z"
   },
   {
    "duration": 28,
    "start_time": "2022-09-28T15:27:16.344Z"
   },
   {
    "duration": 238,
    "start_time": "2022-09-28T15:27:16.375Z"
   },
   {
    "duration": 38,
    "start_time": "2022-09-28T15:28:10.562Z"
   },
   {
    "duration": 5,
    "start_time": "2022-09-28T15:28:22.032Z"
   },
   {
    "duration": 1106,
    "start_time": "2022-09-28T15:28:30.178Z"
   },
   {
    "duration": 1890,
    "start_time": "2022-09-28T15:28:31.286Z"
   },
   {
    "duration": 15,
    "start_time": "2022-09-28T15:28:33.177Z"
   },
   {
    "duration": 7,
    "start_time": "2022-09-28T15:28:33.194Z"
   },
   {
    "duration": 52,
    "start_time": "2022-09-28T15:28:33.203Z"
   },
   {
    "duration": 7,
    "start_time": "2022-09-28T15:28:33.257Z"
   },
   {
    "duration": 9,
    "start_time": "2022-09-28T15:28:33.265Z"
   },
   {
    "duration": 5,
    "start_time": "2022-09-28T15:28:33.276Z"
   },
   {
    "duration": 111,
    "start_time": "2022-09-28T15:28:33.282Z"
   },
   {
    "duration": 13,
    "start_time": "2022-09-28T15:28:33.396Z"
   },
   {
    "duration": 8,
    "start_time": "2022-09-28T15:28:33.410Z"
   },
   {
    "duration": 9,
    "start_time": "2022-09-28T15:28:33.433Z"
   },
   {
    "duration": 16,
    "start_time": "2022-09-28T15:28:33.444Z"
   },
   {
    "duration": 30,
    "start_time": "2022-09-28T15:28:33.462Z"
   },
   {
    "duration": 114,
    "start_time": "2022-09-28T15:28:33.493Z"
   },
   {
    "duration": 28,
    "start_time": "2022-09-28T15:28:33.609Z"
   },
   {
    "duration": 8,
    "start_time": "2022-09-28T15:28:33.638Z"
   },
   {
    "duration": 938,
    "start_time": "2022-09-28T15:28:33.647Z"
   },
   {
    "duration": 9,
    "start_time": "2022-09-28T15:28:34.587Z"
   },
   {
    "duration": 552,
    "start_time": "2022-09-28T15:28:34.598Z"
   },
   {
    "duration": 22,
    "start_time": "2022-09-28T15:28:35.152Z"
   },
   {
    "duration": 201,
    "start_time": "2022-09-28T15:28:35.176Z"
   },
   {
    "duration": 29,
    "start_time": "2022-09-28T15:28:35.378Z"
   },
   {
    "duration": 33,
    "start_time": "2022-09-28T15:28:35.409Z"
   },
   {
    "duration": 43,
    "start_time": "2022-09-28T15:28:35.443Z"
   },
   {
    "duration": 5,
    "start_time": "2022-09-28T15:28:35.488Z"
   },
   {
    "duration": 10,
    "start_time": "2022-09-28T15:28:35.494Z"
   },
   {
    "duration": 26,
    "start_time": "2022-09-28T15:28:35.507Z"
   },
   {
    "duration": 5,
    "start_time": "2022-09-28T15:28:35.535Z"
   },
   {
    "duration": 5,
    "start_time": "2022-09-28T15:28:35.542Z"
   },
   {
    "duration": 9,
    "start_time": "2022-09-28T15:28:35.549Z"
   },
   {
    "duration": 16,
    "start_time": "2022-09-28T15:28:35.559Z"
   },
   {
    "duration": 216,
    "start_time": "2022-09-28T15:28:35.577Z"
   },
   {
    "duration": 351,
    "start_time": "2022-09-28T15:28:35.794Z"
   },
   {
    "duration": 200,
    "start_time": "2022-09-28T15:28:36.146Z"
   },
   {
    "duration": 298,
    "start_time": "2022-09-28T15:28:36.349Z"
   },
   {
    "duration": 170,
    "start_time": "2022-09-28T15:28:36.649Z"
   },
   {
    "duration": 176,
    "start_time": "2022-09-28T15:28:36.821Z"
   },
   {
    "duration": 189,
    "start_time": "2022-09-28T15:28:36.999Z"
   },
   {
    "duration": 188,
    "start_time": "2022-09-28T15:28:37.190Z"
   },
   {
    "duration": 180,
    "start_time": "2022-09-28T15:28:37.379Z"
   },
   {
    "duration": 186,
    "start_time": "2022-09-28T15:28:37.561Z"
   },
   {
    "duration": 287,
    "start_time": "2022-09-28T15:28:37.749Z"
   },
   {
    "duration": 220,
    "start_time": "2022-09-28T15:28:38.037Z"
   },
   {
    "duration": 357,
    "start_time": "2022-09-28T15:28:38.258Z"
   },
   {
    "duration": 19,
    "start_time": "2022-09-28T15:28:38.617Z"
   },
   {
    "duration": 407,
    "start_time": "2022-09-28T15:28:38.637Z"
   },
   {
    "duration": 155,
    "start_time": "2022-09-28T15:28:39.046Z"
   },
   {
    "duration": 173,
    "start_time": "2022-09-28T15:28:39.203Z"
   },
   {
    "duration": 163,
    "start_time": "2022-09-28T15:28:39.377Z"
   },
   {
    "duration": 203,
    "start_time": "2022-09-28T15:28:39.541Z"
   },
   {
    "duration": 549,
    "start_time": "2022-09-28T15:28:39.745Z"
   },
   {
    "duration": 165,
    "start_time": "2022-09-28T15:28:40.295Z"
   },
   {
    "duration": 19,
    "start_time": "2022-09-28T15:28:40.462Z"
   },
   {
    "duration": 200,
    "start_time": "2022-09-28T15:28:40.483Z"
   },
   {
    "duration": 15,
    "start_time": "2022-09-28T15:29:20.142Z"
   }
  ],
  "kernelspec": {
   "display_name": "Python 3 (ipykernel)",
   "language": "python",
   "name": "python3"
  },
  "language_info": {
   "codemirror_mode": {
    "name": "ipython",
    "version": 3
   },
   "file_extension": ".py",
   "mimetype": "text/x-python",
   "name": "python",
   "nbconvert_exporter": "python",
   "pygments_lexer": "ipython3",
   "version": "3.11.1"
  },
  "toc": {
   "base_numbering": 1,
   "nav_menu": {},
   "number_sections": true,
   "sideBar": true,
   "skip_h1_title": true,
   "title_cell": "Table of Contents",
   "title_sidebar": "Contents",
   "toc_cell": false,
   "toc_position": {
    "height": "calc(100% - 180px)",
    "left": "10px",
    "top": "150px",
    "width": "238.26px"
   },
   "toc_section_display": true,
   "toc_window_display": false
  }
 },
 "nbformat": 4,
 "nbformat_minor": 2
}
