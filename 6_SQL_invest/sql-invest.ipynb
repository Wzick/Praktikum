{
 "cells": [
  {
   "cell_type": "markdown",
   "id": "792bbd48",
   "metadata": {},
   "source": [
    "1. Посчитайте, сколько компаний закрылось."
   ]
  },
  {
   "cell_type": "code",
   "execution_count": null,
   "id": "a1bfb3ae",
   "metadata": {},
   "outputs": [],
   "source": [
    "SELECT COUNT(id)\n",
    "FROM company\n",
    "WHERE status = 'closed';"
   ]
  },
  {
   "cell_type": "markdown",
   "id": "7be53a0b",
   "metadata": {},
   "source": [
    "2.\n",
    "Отобразите количество привлечённых средств для новостных компаний США. Используйте данные из таблицы company. Отсортируйте таблицу по убыванию значений в поле funding_total ."
   ]
  },
  {
   "cell_type": "code",
   "execution_count": null,
   "id": "c2af0528",
   "metadata": {},
   "outputs": [],
   "source": [
    "SELECT \n",
    "       funding_total \n",
    "FROM company\n",
    "WHERE category_code = 'news'\n",
    "    AND country_code = 'USA'\n",
    "ORDER BY funding_total DESC;"
   ]
  },
  {
   "cell_type": "markdown",
   "id": "b687b2d9",
   "metadata": {},
   "source": [
    "3. Найдите общую сумму сделок по покупке одних компаний другими в долларах. Отберите сделки, которые осуществлялись только за наличные с 2011 по 2013 год включительно"
   ]
  },
  {
   "cell_type": "code",
   "execution_count": null,
   "id": "f05ea503",
   "metadata": {},
   "outputs": [],
   "source": [
    "SELECT SUM(price_amount)\n",
    "FROM acquisition\n",
    "WHERE term_code = 'cash'\n",
    "    AND EXTRACT(YEAR FROM CAST(acquired_at AS DATE)) BETWEEN 2011 AND 2013;"
   ]
  },
  {
   "cell_type": "markdown",
   "id": "8e211e87",
   "metadata": {},
   "source": [
    "4. Отобразите имя, фамилию и названия аккаунтов людей в твиттере, у которых названия аккаунтов начинаются на 'Silver'."
   ]
  },
  {
   "cell_type": "code",
   "execution_count": null,
   "id": "480a0283",
   "metadata": {},
   "outputs": [],
   "source": [
    "SELECT first_name,\n",
    "       last_name,\n",
    "       twitter_username\n",
    "FROM people\n",
    "WHERE twitter_username LIKE 'Silver%';"
   ]
  },
  {
   "cell_type": "markdown",
   "id": "38cec644",
   "metadata": {},
   "source": [
    "5. Выведите на экран всю информацию о людях, у которых названия аккаунтов в твиттере содержат подстроку 'money', а фамилия начинается на 'K'."
   ]
  },
  {
   "cell_type": "code",
   "execution_count": null,
   "id": "3ab557e5",
   "metadata": {},
   "outputs": [],
   "source": [
    "SELECT *\n",
    "FROM people\n",
    "WHERE twitter_username LIKE '%money%'\n",
    "      AND last_name LIKE 'K%';"
   ]
  },
  {
   "cell_type": "markdown",
   "id": "9a5997f8",
   "metadata": {},
   "source": [
    "6. Для каждой страны отобразите общую сумму привлечённых инвестиций, которые получили компании, зарегистрированные в этой стране. Страну, в которой зарегистрирована компания, можно определить по коду страны. Отсортируйте данные по убыванию суммы."
   ]
  },
  {
   "cell_type": "code",
   "execution_count": null,
   "id": "7c2d5e8e",
   "metadata": {},
   "outputs": [],
   "source": [
    "SELECT country_code,\n",
    "       SUM(funding_total)\n",
    "FROM company \n",
    "GROUP BY country_code\n",
    "ORDER BY SUM(funding_total) DESC;"
   ]
  },
  {
   "cell_type": "markdown",
   "id": "57bcbba7",
   "metadata": {},
   "source": [
    "7. Составьте таблицу, в которую войдёт дата проведения раунда, а также минимальное и максимальное значения суммы инвестиций, привлечённых в эту дату.\n",
    "Оставьте в итоговой таблице только те записи, в которых минимальное значение суммы инвестиций не равно нулю и не равно максимальному значению."
   ]
  },
  {
   "cell_type": "code",
   "execution_count": null,
   "id": "cb67757c",
   "metadata": {},
   "outputs": [],
   "source": [
    "SELECT funded_at,\n",
    "       MIN(raised_amount),\n",
    "       MAX(raised_amount)\n",
    "FROM funding_round\n",
    "GROUP BY funded_at\n",
    "HAVING MIN(raised_amount) > 0\n",
    "      AND MIN(raised_amount) <> MAX(raised_amount);"
   ]
  },
  {
   "cell_type": "markdown",
   "id": "a54b955a",
   "metadata": {},
   "source": [
    "8. Создайте поле с категориями:\n",
    "Для фондов, которые инвестируют в 100 и более компаний, назначьте категорию high_activity.\n",
    "Для фондов, которые инвестируют в 20 и более компаний до 100, назначьте категорию middle_activity.\n",
    "Если количество инвестируемых компаний фонда не достигает 20, назначьте категорию low_activity.\n",
    "Отобразите все поля таблицы fund и новое поле с категориями."
   ]
  },
  {
   "cell_type": "code",
   "execution_count": null,
   "id": "a38b3e2d",
   "metadata": {},
   "outputs": [],
   "source": [
    "SELECT *,    \n",
    "    CASE \n",
    " WHEN invested_companies > 100 THEN 'high_activity'\n",
    " WHEN invested_companies < 20 THEN 'low_activity'\n",
    " ELSE 'middle_activity' \n",
    " \n",
    "END\n",
    "FROM fund;   "
   ]
  },
  {
   "cell_type": "markdown",
   "id": "5872cf33",
   "metadata": {},
   "source": [
    "9. Для каждой из категорий, назначенных в предыдущем задании, посчитайте округлённое до ближайшего целого числа среднее количество инвестиционных раундов, в которых фонд принимал участие. Выведите на экран категории и среднее число инвестиционных раундов. Отсортируйте таблицу по возрастанию среднего."
   ]
  },
  {
   "cell_type": "code",
   "execution_count": null,
   "id": "3699cb71",
   "metadata": {},
   "outputs": [],
   "source": [
    "SELECT  CASE\n",
    "           WHEN invested_companies>=100 THEN 'high_activity'\n",
    "           WHEN invested_companies>=20 THEN 'middle_activity'\n",
    "           ELSE 'low_activity'\n",
    "       END AS activity,\n",
    "       ROUND(AVG(investment_rounds))\n",
    "FROM fund\n",
    "GROUP BY activity\n",
    "ORDER BY ROUND(AVG(investment_rounds));"
   ]
  },
  {
   "cell_type": "markdown",
   "id": "bfab0f62",
   "metadata": {},
   "source": [
    "10. Проанализируйте, в каких странах находятся фонды, которые чаще всего инвестируют в стартапы. \n",
    "Для каждой страны посчитайте минимальное, максимальное и среднее число компаний, в которые инвестировали фонды этой страны, основанные с 2010 по 2012 год включительно. Исключите страны с фондами, у которых минимальное число компаний, получивших инвестиции, равно нулю. Выгрузите десять самых активных стран-инвесторов.\n",
    "Отсортируйте таблицу по среднему количеству компаний от большего к меньшему, а затем по коду страны в лексикографическом порядке."
   ]
  },
  {
   "cell_type": "code",
   "execution_count": null,
   "id": "e08867ee",
   "metadata": {},
   "outputs": [],
   "source": [
    "SELECT country_code,\n",
    "       MIN(invested_companies),\n",
    "       MAX(invested_companies),\n",
    "       AVG(invested_companies)\n",
    "FROM fund\n",
    "WHERE EXTRACT(YEAR FROM CAST(founded_at AS DATE)) BETWEEN 2010 AND 2012\n",
    "GROUP BY country_code\n",
    "HAVING MIN(invested_companies) > 0\n",
    "ORDER BY AVG(invested_companies) DESC, country_code\n",
    "LIMIT 10;"
   ]
  },
  {
   "cell_type": "markdown",
   "id": "30c170ce",
   "metadata": {},
   "source": [
    "11. Отобразите имя и фамилию всех сотрудников стартапов. Добавьте поле с названием учебного заведения, которое окончил сотрудник, если эта информация известна."
   ]
  },
  {
   "cell_type": "code",
   "execution_count": null,
   "id": "5c7110f6",
   "metadata": {},
   "outputs": [],
   "source": [
    "SELECT p.first_name,\n",
    "       p.last_name,\n",
    "       e.instituition\n",
    "FROM people AS p  \n",
    "LEFT OUTER JOIN education AS e ON p.id = e.person_id;"
   ]
  },
  {
   "cell_type": "markdown",
   "id": "543d6ef3",
   "metadata": {},
   "source": [
    "12. Для каждой компании найдите количество учебных заведений, которые окончили её сотрудники. Выведите название компании и число уникальных названий учебных заведений. Составьте топ-5 компаний по количеству университетов."
   ]
  },
  {
   "cell_type": "code",
   "execution_count": null,
   "id": "9157cc19",
   "metadata": {},
   "outputs": [],
   "source": [
    "WITH a AS (SELECT p.first_name,\n",
    "           p.last_name,\n",
    "           e.instituition,\n",
    "           c.name\n",
    "    FROM people AS p  \n",
    "    LEFT OUTER JOIN education AS e ON p.id = e.person_id\n",
    "    LEFT OUTER JOIN company AS c ON p.company_id = c.id)\n",
    "SELECT a.name,\n",
    "       COUNT(DISTINCT a.instituition)\n",
    "FROM a\n",
    "WHERE a.name IS NOT NULL\n",
    "GROUP BY a.name\n",
    "ORDER BY COUNT(DISTINCT a.instituition) DESC\n",
    "LIMIT 5;"
   ]
  },
  {
   "cell_type": "markdown",
   "id": "9a4fdc95",
   "metadata": {},
   "source": [
    "13. Составьте список с уникальными названиями закрытых компаний, для которых первый раунд финансирования оказался последним."
   ]
  },
  {
   "cell_type": "code",
   "execution_count": null,
   "id": "eaf0d5ab",
   "metadata": {},
   "outputs": [],
   "source": [
    "SELECT DISTINCT c.name\n",
    "FROM company AS c\n",
    "WHERE c.status = 'closed' \n",
    "    AND c.id IN \n",
    "    (SELECT company_id\n",
    "    FROM funding_round\n",
    "    WHERE is_first_round = 1\n",
    "         AND is_last_round = 1)\n",
    "\n",
    "   "
   ]
  },
  {
   "cell_type": "markdown",
   "id": "fb13ffc2",
   "metadata": {},
   "source": [
    "14. Составьте список уникальных номеров сотрудников, которые работают в компаниях, отобранных в предыдущем задании."
   ]
  },
  {
   "cell_type": "code",
   "execution_count": null,
   "id": "1601e835",
   "metadata": {},
   "outputs": [],
   "source": [
    "SELECT id\n",
    "FROM people\n",
    "WHERE company_id IN (SELECT DISTINCT c.id\n",
    "        FROM company AS c\n",
    "        WHERE c.status = 'closed' \n",
    "            AND c.id IN \n",
    "            (SELECT company_id\n",
    "            FROM funding_round\n",
    "            WHERE is_first_round = 1\n",
    "                 AND is_last_round = 1));"
   ]
  },
  {
   "cell_type": "markdown",
   "id": "fd7adae5",
   "metadata": {},
   "source": [
    "15. Составьте таблицу, куда войдут уникальные пары с номерами сотрудников из предыдущей задачи и учебным заведением, которое окончил сотрудник."
   ]
  },
  {
   "cell_type": "code",
   "execution_count": null,
   "id": "fcec32a6",
   "metadata": {},
   "outputs": [],
   "source": [
    "WITH a AS (SELECT id\n",
    "    FROM people\n",
    "    WHERE company_id IN (SELECT DISTINCT c.id\n",
    "        FROM company AS c\n",
    "        WHERE c.status = 'closed' \n",
    "            AND c.id IN \n",
    "            (SELECT company_id\n",
    "            FROM funding_round\n",
    "            WHERE is_first_round = 1\n",
    "                 AND is_last_round = 1))),\n",
    "b AS (SELECT DISTINCT person_id AS id,\n",
    "               instituition\n",
    "      FROM education)\n",
    "SELECT a.id,\n",
    "       b.instituition\n",
    "FROM a JOIN b ON a.id = b.id\n",
    "ORDER BY a.id;       "
   ]
  },
  {
   "cell_type": "markdown",
   "id": "7f5e8812",
   "metadata": {},
   "source": [
    "16. Посчитайте количество учебных заведений для каждого сотрудника из предыдущего задания. При подсчёте учитывайте, что некоторые сотрудники могли окончить одно и то же заведение дважды."
   ]
  },
  {
   "cell_type": "code",
   "execution_count": null,
   "id": "9e84579f",
   "metadata": {},
   "outputs": [],
   "source": [
    "WITH a AS (SELECT id\n",
    "    FROM people\n",
    "    WHERE company_id IN (SELECT DISTINCT c.id\n",
    "        FROM company AS c\n",
    "        WHERE c.status = 'closed' \n",
    "            AND c.id IN \n",
    "            (SELECT company_id\n",
    "            FROM funding_round\n",
    "            WHERE is_first_round = 1\n",
    "                 AND is_last_round = 1))),\n",
    "b AS (SELECT person_id AS id,\n",
    "               instituition\n",
    "      FROM education)\n",
    "SELECT a.id,\n",
    "       COUNT(b.instituition)\n",
    "FROM a JOIN b ON a.id = b.id\n",
    "GROUP BY a.id;       \n",
    "                       "
   ]
  },
  {
   "cell_type": "markdown",
   "id": "0137f7d2",
   "metadata": {},
   "source": [
    "17. Дополните предыдущий запрос и выведите среднее число учебных заведений (всех, не только уникальных), которые окончили сотрудники разных компаний. Нужно вывести только одну запись, группировка здесь не понадобится."
   ]
  },
  {
   "cell_type": "code",
   "execution_count": null,
   "id": "b05066f3",
   "metadata": {},
   "outputs": [],
   "source": [
    "WITH a AS (SELECT p.id,\n",
    "       COUNT(e.instituition)\n",
    "FROM people AS p\n",
    "JOIN education AS e ON p.id=e.person_id\n",
    "WHERE p.company_id IN (SELECT id\n",
    "                       FROM company\n",
    "                       WHERE status='closed'\n",
    "                       AND id IN (SELECT company_id\n",
    "                              FROM funding_round\n",
    "                              WHERE is_first_round=1 AND is_last_round=1))\n",
    "GROUP BY p.id)\n",
    "SELECT AVG(count)\n",
    "FROM a;\n",
    "               "
   ]
  },
  {
   "cell_type": "markdown",
   "id": "7f5dd765",
   "metadata": {},
   "source": [
    "18. Напишите похожий запрос: выведите среднее число учебных заведений (всех, не только уникальных), которые окончили сотрудники Facebook*.\n",
    "*(сервис, запрещённый на территории РФ)"
   ]
  },
  {
   "cell_type": "code",
   "execution_count": null,
   "id": "431b80f5",
   "metadata": {},
   "outputs": [],
   "source": [
    "WITH facebook AS (SELECT p.id,\n",
    "                           COUNT(e.instituition)\n",
    "                    FROM people AS p\n",
    "                    INNER JOIN education AS e \n",
    "                    ON p.id=e.person_id\n",
    "                    WHERE p.company_id IN (\n",
    "                                        SELECT id\n",
    "                                        FROM company\n",
    "                                        WHERE name='Facebook'\n",
    "                                          )\n",
    "                    GROUP BY p.id)\n",
    " \n",
    "SELECT AVG(count)\n",
    "FROM facebook;"
   ]
  },
  {
   "cell_type": "markdown",
   "id": "11f9b8d3",
   "metadata": {},
   "source": [
    "19. Составьте таблицу из полей:\n",
    "name_of_fund — название фонда;\n",
    "name_of_company — название компании;\n",
    "amount — сумма инвестиций, которую привлекла компания в раунде.\n",
    "В таблицу войдут данные о компаниях, в истории которых было больше шести важных этапов, а раунды финансирования проходили с 2012 по 2013 год включительно."
   ]
  },
  {
   "cell_type": "code",
   "execution_count": null,
   "id": "75e96542",
   "metadata": {},
   "outputs": [],
   "source": [
    "SELECT f.name AS name_of_fund,\n",
    "       c.name AS name_of_company,\n",
    "       fr.raised_amount AS amount\n",
    "FROM investment AS i\n",
    "LEFT JOIN company AS c ON i.company_id=c.id\n",
    "LEFT JOIN fund AS f ON f.id=i.fund_id\n",
    "LEFT JOIN funding_round AS fr ON i.funding_round_id = fr.id\n",
    "WHERE c.milestones > 6\n",
    "AND EXTRACT(YEAR FROM CAST(funded_at AS date)) BETWEEN 2012 AND 2013        "
   ]
  },
  {
   "cell_type": "markdown",
   "id": "8be21d67",
   "metadata": {},
   "source": [
    "20. Выгрузите таблицу, в которой будут такие поля:\n",
    "название компании-покупателя;\n",
    "сумма сделки;\n",
    "название компании, которую купили;\n",
    "сумма инвестиций, вложенных в купленную компанию;\n",
    "доля, которая отображает, во сколько раз сумма покупки превысила сумму вложенных в компанию инвестиций, округлённая до ближайшего целого числа.\n",
    "Не учитывайте те сделки, в которых сумма покупки равна нулю. Если сумма инвестиций в компанию равна нулю, исключите такую компанию из таблицы. \n",
    "Отсортируйте таблицу по сумме сделки от большей к меньшей, а затем по названию купленной компании в лексикографическом порядке. Ограничьте таблицу первыми десятью записями."
   ]
  },
  {
   "cell_type": "code",
   "execution_count": null,
   "id": "94ed5ade",
   "metadata": {},
   "outputs": [],
   "source": [
    "SELECT cmp.name AS name_acquiring_company ,\n",
    "       acq.price_amount,\n",
    "       com.name AS name_acquired_company,\n",
    "       com.funding_total,\n",
    "       ROUND(acq.price_amount/com.funding_total) AS percent\n",
    "FROM acquisition AS acq\n",
    "LEFT JOIN company AS cmp ON acq.acquiring_company_id=cmp.id\n",
    "LEFT JOIN company AS com ON acq.acquired_company_id=com.id\n",
    "WHERE acq.price_amount > 0\n",
    "    AND com.funding_total>0\n",
    "ORDER BY acq.price_amount DESC\n",
    "LIMIT 10;"
   ]
  },
  {
   "cell_type": "markdown",
   "id": "3d4ac8f5",
   "metadata": {},
   "source": [
    "21.\n",
    "Выгрузите таблицу, в которую войдут названия компаний из категории social, получившие финансирование с 2010 по 2013 год включительно. Проверьте, что сумма инвестиций не равна нулю. Выведите также номер месяца, в котором проходил раунд финансирования."
   ]
  },
  {
   "cell_type": "code",
   "execution_count": null,
   "id": "ac2f383b",
   "metadata": {},
   "outputs": [],
   "source": [
    "SELECT c.name,\n",
    "       EXTRACT(MONTH FROM CAST(fr.funded_at AS date)) AS month\n",
    "FROM company AS c\n",
    "LEFT JOIN funding_round AS fr ON c.id=fr.company_id\n",
    "WHERE c.category_code = 'social'\n",
    "      AND fr.raised_amount > 0\n",
    "      AND EXTRACT(YEAR FROM CAST(fr.funded_at AS date)) BETWEEN 2010 AND 2013;"
   ]
  },
  {
   "cell_type": "markdown",
   "id": "f93f548f",
   "metadata": {},
   "source": [
    "22.\n",
    "Отберите данные по месяцам с 2010 по 2013 год, когда проходили инвестиционные раунды. Сгруппируйте данные по номеру месяца и получите таблицу, в которой будут поля:\n",
    "номер месяца, в котором проходили раунды;\n",
    "количество уникальных названий фондов из США, которые инвестировали в этом месяце;\n",
    "количество компаний, купленных за этот месяц;\n",
    "общая сумма сделок по покупкам в этом месяце."
   ]
  },
  {
   "cell_type": "code",
   "execution_count": null,
   "id": "b70fc8cb",
   "metadata": {},
   "outputs": [],
   "source": [
    "WITH a AS (SELECT EXTRACT(MONTH FROM CAST(fr.funded_at AS date)) AS month_number,\n",
    "                      COUNT(DISTINCT f.name) AS fund_count_USA       \n",
    "               FROM funding_round AS fr\n",
    "               LEFT OUTER JOIN investment AS i ON fr.id=i.funding_round_id\n",
    "               LEFT OUTER JOIN fund AS f ON i.fund_id=f.id\n",
    "               WHERE f.country_code='USA'\n",
    "               AND EXTRACT(YEAR FROM CAST(fr.funded_at AS date)) BETWEEN 2010 AND 2013\n",
    "               GROUP BY  EXTRACT(MONTH FROM CAST(fr.funded_at AS date))),\n",
    "                         \n",
    "b  AS (SELECT EXTRACT(MONTH FROM CAST(acquired_at AS date)) AS month_number,\n",
    "                      COUNT(id) AS company_count,\n",
    "                      SUM(price_amount) AS total_amount\n",
    "               FROM  acquisition\n",
    "               WHERE EXTRACT(YEAR FROM CAST(acquired_at AS date)) BETWEEN 2010 AND 2013\n",
    "               GROUP BY EXTRACT(MONTH FROM CAST(acquired_at AS date)))\n",
    "SELECT a.month_number,\n",
    "       a.fund_count_usa,\n",
    "       b.company_count,\n",
    "       b.total_amount\n",
    "FROM a       \n",
    "LEFT JOIN b ON a.month_number=b.month_number;\n",
    "       "
   ]
  },
  {
   "cell_type": "markdown",
   "id": "707c5700",
   "metadata": {},
   "source": [
    "23.\n",
    "Составьте сводную таблицу и выведите среднюю сумму инвестиций для стран, в которых есть стартапы, зарегистрированные в 2011, 2012 и 2013 годах. Данные за каждый год должны быть в отдельном поле. Отсортируйте таблицу по среднему значению инвестиций за 2011 год от большего к меньшему."
   ]
  },
  {
   "cell_type": "code",
   "execution_count": null,
   "id": "d3979b6b",
   "metadata": {},
   "outputs": [],
   "source": [
    "WITH a AS (SELECT country_code,\n",
    "           AVG(funding_total) AS avg_2011\n",
    "           FROM company\n",
    "           WHERE EXTRACT(YEAR FROM CAST(founded_at AS date)) = 2011\n",
    "           GROUP BY country_code),\n",
    "b AS (SELECT country_code,\n",
    "           AVG(funding_total) AS avg_2012\n",
    "           FROM company\n",
    "           WHERE EXTRACT(YEAR FROM CAST(founded_at AS date)) = 2012\n",
    "           GROUP BY country_code),  \n",
    "c AS (SELECT country_code,\n",
    "           AVG(funding_total) AS avg_2013\n",
    "           FROM company\n",
    "           WHERE EXTRACT(YEAR FROM CAST(founded_at AS date)) = 2013\n",
    "           GROUP BY country_code)     \n",
    "SELECT a.country_code,\n",
    "       avg_2011,\n",
    "       avg_2012,\n",
    "       avg_2013\n",
    "FROM a\n",
    "JOIN b ON a.country_code=b.country_code\n",
    "JOIN c ON c.country_code=b.country_code\n",
    "ORDER BY avg_2011 DESC;"
   ]
  }
 ],
 "metadata": {
  "kernelspec": {
   "display_name": "Python 3 (ipykernel)",
   "language": "python",
   "name": "python3"
  },
  "language_info": {
   "codemirror_mode": {
    "name": "ipython",
    "version": 3
   },
   "file_extension": ".py",
   "mimetype": "text/x-python",
   "name": "python",
   "nbconvert_exporter": "python",
   "pygments_lexer": "ipython3",
   "version": "3.9.12"
  }
 },
 "nbformat": 4,
 "nbformat_minor": 5
}
